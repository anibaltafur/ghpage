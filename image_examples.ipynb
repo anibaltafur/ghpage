{
  "nbformat": 4,
  "nbformat_minor": 0,
  "metadata": {
    "colab": {
      "name": "image_examples.ipynb",
      "provenance": [],
      "collapsed_sections": [],
      "toc_visible": true,
      "authorship_tag": "ABX9TyNEnd8FLJ2/bqJ7EfLpzHEt",
      "include_colab_link": true
    },
    "kernelspec": {
      "name": "python3",
      "display_name": "Python 3"
    },
    "language_info": {
      "name": "python"
    }
  },
  "cells": [
    {
      "cell_type": "markdown",
      "metadata": {
        "id": "view-in-github",
        "colab_type": "text"
      },
      "source": [
        "<a href=\"https://colab.research.google.com/github/anibaltafur/ghpage/blob/colab/image_examples.ipynb\" target=\"_parent\"><img src=\"https://colab.research.google.com/assets/colab-badge.svg\" alt=\"Open In Colab\"/></a>"
      ]
    },
    {
      "cell_type": "markdown",
      "source": [
        "# Embed images in Jupyter NB"
      ],
      "metadata": {
        "id": "ceBenhtM6kJa"
      }
    },
    {
      "cell_type": "markdown",
      "source": [
        "## Example 1"
      ],
      "metadata": {
        "id": "nzv7anSB6-Kk"
      }
    },
    {
      "cell_type": "code",
      "execution_count": null,
      "metadata": {
        "id": "hC0paJR_yB0O"
      },
      "outputs": [],
      "source": [
        "<table class=\"tg\" style=\"undefined;table-layout: fixed; width: 508px\">\n",
        "<colgroup>\n",
        "<col style=\"width: 508px\">\n",
        "</colgroup>\n",
        "<thead>\n",
        "  <tr>\n",
        "    <th class=\"tg-zda1\"><img src=\"https://drive.google.com/uc?export=view&id=1tMay-uxyRXZsisXqxaFzMy-zQde8aARK\" width=\"500\"></th>\n",
        "  </tr>\n",
        "</thead>\n",
        "<tbody>\n",
        "  <tr>\n",
        "    <td class=\"tg-zda1\">Fig 1. State transition diagram</td>\n",
        "  </tr>\n",
        "</tbody>\n",
        "</table>"
      ]
    },
    {
      "cell_type": "markdown",
      "source": [
        "<table class=\"tg\" style=\"undefined;table-layout: fixed; width: 508px\">\n",
        "<colgroup>\n",
        "<col style=\"width: 508px\">\n",
        "</colgroup>\n",
        "<thead>\n",
        "  <tr>\n",
        "    <th class=\"tg-zda1\"><img src=\"https://drive.google.com/uc?export=view&id=1tMay-uxyRXZsisXqxaFzMy-zQde8aARK\" alt=\"Image\" width=\"500\"></th>\n",
        "  </tr>\n",
        "</thead>\n",
        "<tbody>\n",
        "  <tr>\n",
        "    <td class=\"tg-zda1\">Fig 1. State transition diagram</td>\n",
        "  </tr>\n",
        "</tbody>\n",
        "</table>"
      ],
      "metadata": {
        "id": "OwOpHbqVyC2T"
      }
    },
    {
      "cell_type": "markdown",
      "source": [
        "## Example 2"
      ],
      "metadata": {
        "id": "AH45ni697Etw"
      }
    },
    {
      "cell_type": "code",
      "source": [
        "<table>\n",
        "<thead>\n",
        "    <th><img src=\"https://drive.google.com/uc?export=view&id=1tMay-uxyRXZsisXqxaFzMy-zQde8aARK\" width=\"500\"></th>\n",
        "</thead>\n",
        "<thead>\n",
        "    <td>Fig 1. State transition diagram</td>\n",
        "</thead>\n",
        "</table>"
      ],
      "metadata": {
        "id": "lnx5oUGc7OCK"
      },
      "execution_count": null,
      "outputs": []
    },
    {
      "cell_type": "markdown",
      "source": [
        "<table>\n",
        "<thead>\n",
        "    <th><img src=\"https://drive.google.com/uc?export=view&id=1tMay-uxyRXZsisXqxaFzMy-zQde8aARK\" alt=\"Image\" width=\"500\"></th>\n",
        "</thead>\n",
        "<thead>\n",
        "    <td>Fig 1. State transition diagram</td>\n",
        "</thead>\n",
        "</table>"
      ],
      "metadata": {
        "id": "c1FbyNLS7Oij"
      }
    },
    {
      "cell_type": "markdown",
      "source": [
        "## Example 3"
      ],
      "metadata": {
        "id": "1rQASnYF72CT"
      }
    },
    {
      "cell_type": "code",
      "source": [
        "<table>\n",
        "<thead>\n",
        "    <th><img src=\"https://drive.google.com/uc?export=view&id=1tMay-uxyRXZsisXqxaFzMy-zQde8aARK\" width=\"500\"></th>\n",
        "</thead>\n",
        "<thead>\n",
        "    <th>Fig 1. State transition diagram</th>\n",
        "</thead>\n",
        "</table>"
      ],
      "metadata": {
        "id": "AA0Rf5YN74mn"
      },
      "execution_count": null,
      "outputs": []
    },
    {
      "cell_type": "markdown",
      "source": [
        "<table>\n",
        "<thead>\n",
        "    <th><img src=\"https://drive.google.com/uc?export=view&id=1tMay-uxyRXZsisXqxaFzMy-zQde8aARK\" alt=\"Image\" width=\"500\"></th>\n",
        "</thead>\n",
        "<thead>\n",
        "    <th>Fig 1. State transition diagram</th>\n",
        "</thead>\n",
        "</table>"
      ],
      "metadata": {
        "id": "2qlc-3i275ob"
      }
    },
    {
      "cell_type": "markdown",
      "source": [
        "## Example 4"
      ],
      "metadata": {
        "id": "gxLWkF4l9NGx"
      }
    },
    {
      "cell_type": "code",
      "source": [
        "<table>\n",
        "<thead>\n",
        "    <th><img src=\"https://drive.google.com/uc?export=view&id=1tMay-uxyRXZsisXqxaFzMy-zQde8aARK\" width=\"500\"></th>\n",
        "</thead>\n",
        "<tbody>\n",
        "    <th>Fig 1. State transition diagram</th>\n",
        "</tbody>\n",
        "</table>"
      ],
      "metadata": {
        "id": "4Mi1JMpf9Qm_"
      },
      "execution_count": null,
      "outputs": []
    },
    {
      "cell_type": "markdown",
      "source": [
        "<table>\n",
        "<thead>\n",
        "    <th><img src=\"https://drive.google.com/uc?export=view&id=1tMay-uxyRXZsisXqxaFzMy-zQde8aARK\" width=\"500\"></th>\n",
        "</thead>\n",
        "<tbody>\n",
        "    <th>Fig 1. State transition diagram</th>\n",
        "</tbody>\n",
        "</table>"
      ],
      "metadata": {
        "id": "W3O89hbN9DRu"
      }
    },
    {
      "cell_type": "markdown",
      "source": [
        "## Example 5\n",
        "\n",
        "Using ```base64``` as image source"
      ],
      "metadata": {
        "id": "Je5e0Mp18TBP"
      }
    },
    {
      "cell_type": "markdown",
      "source": [
        "```\n",
        "<table>\n",
        "    <thead>\n",
        "        <th><img src=\"data:image/png;base64,iVBORw0KGgoAAAANSUhEUgAAAAEAAAABCAQAAAC1HAwCAAAAC0lEQVR42mNk+A8AAQUBAScY42YAAAAASUVORK5CYII=\" width=\"200\"/></th>\n",
        "    </thead>\n",
        "    <thead>\n",
        "        <th>Fig 1. State transition diagram</th>\n",
        "    </thead>\n",
        "</table>\n",
        "```\n",
        "<table>\n",
        "    <thead>\n",
        "        <th><img src=\"data:image/png;base64,iVBORw0KGgoAAAANSUhEUgAAAAEAAAABCAQAAAC1HAwCAAAAC0lEQVR42mNk+A8AAQUBAScY42YAAAAASUVORK5CYII=\" width=\"200\"/></th>\n",
        "    </thead>\n",
        "    <thead>\n",
        "        <th>Fig 1. State transition diagram</th>\n",
        "    </thead>\n",
        "</table>"
      ],
      "metadata": {
        "id": "RIcUHus4Efl8"
      }
    },
    {
      "cell_type": "markdown",
      "source": [
        "## Example 6"
      ],
      "metadata": {
        "id": "GcRw5H3A_ux5"
      }
    },
    {
      "cell_type": "code",
      "source": [
        "<table>\n",
        "    <thead>\n",
        "        <th><img src=\"data:image/png;base64,**INSERT BASE64 HERE**\" width=\"200\"/></th>\n",
        "    </thead>\n",
        "    <thead>\n",
        "        <th>INSERT CAPTION HERE</th>\n",
        "    </thead>\n",
        "</table>"
      ],
      "metadata": {
        "id": "pEEV9zMXF08O"
      },
      "execution_count": null,
      "outputs": []
    },
    {
      "cell_type": "markdown",
      "source": [
        "<table>\n",
        "<thead>\n",
        "    <th><img src=\"data:image/png;base64,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\" width=\"500\"></th>\n",
        "</thead>\n",
        "<thead>\n",
        "    <th>INSERT CAPTION HERE</th>\n",
        "</thead>\n",
        "</table>"
      ],
      "metadata": {
        "id": "DvBzALS8_x-B"
      }
    },
    {
      "cell_type": "markdown",
      "source": [
        "## Example 7"
      ],
      "metadata": {
        "id": "xO9wVWiZjad9"
      }
    },
    {
      "cell_type": "code",
      "source": [
        "<center>\n",
        "<p style=\"text-align: center\"><img src=\"data:image/png;base64,iVBORw0KGgoAAAANSUhEUgAAAAEAAAABCAQAAAC1HAwCAAAAC0lEQVR42mNk+A8AAQUBAScY42YAAAAASUVORK5CYII=\" width=200 /></p>\n",
        "</center>"
      ],
      "metadata": {
        "id": "ESMumdjxjdW1"
      },
      "execution_count": null,
      "outputs": []
    },
    {
      "cell_type": "code",
      "source": [
        "<center><p style=\"text-align: center\"><b>Caption</b></p></center>"
      ],
      "metadata": {
        "id": "ZniaakZ2oPeO"
      },
      "execution_count": null,
      "outputs": []
    },
    {
      "cell_type": "markdown",
      "source": [
        "<center>\n",
        "<p style=\"text-align: center\"><img src=\"data:image/png;base64,iVBORw0KGgoAAAANSUhEUgAAAAEAAAABCAQAAAC1HAwCAAAAC0lEQVR42mNk+A8AAQUBAScY42YAAAAASUVORK5CYII=\" width=200 /><br><b>Figure N. My Cool Figure</b></p>\n",
        "</center>"
      ],
      "metadata": {
        "id": "83AN6hCYjeKX"
      }
    },
    {
      "cell_type": "markdown",
      "source": [
        "## Example 8"
      ],
      "metadata": {
        "id": "oMNupA9xdI8F"
      }
    },
    {
      "cell_type": "code",
      "source": [
        "<center>\n",
        "<p style=\"text-align: center\">\n",
        "<img src=\"data:image/png;base64,iVBORw0KGgoAAAANSUhEUgAAAAEAAAABCAQAAAC1HAwCAAAAC0lEQVR42mNk+A8AAQUBAScY42YAAAAASUVORK5CYII=\" width=200 />\n",
        "</p>\n",
        "</center>"
      ],
      "metadata": {
        "id": "kekLNmrFdK86"
      },
      "execution_count": null,
      "outputs": []
    },
    {
      "cell_type": "code",
      "source": [
        "<center><p style=\"text-align: center\"><b>Figure 1. Caption</b></p></center>"
      ],
      "metadata": {
        "id": "UzSUA5zAdMXI"
      },
      "execution_count": null,
      "outputs": []
    },
    {
      "cell_type": "markdown",
      "source": [
        "<table>\n",
        "<thead>\n",
        "<center>\n",
        "<p style=\"text-align: center\">\n",
        "\n",
        "<img src=\"data:image/png;base64,iVBORw0KGgoAAAANSUhEUgAAAAEAAAABCAQAAAC1HAwCAAAAC0lEQVR42mNk+A8AAQUBAScY42YAAAAASUVORK5CYII=\" width=200 />\n",
        "\n",
        "</p>\n",
        "</center>\n",
        "</thead>\n",
        "</table>"
      ],
      "metadata": {
        "id": "A6z1wnphdSSv"
      }
    },
    {
      "cell_type": "markdown",
      "source": [
        "<center><p style=\"text-align: center\"><b>Figure 1. Caption</b></p></center>"
      ],
      "metadata": {
        "id": "ouKfTwjVdUJG"
      }
    },
    {
      "cell_type": "markdown",
      "source": [
        "## Example 9"
      ],
      "metadata": {
        "id": "OhL_nL2Kfo2d"
      }
    },
    {
      "cell_type": "code",
      "source": [
        "<table>\n",
        "<thead>\n",
        "    <th><p style=\"text-align: center\"><img src=\"https://drive.google.com/uc?export=view&id=1tMay-uxyRXZsisXqxaFzMy-zQde8aARK\" width=\"500\"></p></th>\n",
        "</thead>\n",
        "<thead>\n",
        "    <th><p style=\"text-align: center\">Figure 1. State transition diagram</p></th>\n",
        "</thead>\n",
        "</table>"
      ],
      "metadata": {
        "id": "4ohUXPKvfq4i"
      },
      "execution_count": null,
      "outputs": []
    },
    {
      "cell_type": "markdown",
      "source": [
        "<table>\n",
        "<thead>\n",
        "    <th><p style=\"text-align: center\"><img src=\"https://drive.google.com/uc?export=view&id=1tMay-uxyRXZsisXqxaFzMy-zQde8aARK\" width=\"500\"></p></th>\n",
        "</thead>\n",
        "<thead>\n",
        "    <th><p style=\"text-align: center\">Figure 1. State transition diagram</p></th>\n",
        "</thead>\n",
        "</table>"
      ],
      "metadata": {
        "id": "PV1RR01SfysR"
      }
    },
    {
      "cell_type": "markdown",
      "source": [
        "## Example 10"
      ],
      "metadata": {
        "id": "61sSvIDfngy_"
      }
    },
    {
      "cell_type": "code",
      "source": [
        "<table>\n",
        "<thead>\n",
        "<th>\n",
        "<center>\n",
        "<p style=\"text-align: center\"><img src=\"https://drive.google.com/uc?export=view&id=1tMay-uxyRXZsisXqxaFzMy-zQde8aARK\" width=\"500\">\n",
        "<br>Figure 1. Caption</p>\n",
        "</center>\n",
        "</th>\n",
        "</thead>\n",
        "</table>"
      ],
      "metadata": {
        "id": "nE_wgqJQniPs"
      },
      "execution_count": null,
      "outputs": []
    },
    {
      "cell_type": "markdown",
      "source": [
        "<table>\n",
        "<thead>\n",
        "<th>\n",
        "<center>\n",
        "<p style=\"text-align: center\"><img src=\"https://drive.google.com/uc?export=view&id=1tMay-uxyRXZsisXqxaFzMy-zQde8aARK\" width=\"500\"></p>\n",
        "\n",
        "<p>Figure 1. Caption</p>\n",
        "</center>\n",
        "</th>\n",
        "</thead>\n",
        "</table>"
      ],
      "metadata": {
        "id": "9_R6HNCEnkXJ"
      }
    },
    {
      "cell_type": "markdown",
      "source": [
        "## Example 11"
      ],
      "metadata": {
        "id": "OmeMmV5Xr4V2"
      }
    },
    {
      "cell_type": "markdown",
      "source": [
        "This doesn't show on nbviewer:"
      ],
      "metadata": {
        "id": "krqE4H_8rZT1"
      }
    },
    {
      "cell_type": "markdown",
      "source": [
        "![fig1.png](data:image/png;base64,iVBORw0KGgoAAAANSUhEUgAAA00AAAEBCAYAAACkBk4SAAAAAXNSR0IArs4c6QAAAARnQU1BAACxjwv8YQUAAAAJcEhZcwAADsMAAA7DAcdvqGQAAE+aSURBVHhe7Z0H1FTlmcc9J2b3pGqyaqLJJpu4sRAjKvYudgEVFCliCYiiCKjYC6CigoqKWMDYwI5gxa6o2LGCioglJrbVTdwk62b7uXt+r3PZcbzffDPf3Jm5c+f3O+cedfj8+Mo87/s8/6etEImIiIiIiEiHGDSJiIiIiIiUwaBJRERERESkDAZNIiIiIiIiZTBoEhERERERKYNBk4iIiIiISBkMmkRERERERMpg0CQiIiIiIlIGgyYREREREZEyGDSJiIiIiIiUwaBJRERERESkDAZNIiIiIiIiZTBoEhERERERKYNBk4iIiIiISBkMmkRERERERMpg0CQiIiIiIlIGgyYREREREZEyGDSJiIiIiIiUwaBJRERERESkDAZNIiIiIiIiZTBoEhERERERKYNBk4iIiIiISBkMmkRERERERMpg0CQiIiIiIlIGgyYREREREZEyGDSJiIiIiIiUwaBJRERERESkDAZNIiIiIiIiZTBoEhERERERKYNBk4iIiIiISBkMmkRERERERMpg0CQiIiIiIlIGgyYREREREZEyGDSJiIiIiIiUwaBJRERERESkDAZNIiIiIiIiZTBoEhERERERKYNBk4iIiIiISBkMmkRERERERMpg0CQiIiIiIlIGgyYREREREZEyGDSJiIiIiIiUwaBJRERERESkDAZNIiIiIiIiZTBoEhERERERKYNBk4iIiIiISBkMmkREpMvMmDEjWmGFFcLDvyfx1FNPLf+YMWPGFF4VERFpHQyaRESky+y+++7LA6KOIFCKP4YASkREpNUwaJKGoSItkj/+8R//MdgrwVNHxB/DP0Wk/fD+lzxg0CQNQ0VaJF9U4uToCImI97/kAYMmaRgq0iL5ohInp1hh1hESaU+8/yUPGDRJQ1CRFskflTg5scKsIyTSnnj/S14waJKGoCItkj9iey3n5FTyMSKSX7z/JS8YNElDUJEWyReVNHbrCImI97/kBYMmaQix46QiLZIPYieHpyN0hESkkru9ko8RaTYGTVJ3VKRF8kesHhMYdURs0+U+RkTyi/e/5AmDJqk7KtIi+QLHJrbpjpThYrvvyFkSkXzj/S95wqBJ6o6KtEi+IFCKbTZJGS5WjnlEpD3x/pc84W0mdUVFWiR/FNtsKdgwfx4HVsWOkE6RSPvg/S95w6BJ6oqKtEj+KLbZYkcHBygusSkNmvinTpFI++D9L3nDd6nUlWIVqRQOTP5cRVqkdcBu45Kb0qe4J6FYZS79MxHJP97/kjcMmqSuxAcmT7HKzKGoIi3SemCfPARFxcETdlxKbNt8XJLSLCL5JT4beLz/JQ8YNEnd4OArdqqKn/jABBVpkdYB+0wKkEREYrz/JY8YNEndUJEWyRexg6ONikg5vP8ljxg0Sd3gAFSRFskPOEE4NyIi5fD+lzzi7Sd1QUVaJH/EarGISEd4/0te8faTuqAiLZIviktoREQ6wvtf8orvaqkLHJgemiL5Ie5LwCESEekI73/JK76rJXVUpEXyR+wIGTSJSEd4/0ueMWiS1FGRFskfsV27Q0VEOsL7X/KMQZOkStwA6qEpIiLSXnj/S54xaJLUUZEWERFpP7z/Jc8YNEnT+N///d/lz//8z/8s/3cRaU2Kbbr0EZH8kGTjPCJ5xqBJaoJD8r//+7+jf//3f4/+9V//NfrDH/4QffDBB9Fbb70VvfLKK6Fc78EHH4xuu+226Prrr4+uuOKKaOrUqdG5554bnXXWWdHpp58ejRs3bvnDf/P6eeedF1188cXRb37zm+iGG26Ibr/99uihhx6Knn766WjRokXR22+/HX344YfRH//4x/D3/sd//Ef4OkSk68T2jD1hV5999ln00UcfRe+++2702muvRQsXLoweffTRaN68edEtt9wSXXvttdHll18eXXjhhdHkyZOjiRMnRhMmTFhuz+PHj19u09g8to8CPWvWrGjOnDnRfffdFy1YsCB68cUXozfeeCN67733on/6p3+K/uVf/iX6t3/7t+g///M/tWuROlCNrc+ePTsVW3/88cejF1544Su2/vnnn2vr0hIYNEmnkAXiYP3Tn/4UAqJXX301evjhh8NhyAE5YsSIaM8994y23HLL6Je//GX085//PPrpT38a/exnP4vWWmutaP31148222yzaPvttw91zn379o0GDhwYHXDAAdGvf/3r6JBDDgnPsGHDwn/z+oABA6K999472m233aLtttsu2nTTTaNf/epX4fPxefn8a665ZrTeeutFW221VfjYI444IjrnnHNCcDZ//vzo9ddfD5fAn//85/D1832ItDs4Jn/961+Dk/T73/8+iBsIGzhF2DN2hI1uvfXWweYot8He/uEf/iH8e7du3aKNNtoo2N1OO+0U9e7dO9pnn32iQYMGRQceeGA0dOjQRJvG5vm8e+yxR9SzZ89oiy22iDbYYINonXXWWX5m8Hdg4xtuuGG0ww47hHPg6KOPjs4///zo5ptvjh577LFg1wgm2rVIeYpt/Xe/+91XbP3www+vydaxbWy8Ultfd911w70d/x2/+MUvwuv4Bvvtt1+YvIdgeuONN4aAjeANW8f3QJjV1qXZGDTJl0Dt4YBCBSKrc91110WnnHJKtO+++0abbLJJOPA47AiOcGqGDBkSnXjiidG0adOiW2+9NRx0L730UrRs2bLo/fffjz799NOgJP3lL38JyjEHH44Of89//dd/hYeDPX7i1/hzPo6P5//j/+fg/+STT8LnffPNN4M6/cgjjwTFG1Xr+OOPD4c5QRaHfXzwE7DhfKGE3XTTTdFzzz0XnEWcLv4ukTyCPWE72AyBxv333x9dcskl0ejRo4Mz07179yBA8OAw4dxgzyeccEKwJ4IUsrvPP//8cmX4448/DtldbAd1GIcMG8Veq7Vp1G3OGrLTxQr3M888E917771BlEGxPuqoo6L+/fsHxw6nKxZMOI9w4Dh/rrnmmqBik+Hm69PBknYitnUyN9gQWR3u5FGjRgWhMqu2/uyzz4avFT+DYAmBhOBpm222CbbOHY6t9+jRIwijxx13XHTllVcGURQfgM/H16WtS6MwaGpjOOQ4EDnACD4uuuii6KCDDgpZHQ5XAo5tt902KEgovXfccUdIrXOgcphyGHJAZuXA4uvgsOaA5zDl+6LEYO7cudGkSZOigw8+OChmHMJ8f5tvvnn43nAkUbD5vgjO+LmItBK8Z3nfkwnGEUFJxgHZeeedo7XXXjsEGjhLvXr1Cq9TZoOzgvKMgIAgkTV7jim263/+539ebteU7E6ZMiU67LDDghNIxir+PnGwTjvttCDk8D0SOOpcSR7A1glCEA8RNq+++uqQoSETFNs61R1khY455pho+vTpQTChrL2VbJ07/Le//W3wOe68887gn5AF50yLxRPEW77Pk046KQR+CLYEe3x/2rrUA4OmNoJDkmBn8eLFoU/oyCOPDCV1qDkcQpTYkY0hyMDR4PDh8OL/ywN8H1w2pPs5XKnTJouG6s5lQyCFwoVTSfYKdZ4LJi/fv+QHHAtsmVJZ3qtjx44NmV8EAR7KXVCZ6QmkZ+idd94J7+U8ZmBwInGSyGqjkuMg0neBSIIAxPlGQNWnT5/ojDPOiO65556QkUIwUiCRrIOtE0AQ9FC2xv1ENQUlrQibCAZkj6+66qroiSeeyL2tI34gnpBpIjtGRo3yQEoAucMp76Ws/9RTTw3B1tKlS0O1i/e4pIFBU47hgCEljvNP+puDhfphnAiCJdQpytU4jHE42rGkhe+XQxglmkCKnxNqFiV9KFmUBVD3jYrF4YujpYIljSZ2nChJJRAiI4yazHuU9yrvUUrUyMAgCiB2tHtAgJOEvaJWUzZMGdLgwYOX/9xwsjgDyUbFtm0QJc0GW+c+plSOLBFldGRPubd5z44cOTKaOXNm+HNK3RAMtPX/ClUi9G0ROF522WVBNKE3ElvfeOONQ+81/c4ITQRR2rp0BYOmnEEdMSU6DzzwQKhXpgSNQ4MgiZ6fu+66K0yeswytY/i54EChZDH1D2UPxZqfI30VlP1QU00mjgtOJG0IzLFRMidkhRE8cPZxnMgooaIy1Qpb1tmvnOIMHao9Dii9UXEQxRlJJgrnCzFFpN5g69gw4ibBEM4+A47ImlByR/UHpbRkkLy3K4dAiuCIM5TpfZQq4gfFQRTZOe53fq6ITI5Ll0owaMoBXO44TzhX+++/f5hIQ7kdk2x4DRWVw9YMSdfgkoozdvSK8DOmnI+SH37GlPmhZpOpE+kqXPIozCillJHRT8gFj/BBAzRBEu8zLnhtOR2KbZuzkh5HHFZKn/baa6/o0ksvDaXKfIw/c0kLgneGNpABRYSj1xZb558nn3xyCJLosbU3Jz2wdfwghlQRRCGYkIlCiNp1111D3zaZekQVA1PpCIOmFoVAibp8mkBpesbwyYagQDPUgHIzsyD1gWweZRGMXUeZZiQrThYTvkj/06huACWVgI1STkd2gx5DHHb6FJggRY8CE6bMJDUOAlf6JRimweQ+lH6cWRRqdtCwd06nSroC9waDGBioNHz48CBs0n+DCMekSDIiipuNAxum94uyfIZB0fNIdo/7nHud4Vj4UZwJIjEGTS0EDhZlI5SVMGo37k1iNxH1zaSiPXAbCwcvThRjkln0R+BKAMXoc9QsSiU9dKUY3g8E3XfffXcouyNryRQoeunIJjEVCwdLmgvlOmT1KNPFqSWQxbZxqsgGPPnkk8H2PXOlI7izCZS4C9hfhCBCmS0l35TQcw5o69kAIZpMPj2OlEgS0HIuU8bHwAkCKMUSMWjKOFzINIBjtIzW5dBlOAGqJ4GSZSPZgd8DgStjYHGq2I2BQ8yhyw4Z/sy66faE9wYZDLKTlIVQ2smFzA4iXlPRzD5kjymZohyXgRIEUPRDnXnmmWFAB1kCERxrSu/IHlPuGS9wZZ8Y9wDngM53tokrABCxDj300HCPM4yDDBTl02So9LvaE4OmjMIFTbqehW9czBy8OFsMIFDdzD5cilyOqIlkExgDTVbw4osvDmWVqovtAZmKl19+OfQokaHAjpnixPtC5bJ1wX4JoOiD6tu3b8j677jjjtEVV1wRGsu17/aDMlrKOtkZRJkt5XeIIvQtIXxq661JHEBRVnnggQcGsYQ+U3qg6IV0YEx7YdCUMchGkFXCOLmId9lll1AaQopfJbo14dAl7c+oaPbnUDdNTTu9Z1y0ki9wjijLxKFmBxg9MTjWjK2n9I73g+QHnCYELgQRpmviVA0dOjSc4whcZpfzS3y2X3nllWFfEnc2pdk42ExX9c7OF4gh/L5Z78AuKM52WiWYwkd20cA4/xg0ZYDYyaLxm+WqlOBR8/zcc8+FZaySHwiSSO+zVwfnCnWa4RFcsGYPWxsmXVGmRRkO5XdkliZNmhSGOahG5h+CI8ql6XWiJJesIoo0wRTZJ4Pl/EApJmXYLJDmvmZcPb9nJrM5BKg9oIqAIRLjxo0LmUXK96goYJ2B531+MWhqIlyiNBlPnDgx6tatWyjDY8QtZR8qVPmG3z1j4qdMmRLq3WkOJt2Pc+XvvnXAUab0hqEO/fr1C8rjgAEDQi085ZkGwu0JNszQHoSw7bbbLpTnMh2R8i2cLWk9sGWyCWSMGVFNVomMIlPW7FdtXxC9eV8w7GPPPfcMdwATER988MHwvpB8YdDUBEjxLlq0KCxbI9uw++67R7fffntwvjx42wsuYnpbuIgp70C1ZIjEkiVLVKYzDBclpXYzZswI2QQyS4z7X7x4sSqjfAmyT/S1sNMNR5v9TywZp3RPsg8BMGIWohbDfRC4yCAjeNq7JsUgiLzwwgvR2LFjw12OYEJ7RRqVJPGgGbKZ0jwMmhoIaXvKd2gER40YOHBguEyduiSAc3X//feHvVv0PdFEjBNe7cV80003Ff5N0gYHikuL7DCN3gRMNP8TQFnPLuXAjmkcp5yHaVwsMp05c2aXHKo4G23gVT/4fXH+MjENBxhRi3UfZBXMIEs5sE96n6ZOnRrKtAm0qSrhta7eE5T+rbDCCqEMUJ+xeRg0NQAOX2pfGV1JsMQOAPb60AMhUgpqFaNpCapRpseMGRPqpDvLPPE+I3P5N3/zN2HKoqQHP3t6k3CgKLWiCZjssE6rVAtOE4N9WKi54YYbhvJc/p3Au1JnnCETOFCUA9n3mi5kilnnwYoPzl+WlvPzdmiPVAuVQ59++mkQMhkCxe6n8ePHhyxlLHxUAkLdt771rWDzPEOGDLEqqUkYNNURjAJHi2bROFhiuIONolIJBNUMjaBHhssbh53DtiOliqV88aH63e9+N4y6ltogWEJtJuvH74BJSexVUumTWsHpoTSX8h0GCbC368ILLwwBVbngiXsF5Tq2dXrpqs1Gy1chWKLnjHua+5p+JcVNSQsqSdjd1atXryBuMjCIqZudBU/8+bbbbrvc3uNn+vTphY+QRmLQVAe48KiBpseBMisyBkzasddBugKXNuPJKdsjy3HWWWeFJvNix4rsFE598aG62mqrRe+++27hI6Qa4swSUyz5uWLDCxYssIlf6gL9rLfcckuYnkrwdNFFF4WJqknBEyW8xXbOc8QRR1ge2kUQMRcuXLg8WKJ8njJ6xU2pBwhuCG/c5wRP7PUql3niXCi1d55vfvObISMqjcWgKWWod2b0KI3hDHjAOHS0JA0ow0Gp2mGHHcKIU/Y+MaEN2BuRdLASZFEeIJWB48nyYS4yBA9KcwiWVJulEVDuiZPEImyySQwaIRsVQ0YJ20+y9TPPPLPwUVIJCCOvvPJKKMMjWKJ8njJ6s3bSCLjP8Q8pseWePv3004PIWSyUcL+vuuqqifbOs8Yaa3i/NxiDppRAPaDHgcZwRofPnj07pGNF0uazzz4LJT30QjCdh2EiP/7xjxMPVR7ej9bjl4dSKXpKJk+eHPbr9O7dO4wSVvCQZkDmCRvv0aNHtNlmm4XpmowvRjRJsnGeb3zjG2EoiZQHYYQeEcqdySIfcMABIdNkZkmaAcHTfffdF+2yyy5BbCfL/NFHH4U/I5BPsvXih12Pvncbh0FTjaBWMWJyv/32CxN2qEkn2yRSbyjfoVSPoCjpMC1+9thjDw/WDkDdJ1OHsk/tOOOg7VmSLMBdMm3atDCp8dhjjw13TJJ9xw+B0x133FH4v6WUDz/8MIwORxhB4WfgjmXzkgUQ2elLpr8RseTyyy8PJXhJdl760AoijcGgqQY4gEmpolYdfvjh0dKlS60rl4aCw18ufV/8DBs2zPdnEZTcPfDAA2GUMGNcr7766qDwi2QJynUYVUx/XZJdlz5M2XrqqacK/7cADikTzBj/zKh3AkuFEckilNvNnTs3+v73v59o30kPYsm9995b+AxSTwyaugDOFmo0Cj/lUdSlqlZJMzj77LMTD9GOntNOO63wf7YvBI6McGfZKH1L7L+gNM8RrpJV6LPp1q1bok0nPSuvvHIYZNLu8HMjgOzTp08ofUK9j/tARbIK2eUkuy73fO973wsDyKS+GDRVAYofTeLUmTL15IILLvAAlqbBew/nKOkALfe086hSyp0oz8F+6WVYtGhRpyNfRZrNbbfdlmjL5Z7VV189jC9vRxBAyM4dd9xxYcjD2LFjg0OZNI1QJEswGZeVIUk23dlDxYR72+qLQVOF8EZkGzhqH7tamLpjqZM0Eya8JR2cnT2k8hla0k6QCWZUM6U5NNbffffdDnmQloD3bme9TB099O6023Qtht5cf/31YcogvZxkmpyIJ60CWdEkW670oYLCqon6YdDUCbz5mLTDG5EL6KqrrnISmTQdput85zvfSTw0K3m+/e1vR08++WThs+UX7BeF+cgjjwy9h5Qzfvzxx4U/Fck+xUuru/JsuummbXFnIWKy0HvfffcNpXjc1UwcFGkVmKKHqJlkx9U8vPelPmQ6aOIQRCGih4imTQ5+Mj4ob0ytq3eqnb93zpw5Ydkg0/GoETe9L1mAICDpsKzmodH09ddfL3zGdMFOsNFi2+Wf/Dc23Qg74qxgVDOKM5OymHJpKZ60Etx19N0l2W81T69eveo2PRNbbuY9DQxwYVQzZbfsXULo9K6WVgK7Kbc6pJqHYTAsaE6b+F7HtrHxZtzrzSZTQROHOmOUn3jiidB3cdRRR0X9+vULwxZQyzbeeOOwB2nnnXeO9t9//2jcuHHBKaJUjkMzTYeIr4O/n0OYr4U3h0gWoOaZQzHpsKz24ZBmCEKtcJBSBsRBTWnMySefHA0aNCjskMBmsV1sePvttw9KMOOTr7zyyujpp58OWbM0y2c4uNmwzoZ/yprYXePONGlFKAlPstuuPEzPTOOO5J5mciyZahZsH3PMMaFkHdsuvqd32mmnaPDgwWEcMt8Hi2Ppw0zznuZzPffcc9Guu+4aJuMxoAkHTqTVOOGEExLttqvPT37yk5p77rEvPgcZXGyYQVLYNLZdeq9zBnAWcN9yNnBG5HHNSdODJpylt99+O4z77du3b3By1lprrXAIjhkzJuw9uuGGG8KIUPoQGMXIx7KfhpI5NqdTdsOOlZEjR4a+BZy3rka8vEkI2vi8BGeo0/YuSZY46KCDEg/Jrj706XVl1DZ2QanbnXfeGR1yyCEhI4sqvs0220TDhw+PJk2aFF177bWhiR3bxYavu+66aMqUKSFTxsEb2/vAgQODnRMQ1uJU0aeEkMJemwEDBpgdlpaF9zJDDJJstqtPV/e5IIowWGHmzJlR//79Q6k6D3fkqFGjwlAkxJL4nsbm2X12zjnnhGCNXkLOBrK+I0aMiObNmxd98sknNdkm6xY4S7j/cdbadeiFtD5UfFS6k6maBz+6WkESm8Q2WaTNKh2GS2Bj2DC2TIk7tl18r2P7nAGjR48OS3o5G7jbEUjxAd59991whuSBpgVNqEGozPEkOn4h/DJo2sQRI/1XLlihVwHnitQgvxAUJoImapk32GCD6Lzzzgu9DNUEPGSTLrnkkvAGIaJutwZayT6UnaRR81z6bL311iHdXgnYHTvJ2FFGoIQjhNNCPTZBD5+ns8AHu+QMQI1iweT48ePDCH8OWsQSMlbVqlQ4dZTmrLnmmiGLZXZYWplZs2Yl2motD2cHd1ylcA8vXLgw3K3YFerymWeeGYRFMsTYcGd3bHxPY584YjhWCDUIndz5TKStRijh70P57t27d7ThhhuGz5lHRVvaA9773H9J9prGQ4KhErArEhgIHdgmwiOCCAIHtosNV3qvczaQbZo4cWJY1ouPTwBGVpgzpZVpeNBEtEn2ZsiQISE4IWjiAKZ8plZFmF8oThhL7CgLItrlDUCpXWe89957IXPFGwXlPM1yIZG0IAWedDCm8fC5y73v4zG+qNUcgjgtTOFjjHdnjlNnYPsox+w8YxQ4CjsBEPuUOvvcfM1kmHGg6F1ijLjZJWllyDKl1d9Q+lDay3CJcnCXUvY+dOjQYIv887HHHguDFdK4pxFG+Rp22223EIyxK62STBGOG03u/D9HHHFEuLdFWhkyMUl2mtaz4oorhiXu5cD2EEMQLckUzZ49OwQ+nQVJncFZwZmBMEqWirOEsnlEj1o/d7NoaNCEc4U6TbCEQ4RzU6/ghCCM7NO2224bap1JISZFuDhkZLdQ0Bj1uGTJEsc1Siah1GyVVVZJPBjTelChk4IUskek4Mks4eg89NBDFWemqiVWtxFWCM5I+3dUPki9NQ4XhzHZ5c8++6zwJyKtC71CSfaZ1sP0zI4cKSosEBspp0NI7ErWt1LIBpOhRuRE3cZZ62gVAIINjtfaa68dSnDtXZK8MGHChCBakoFlSW3apXr4DUmiBDbEsLPu3btHPXv2jO699966VWhwhtDXiA0TA5BlbsVqroYETUSbpOUY6EAZ0COPPNKwdDpO1cUXXxwugKOPPvpL44ZxziiBwDE75ZRTam6aE6kn1CcnHYhpPyx/LQY1l4OO3iP6CRs1xhfniZrpHj16hOlfixcvXi5ocKaQhSLbRSMqKnirKlcipXz9619PtM00H/4OhMsYbAqnhj4ldpmRvW1UYEKWmYFLcQapuDqE6hQy0JwDe+21l32Kkmu49yhzf/DBB4MgyL1P1rnW4U+0wBTbM1VZ9BZjc5dddlmwwUaA341gQ6ICsQRRppXsue5BE5kk1CN+MWznbsaOFJTz559/Ptphhx3ChUDTHW+QuMyIBnRroqUVIKAh+KcZm2ElpNNXXXXVsLMpLXXqb//2b0OJKwEKdkNNMmVvzXJWuEDITNOviBJGhouBMCjOlPfy5yJ5AnECJZZeIgIF+v1QZ1kTQJYoLVvn7KCPgcCEagxK2uk5qqSkPW04WygJxEmkQoR/p2KETDOZZH4ejXLsRLIEgiCiPjZBOR8iJplZslLV9DiPHTs2fD4ESCbe4Q8jlNRaXt8VCNqYUI0Pw1CJVhkUUdegiUDk0ksvDQce0zaanU7nl8SULwZFUGLEuESGUahaSSuDckP2h+AB1YayVKZOotjyPqek7gc/+EEIrCo9YHGmUIMITBgP3uwsLL0M7GHhLGHkKf+cMWNG3UoERbIGjg22ji0y/OjZZ58NfUGU0tFzhBNENphSHAKrSm2dHsJbbrkl2NTll1/eYXlco6CMnwZ0zi0yzAyaoYQvL9O3RNKi2qwUZ0K8uxD/oBlJjGKICRhRztlDSXIrzBKoW9BEwERZHJkcSmyyUjqDc3niiSdGa6yxRlCtRdoBDiNqlVGQUZkovaEchoBo7733DkMUfvSjH0UrrbRSULAIsL72ta9FkydPzkxgwvdAVpiDn6/L7LDIV8FOSkWUqVOnhlKc3XffPThMP/zhD4OtxxkrMlj0NmQlMEEkof959dVXD8NmRKQy8LXJyBZnpShtZXQ49sS9zo7TrEyX5evFxsmk45NkPXCqS9DED4FfFj8EApOsZXI4kAmcyDhRqiciX9gttsGoUA6xc889NyjbWYKvEaUMZYpyIrPEItWDY8LQFCbFks3B3ptRolMOVPR4rQHTtkSk61BezwAnxptnrUKDs4eziJiBJbpZO4uKqUvQxKAHvnlS/ln95qmVZgEnCzYZrSgiUSj7YbAC28mbXabTEajhKFLUQjNlT0SqB3GEAUkInIgRWQQRh71tDJByea1I13j//fdDnyDZ5qzuL+QMYvk9Z9KCBQsKr2aP1IMmnC4yONRZZz3NRrDEmEWa0bKmqIs0Gg5T+hv69evX4YjvrEAtNKWFXASKHiLVQQDChDzKdLJ+933yySfRHnvsEYa+ZFXIEckq2AyLZelvpl8wy1ByT3aZwTdZHfCUatCEI0P2pm/fvi2zL4VFu/RdWTct7QxlbiyNZLnz0qVLC6+mD9kheihQj2uFC4Dm95NOOinzAo1IViBIwv5wotIY8MJAltiuix9eYwdiGtCHyWQ/SnfcoyhSGdgK5ezYIj1OaZBk7/w3Z0oa9o5gS8kwWbEsCjqpBk00nBKAFO9+6Cr88PkllP5yaGRN6yAGygenTZsWGuGbMWZVJAssW7YsTN6qp1OCPcd2nEbQBJQY0d+U5XS+SJagr4HyedYJ1AL3cOn9nPTwMbUSizr0N7HkVkQ6hx2LDIBgQl0a/b+V2HsadzsDbCjTY2BV1kgtaEKxYnkWW/lr7WMikk36ZRQ/BE9pQWSLYs0eiCw3oInUA7I0lKhSlkcPQT0otem0gib6m+i/YsltVmu1RbICFSAslKQEppY+JgKmYnvu7EkjcGIiIPc+i+iz2oMlkhWwEcpvd9lll1Qqv5LsuqOn1vudr33ixInBL8/abrbUgqaZM2dG3bt3D7uQaqGSgCl+0gyc5s2bFw52Fv2JtBOk7cnWkLWpB0k2nVbQBNgspTvYsIh0DHudKMGttV+gVHHGxoshqOJ+Lv6YNO5rhkyhQC9ZsqTwiogkQZk9lV/scKqVUlsuvb+Tss61VoTRd0lmmfLCLJFK0EQUu+WWW4ZFtrWW9hT/0PklFB/GSQdx6WHdVVCp2Y48adIkxxhL24Cic8wxx0SDBg2qy/LpUnuNnzSDJrLDEyZMCNkml92KJMMdR5aJapBa7rhSEaQc2HmlH1sJ2Pdee+0VnXbaaVaFiHRAmndiaVa5XDBUHDjVesdzRl1wwQUh28S066yQStD0wAMPhH6IWtWrSg/YYkeMX1JaMCKdbBnTekTaAWqesaGHH3648Eo64FiVKk/FT5pBE7zxxhuhT+O5554rvCIixTz++ONBea61mqL4/q1EtCw+B9IQOVmWT7as1qoWkbzCRNlu3bqFXYa1UiySYPvlKP7YNHxzpnGvueaa0aOPPlp4pfnUHDTRU8DGYZygWuuMqzlc44/jqTUNGMMbjcP4nnvuKbwikm8oq2X0cJrTLpOyS9hz8etpB02MKh08eHCYpKcCLfJluJtHjx4dHXLIIeHOroXie7qSu7dYDE3D7umfZq0JpYYi8lVuu+22aP311294AqA4K5VG0MRZNWLEiGjkyJE1xxdpUXPQhNpDP8H8+fMLr3SN0hRgZ6R9EAO/lFGjRoVfUlZ+QSL1gnGeDH8466yzUi1JLQ6OipWpegZNMGfOnDAFM2uNoyLNBueJ/oBmCIJp39WIIieffHI0ZMgQVw2IlECgcfDBB0fHH398wwXEarJSlcIEPZIZWdkxVXPQRJMZ31CtEW21P+x6/HKAS2W99dZLZX+FSJah0ZLU9zPPPFN4JR2wR1SmUhW63kETo4hpEq91lLJI3njiiSeCTTZjrUax3XdWQVIpiLRrr7129PHHHxdeEREguFhnnXVSL7mvhGqqxSqFxAztP5QXZ4GagibUaUaXUhZTq+JTrRqVdhowJna8mBMvkmeYRJWG4FEp9Q6aGGTBMJfp06cXXhERmDJlShigQBlro4ltnqeScr5KwJFKEmZE2p1nn302iKHvv/9+4ZX6U5zE4EkzkcGZRUXMueeem4nF1jUFTXwzffr0iaZOnVp4pet0RY0q/iWlBZNGtt566+j6668vvCKST5hMs/feezfMkap30ISIQ9kOPZaW14p8AeU6AwcODHsIG+10FNt8mo4UAgn7Z9JSs0XyAkugmZJZj2m4xRQnOoqfetztkydPjvr375+Jctyaog16ByhlS3sOfDODJpyt4cOHB+crzT4PkSzB+3zo0KFhdG+j3uf1DprgxhtvDKKHo8dFvoBxvT169EhlklY1lKrPaWaF6NU4+uijQw+yg19EvoC7HLtg6Eu97aL4Pi9+0hRHYpiYSb8yC66bTU3RBuOKGfP76quvFl7pOl0JmorrJ9M8kIlqBwwYUPOUIZGsggrVs2fP6Nprry28Un8aETSxoJdeB9cGiHwBpWyU67zwwguFV+pPacBUD3tnLyR7aJpRciiSRcjEUD2SRvVXZ3Cf44PH/yy2d540ffKXXnoprEtoRk9mKTUFTQRLBE217meCrgRA9QqaZs2aFe2www51T2+KNAsUG8b23nfffYVX6k8jgqbXX389nEn0JopIFC1btiz66U9/Gr311luFV+pLacCE3deDuXPnRptvvnn0l7/8pfCKSHtDhcWWW24ZzZ49u/BK48AHLw2e0uKdd94JZ9jSpUsLrzSPmr4rFkkybjyNUYDFDlWzM0133nlntMkmm3gYS25hOiQZGTIzjaIRQRPL8DhcWXYrIlG0aNGiMNyoEY3h2HVs4zz1CpjgoYcein71q1+lumNOpJWJxVDGdDeL4ns+LfsnW06m6eWXXy680jxqCpriUphPP/208ErX6UrQFH88T5qgvlM/SS24SB5B6EDwQPhoFI0Imsh6k2l67bXXCq+ItDdMgqU8j+Xt9aSRARM89thjUbdu3aI//OEPhVdE2hsEBOYMMBm3WZDAKD4H0oDVAiRJFi5cWHiledT0HT399NNhfnoa/QNZCprmzZsXbbTRRtGf//znwisi+QKbxXbT3tFUjkYETXGfJWV6IvL//QCotfWitCynXvZdDLuaWNjrMmuRLyBoIvtKFraZFJ8FaVSBIfg0ui+zI2qKNtJszipWqSo5cIujWQ7sNLnllluirbbayglcklviyZeNVKQaETS9+eaboTzv7bffLrwi0t4sWbKkrn1+pQFTpaJnrSBuMhVQcVPkC2gpobWEFpNmknbrTJYqSGoKmmgsxUGh0bRWiptHK0nrV/vx1XDJJZeE/VNO5ZG80oyG0UYETShRjShFEmkV0pxyW0ppwJRmb3FnMPmzEftoRFqFv/71r2F/2ZVXXll4pXaK7+1mVYFlacBTTd9R3BdBmV6tVJs5qjYzVSnMuT/22GOjkSNHuv9BcgujSffdd9/o/PPPL7xSfxoRNMWltfYjinwBPT+UsaWdVS4OmPj3RgZMLOmdMGFCdNBBB7nIWqQAtsBy9zT3Lxb72tX65pV8fCXQv7juuuuGAVbNpqagCbV6m222ia677rrCK7VRfAh3FtHGH8eT5mFNdondD9OmTSu8IpI/OFBPOeWUsOC2UU5HI4KmKVOmRP369cvE5nCRLID6vOuuu0bTp08vvFI7xbaclmNUDdg3uxTPOeecwisiAuedd14QRNO6A4sTGp3d3dV8bDWQOdtpp50ykVWuKWgiE0NGhg3EaWRliiNUno6o54FNg/w666wTmkxF8sytt94abbrppg3LytQ7aGIZ9eDBg6MzzzwzKNEi8oVAcsIJJ0TDhw9PRSApLo3naQb0ZHbv3j265557Cq+ICDBunGEQaU6VLL67efjv4mQF/176MWn55pxZI0aMiMaOHZuJ6q+aT7wbbrgh2mKLLVJrxiz+ofMUZ5z4xRRno0r/PA0YwcxwizQW9opkGeqEG7kwrt5BE6sPKEN64IEHCq+ICNx+++1hjUYaO41K7+BqnrQcKXZP0ePgwBeRL8MiWGwj7Z1G1dp9WrB7auONN47mzJlTeKW51PydsUQSxyutJtNSFavcgxOWJqjT9HhQnkdJg0ieIcOE4DFr1qzCK/Wl3kETe+MYAvH73/++8IqIQOxI1Tqyt7T8ptonraCJUsOePXs64VakhM8//zzaeeedw0CztCnNJiU92HhxFqpWmNLN2cXguSxQc9DEoUWt4cUXX5xaSUwlgVPaAROQLdtuu+1Srf0WySqU7Zx++unRPvvs0xCRoJ5BE2n7U089NRo0aJBTL0VKoBdgzz33DD1AtTSIVyNqJj1pBE04hZwl9C9ahivyZbCJiy66KEzRq4eokFSKx8NraQZLwFl17rnnRr169crMlMxUcmgEGQyEII2WFvzwcaxKU4JpR7HFPPvssyGiZdeLSDuA8sx7nl0urQyTPNdff/1o7ty5hVdEpBgGNlHmkmavQzOg7CjN6haRvBGX3r/44ouFV1oTehc322yzsF4gK6QSNL377rshmGn2FuJaoIl81KhRQYlTqZZ2ASUKFYfhCa08Yp+F1AcffHAInkTkq7z//vthyNFdd91VeKX1oCn8xBNPjMaPH+9+JpEOoHJk4MCB0XHHHdew6bj1gEEva621VqZK7lMJmvilHH/88aHMh9R5K0Jk/q1vfSsMgaBpls3KIu3AHXfcEZwplmC2IjS3b7/99tF3vvOdMG41C7scRLIGogjluJTRpDW4qdHQ1/DNb34zWmONNaLLL788DH8Rka9CEgN/tlUrp/DBmS/AzqksCbqpBE1AeQ+/oFacXMU8e7JMjE+PywBXWWWVEKWTRRPJM5TVslmfbFMrqlI33XRTdNlll0U/+tGPgu2utNJK0aGHHmqZrUgJTJtjIT1CSatBNchJJ50Unvie/u53vxvttddeYfmlw5tE/h+CDmwDPxbbaTXuvvvuUMG2bNmywivZILWgCWfrjDPOCIpvqym9CxYsCPWfzz//fAiW4gOZ5xvf+EYYDvHggw96KEtuYbfDz372s+iVV14pvNIaUHLEKGWCpj59+nzFdrfeemttV6QAii0TYjfffPPo448/LrzaGrAOhHuaf7JaoNjWeVZfffXo5JNPdgy5SIHYt33mmWcKr7QGlNlvueWW0eTJkzPXNpBa0AQffvhhtMkmm4RpF62iWLPMdocddgiHLdH47Nmzv3IYxw8lAWeddVb0wQcfFP5vkXxAfwDZGUps0xzoUk/oPaQsmOmdNLeTWaLENsl2f/KTn0RTp061dE/aHu48xIQJEyaEKotWgIbwPfbYIzrqqKOC3TPABlEkydZ5faONNgo7JPn/RNoVbIWlsLvuumvLDIDBD6fqhaApi8JOqkEToFgT2c6fP7/wSnbhDcWYYn45BHxAsIcKl3QYxw811dRaPvHEEy1z6Yh0BjvX2CR+4YUXZj6dz1hVeg+Z/Pf0008XXo1C4Jdks/FDOc+wYcPC9yrSjnDHTZo0Kfr7v//76L777iu8ml24Y88+++yoR48eX1o6P2LEiEQbL36w9wEDBoQzwrta2hH81G9/+9shEGkFG6DFhxjikUceKbySLVIPmvilkI3ZYIMNoqVLlxZezR6k/FCiKEkqHWHOSFMCo6RDuPTh/2dHlQ2p0sowwIWJVLyfObCYWlPLPpd6w8K7tddeOzSDF6fvUaZwlJJstfhBjUYsQeSxdE/aBQKmm2++OWRehw8fHsrcsjy6mzOINQJJThTK+WqrrZZo30kPQSKO429/+9vCZxDJN6+99loY2U1vEwLjrbfemul7nYFsCLcMdMqqcJt60ASU9xx00EFhuVYWt/PzpiGa5U10/fXXJ9ZMHnjggYkHb0cPkTyLNZmL3yqliSJAaR6j9glCHn/88SACMOazOIOTJWgMJRt89NFHJy7vmzhxYqKNdvT8+Mc/ji644AKFD8k1CJqzZs0KAcjMmTPD1EmyNdtuu20mBx6RTWbAw5prrhn95je/SbxXcQKTbLrcg2CyxRZbRHPmzGmZUmSRakH8JzuLjdMjdNVVV4VhbVSBZXEpNGIGrTKIOVme7lmXoAkod6Mxmy3kWQqcCJgYxchUDsqQOtrJxNdfiWJd+nAgd+vWLSzj8kCWrEOWhcZw7IHDFPsg68SYT1RoFj5n6YAlYGLYzAEHHNBhjTYH7g9/+MNE+yz3MLKcXU+oXSJ5gnuOJfQIhWSaYhWX/qb+/fuHnocsBU6cQzSxI+RQmtdRNphAivMgyZ4reVZeeeVg84idlu9JHuC+RvAkY4OwiDgC2BBluQiiiKNZyjgRMLEKgZ7qrO9arFvQBNQfEziRccrC+F8uittuuy1E26T/OluOhzOZdNBW+nAgH3bYYaF/ImsTQETigAklFyGh+BBlXCnDUdjf9PDDDzf9/ctFwGQ/FOIhQ4Z0erBed911iTZZyYPwQUkDJYqW7kmrQzaW4Uzce3feeedXMjYIhAROTImlnKfZ8PVhe4xGp5yus92P7G7qaABMpQ82H/sFDnqSVoV7mrucwAjhszRjgy3RPoNIOm/evExURSFSkmHq169fS9heXYMm4ECm1I2xwI8++mjTfkl/+tOfQgkOpQlXXHFFRc4Qlw3KXNIhW83DgbzxxhuHgM2luZIFEAwY58nhWRowxcTOFjZw5ZVXJpbCNQIUYA74ddddNxo9enRFE/BQ1gn4kuyxmofdTzhSlu5JK4LKfOKJJ4aMDT1BHanLiBAMUVlvvfXCiP5m9RNwP1566aXhnqZMuDNhM4alvUn225WHfmayV5w53tfSKmCzlKvSl4wY2pHYgE1dcsklwcamTZvWtFI4vl58DzJihxxySOYzTDF1D5qAMjUUI35Jjd7YT+RNJMsEHX45NH5XE7jde++9iQdrVx/GlqPgu3hTmgWOAE4GalQ5RwoIWDiI+VhqjdmB0si0PoMdxo0bt9yJqsaJ4XtDsEiyw2ofehYRf1DizRpLK/DRRx9FQ4cODeO3Fy5c2GmZLc4T9zO2hhpN6V6j4EzhTsTGEEfIiFUTuCHo4Cwm2W4tz6qrrhp6QkSyDIFQLDZcc801HbadxGBbLI+llYRSd4a2NfJeR4Sk7JavF/GWpEar0JCgCXC+GG9KxoVUHGpWZ2n3WuCCIHLF0UJN5zDuymZhAiwaZZMO1FoenDmRRoOAwYZwDktGkVZyUPIxixcvjvr27Rv+v6uvvrruOx8IjnCcGPiwzTbbhBrsarPUnAG19DskPdgt5YGo0CJZhbuOvUY77rhjVeP1caYox8Xu2OWEaFjvDDMOFP1WZMMGDhwYLVmypNMALwkqOb7+9a8n2m0tzxFHHFH4G0SyB9nkU045Jfi5BEKV3pPYGGcDA8wQRVkQX++KCs4S4gDudErgyTRVI45kgYYFTTHULLJUD1WIOmrU4DSjTFRg/g7KiZgcsummm4YpObUc/DTDp6VYx89KK63k5nJpKCjHlOCgPD///PNVOybYKVO31l9//WirrbYKI/sRJtLKvPD1cAHQz9CrV69wCVBmUIviTUPsiiuumGiDtTw777xz4W8QyQ4IHGz/R5wkuH///fcLf1IdZKlQgul33HvvvcO0WQSXrgQzSXBm8HdwnuA8cSbddNNNNZfD4VMk2WtXH9oK6inuitQC9o2d4+ti913JFmFzDIeJ/WUyVdhmmvc6ZweJEoRXegfJZPN3tCIND5qASJiSOTYVcyjTgEpqkdf4BVb7yyJSpeQP5fz4448P6f1NNtkkjClNq8SgkkV6lT4EYLyBRBoFQ1mYTEPWtJZmbw5ARImpU6dG3bt3DwEU5XMIC2zfrzYbhK0TjC1atCiaMmVKULhRvficNHincXBTL51kh1192EHnZEzJGlRzIBByp1ICjj3WArZH2c5JJ50UBAyEEuyevU6U8lVrm5wNZKgRMvj6mM5JsITCnZYDxedBkEyy22ofBjllcRS7CPcwg5G4z3v37p1Kuwel8Ow9JHiiogS7Z4cpvnVX7nXOCHwNqr3IWnOG0F9Jdqvaz5clmhI0xfCDe+edd8Kh2bNnz1DfyA+X8iFUp+eeey5kYzgI+cVx4JI+xGnjB89gCX7JjAylgZXLgvpMUpR8fFqqGBB8fe9730s8XKt9aK4XaRQ4ORyuKMZpLXZE0SLLhJOGukvmmGCCvifECsrpcLiwVWwW28UmsWWCIRwnJtyNGTMmBErY/m677RZK/wjw0giWYlh5QE9Ski1W+9Dj4HJMyRoID4wTjoe2VDpAoRK4p3nPM0CJDCu2ymLoY445JmSbUbix6Y7uaXYtzZgxIxo2bFgQWVCaKQm64447wseleU8DPkGS7VbzIGzeddddhc8okh3ifiTKWUeNGpXqAAVsEZukNH7w4MHBp8Zm6Y2khBZbxqaT7nV8dcTTG2+8MSREEFk4K3baaafw/yJAtHKwFNPUoKkYMkxkmkjXM6abQ5nIlB86vzgmYRH98kbBQeN1Mko4WtRzUtKDc1TPXQtkw5IO2Gqe/fbbLxdvHMk+BB4ICwgKhx9+eKqHazE0neJU4QSR6eWQxF6xURwkbBbb5TVsmdcZJ0wgd+SRRwaBhACrnmUwnBFJ9ljNw1hjLgWRLPHee++FZfI4N/Qj1fN+ocwdp4ml8PT6xApy0j2N7fM6r7F2BJUZZ4+vt7NG9Vrgc5MFT7LhSp9jjz228NlEsgPiSDyshQl49ew3xI4QMOnfJevELjd8bv5ufPCkez3OSONvIIrSn1jvnshGk5mgqRgOfYIoolecKfovKL1DvSZdSFqSDBURLqPDu1LH2RVQ73hTJB2ylTyUIzRrvKO0Fxx4bP9HeaY3oVHvO2wRO0GFQnl66aWXgs1iu9jwCy+8EEoJCOA4TNPMKJWDXqlVVlkl0S4reVCemSIokhWwHWyLniCWyHNXNhL+fmyYsh5sGtsuvqdffvnlcE9zFnAmNOqeBs6drvYh8/N0P5tkDTI19C8xBZr2jkaK7/G9js+NTWPbSfc6ZwFnQp4TA5kMmrIM0z66chh///vftz5aGgK9DPQEofSSKq+nqttKUF6UZJuVPDSuimQFHBPezyi+p556anBm5MuQCUuy5XLP3/3d33V5eIZIPSAAmT9/fug1YgFso8UR+TIGTVVCzSd13UkHbkcPQRZTAkXqDdmdfffdN0zPevLJJxuWyWkFUMoIJJNstNxDz2SelTNpLSiFZbgJ5TH0FCqKJEO/xWqrrZZo00kP9zRTAkWyAgOHmCBL6RvCXa3DXaR2DJq6AGlItoYnHbxJD1PBROoJTj2BOcMY2HVCCl2+CvXZSTba0fODH/wg1JBT2y3STOjXpSwHxZlyPCZTNbLkrRWhpDbJrpMeyp7OOeecEGyJNBPsGvtmRDd3OruN6tmvL5Vj0NRFmPqVdPCWPvRAMS1Pp0vqBc2hF154YVCjuPTp35FkCC7ZRZFkq6UPtks/JUtCydyhQntxSTOgB3D8+PHBxtmgr+JcGdg7K02S7Lv4YXpvvN9q9913j1588UWz9NIUKL1liAKrN5hapwCaLQyaugg15NQ/Jx3A8cMOCiYC9unTJxzGZAJabfuxZBdKRcl6DhgwIKikbO/Xqe+chQsXdtqXyHoBfraA8oyjisPKfpkPP/wwvC5Sb7gvaLTG8WcqFY3X3iHVsWzZsjD5MsnOeSjhY+gUIG4yxpleMaaTuY9NGgX3Oe9VysEJmJgkTQAl2cKgqQbYR5N0CPMQUMX7XHC6qEfF6WKSmel/qRWmO82dOzeM/Nx///3DYSuVw86qJLvlIaBiH0UxKNb0iG2//fZhrxRlUvaSSD0hu3TGGWcsD9Zjx16qhyxdR7a+YMGCwkd9Ab2Pt99+exjhjuDJZDB7GqWeMC2aMf6M70YEtfQ2uxg01QCOK2/ypIO41OlCHWTy3iabbBLm3VP2Y/pfukKshjLUgEWOjrGvHkoekvoSsd1rrrmm8FFfhSXXCB+Mcj/66KPDzpm0l3NKe0Mwzl1BZomHCgUzyLWBU0rwWWrv2HJHIHpyzmLrlNhj+yJpgg+4ePHi0IfMYBfuHu/zbGPQVCOUS5SW+lx88cWFP/0qLOA96qijQvr/ggsuMOskFUOQznLIDTfcMPTZoIAaeHed0aNHf8lueVjA2Rmoziy55XdAWSTLeb3opFZQlpl+yfsSR33ixIl1W0jdjrD4t/iuZuFuZxkkzlzKntndxCJfMszucJI0YH8ZPiDi57Bhw8IocbNL2cegKQV69eq1/CBmM3tnjmzs/DIFifHlLAmzTl06gkwGmRH2jhBsM/TBYLt2uLRWXnnl5bbLpKJqynAYuMGuHBTCffbZJ/RKacfSFXgvXXXVVWHj/l577RXeS5aEpc+gQYOCrW+zzTbB/iuF0kiCWILZww47LDi4ClbSFSj/ZBoeQThDie68887o888/L/ypZB2DphRAHVxxxRWjX/ziF6EMoFLIOh1//PGhbIAFhR988EHhT0S+gMl4s2bNCr1L9OEw1UlnKj1YB4ATRe9CNbYbgzJIP9nIkSOX955Q1qNiKJWAgEb5HeIZWUumZmHzUh+4Y7/2ta+FTHG1cO5y/tJzwmRNsgRmAqVSeP8sWrQoCOuIn5SG2qfYehg0pUhXNolTq/7oo49GO+64Yyi7mj17dpecN8kXZCwYgcs+FtRnap11ptIntrVaBQv6UOhj3G233UKAO3369KqUbGkvYgeKshyyF6eddlroVbQ/Lvsw0YxBEQyEoUeZO9uzWToCAY3e13HjxoVgiel42L7iZ2ti0JQRKLe69NJLw6hJyoRQwmz+bT84YCnFO+6440LmgmEDZDLNXLQGjCi+4YYbwrqBLbbYIpozZ44OlSyHki7smYwkwRKq88svv6wD1YKQZZo2bVoYBoVYwvAOy6ykmI8//jiMrkf4pIeO9wjledK6GDRliLjUh8W5OMwMjGBXjLXT7UF8CdMj07t377CfxbHWrQllF/Se8bvksqSG3Qxy+8LZTiZp0qRJoYybPtj58+frQLU4/F7ffffdkCkki9C/f/+wmsBhEe0NezyvvfbaIJ4xROTmm29251dOMGjKIDjKTz/9dGguX3PNNcOOJy5csw35hCbwG2+8MZR60Bh6yy23mJ3IAbFDNWHChGDH9E0xfcvgqX3gPUDvKr1zqM3s+aLx22mL+YJMIYvsETrJILI7jwFPBsXtBcESfYkEShtssEHY5emo+nxh0JRhcK7mzZsX9ezZM1y4F110Uei9MHjKBwRG1Maz7f+Xv/xlKM+0sTh/4FCRQT7llFNC8ESW4Z577jEwzjFUBxAwT548OZzd2267bXTrrbcGgUTyCyX1r7zySnTkkUeG4In9O/Q60gcl+QR/jDK8q6++Ooie3bt3D3c51Qb2KOYPg6YWgIuW7AOLDtdbb72wB4qhEwZPrQm/T4Ilhn9QvsXiRNRof5/5Jg6exo8fH0q0EEOwawZGeLnmA5xmMg5MQ+V3jI3PnTvXYKnN4H1Asz89qZTtkWVGAPV9kB8QRhjwgJhNoMQKmRkzZoRgybs8vxg0tRAMi6CMi+CJCV2omAwNsIk4++AU4xzz+0N1pnn4nHPOCeOp7VlrL+IsxPnnnx/GTHPZIoTwXtCWWxMyCZRjHXrooSHDwK4llqKaTWxvmIL6xhtvBKEEgYy7m4wEFSOe+60J/WoExCeddFIQRqgUuf7660MZnuJX/jFoakEInpjKtdNOO4V9Eex6wogdGpA9cIJRo5igQ1Po+uuvHwYE0KPmpdneoEaiSs6cOTME0tgyyjSLTS3nyT7YL2U5NHkzPY2MAkET/ahOUZNieK9w5lO2RQkXohnZSO5t+56yD8HQH//4xzDQh5JLBnXtu+++4b8d8NBeGDS1MKiYDzzwQLTffvsFIx48eHD4b0oAVDyaCxfhSy+9FAJa1Cg20DNNx9S9JMHFyzjaAw44IGQqdt999zC6HEXa7FO2ICBiTDh7VyiXpjSHrPHSpUtdEyFl4V5G9LzrrrvCoCfu7X79+kW33XZb6GdVSMsWCNHYNYuMGdREtpA7nSXHBrvtiUFTDsB4X3jhhejYY48NDjr7YRhd/dZbb3mJN5BYeSYLSHkOFyKq1P33328tu1QEl/SSJUvCaGoyk1zSTORasGBBeA8ZcDcHzlEyxrNmzYr22GOPYNs4vTi7lOX4e5Fq4d5maASle5TpMgzoxBNPDDsama6o8NkcEKkQN+k75v5GxNp5552D6EnvsSJWe2PQlCPiUjDGXDLalnKRAw88MEzq4mJXxUofLjYuOC46Ljx6zSjBO/3006PFixe7r0O6BE4442sJuIcOHRqm7jHG9uyzzw4ZTJ2q+hM7T3fffXf061//OvwOKK0ioH311VdVmiUVuJfJMjGKnmoR7u2tt946jKnnDrFUt/7wO+C8feSRR6LRo0eH8kkCWZZQUy7tmgiJMWjKKZTu0Zg8duzYMPKWMhLSyixMpTZXZbQ2uMi40Ejbc8Fx0XHhcfFZZiFpQpaDIRFkOfbcc8+gfNIDxdRFykQo7dOe04GfNSWRTDobMWJEcJ7IABxzzDHR448/brZP6gqZZipEED4p0SWjyZRNJrSRlUIs8f2XDogiiMkESvhJiJ1rrbVWNHz48DDERaFZkjBoyjmxWnrHHXeErBNqKWU/KCg4AUx0M93cOVxUXFhcXFxgjBLmQqMB/IorrggXnYM4pN6Q3aDGHqeqd+/eIYAiA0VT+aOPPhrKQy3JrRzsGgHkzTffDD1kQ4YMCSXOiEyjRo0KPaKIIJ6R0mjonWN8PcMjuGe4b5i+RxUD5bo49Uznk8rh/GRyKWsAGNpCZQgl0GTzKcdjlYs/UymHQVMbEdflz549+0vOweGHHx4ODA4TDhXLfr6AnxdOKM7oaaedFnrFcFK5wLjIXnvtNadkSdPAVgnWGXe7//77B5WUzAi2fc0114RMKJkRHf7/h7ONktkPP/ww2PWZZ54Z7bDDDsEhJfhkATGv45D6c5OswD2DWEJfzYABA8KkTSpIDjrooJCB5i4i42xm5MtwhyN6UHVz3nnnLZ9yueGGG4ZJpUy/4ywwUJJKMWhqUzhMUFUoQ6GGl0OEw2TXXXcNk6DIQnGY4GC0SxDFwUldMyVPLKnjcsIR5aH0jssJRdpASbIG9kxG+eGHHw4BPuV7BAJklQ877LDouuuuC1lS3t98bLuAE4m90sBNMERJIyWOOJ0ozNg4mWJGP1PSbOmTZB0qGighJQvKriCyT9j6xhtvHB1xxBEhY4pgwpS+drJ1bBchCb/lySefjKZOnRrGgmPn2DvDmdiH9/zzz4cWBQNM6QoGTRIUVQ4RJvCxT4iDhkCBg4ZJUaixKDKo2jgWeVBlODApy8GZos+LaYODBg0K/QsEj+zAOuOMM6L58+cHZ7SdLh9pbXAeaFxetmxZmO5GvT59d2RJeX/3798/BA84XXwMts/7u9UDhjhAwl4RPlgkzffOUJyf//znwXnq27dvaLDHqbKUUVodbJayccQ8praSPdlyyy2DrVNFwjoSMiwPPvhgsHUyz3mxdQIkskiIQVTPMIiJKXe0IFBFQ/kyAjB3OEGmQ5kkDQya5CugZOFQkNKOgwkmyaBm9ejRI5T/4HgQSDEemVIWnJUslrNwuPL94Bi+/fbbIYOGsowix+4knCkCxF69eoUgCUeSpnu+n1a/WEQAGyCIovwW54npbwgjOFXYNA3QBBNkqAg0WM76zjvvBKUaxwS7zkq2GZvE6eP74Yyi54PviXJZbJoACbEH4QMFntLjq6++OqjLOFj2HUqewdYJorjrmLzJtE1G43dk688880w4F7Jq6wi0iJvYLr4GmfTp06eHfkP6irm7475OBjhQIcL3hHDSTlUy0jgMmqRTcFI4VHFQGChBIyoL+TiAOYhRcHFWhg0bFpQdNuTTqMohh8KDukUQwufhUE4jGOFzcEFwqHLYkwHDiSIb9txzz4Wvk/Q8hytTiOJLg56PXXbZJSjQlCyRXeP/44A1SJJ2AEcituk33ngjiB9MgaQZmowUKi22QlYKx4Rx29g8wQdTpRjBS38F5b2U++GkYd8EJNgjNo5tYk88/H2lT/xnfBwfz9eDDeIgcV7gJCFeMNqbswQVndIadtER8G2++eYhOMJhQtBB9ODP6Pkg6CODTGDF5xdpV7A17DK2dewXwTPJ1pnSh61PmDAhuuqqq8LHcpfW09bpwyq2dao+GNKAWHvccceFrDi9xPHXyT3OfU5Gja+Rj+f/5evic4vUG4MmqRoOwOLsDU7NzJkzg3pFVorDmOAEh4ZMDgcdr9FLwGGNczNx4sRwMOKIEWQxiIL+KtQxlGMesj4c3IzxJv3O33HZZZdFkydPDrXc9GrgQNHIvcEGGwQnioOVf7K9e++99w6jgi+//PLw+eKsGEGWzpTIl8HpwJGJMziM4mWgBMs3aTinZLXYzsjmYOdkn7fbbrtQDsMySMSTI488Mtg5UzrHjRsXgi4eHDLOCUppcHwY681UT9RwxAxKixBjcJI4P3j4OwiS6Eng855//vkhiGI3Gio55xDnEeeSiHROOVs/+OCDQ5kbfc6ltk6PJP2SlO1T+keQNXLkyCBCcidj29g4D5+LqZ4nnHBCWNAd2zqCK7ZOMJRk62SN8BX4vJQWcvcjhOBrEPwRcHl/S7MwaJLUwGmJ0+mMMsehYREnKXUCI4IkDlKyPwcccEAIajicKZPjoMT5winr3r17ePh3DmkWSlJqg+rdp0+fEJhxAOOQoZAzoCFWxajb5iJAecKR8nAVqQ3UYpwsnBWUYewLB4ZeAgQTxA6azxEn6JXCxlGJGTCDnR5yyCHBueJBNKGMhlI6giYcLQQUxvijHN96661B4CAgwpn73e9+FxRuskYo1NqzSP3gDsfWERZLbZ2sDrZOWR8lcogXBEcERWPGjAmlsNg2Ns6DeMJYb4IfxEvu685sHb8BW/fulqxi0CQNBQeMw5CDOU7Tk+7noKTEjoO6+OE1AiACMQ7yuCyAz6GyLJI94pIcbDS29eInfp2P0YZFWpdqbZ2PF2llDJpERERERETKYNAkIiIiIiJSBoMmERERERGRMhg0iYiIiIiIlMGgSUREREREpAwGTSIiIiKSCVhgu8IKK4Q9USJZwqBJWhYPVpF8om2LtCex7ccP/y2SFQyapCXxYBXJJ9q2SHsyY8aM5ULJU089Fexf4USyhEGTtBwerCL5RNsWaV8QSLD7mOLzQCQLGDRJy+HBKpJPtG2R9qU0qxwLJyJZwXejtBwerCL5RNsWkRjsX9FEsoS3kbQ8Hqwi+UTbFmlftH/JGgZN0vJ4sIrkE21bpH3R/iVrGDRJy+PBKpJPtG2R9kX7l6xh0CQtjwerSD7RtkXalzFjxnylz1GkmRg0ScvjwSqST7RtkfaEyZkMgdH+JUsYNElL48Eqkk+0bZH2BdvX/iVrGDRJS+PBKpJPtG2R9gSb1/4lixg0ScviwSqST7RtkfYkzjBr/5JFDJqkJfFgFckn2rZI+xLbPQNgsH36GkWygkGTtCQerCL5RNsWaU+w+dj+mZyp/UvWMGiSlsODVSSfaNsi7Ql2Htt+bPPav2QNgyZpKTxYRfKJti3SniCQxLaPcBKj/UvWMGiSlsGDVSSfaNsi7UtxhrkY7V+yhkGTtAwerCL5RNsWaU+w79j2GQJTDPZf+ppIMzFokpbAg1Ukn2jbIu0Jth3bPrZeivYvWcOgSTKPB6tIPtG2RdqX2PZ5ksD+SzPNSeeESKMwaJLM48Eqkk+0bZH2BDuObb8jYST+GHoegbNA+5dmYtAkmcaDVSSfaNsi7UlnGeYY7D3+uPiJzwKRZmDQJJnFg1Ukn2jbIu0J9ltsz50RCyc8HYkrIo3CoEkyiQerSD7RtkVEpBUxaBIRERERESmDQZOIiIiIiEgZDJpERERERETKYNAkIiIiIiJSBoMmERERERGRMhg0iYiIiIiIlMGgSUREREREpAwGTSIiIiIiImUwaBIRERERESmDQZOIiIiIiEgZDJpERERERETKYNAkIiIiIiJSBoMmERERERGRMhg0iYiIiIiIlMGgSUREREREpAwGTSIiIiIiImUwaBIRERERESmDQZOIiIiIiEgZDJpERERERETKYNAkIiIiIiJSBoMmERERERGRMhg0iYiIiIiIlMGgSUREREREpAwGTSIiIiIiImUwaBIRERERESmDQZOIiIiIiEgZDJpERERERETKYNAkIiIiIiJSBoMmERERERGRMhg0iYiIiIiIlMGgSUREREREpAwGTSIiIiIiImUwaBIRERERESmDQZOIiIiIiEgZDJpERERERETKYNAkIiIiIiJSBoMmERERERGRDomi/wNKNuQS2bujaQAAAABJRU5ErkJggg==)"
      ],
      "metadata": {
        "id": "a4r3ig0WqU_P"
      }
    },
    {
      "cell_type": "markdown",
      "source": [
        "## Example 12"
      ],
      "metadata": {
        "id": "3uG3Rdeur17X"
      }
    },
    {
      "cell_type": "code",
      "source": [
        "<img src=\"https://drive.google.com/uc?export=view&id=1tMay-uxyRXZsisXqxaFzMy-zQde8aARK\" width=\"500\">\n",
        "\n",
        "**Figure 1. Caption**"
      ],
      "metadata": {
        "id": "IGT7TfPsr8g3"
      },
      "execution_count": null,
      "outputs": []
    },
    {
      "cell_type": "markdown",
      "source": [
        "<img src=\"https://drive.google.com/uc?export=view&id=1tMay-uxyRXZsisXqxaFzMy-zQde8aARK\" width=\"500\">\n",
        "\n",
        "**Figure 1. Caption**"
      ],
      "metadata": {
        "id": "O2Dr-8i9riwF"
      }
    },
    {
      "cell_type": "markdown",
      "source": [
        "## Example 13"
      ],
      "metadata": {
        "id": "u2GAIAwosJRK"
      }
    },
    {
      "cell_type": "code",
      "source": [
        "<p style=\"text-align: center\"><img src=\"https://drive.google.com/uc?export=view&id=1tMay-uxyRXZsisXqxaFzMy-zQde8aARK\" width=\"500\"></p>\n",
        "\n",
        "<p style=\"text-align: center\"><b>Figure 1. Caption</b></p>"
      ],
      "metadata": {
        "id": "I_irhzIEsfQS"
      },
      "execution_count": null,
      "outputs": []
    },
    {
      "cell_type": "markdown",
      "source": [
        "<p style=\"text-align: center\"><img src=\"https://drive.google.com/uc?export=view&id=1tMay-uxyRXZsisXqxaFzMy-zQde8aARK\" width=\"500\"></p>\n",
        "\n",
        "<p style=\"text-align: center\"><b>Figure 1. Caption</b></p>"
      ],
      "metadata": {
        "id": "7Z8l4t8JsHmV"
      }
    },
    {
      "cell_type": "code",
      "source": [
        ""
      ],
      "metadata": {
        "id": "Socs4N-FsvUC"
      },
      "execution_count": null,
      "outputs": []
    }
  ]
}