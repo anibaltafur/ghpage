





<!DOCTYPE html>
<html lang="en" data-color-mode="auto" data-light-theme="light" data-dark-theme="dark">
  <head>
    <meta charset="utf-8">
  <link rel="dns-prefetch" href="https://github.githubassets.com">
  <link rel="dns-prefetch" href="https://avatars.githubusercontent.com">
  <link rel="dns-prefetch" href="https://github-cloud.s3.amazonaws.com">
  <link rel="dns-prefetch" href="https://user-images.githubusercontent.com/">
  <link rel="preconnect" href="https://github.githubassets.com" crossorigin>
  <link rel="preconnect" href="https://avatars.githubusercontent.com">



  <link crossorigin="anonymous" media="all" integrity="sha512-dkuYFW+ra8yYSt342e5pJEeslPSjMcrMvNxlYZMyM/X+/WJHDPvoCuGq3LFojI7B0dQWwZNRiPMnbi9IfUgTaA==" rel="stylesheet" href="https://github.githubassets.com/assets/light-764b98156fab6bcc984addf8d9ee6924.css" /><link crossorigin="anonymous" media="all" integrity="sha512-UrAu23+eyncWvaQFwsLbgSKtmLb2aH1bcT4hJnnRdkaPuY1eu9bumt33FyHHFDX8hskTUNWNkIsMCz7FWQQHwA==" rel="stylesheet" href="https://github.githubassets.com/assets/dark-52b02edb7f9eca7716bda405c2c2db81.css" /><link data-color-theme="dark_dimmed" crossorigin="anonymous" media="all" integrity="sha512-kyu73YWtU8Fu2e7p+Hv094CRhaTvr8yy95vc1SQ2+MeWVWakGeIh/lv9yIFaYAb8J3oM6uBLGcn1kS6M1GxBCQ==" rel="stylesheet" data-href="https://github.githubassets.com/assets/dark_dimmed-932bbbdd85ad53c16ed9eee9f87bf4f7.css" /><link data-color-theme="dark_high_contrast" crossorigin="anonymous" media="all" integrity="sha512-jZSKF7Gx8T/AFthO0CUkWWpG5EBlIZb+tIYu8KgP/kizn7fpXEiXJcB73GTZ69wSVVSZ6Y1Cw286qP7pVZr0gg==" rel="stylesheet" data-href="https://github.githubassets.com/assets/dark_high_contrast-8d948a17b1b1f13fc016d84ed0252459.css" /><link data-color-theme="dark_colorblind" crossorigin="anonymous" media="all" integrity="sha512-E02WD8opZPpYu6LM9dlUSIHQgXtLmzi1KxMnaN/SA7k6ILsvpNJjpkBPU1sC98MitAOkCNIe6ozqY8+pHnrHZg==" rel="stylesheet" data-href="https://github.githubassets.com/assets/dark_colorblind-134d960fca2964fa58bba2ccf5d95448.css" /><link data-color-theme="light_colorblind" crossorigin="anonymous" media="all" integrity="sha512-VWdBPHZj3WCDwaO0N2W8yvDZt7TNZohRIYK4sjjSU56485rCWazxnLr4p3DU8eqn2+eSj3CYYpw4+DzmwHOwew==" rel="stylesheet" data-href="https://github.githubassets.com/assets/light_colorblind-5567413c7663dd6083c1a3b43765bcca.css" /><link data-color-theme="light_high_contrast" crossorigin="anonymous" media="all" integrity="sha512-dw8LrBQMvo9HDd5lo2UEp/tvMVR6zJjrQkQTBVrhyaHDlL1p7UiQ9/xpqYxOz9s7s1Qh5Bjokuzu7NX0U5BeYA==" rel="stylesheet" data-href="https://github.githubassets.com/assets/light_high_contrast-770f0bac140cbe8f470dde65a36504a7.css" />
  <link crossorigin="anonymous" media="all" integrity="sha512-qnQ/F8LLYoQMGThUwEBSlMxiYHch+S/b9RRB7xQLd2KV0SYwDTKOddCpUyASbG3S9MM13xxngC/E5j0xOhwqSw==" rel="stylesheet" href="https://github.githubassets.com/assets/frameworks-aa743f17c2cb62840c193854c0405294.css" />
  <link crossorigin="anonymous" media="all" integrity="sha512-UClkQCXZUB72OhcRH/0tTtWJpsH0AtA2wYP5hy3F2QoFGJbTSRKa0tDGevxG9D1jfxsDCpvRoboRMbaloQCrDA==" rel="stylesheet" href="https://github.githubassets.com/assets/behaviors-5029644025d9501ef63a17111ffd2d4e.css" />
  <link crossorigin="anonymous" media="all" integrity="sha512-lI46H2564tEkXTyrrH+Hwlin/71MJJMEuhHUMWxvDjpn2UnzYo+PkR2vvPwgr3pEt6EhZI8pZhfatt9dY2ZZhQ==" rel="stylesheet" href="https://github.githubassets.com/assets/tab-size-fix-948e3a1f6e7ae2d1245d3cabac7f87c2.css" />
  
  
  
  <link crossorigin="anonymous" media="all" integrity="sha512-07rWJT9Gb4tcA3jRuHHq6UwpZZTB7DA5UgX2DWlyS46uz8BYxU0YjPTSy3oWCkeFuJih/9r/ohvo8a9akqngpw==" rel="stylesheet" href="https://github.githubassets.com/assets/github-d3bad6253f466f8b5c0378d1b871eae9.css" />

    <script crossorigin="anonymous" defer="defer" integrity="sha512-vkftKchtwD8WsIMRv6keDt+WfX8+SAcIsUPCrzBbL2ojw8iJ1qck2x+XFSii9xkMywZvwKOvVkGMdm09IUjmlg==" type="application/javascript" src="https://github.githubassets.com/assets/environment-be47ed29.js"></script>
    <script crossorigin="anonymous" defer="defer" integrity="sha512-/BzbO7zEvWyw7khUtv0A3YNX+7h9nC8tHbsRbF/nBYvgjSkHspSFTh428uQ36gqTh2RrXDeIJyC9KcUKeHgtZA==" type="application/javascript" src="https://github.githubassets.com/assets/chunk-frameworks-fc1cdb3b.js"></script>
    <script crossorigin="anonymous" defer="defer" integrity="sha512-3ufRKZJe/1/AvITVwGVuNFv3n9rbKlZcpZkfa2IwVFwI37H7AC45jYGBDi0LrlaY0Kdyb6YzEjclzP+lSjJx9Q==" type="application/javascript" src="https://github.githubassets.com/assets/chunk-vendor-dee7d129.js"></script>
    <script crossorigin="anonymous" defer="defer" integrity="sha512-vgWV8b1FcpGErHwOitpIbvNmtQZwsw55TUraZngdfnHB3P+ZQnxzKD1L//RqzlWMB9sExBRhfOt1rHCxrru/Fg==" type="application/javascript" src="https://github.githubassets.com/assets/github-elements-be0595f1.js"></script>
    <script crossorigin="anonymous" defer="defer" integrity="sha512-dZ4JwbFzPiuovklCl+oSkTqEDJg1jcKjEEeHDBWFhbe/m/MYKN+KBwnbJZZvis5F/1kGZUWXf7QZxTJvODwrWw==" type="application/javascript" src="https://github.githubassets.com/assets/behaviors-759e09c1.js"></script>
    <script crossorigin="anonymous" defer="defer" integrity="sha512-zgPaxTMw7kTlMG+ES7ZK1v38Cq4KUbhWG9lztGaEuvHj8Rs6jeKHKUjy2K1DOu5PRBx1BpLBynhYSNdzV6ZNWw==" type="application/javascript" src="https://github.githubassets.com/assets/notifications-global-ce03dac5.js"></script>
    <script crossorigin="anonymous" defer="defer" integrity="sha512-bnTiV3ChTOIytbYke2f/akOZjF8qc2ZcMxdRvcKFhcPnrqRggcbDk++jYMo4VmZGICVtKMzH3ZBKxAtU75JocA==" type="application/javascript" data-module-id="./chunk-action-list-element.js" data-src="https://github.githubassets.com/assets/chunk-action-list-element-6e74e257.js"></script>
    <script crossorigin="anonymous" defer="defer" integrity="sha512-8lFeMPD4akYYJTK4foKlQ+lH3gdJwMFML7I5NJfsZCGouNEBtSLdHH6ZYgBZtGwfdu+ixG2RfUUZ1veqWKJYmw==" type="application/javascript" data-module-id="./chunk-advanced.js" data-src="https://github.githubassets.com/assets/chunk-advanced-f2515e30.js"></script>
    <script crossorigin="anonymous" defer="defer" integrity="sha512-iG8aKaXiAy7ONu7OJuY1pf3FGFzrs4mYYGnUD47a1kXP5URyMlP1RpAFyWTFeyirHY/UoR2mmkkBD40j/9ouPA==" type="application/javascript" data-module-id="./chunk-animate-on-scroll.js" data-src="https://github.githubassets.com/assets/chunk-animate-on-scroll-886f1a29.js"></script>
    <script crossorigin="anonymous" defer="defer" integrity="sha512-DR/O+c2yX9jstdyxwVDlaM8zRuOACj/aap9ABecyw8toE3a9rXjQgytQlFPQu74JufIDXrD3E1xAOX+ZscWG1g==" type="application/javascript" data-module-id="./chunk-area.js" data-src="https://github.githubassets.com/assets/chunk-area-0d1fcef9.js"></script>
    <script crossorigin="anonymous" defer="defer" integrity="sha512-lchWLejOHZUQUJA5VcNlSnbRzzpiJVi0Sg1NcZTkhocfF0PDO8LeAkitCPsqUWW6F2hznj3bDp2rouTLXug6/Q==" type="application/javascript" data-module-id="./chunk-array.js" data-src="https://github.githubassets.com/assets/chunk-array-95c8562d.js"></script>
    <script crossorigin="anonymous" defer="defer" integrity="sha512-+4dXpYDj5COKTdic7RPF4KJt8XQDKgtbcNHUdojLqRYPO9tK4A9RFVr61WpJWW8RF1YMGBNbj8UJtTECowOjVw==" type="application/javascript" data-module-id="./chunk-async-export.js" data-src="https://github.githubassets.com/assets/chunk-async-export-fb8757a5.js"></script>
    <script crossorigin="anonymous" defer="defer" integrity="sha512-owLCfEz1kyCuCC2dJj3PrIlbMLSAatThR4RbMUlvOdTBRzOf7bjbnY+5VhhGyLMO+M9LxaITgDkHkZjQ+Vzvng==" type="application/javascript" data-module-id="./chunk-axis.js" data-src="https://github.githubassets.com/assets/chunk-axis-a302c27c.js"></script>
    <script crossorigin="anonymous" defer="defer" integrity="sha512-m/O2Z0gPqnm57wbjLsBOvQh6Q2Pe9ZPuJB//JVxnLopUDBm+2oIbe85Dtn7Gxa3vxLD0dnPsyzLnZ1p2rnMsMQ==" type="application/javascript" data-module-id="./chunk-band.js" data-src="https://github.githubassets.com/assets/chunk-band-9bf3b667.js"></script>
    <script crossorigin="anonymous" defer="defer" integrity="sha512-gWfDtMWphOOt/CiGrh8wFuv57zkjrg6mgx63AKZgFaEV4oHCo/5YDHL9b+zNBc0NMZ2T9ZNmulxaDUEVU2nHcg==" type="application/javascript" data-module-id="./chunk-bar-chart.js" data-src="https://github.githubassets.com/assets/chunk-bar-chart-8167c3b4.js"></script>
    <script crossorigin="anonymous" defer="defer" integrity="sha512-1sfVVMUvgk/el5qm4XY7G3N6Ayu9Rob6D3L4SLwpQ7YRagyYcPbOwz0I6pekJeYdm4qCWJ7r5Gjxv7aMFahFyg==" type="application/javascript" data-module-id="./chunk-branch-from-issue-button.js" data-src="https://github.githubassets.com/assets/chunk-branch-from-issue-button-d6c7d554.js"></script>
    <script crossorigin="anonymous" defer="defer" integrity="sha512-2DswZJYUueQOVXagNXG1LhxHJAa4+fje4D26xBAiZAKJNTIE3kn8GUOLftJe/45JqcrWtNuzy4xBtQQ5tuDAwA==" type="application/javascript" data-module-id="./chunk-business-audit-log-map-element.js" data-src="https://github.githubassets.com/assets/chunk-business-audit-log-map-element-d83b3064.js"></script>
    <script crossorigin="anonymous" defer="defer" integrity="sha512-DgmQIrAXE5JSlh9eas9d1iU1JsetO4XpxIsddSr7uiySj/P9MuOfxZWZK1AIydDf96zqir1MRcoWFMRBTDVemA==" type="application/javascript" data-module-id="./chunk-code-frequency-graph-element.js" data-src="https://github.githubassets.com/assets/chunk-code-frequency-graph-element-0e099022.js"></script>
    <script crossorigin="anonymous" defer="defer" integrity="sha512-cxSDHgd8tLA0WhqTMj4rKWUOq9Ml8lms1Fe+VXbWdG1dA6xh9fVqmoksU4pEwKUsnPo6t8pkyoT5e0JteiWqdg==" type="application/javascript" data-module-id="./chunk-codemirror.js" data-src="https://github.githubassets.com/assets/chunk-codemirror-7314831e.js"></script>
    <script crossorigin="anonymous" defer="defer" integrity="sha512-J8jHMgG3jS4CpHyg8r7/4fkGdTqIN02DLHqUXcqIAmRWCEgjN1dBjBocAjsdSxTK9aSuLAcdk+BxOsvXA/XbyA==" type="application/javascript" data-module-id="./chunk-codespaces-policy-form-element.js" data-src="https://github.githubassets.com/assets/chunk-codespaces-policy-form-element-27c8c732.js"></script>
    <script crossorigin="anonymous" defer="defer" integrity="sha512-xhSAO0KtnFAlRqAK+mg8BPj/J334ccvnCmmjmBQBCgZcsoO9teHJSS6oAn3XOWYFsWPU2JehwG7S3OVEbLwdUg==" type="application/javascript" data-module-id="./chunk-color-modes.js" data-src="https://github.githubassets.com/assets/chunk-color-modes-c614803b.js"></script>
    <script crossorigin="anonymous" defer="defer" integrity="sha512-DU/gX+vaNxtZCaTfzdidngvtGTiFjE6py7ZXNbja50uw7Vmj1FM0DS8Wb8+b23ab9tNoha5GuMVuWDjG+HQrnA==" type="application/javascript" data-module-id="./chunk-column-chart.js" data-src="https://github.githubassets.com/assets/chunk-column-chart-0d4fe05f.js"></script>
    <script crossorigin="anonymous" defer="defer" integrity="sha512-TVupS8O5kgzKw2jxCv5+eyJqjJvUwS/4d7KV/LlN1A79VUgnVB9m76ZozEhWQqNNxJ3x6ozLA/I643I1XkCrVw==" type="application/javascript" data-module-id="./chunk-command-palette-item-element.js" data-src="https://github.githubassets.com/assets/chunk-command-palette-item-element-4d5ba94b.js"></script>
    <script crossorigin="anonymous" defer="defer" integrity="sha512-ZH0ltCkNIWq+MQ+ZUp72mxC5MQqYoRqzO2Pz9dj2vnSEtQM9wFeXVotYdX2mCug1xm3Dgm1c00WxlaHQFkb/FA==" type="application/javascript" data-module-id="./chunk-command-palette-page-element.js" data-src="https://github.githubassets.com/assets/chunk-command-palette-page-element-647d25b4.js"></script>
    <script crossorigin="anonymous" defer="defer" integrity="sha512-v9LXKvRELqsowcou8tLTR6l5xTTGdvCuGAJkJwxGvev1tPItmj5dvqgev9P+49KwCo3AU1VRYJsQbTVaMtDpag==" type="application/javascript" data-module-id="./chunk-command-palette-page-stack-element.js" data-src="https://github.githubassets.com/assets/chunk-command-palette-page-stack-element-bfd2d72a.js"></script>
    <script crossorigin="anonymous" defer="defer" integrity="sha512-GrBn+cnylXTLjUvs69RfQoApxaz0bJVMz3JtTo6Kz4+C6xkG1+OH7By9i0zX+AJqHaoU+O0JlY4Twg1DIy1JKg==" type="application/javascript" data-module-id="./chunk-commit-activity-graph-element.js" data-src="https://github.githubassets.com/assets/chunk-commit-activity-graph-element-1ab067f9.js"></script>
    <script crossorigin="anonymous" defer="defer" integrity="sha512-YYr97TRMtl3ieuDldrk0vQsFhMDFXMWm8f8XrqZp5T9qefSLtKjy49EaX8W8U4EZMvyL/6g9ZfGHb4ggh0T5ww==" type="application/javascript" data-module-id="./chunk-community-contributions.js" data-src="https://github.githubassets.com/assets/chunk-community-contributions-618afded.js"></script>
    <script crossorigin="anonymous" defer="defer" integrity="sha512-HDsLJf6gAN+WDFaJneJwmIY82XkZKWqeX7tStBLRh1XM53K8vMV6JZvjq/UQXszaNVWxWcuYtgYTG6ZWo8+QSw==" type="application/javascript" data-module-id="./chunk-confetti.js" data-src="https://github.githubassets.com/assets/chunk-confetti-1c3b0b25.js"></script>
    <script crossorigin="anonymous" defer="defer" integrity="sha512-lVgRr0+tI0xOSqg0KRwUIXgHFNZVPIVkjok+tLfkuUNDcoM8CKRuoqbMlw2H7QQ3dfMN36XJbTy3ugG/qo8Czg==" type="application/javascript" data-module-id="./chunk-contributions-spider-graph.js" data-src="https://github.githubassets.com/assets/chunk-contributions-spider-graph-955811af.js"></script>
    <script crossorigin="anonymous" defer="defer" integrity="sha512-9gu8ZyfPYZsZwzpKBUtdh+PBKO9DxvVCQ1gQll/dYv8JvzgPrwO+g0lSCDgfCOGF6hXyuHqnlc3ZX9v6MG9yUA==" type="application/javascript" data-module-id="./chunk-contributors-graph-element.js" data-src="https://github.githubassets.com/assets/chunk-contributors-graph-element-f60bbc67.js"></script>
    <script crossorigin="anonymous" defer="defer" integrity="sha512-AdShwMIaVrtYr+LC9cc7rsC64wQJgoCdDjLJXaD4kVhdmuld7dk748AQueuoomE4OZypdoHSPmxQ56Wge/qtig==" type="application/javascript" data-module-id="./chunk-cookies.js" data-src="https://github.githubassets.com/assets/chunk-cookies-01d4a1c0.js"></script>
    <script crossorigin="anonymous" defer="defer" integrity="sha512-jitxouuFY6SUcDZV5W3jhadVEIfFBfCQZxfPV3kxNnsWEBzbxMJFp0ccLb7+OlBjSs1zU/MNtuOV6T9Ay7lx4w==" type="application/javascript" data-module-id="./chunk-copy.js" data-src="https://github.githubassets.com/assets/chunk-copy-8e2b71a2.js"></script>
    <script crossorigin="anonymous" defer="defer" integrity="sha512-miaiZ1xkDsWBUsURHOmeYtbgVKQGnm1octCo/lDXUmPzDyjtubnHULRVw1AK+sttwdwyB0+LOyhIVAWCNSGx+A==" type="application/javascript" data-module-id="./chunk-delayed-loading-element.js" data-src="https://github.githubassets.com/assets/chunk-delayed-loading-element-9a26a267.js"></script>
    <script crossorigin="anonymous" defer="defer" integrity="sha512-g9egUfzV36Fhfld8PbxfEm/V9ePFqvd9i5DIKra4wJ61M/AnpOOadhUD2CZ//ww84eRnAMJRQRHOYZ2wZRo2IQ==" type="application/javascript" data-module-id="./chunk-dependencies.js" data-src="https://github.githubassets.com/assets/chunk-dependencies-83d7a051.js"></script>
    <script crossorigin="anonymous" defer="defer" integrity="sha512-8u29vu1TKSlpuZfkNQzmCSRt0O3XTpvaU2byEbU90fRd8i4JbjkewpqwgBubn29K6Ij3l5hycxwGxCj7VIjqCA==" type="application/javascript" data-module-id="./chunk-discussion-page-views.js" data-src="https://github.githubassets.com/assets/chunk-discussion-page-views-f2edbdbe.js"></script>
    <script crossorigin="anonymous" defer="defer" integrity="sha512-qgNB6+z0ZqOrdGON6UHCmmoF1vW/1bXioBNYj/g9sTCuX36dztm2RpowMJzgJ0mhAnUE7WEmac7SEHEOte9XKg==" type="application/javascript" data-module-id="./chunk-discussions-daily-contributors.js" data-src="https://github.githubassets.com/assets/chunk-discussions-daily-contributors-aa0341eb.js"></script>
    <script crossorigin="anonymous" defer="defer" integrity="sha512-ZDytR5cSSYVgaYrEnB1AMWpclv6smgXab7a2LyHo+focfg9o5Q0dua1EKOE3JDFLMQvFBjUfNHDlCrwDtnplYw==" type="application/javascript" data-module-id="./chunk-discussions-new-contributors.js" data-src="https://github.githubassets.com/assets/chunk-discussions-new-contributors-643cad47.js"></script>
    <script crossorigin="anonymous" defer="defer" integrity="sha512-T092OZtYeslxDIimT2TR4IWlO+6B9q6zenOAqRekKME3TgdR1nKinRgV0PTYZ3Y3IITjimtvjqQpN5kW11o0bw==" type="application/javascript" data-module-id="./chunk-drag-drop.js" data-src="https://github.githubassets.com/assets/chunk-drag-drop-4f4f7639.js"></script>
    <script crossorigin="anonymous" defer="defer" integrity="sha512-EvJ2Fip59DXgARNuwTWgjdVqoCjhXQL73SP9yexijlWStKq92sfbKeGK5R4wIP0QOr39WsnW/Kaw3Wpl1QPfog==" type="application/javascript" data-module-id="./chunk-edit-hook-secret-element.js" data-src="https://github.githubassets.com/assets/chunk-edit-hook-secret-element-12f27616.js"></script>
    <script crossorigin="anonymous" defer="defer" integrity="sha512-lJhSlHBxDYfafMGsvjfmbReBxHE64RGTSucXtcG3vTpWvu2vlw/heQjiHB+JwYpnWvcXh0Tn9oLlo90LEpUfIA==" type="application/javascript" data-module-id="./chunk-edit.js" data-src="https://github.githubassets.com/assets/chunk-edit-94985294.js"></script>
    <script crossorigin="anonymous" defer="defer" integrity="sha512-6tEhsGQ/83I2ttMZD5WpT0LS99zL4PWHRQeY1Z+s3o0WkzmBFBzzc+gEMOMlqPg5j1m6Hf5sqV24lio1HnONtQ==" type="application/javascript" data-module-id="./chunk-emoji-picker-element.js" data-src="https://github.githubassets.com/assets/chunk-emoji-picker-element-ead121b0.js"></script>
    <script crossorigin="anonymous" defer="defer" integrity="sha512-euLLeTFpj2DeM/lF0qLZedbrh2iLKL86jMNj8ydBs0Dr24s0ZxmdYnenUo2UIVD8r3t2DgXaahNQmstHlXpmtA==" type="application/javascript" data-module-id="./chunk-extent.js" data-src="https://github.githubassets.com/assets/chunk-extent-7ae2cb79.js"></script>
    <script crossorigin="anonymous" defer="defer" integrity="sha512-T17bZUjec73eZfMBBeEDXqXNEcxdLPzg7Dyb8gsk9onBlZo7CGFKUJoCx3jN3j3vU8D7Yio8HRoQevBeV7H+fQ==" type="application/javascript" data-module-id="./chunk-failbot.js" data-src="https://github.githubassets.com/assets/chunk-failbot-4f5edb65.js"></script>
    <script crossorigin="anonymous" defer="defer" integrity="sha512-sZbLUSqYvu2x/vJWKw5IfN1p9Gmk8aeCAnH0CgQDCG2A+cY3K9UrBE8dl/1/US6ivVhBAxupTaUUH0eJ7XRo/Q==" type="application/javascript" data-module-id="./chunk-feature-callout-element.js" data-src="https://github.githubassets.com/assets/chunk-feature-callout-element-b196cb51.js"></script>
    <script crossorigin="anonymous" defer="defer" integrity="sha512-5r/m4Q9I8PFeDYmfZIE5Nmi+ua6kmrqzCpKXwr/9uKdNZe3Vcywf3vzVHxc8ggzU8ujHJqGIMTZXF/E2N+tFtg==" type="application/javascript" data-module-id="./chunk-file-filter-element.js" data-src="https://github.githubassets.com/assets/chunk-file-filter-element-e6bfe6e1.js"></script>
    <script crossorigin="anonymous" defer="defer" integrity="sha512-L96VWoPFQ2rcStzFXdzmgexD5TB56eHz/MbCvprelVTX3ZNK4c8SDHc+UTdyoETQdpHCQ1bUaG1mOS8fX8tS3g==" type="application/javascript" data-module-id="./chunk-file-filter-persistence.js" data-src="https://github.githubassets.com/assets/chunk-file-filter-persistence-2fde955a.js"></script>
    <script crossorigin="anonymous" defer="defer" integrity="sha512-LLVdJQif1BgRzuQFbWBiPXy28bE1BCIJqarOtKa57WMmn31/Saf/xcfVHkP4uc5bKw9iwyzMrD5pE6WJEX2KGQ==" type="application/javascript" data-module-id="./chunk-file-tree-toggle-element.js" data-src="https://github.githubassets.com/assets/chunk-file-tree-toggle-element-2cb55d25.js"></script>
    <script crossorigin="anonymous" defer="defer" integrity="sha512-m550igp/MI25d8uV92BSkHD3ADNUxD7F/vv6GdUwlBc1ko2wXgw819mcbtVpTFb10Y/rx8jqS4Fq5K5xRfcAcQ==" type="application/javascript" data-module-id="./chunk-filter-input.js" data-src="https://github.githubassets.com/assets/chunk-filter-input-9b9e748a.js"></script>
    <script crossorigin="anonymous" defer="defer" integrity="sha512-PnU+sfTXdyJ04N6yBgLo5Z2SjobVkjg3KeIMPPFahdKGVHIjIB5qXL0Lyc251ZrlqGoiZy6pFaPeK5zn4MGjKg==" type="application/javascript" data-module-id="./chunk-format-symbol.js" data-src="https://github.githubassets.com/assets/chunk-format-symbol-3e753eb1.js"></script>
    <script crossorigin="anonymous" defer="defer" integrity="sha512-I5GWAgLNL1Ik55RAlli3NkR3h7jovmTh1NBBIZfPn47Y4ALgUdIV/bVqkysygt0Rpv/Zo/ISZQJJaFk9daQAjQ==" type="application/javascript" data-module-id="./chunk-get-repo-element.js" data-src="https://github.githubassets.com/assets/chunk-get-repo-element-23919602.js"></script>
    <script crossorigin="anonymous" defer="defer" integrity="sha512-1YyRxy7P1eKjAsJP+/J5r58i7pUkqQV1iLcEi8BM8mXtvgkCx5oGBTsTCXY7kNxZwdM89wuW0bUqEmT/K2pAmA==" type="application/javascript" data-module-id="./chunk-index.esm.js" data-src="https://github.githubassets.com/assets/chunk-index.esm-d58c91c7.js"></script>
    <script crossorigin="anonymous" defer="defer" integrity="sha512-l1nMNuiARJ5TD7tYJoxL9CWJpuRIQizQB5Yow6uYdQLjHF+jhlhjIRCOkjlwu2cPdw5IZjD4cR21hGYyX4fQ2w==" type="application/javascript" data-module-id="./chunk-index.js" data-src="https://github.githubassets.com/assets/chunk-index-9759cc36.js"></script>
    <script crossorigin="anonymous" defer="defer" integrity="sha512-qOUpd16ML/w+JHQ+AgsVZx091bwb/LDsyH4VCFRjcgYSyvOX3C9sKGbPD71wRrLGXuAVmZMhW/rHxciExPYJhg==" type="application/javascript" data-module-id="./chunk-index2.js" data-src="https://github.githubassets.com/assets/chunk-index2-a8e52977.js"></script>
    <script crossorigin="anonymous" defer="defer" integrity="sha512-QNDWaHxe34aiO2cy7YLEP+JwDSLTn2f6XbiLs57XjWDv+fCEsKSju2pBNnbQ0gW1BNvmnKTdFm3a0Bfks7G8cg==" type="application/javascript" data-module-id="./chunk-index3.js" data-src="https://github.githubassets.com/assets/chunk-index3-40d0d668.js"></script>
    <script crossorigin="anonymous" defer="defer" integrity="sha512-/lTFJkfTffOvpQ3Fs6eq02kNzMlBwxwonQU6if7W0VbA7+7Kq2zWUUlX8iVH0/oA8DcVVps3tP5lFqBr/6oj6g==" type="application/javascript" data-module-id="./chunk-index4.js" data-src="https://github.githubassets.com/assets/chunk-index4-fe54c526.js"></script>
    <script crossorigin="anonymous" defer="defer" integrity="sha512-Ntnd0/5ZBGVRYTRI3XtP6vjjlgg5MyYB+mTrkAR16+nHItQyS+EVU5IeydLg7OtU30Xk85euBkFABjLw4BmU1g==" type="application/javascript" data-module-id="./chunk-index5.js" data-src="https://github.githubassets.com/assets/chunk-index5-36d9ddd3.js"></script>
    <script crossorigin="anonymous" defer="defer" integrity="sha512-MS1Zii7vEXvNGfCzfot3Ay7Rb4jDjjTve/4lJs0ZVeznfQClBiTPhjvURBIH+eaoHprIg+ajqeamiG2/TNkKFQ==" type="application/javascript" data-module-id="./chunk-index6.js" data-src="https://github.githubassets.com/assets/chunk-index6-312d598a.js"></script>
    <script crossorigin="anonymous" defer="defer" integrity="sha512-PzguLzCZSX4+hasAu7u8YDVWgFv/0OVZooA+vfjBMr3TYfRwT+DCbLq3B08j4ntyYKddfGSKJjfh4r4bVz3YyQ==" type="application/javascript" data-module-id="./chunk-index7.js" data-src="https://github.githubassets.com/assets/chunk-index7-3f382e2f.js"></script>
    <script crossorigin="anonymous" defer="defer" integrity="sha512-Q8q7N7XzNXhgaWGGb+GJg1j747S64eBnN4i9fBnc2ZC+iaTX4RNv7nP9QyHXBqKHusT2KuXfOGc2hO6STYS38A==" type="application/javascript" data-module-id="./chunk-input-demux.js" data-src="https://github.githubassets.com/assets/chunk-input-demux-43cabb37.js"></script>
    <script crossorigin="anonymous" defer="defer" integrity="sha512-dddeZczvqviKSqIhBDijJrIp/yGq+GT/W42NxmADl4zrOLbHFgXFk3muRvIKSaQQObgbxsvyjm4VVvLk5i8Lrg==" type="application/javascript" data-module-id="./chunk-insights-query.js" data-src="https://github.githubassets.com/assets/chunk-insights-query-75d75e65.js"></script>
    <script crossorigin="anonymous" defer="defer" integrity="sha512-nA2LU3ewCaAPrIMp5S3TcXf7q8305wiP9JrM3z5RK2AFI2CjU5RGiprgFwXnEMRPJCbENY7f/Bn7uKsvrAprTA==" type="application/javascript" data-module-id="./chunk-invitations.js" data-src="https://github.githubassets.com/assets/chunk-invitations-9c0d8b53.js"></script>
    <script crossorigin="anonymous" defer="defer" integrity="sha512-RtEmxUMDR4w3U2O3jbq7d/Nr2lLFPdHmrXfMej18zy5L+3z8SHZfoyf/5JnhdGrsRt8OsKTSnubEMgQwrtyRyw==" type="application/javascript" data-module-id="./chunk-jump-to.js" data-src="https://github.githubassets.com/assets/chunk-jump-to-46d126c5.js"></script>
    <script crossorigin="anonymous" defer="defer" integrity="sha512-8Zr3D4tATIN9RgbnUQPSG6ynrNzIHEQBEC2X9FWxfXk4tbP4gp+ey/Qin4S/7Ey38XRxRg16Ut2fhSHkH1zA1g==" type="application/javascript" data-module-id="./chunk-launch-code-element.js" data-src="https://github.githubassets.com/assets/chunk-launch-code-element-f19af70f.js"></script>
    <script crossorigin="anonymous" defer="defer" integrity="sha512-oGxRIKq1ISKnDimDEz8aurMpU+HwwZXggdsT+2csw3k+m3gUQYARsA8gMpwQ1hu52Pge7Q7riel+bGiBgwsolA==" type="application/javascript" data-module-id="./chunk-line-chart.js" data-src="https://github.githubassets.com/assets/chunk-line-chart-a06c5120.js"></script>
    <script crossorigin="anonymous" defer="defer" integrity="sha512-GHMEiXdvG00Lv7Tnj+S7/TnqlcyVi41j6xapftzfnYoGWz5iYCMK5XCoDFmCmSgliaA0pmVHO356D2u3zJCicw==" type="application/javascript" data-module-id="./chunk-line.js" data-src="https://github.githubassets.com/assets/chunk-line-18730489.js"></script>
    <script crossorigin="anonymous" defer="defer" integrity="sha512-SErVGzFh5d4RY684E3TP0k4oymFEXft5zG2STX8WWBVsYLU1CzKWKooMuhIGsL77HG7pyviD12Dy3zs0GN41bg==" type="application/javascript" data-module-id="./chunk-linear.js" data-src="https://github.githubassets.com/assets/chunk-linear-484ad51b.js"></script>
    <script crossorigin="anonymous" defer="defer" integrity="sha512-YUCb5GVAF8qPEnN/WtyP9j81k8qOlMzl35cLqVFLixJgBMqQ+ZT+ELoBUx2OTqs5IrYwqq9c+gk4O0qRN3h0EQ==" type="application/javascript" data-module-id="./chunk-locale.js" data-src="https://github.githubassets.com/assets/chunk-locale-61409be4.js"></script>
    <script crossorigin="anonymous" defer="defer" integrity="sha512-z5CnRrYFTqXt/cLpxeZbeOJFhX9E0mmje1Cf2cNNuGf8Wiu8zKxbOgH5o1gb2FL7PpCBcq4NWx+OR0J7h0eTjw==" type="application/javascript" data-module-id="./chunk-map.js" data-src="https://github.githubassets.com/assets/chunk-map-cf90a746.js"></script>
    <script crossorigin="anonymous" defer="defer" integrity="sha512-psclevo2JkvQQYpfIycMF50SMxTSIvANXjGbeQZJT3buWiMp2vrynfBvbenhUs3pkFSvevG15+LYPI8oO0ykCg==" type="application/javascript" data-module-id="./chunk-marketplace-insights-graph-element.js" data-src="https://github.githubassets.com/assets/chunk-marketplace-insights-graph-element-a6c7257a.js"></script>
    <script crossorigin="anonymous" defer="defer" integrity="sha512-yqPbR6d+F7NlUFCsD0uGtS7WBDFsoUillKz0RQkaXl+JsTFSrX4w20MheU74gJprRvtB2JccLI6u5XmEazejEA==" type="application/javascript" data-module-id="./chunk-memex-project-picker-element.js" data-src="https://github.githubassets.com/assets/chunk-memex-project-picker-element-caa3db47.js"></script>
    <script crossorigin="anonymous" defer="defer" integrity="sha512-cvjyIYhR2ZkuFAXHYZSjPTc5wXYOdISgqbXw69CXpDXdxffXmXuzjCcGJNVk3mDNYsVH4Q9sb2UMNPFrNxxRUQ==" type="application/javascript" data-module-id="./chunk-metric-selection-element.js" data-src="https://github.githubassets.com/assets/chunk-metric-selection-element-72f8f221.js"></script>
    <script crossorigin="anonymous" defer="defer" integrity="sha512-wpN+s55e0JkuffVR++S87PjAhQog0M/U4+l4pD/Ps8w9yNma6Pdmeij+RTxCSdDzqjgC9knsjPpZ5+ohkRd4ww==" type="application/javascript" data-module-id="./chunk-min.js" data-src="https://github.githubassets.com/assets/chunk-min-c2937eb3.js"></script>
    <script crossorigin="anonymous" defer="defer" integrity="sha512-aYNntJOZeBzyhsX35l/XAH5STic/eL+BLWcOEitDxJJdLPzhFCMC/uuVZkTr0uEk84PgB6OLeGNVhF1xh28v2w==" type="application/javascript" data-module-id="./chunk-navigation-list-element.js" data-src="https://github.githubassets.com/assets/chunk-navigation-list-element-698367b4.js"></script>
    <script crossorigin="anonymous" defer="defer" integrity="sha512-MYHfk4RC1G7um5oS3Cg8p/6FekxAiWQQvmCR526sy3/Yxbe6WEgDm5D64atvKXEqPps/0VgTxmSUH4XICbv5sw==" type="application/javascript" data-module-id="./chunk-nodrag.js" data-src="https://github.githubassets.com/assets/chunk-nodrag-3181df93.js"></script>
    <script crossorigin="anonymous" defer="defer" integrity="sha512-x51kWxNaKiuBWTPZ+IX923ONOyqpFonKFirLe2zxxsIH6akLMo5eQR+aJu5XzrXE0tcaHMjk1Ko5mpJ8Kkp9Gg==" type="application/javascript" data-module-id="./chunk-notification-list-focus.js" data-src="https://github.githubassets.com/assets/chunk-notification-list-focus-c79d645b.js"></script>
    <script crossorigin="anonymous" defer="defer" integrity="sha512-LEiCkBkho0eFanHhNa5fvQam7/1sF+wuAfkTne2wE0g6TqJIGuBo7QFaIi58qtulB90jNsOfDiJf3oHcgNN7oQ==" type="application/javascript" data-module-id="./chunk-org-insights-graph-element.js" data-src="https://github.githubassets.com/assets/chunk-org-insights-graph-element-2c488290.js"></script>
    <script crossorigin="anonymous" defer="defer" integrity="sha512-UpfXcE8D72JtkgF68l5LopywUMIDLi+ov+G9Kyaiz+zZUQxAXzu3jkIOJ5D0IaK7A54EOHWGpFSsMWnZQ+GsEQ==" type="application/javascript" data-module-id="./chunk-overview.js" data-src="https://github.githubassets.com/assets/chunk-overview-5297d770.js"></script>
    <script crossorigin="anonymous" defer="defer" integrity="sha512-bWWcwW2YpUGmpZMC3VuENzPa6Sz1mWV2bZmbAfRfADc40AmsAfh7gS9uqCqDt5JvavF/6kdfz9FlippBnJPhwA==" type="application/javascript" data-module-id="./chunk-package-dependencies-security-graph-element.js" data-src="https://github.githubassets.com/assets/chunk-package-dependencies-security-graph-element-6d659cc1.js"></script>
    <script crossorigin="anonymous" defer="defer" integrity="sha512-rm1qIXRm4iMgRzHKiWNxs89dEXeQEvDZZ7qiYVFDhwbPBgNGl2Thwc/fSe8jjtq9eErkecWSDrFycssBZgoxyw==" type="application/javascript" data-module-id="./chunk-pointer.js" data-src="https://github.githubassets.com/assets/chunk-pointer-ae6d6a21.js"></script>
    <script crossorigin="anonymous" defer="defer" integrity="sha512-qEMigPltoBeFtlfHd0r2kjylnlwHjhf9+QfoggBvDF5uYSMtRBn1YvtRU7nwpoWRwtH/PQ/eFTNkSNKjQ1mauQ==" type="application/javascript" data-module-id="./chunk-premium-runners.js" data-src="https://github.githubassets.com/assets/chunk-premium-runners-a8432280.js"></script>
    <script crossorigin="anonymous" defer="defer" integrity="sha512-/8auaF+5yMUx3cyThXDlxZvJnUrdod/9442KNwVr0oKSqTsigIzjYIo8KGR6fZOI81Rxf3gedK++OVkIoZb/4g==" type="application/javascript" data-module-id="./chunk-premium-sponsors-graph-element.js" data-src="https://github.githubassets.com/assets/chunk-premium-sponsors-graph-element-ffc6ae68.js"></script>
    <script crossorigin="anonymous" defer="defer" integrity="sha512-O50nGRHbdUydlJWz0pTytVZ1YgVAMCSmJaBBZtgkV/RO9zrWelhFp2/ip/I9i6DDZkA0h8lIGv86lKJ9Gjx7tA==" type="application/javascript" data-module-id="./chunk-presence-avatars.js" data-src="https://github.githubassets.com/assets/chunk-presence-avatars-3b9d2719.js"></script>
    <script crossorigin="anonymous" defer="defer" integrity="sha512-5H5N/3G/20nmVKntphXb9z0H9q3URFDmHSccLhFkMSA8ILAA9mYlRKCWAWoDcl/W437jtGw1tIxjWStfInvidw==" type="application/javascript" data-module-id="./chunk-profile-pins-element.js" data-src="https://github.githubassets.com/assets/chunk-profile-pins-element-e47e4dff.js"></script>
    <script crossorigin="anonymous" defer="defer" integrity="sha512-vFR+IqThljOLrAWmjhOL/kiQrjgZZg95uPovX0J7kRH5p7Y049LDRZaXLMDijfeqqk71d3MMn9XP5bUcH+lB9w==" type="application/javascript" data-module-id="./chunk-profile.js" data-src="https://github.githubassets.com/assets/chunk-profile-bc547e22.js"></script>
    <script crossorigin="anonymous" defer="defer" integrity="sha512-wuV9s7/hK5IRrrhWO1zcnPdPsPQRyKsv/nS0Ks9UepMyu3nLLZoX13F1jmuMOXI0khbFEHW5QR9cIr48izoLNA==" type="application/javascript" data-module-id="./chunk-project-picker-element.js" data-src="https://github.githubassets.com/assets/chunk-project-picker-element-c2e57db3.js"></script>
    <script crossorigin="anonymous" defer="defer" integrity="sha512-X16W/aOGgPdN2OQKWf2PCyPS5+0xcZzq8IwKTyR6/KJ3uBH+ocdysSWQAYcsH4bXCxX9IiFlQ4OZzA8pNFMW+A==" type="application/javascript" data-module-id="./chunk-pulse-authors-graph-element.js" data-src="https://github.githubassets.com/assets/chunk-pulse-authors-graph-element-5f5e96fd.js"></script>
    <script crossorigin="anonymous" defer="defer" integrity="sha512-MU7VY0mux9rnjbuPVXGG86/+7UndHVzcSyt3JvD+cxDXvvPzpQA8k/XrZHykVBw+5qUSjjjAnQ5WD/T/q5EJng==" type="application/javascript" data-module-id="./chunk-range.js" data-src="https://github.githubassets.com/assets/chunk-range-314ed563.js"></script>
    <script crossorigin="anonymous" defer="defer" integrity="sha512-Bh1moR9u6bImA7YXzPGgbr3gy+nTz3ivJ0B2MuFIZiJFB6nn1ZOgcC/6fMQsEengNcejFIk5oZtssFxUKmARqQ==" type="application/javascript" data-module-id="./chunk-readme-toc-element.js" data-src="https://github.githubassets.com/assets/chunk-readme-toc-element-061d66a1.js"></script>
    <script crossorigin="anonymous" defer="defer" integrity="sha512-4aLsPyiz8vqmHsO/bT8AF1ucYnON4JsLOfK5rD85xxOWbSpjet1Ljn4lIy+c/Un7AawwEPW7MBiG+5u+JDD2aA==" type="application/javascript" data-module-id="./chunk-ref-selector.js" data-src="https://github.githubassets.com/assets/chunk-ref-selector-e1a2ec3f.js"></script>
    <script crossorigin="anonymous" defer="defer" integrity="sha512-I7esFvr3IOWFqcBNIUL70K+MM95nG6ayY/xxmdswMXcFWRC9f43LKsYvRZy/xx35Tjs8Lc3fDpYgrcM87ysqQg==" type="application/javascript" data-module-id="./chunk-reload-after-polling-element.js" data-src="https://github.githubassets.com/assets/chunk-reload-after-polling-element-23b7ac16.js"></script>
    <script crossorigin="anonymous" defer="defer" integrity="sha512-nnvba9IIPWsz6U74ofQCzasxfXW5NdvSMPuymD30r+oQek0Bb0aNuxLTSG/pV9aCVmq/liyAXysHJ7logFlU4A==" type="application/javascript" data-module-id="./chunk-remote-clipboard-copy.js" data-src="https://github.githubassets.com/assets/chunk-remote-clipboard-copy-9e7bdb6b.js"></script>
    <script crossorigin="anonymous" defer="defer" integrity="sha512-8ME7nLIXe5Oqqah8+VbsNkORdavh5B6Pddl9RvJGniLt1e85L3nu2N5yWhMaucy+pyqg3jUR0pJ7RI8nlNYDtA==" type="application/javascript" data-module-id="./chunk-remote-content-element.js" data-src="https://github.githubassets.com/assets/chunk-remote-content-element-f0c13b9c.js"></script>
    <script crossorigin="anonymous" defer="defer" integrity="sha512-rN1V5Cj+cRjLIgSHs3NEFKx5VrLgAkYn+Y/za1Vc6TwFzRUov0/2NqohzCsb3C/Ff55bP8WPzZZwF7c4uQhHWQ==" type="application/javascript" data-module-id="./chunk-responsive-underlinenav.js" data-src="https://github.githubassets.com/assets/chunk-responsive-underlinenav-acdd55e4.js"></script>
    <script crossorigin="anonymous" defer="defer" integrity="sha512-OtjCc7UezN3MvWiHOS/5lYkrBdHOAhcFrGD6/zMgTAugw5BSOaRrrux3wJxv9OlHHgxI32nOkesATHdRyucitA==" type="application/javascript" data-module-id="./chunk-runner-groups.js" data-src="https://github.githubassets.com/assets/chunk-runner-groups-3ad8c273.js"></script>
    <script crossorigin="anonymous" defer="defer" integrity="sha512-YT1sZoBexRNsvw2mnXAtdf87/5j3cL8ji/WS6h9F0mMh0wyUEx3EElel6roRMoI2Zq+bn5d1i8TSCeZJ84a6Rw==" type="application/javascript" data-module-id="./chunk-series-table.js" data-src="https://github.githubassets.com/assets/chunk-series-table-613d6c66.js"></script>
    <script crossorigin="anonymous" defer="defer" integrity="sha512-0ho0SIKf1TsQpvFNdpkKw57DmpU8LampLRvO67Q0G+6744f/qI8uTtL96F5tOPT56dG40cwoKB8v6kYqyGipvw==" type="application/javascript" data-module-id="./chunk-severity-calculator-element.js" data-src="https://github.githubassets.com/assets/chunk-severity-calculator-element-d21a3448.js"></script>
    <script crossorigin="anonymous" defer="defer" integrity="sha512-SGxKZJPMoMDPJ4mVhReJ1NPmXxuTuePhizAUPkKphsivzZhVQstruqwewm3oUpP1yONOG8MITAodv/5iKRsEtw==" type="application/javascript" data-module-id="./chunk-sortable-behavior.js" data-src="https://github.githubassets.com/assets/chunk-sortable-behavior-486c4a64.js"></script>
    <script crossorigin="anonymous" defer="defer" integrity="sha512-roc/0cfaua9wDuXAOgLBYymh7ketXEgdvrXH5cKsDrwrHA8RdLZyyKvncKkwMTtAXvFBYnhOfxrRYJuu5kCyCQ==" type="application/javascript" data-module-id="./chunk-spoofed-commit-warning.js" data-src="https://github.githubassets.com/assets/chunk-spoofed-commit-warning-ae873fd1.js"></script>
    <script crossorigin="anonymous" defer="defer" integrity="sha512-0IuM3UBOSLA8x1273V8Pc9TelC0RQz+8GWscAmA9sOKgTCTEYonIguMFsxMj5ajD7IJAZRtp9icNpuV820+4Fg==" type="application/javascript" data-module-id="./chunk-stacked-area-chart.js" data-src="https://github.githubassets.com/assets/chunk-stacked-area-chart-d08b8cdd.js"></script>
    <script crossorigin="anonymous" defer="defer" integrity="sha512-Z5vxYqlrzgKkUgwWnpxHQ7mGgyY4QVo6rX+t+/+TEiFrVv4hH0bIN7cl/YvFJ5FVrLz/LFu7mhSnEWByM5sJXw==" type="application/javascript" data-module-id="./chunk-stacks-input-config-view.js" data-src="https://github.githubassets.com/assets/chunk-stacks-input-config-view-679bf162.js"></script>
    <script crossorigin="anonymous" defer="defer" integrity="sha512-gmw7obKL/JEHWPp6zWFh+ynbXUFOidj1DN2aPiTDwP8Gair0moVuDmA340LD84A29I3ZPak19CEiumG+oIiseg==" type="application/javascript" data-module-id="./chunk-tag-input.js" data-src="https://github.githubassets.com/assets/chunk-tag-input-826c3ba1.js"></script>
    <script crossorigin="anonymous" defer="defer" integrity="sha512-0IOfDfOHJW06z0GwRYJjp03TxPkyF3OxjI4KP+rgd565nAqN0uN7QChz1+/v2/ueP2WXmWKOA6BA7byyMw2Lfw==" type="application/javascript" data-module-id="./chunk-three.module.js" data-src="https://github.githubassets.com/assets/chunk-three.module-d0839f0d.js"></script>
    <script crossorigin="anonymous" defer="defer" integrity="sha512-wbtDXrsp1UlaVwYqy/OhzlQoCcW05Y6X4Yij81VM9EVikXjOi1IFOj94YTV7/4pn8V0fzIC2tXTbqV3H9c215Q==" type="application/javascript" data-module-id="./chunk-time.js" data-src="https://github.githubassets.com/assets/chunk-time-c1bb435e.js"></script>
    <script crossorigin="anonymous" defer="defer" integrity="sha512-wIbptf1DKOsqdNtk6eFJNttwm/Rpkl3djUJp4AFKbFOJ29W4u19sJtGhVOQEgeCycpaRZKGuluEeSlilsTvV0A==" type="application/javascript" data-module-id="./chunk-tip.js" data-src="https://github.githubassets.com/assets/chunk-tip-c086e9b5.js"></script>
    <script crossorigin="anonymous" defer="defer" integrity="sha512-4GJz2wyWwjq7P4hyx3qSkjvnTO7RG5cWvnePVXPB+Oji6MBVugAdl7kCTKbpX8+Ae2ONvGJwFzSc9A7m1pqzXw==" type="application/javascript" data-module-id="./chunk-toast.js" data-src="https://github.githubassets.com/assets/chunk-toast-e06273db.js"></script>
    <script crossorigin="anonymous" defer="defer" integrity="sha512-K1YepQJf1eO15eh2sGJRv5jKKwsz+3qbTZnE3Ez7+dU3+g4DKpJ415Zvd3qDOaJWi86q9WZAiGy6S1PpGaBTvg==" type="application/javascript" data-module-id="./chunk-traffic-clones-graph-element.js" data-src="https://github.githubassets.com/assets/chunk-traffic-clones-graph-element-2b561ea5.js"></script>
    <script crossorigin="anonymous" defer="defer" integrity="sha512-aPUxC8xv7a4ac3fmZ3+OwDJ74Z3ypNNmRwDIrNEPfM1zBowrjfjolr8Otoo7MEfPMeYK+0LRhh5UEN8W3mXbdg==" type="application/javascript" data-module-id="./chunk-traffic-visitors-graph-element.js" data-src="https://github.githubassets.com/assets/chunk-traffic-visitors-graph-element-68f5310b.js"></script>
    <script crossorigin="anonymous" defer="defer" integrity="sha512-zSAZt0KaQlTdiPwxtiJWRHdMz6uoW46PkM/zU78IyWQre/829J0AFfNUuHwXBihMmjDnlUF8k1DE3Ecqo4RtFg==" type="application/javascript" data-module-id="./chunk-traffic.js" data-src="https://github.githubassets.com/assets/chunk-traffic-cd2019b7.js"></script>
    <script crossorigin="anonymous" defer="defer" integrity="sha512-R+tG3SLlxMfqFe/QsCsVkiImlyr9aDIRGs81jLQFG/8IC/WqUcHWrS4KJdn93V23uBIhL1CStpD5WOGltedi9g==" type="application/javascript" data-module-id="./chunk-turbo.es2017-esm.js" data-src="https://github.githubassets.com/assets/chunk-turbo.es2017-esm-47eb46dd.js"></script>
    <script crossorigin="anonymous" defer="defer" integrity="sha512-x4ou3us3j9DGRirCSdyrM8EftEUvAa5ZJ0ytbiYyODaofJGTH3l8Tx09pgF9dVFf71bVMq1s2sR5HYko8RTnSQ==" type="application/javascript" data-module-id="./chunk-tweetsodium.js" data-src="https://github.githubassets.com/assets/chunk-tweetsodium-c78a2ede.js"></script>
    <script crossorigin="anonymous" defer="defer" integrity="sha512-ODZJzCJpaOfusrIka5QVZQcPiO9LBGyrrMYjhhJWSLuCN5WbZ5xiEiiOPOKVu71dqygyRdB2TY7AKPA1J5hqdg==" type="application/javascript" data-module-id="./chunk-unveil.js" data-src="https://github.githubassets.com/assets/chunk-unveil-383649cc.js"></script>
    <script crossorigin="anonymous" defer="defer" integrity="sha512-K6xGz94BuJJExThO360N6QIY8yBWAaIkOVTm0OYFGT2caoNwkwOEyjFdOUwbAn2KbaPtDmNBhn1t1wKwZArMJg==" type="application/javascript" data-module-id="./chunk-user-status-submit.js" data-src="https://github.githubassets.com/assets/chunk-user-status-submit-2bac46cf.js"></script>
    <script crossorigin="anonymous" defer="defer" integrity="sha512-6yI/t7GcFRajrquWdg5NqQdrvgI4rWRWcuZhNmAHH/T2aw2iB0uAco9nNYoETW3zzJ+tmnC7qqfArrHaYmk1oQ==" type="application/javascript" data-module-id="./chunk-voting.js" data-src="https://github.githubassets.com/assets/chunk-voting-eb223fb7.js"></script>
    <script crossorigin="anonymous" defer="defer" integrity="sha512-q34Q0/s/exmYECvsCRWCxp+22UY2cZK8MPrKv3LjI3bNU5AD3Fzv+JhN0Lgfvd2mgju3llixlQ4z2RvkTIw2oA==" type="application/javascript" data-module-id="./chunk-webgl-warp.js" data-src="https://github.githubassets.com/assets/chunk-webgl-warp-ab7e10d3.js"></script>
    <script crossorigin="anonymous" defer="defer" integrity="sha512-ADGOoPNBcycvfzJtTi5zME+pYC7yJyqwxloJ2YJXmsOoakDUuzyb6/2G/uDixqV7RqV2fZi48wHNuCRWFMrWfA==" type="application/javascript" data-module-id="./chunk-yaml-linters.js" data-src="https://github.githubassets.com/assets/chunk-yaml-linters-00318ea0.js"></script>
  
  <script crossorigin="anonymous" defer="defer" integrity="sha512-RqvOyVrWRmhbsbB8iDsLOO7o/zDlWG53W9oYq9vNnc+4qVk35OiwRYweJFdemz7EP3bn8SDJ1/bxS78Pk7JNgw==" type="application/javascript" src="https://github.githubassets.com/assets/repositories-46abcec9.js"></script>
<script crossorigin="anonymous" defer="defer" integrity="sha512-T6cSRHOVBuy/rlk729eRwGOrDqKOd7yFyp8FsBENg/vAORjNjcP+Wrq4BsUbQZkTdsyDXy4OEG1ZCCCR9aF5Hw==" type="application/javascript" src="https://github.githubassets.com/assets/diffs-4fa71244.js"></script>

  <meta name="viewport" content="width=device-width">
  
  <title>mynewbook/HW2.ipynb at main · anibaltafur/mynewbook</title>
    <meta name="description" content="mynewbook. Contribute to anibaltafur/mynewbook development by creating an account on GitHub.">
    <link rel="search" type="application/opensearchdescription+xml" href="/opensearch.xml" title="GitHub">
  <link rel="fluid-icon" href="https://github.com/fluidicon.png" title="GitHub">
  <meta property="fb:app_id" content="1401488693436528">
  <meta name="apple-itunes-app" content="app-id=1477376905" />
    <meta name="twitter:image:src" content="https://avatars.githubusercontent.com/u/54555240?s=400&amp;v=4" /><meta name="twitter:site" content="@github" /><meta name="twitter:card" content="summary" /><meta name="twitter:title" content="mynewbook/HW2.ipynb at main · anibaltafur/mynewbook" /><meta name="twitter:description" content="mynewbook. Contribute to anibaltafur/mynewbook development by creating an account on GitHub." />
    <meta property="og:image" content="https://avatars.githubusercontent.com/u/54555240?s=400&amp;v=4" /><meta property="og:image:alt" content="mynewbook. Contribute to anibaltafur/mynewbook development by creating an account on GitHub." /><meta property="og:site_name" content="GitHub" /><meta property="og:type" content="object" /><meta property="og:title" content="mynewbook/HW2.ipynb at main · anibaltafur/mynewbook" /><meta property="og:url" content="https://github.com/anibaltafur/mynewbook" /><meta property="og:description" content="mynewbook. Contribute to anibaltafur/mynewbook development by creating an account on GitHub." />
    



    

  <link rel="assets" href="https://github.githubassets.com/">
    <link rel="shared-web-socket" href="wss://alive.github.com/_sockets/u/54555240/ws?session=eyJ2IjoiVjMiLCJ1Ijo1NDU1NTI0MCwicyI6ODI3ODI3NjE4LCJjIjozMDA3Mjg0MjQxLCJ0IjoxNjQ1NDg0MTIzfQ==--38e03ffd07bd7b25a47cb024a78af8d77080c9d8cbbe5230228a0dfd128264f9" data-refresh-url="/_alive" data-session-id="c97f00075934e97d9090f8fa7d6cbbe07fec3b8416da97c0f8919f8a77a06b0f">
    <link rel="shared-web-socket-src" href="/assets-cdn/worker/socket-worker-941b4c1e.js">
  <link rel="sudo-modal" href="/sessions/sudo_modal">

  <meta name="request-id" content="FA82:6A43:33D475:57048F:62141849" data-pjax-transient="true" /><meta name="html-safe-nonce" content="3a30ee725298592eb04ab299bc1c5b772192ec75f44498d40571422fc7357d8d" data-pjax-transient="true" /><meta name="visitor-payload" content="eyJyZWZlcnJlciI6Imh0dHBzOi8vZ2l0aHViLmNvbS9hbmliYWx0YWZ1ci9teW5ld2Jvb2svYmxvYi9tYWluL0hXMi5pcHluYiIsInJlcXVlc3RfaWQiOiJGQTgyOjZBNDM6MzNENDc1OjU3MDQ4Rjo2MjE0MTg0OSIsInZpc2l0b3JfaWQiOiI4ODEzNjQyODA1Njc2OTA2OTcwIiwicmVnaW9uX2VkZ2UiOiJpYWQiLCJyZWdpb25fcmVuZGVyIjoiaWFkIn0=" data-pjax-transient="true" /><meta name="visitor-hmac" content="c69b16286aa4f73b323f1507187bc51105b0d615e9b87974fc786ef4ed1d4e5d" data-pjax-transient="true" />

    <meta name="hovercard-subject-tag" content="repository:460726736" data-pjax-transient>


  <meta name="github-keyboard-shortcuts" content="repository" data-pjax-transient="true" />

  

  <meta name="selected-link" value="repo_source" data-pjax-transient>

    <meta name="google-site-verification" content="c1kuD-K2HIVF635lypcsWPoD4kilo5-jA_wBFyT4uMY">
  <meta name="google-site-verification" content="KT5gs8h0wvaagLKAVWq8bbeNwnZZK1r1XQysX3xurLU">
  <meta name="google-site-verification" content="ZzhVyEFwb7w3e0-uOTltm8Jsck2F5StVihD0exw2fsA">
  <meta name="google-site-verification" content="GXs5KoUUkNCoaAZn7wPN-t01Pywp9M3sEjnt_3_ZWPc">

<meta name="octolytics-url" content="https://collector.github.com/github/collect" /><meta name="octolytics-actor-id" content="54555240" /><meta name="octolytics-actor-login" content="anibaltafur" /><meta name="octolytics-actor-hash" content="ff8eb49d0cff29baa2eb220d5a52177f2695fe1f9ad11d5211ac0d36df97f292" />

  <meta name="analytics-location" content="/&lt;user-name&gt;/&lt;repo-name&gt;/blob/blame" data-pjax-transient="true" />

  






  

      <meta name="hostname" content="github.com">
    <meta name="user-login" content="anibaltafur">


      <meta name="expected-hostname" content="github.com">

      <meta name="js-proxy-site-detection-payload" content="OTZlZDJhNTkzMmE3NGFiMTNjNjBjODE1MTY4MzBmZWNjMWM0OTkzNDYwMGUwM2VlZWQyNzY0NDg4ZDMwYzA1MHx7InJlbW90ZV9hZGRyZXNzIjoiMTI4LjQyLjE2Ny4xNzciLCJyZXF1ZXN0X2lkIjoiRkE4Mjo2QTQzOjMzRDQ3NTo1NzA0OEY6NjIxNDE4NDkiLCJ0aW1lc3RhbXAiOjE2NDU0ODQxMjMsImhvc3QiOiJnaXRodWIuY29tIn0=">
      <meta name="keyboard-shortcuts-preference" content="all">
      <script type="application/json" id="memex_keyboard_shortcuts_preference">"all"</script>

    <meta name="enabled-features" content="ACTIONS_CALLABLE_WORKFLOWS,MARKETPLACE_PENDING_INSTALLATIONS,PRESENCE_IDLE">


  <meta http-equiv="x-pjax-version" content="732bff33a1903decc1a9839180a313ba7a005b12ed65b0e4553e2f49f4b5ba69" data-turbo-track="reload">
  <meta http-equiv="x-pjax-csp-version" content="ad743a89372c421844ffcba4fd906096b07b7fd7c2a57617ff2d2f0fdf463e56" data-turbo-track="reload">
  <meta http-equiv="x-pjax-css-version" content="1cb36e967f7578e243a1efab0d1a0e02035ae92b55c383361943c9f74f1331b7" data-turbo-track="reload">
  <meta http-equiv="x-pjax-js-version" content="879e1df5e1bc9e65a7fa40a6a13a75b61ae73eda564acea597fb54a2b749d90c" data-turbo-track="reload">
  

    
  <meta name="go-import" content="github.com/anibaltafur/mynewbook git https://github.com/anibaltafur/mynewbook.git">

  <meta name="octolytics-dimension-user_id" content="54555240" /><meta name="octolytics-dimension-user_login" content="anibaltafur" /><meta name="octolytics-dimension-repository_id" content="460726736" /><meta name="octolytics-dimension-repository_nwo" content="anibaltafur/mynewbook" /><meta name="octolytics-dimension-repository_public" content="false" /><meta name="octolytics-dimension-repository_is_fork" content="false" /><meta name="octolytics-dimension-repository_network_root_id" content="460726736" /><meta name="octolytics-dimension-repository_network_root_nwo" content="anibaltafur/mynewbook" />





  <meta name="browser-stats-url" content="https://api.github.com/_private/browser/stats">

  <meta name="browser-errors-url" content="https://api.github.com/_private/browser/errors">

  <meta name="browser-optimizely-client-errors-url" content="https://api.github.com/_private/browser/optimizely_client/errors">

  <link rel="mask-icon" href="https://github.githubassets.com/pinned-octocat.svg" color="#000000">
  <link rel="alternate icon" class="js-site-favicon" type="image/png" href="https://github.githubassets.com/favicons/favicon.png">
  <link rel="icon" class="js-site-favicon" type="image/svg+xml" href="https://github.githubassets.com/favicons/favicon.svg">

<meta name="theme-color" content="#1e2327">
<meta name="color-scheme" content="light dark" />


  <link rel="manifest" href="/manifest.json" crossOrigin="use-credentials">

  </head>

  <body class="logged-in env-production page-responsive full-width" style="word-wrap: break-word;">
    

    <div class="position-relative js-header-wrapper ">
      <a href="#start-of-content" class="p-3 color-bg-accent-emphasis color-fg-on-emphasis show-on-focus js-skip-to-content">Skip to content</a>
      <span data-view-component="true" class="progress-pjax-loader js-pjax-loader-bar Progress position-fixed width-full">
    <span style="width: 0%;" data-view-component="true" class="Progress-item progress-pjax-loader-bar left-0 top-0 color-bg-accent-emphasis"></span>
</span>      
      


        <script crossorigin="anonymous" defer="defer" integrity="sha512-ZPyxhxQD1/bNqgUv67quj76KtbdB/MsUpUg8iIT8em8WT9MiOujlKmxEvBIelh0v0CK4ym56V2sitvRWmHdeVA==" type="application/javascript" src="https://github.githubassets.com/assets/command-palette-64fcb187.js"></script>

            <header class="Header js-details-container Details px-3 px-md-4 px-lg-5 flex-wrap flex-md-nowrap" role="banner" >
    <div class="Header-item mt-n1 mb-n1  d-none d-md-flex">
      <a
  class="Header-link "
  href="https://github.com/"
  data-hotkey="g d"
  aria-label="Homepage "
  data-hydro-click="{&quot;event_type&quot;:&quot;analytics.event&quot;,&quot;payload&quot;:{&quot;category&quot;:&quot;Header&quot;,&quot;action&quot;:&quot;go to dashboard&quot;,&quot;label&quot;:&quot;icon:logo&quot;,&quot;originating_url&quot;:&quot;https://github.com/anibaltafur/mynewbook/blame/main/HW2.ipynb&quot;,&quot;user_id&quot;:54555240}}" data-hydro-click-hmac="127d314b8dbab2fb237d65a157f54805516543e07c2f4c747cf55304618ecc18" data-analytics-event="{&quot;category&quot;:&quot;Header&quot;,&quot;action&quot;:&quot;go to dashboard&quot;,&quot;label&quot;:&quot;icon:logo&quot;}"
>
  <svg height="32" aria-hidden="true" viewBox="0 0 16 16" version="1.1" width="32" data-view-component="true" class="octicon octicon-mark-github v-align-middle">
    <path fill-rule="evenodd" d="M8 0C3.58 0 0 3.58 0 8c0 3.54 2.29 6.53 5.47 7.59.4.07.55-.17.55-.38 0-.19-.01-.82-.01-1.49-2.01.37-2.53-.49-2.69-.94-.09-.23-.48-.94-.82-1.13-.28-.15-.68-.52-.01-.53.63-.01 1.08.58 1.23.82.72 1.21 1.87.87 2.33.66.07-.52.28-.87.51-1.07-1.78-.2-3.64-.89-3.64-3.95 0-.87.31-1.59.82-2.15-.08-.2-.36-1.02.08-2.12 0 0 .67-.21 2.2.82.64-.18 1.32-.27 2-.27.68 0 1.36.09 2 .27 1.53-1.04 2.2-.82 2.2-.82.44 1.1.16 1.92.08 2.12.51.56.82 1.27.82 2.15 0 3.07-1.87 3.75-3.65 3.95.29.25.54.73.54 1.48 0 1.07-.01 1.93-.01 2.2 0 .21.15.46.55.38A8.013 8.013 0 0016 8c0-4.42-3.58-8-8-8z"></path>
</svg>
</a>

    </div>

    <div class="Header-item d-md-none">
      <button aria-label="Toggle navigation" aria-expanded="false" type="button" data-view-component="true" class="Header-link js-details-target btn-link">  <svg aria-hidden="true" height="24" viewBox="0 0 16 16" version="1.1" width="24" data-view-component="true" class="octicon octicon-three-bars">
    <path fill-rule="evenodd" d="M1 2.75A.75.75 0 011.75 2h12.5a.75.75 0 110 1.5H1.75A.75.75 0 011 2.75zm0 5A.75.75 0 011.75 7h12.5a.75.75 0 110 1.5H1.75A.75.75 0 011 7.75zM1.75 12a.75.75 0 100 1.5h12.5a.75.75 0 100-1.5H1.75z"></path>
</svg>
</button>    </div>

    <div class="Header-item Header-item--full flex-column flex-md-row width-full flex-order-2 flex-md-order-none mr-0 mr-md-3 mt-3 mt-md-0 Details-content--hidden-not-important d-md-flex">
          



<div class="header-search flex-auto js-site-search position-relative flex-self-stretch flex-md-self-auto mb-3 mb-md-0 mr-0 mr-md-3 scoped-search site-scoped-search js-jump-to"
>
  <div class="position-relative">
    <!-- '"` --><!-- </textarea></xmp> --></option></form><form class="js-site-search-form" role="search" aria-label="Site" data-scope-type="Repository" data-scope-id="460726736" data-scoped-search-url="/anibaltafur/mynewbook/search" data-owner-scoped-search-url="/users/anibaltafur/search" data-unscoped-search-url="/search" action="/anibaltafur/mynewbook/search" accept-charset="UTF-8" method="get">
      <label class="form-control input-sm header-search-wrapper p-0 js-chromeless-input-container header-search-wrapper-jump-to position-relative d-flex flex-justify-between flex-items-center">
        <input type="text"
          class="form-control input-sm header-search-input jump-to-field js-jump-to-field js-site-search-focus js-site-search-field is-clearable"
          data-hotkey=s,/
          name="q"
          data-test-selector="nav-search-input"
          placeholder="Search or jump to…"
          data-unscoped-placeholder="Search or jump to…"
          data-scoped-placeholder="Search or jump to…"
          autocapitalize="off"
          role="combobox"
          aria-haspopup="listbox"
          aria-expanded="false"
          aria-autocomplete="list"
          aria-controls="jump-to-results"
          aria-label="Search or jump to…"
          data-jump-to-suggestions-path="/_graphql/GetSuggestedNavigationDestinations"
          spellcheck="false"
          autocomplete="off"
        >
        <input type="hidden" value="47BlrUQEwokQK7fQFA673cXur7h_L-7kV_M5VCfXXZPHBD1KxtMMPDwZowjlhiaxa3b5PXgM47DX-XrFU4Hdig" data-csrf="true" class="js-data-jump-to-suggestions-path-csrf" />
        <input type="hidden" class="js-site-search-type-field" name="type" >
            <svg xmlns="http://www.w3.org/2000/svg" width="22" height="20" aria-hidden="true" class="mr-1 header-search-key-slash"><path fill="none" stroke="#979A9C" opacity=".4" d="M3.5.5h12c1.7 0 3 1.3 3 3v13c0 1.7-1.3 3-3 3h-12c-1.7 0-3-1.3-3-3v-13c0-1.7 1.3-3 3-3z"></path><path fill="#979A9C" d="M11.8 6L8 15.1h-.9L10.8 6h1z"></path></svg>


          <div class="Box position-absolute overflow-hidden d-none jump-to-suggestions js-jump-to-suggestions-container">
            
<ul class="d-none js-jump-to-suggestions-template-container">
  

<li class="d-flex flex-justify-start flex-items-center p-0 f5 navigation-item js-navigation-item js-jump-to-suggestion" role="option">
  <a tabindex="-1" class="no-underline d-flex flex-auto flex-items-center jump-to-suggestions-path js-jump-to-suggestion-path js-navigation-open p-2" href="" data-item-type="suggestion">
    <div class="jump-to-octicon js-jump-to-octicon flex-shrink-0 mr-2 text-center d-none">
      <svg title="Repository" aria-label="Repository" role="img" height="16" viewBox="0 0 16 16" version="1.1" width="16" data-view-component="true" class="octicon octicon-repo js-jump-to-octicon-repo d-none flex-shrink-0">
    <path fill-rule="evenodd" d="M2 2.5A2.5 2.5 0 014.5 0h8.75a.75.75 0 01.75.75v12.5a.75.75 0 01-.75.75h-2.5a.75.75 0 110-1.5h1.75v-2h-8a1 1 0 00-.714 1.7.75.75 0 01-1.072 1.05A2.495 2.495 0 012 11.5v-9zm10.5-1V9h-8c-.356 0-.694.074-1 .208V2.5a1 1 0 011-1h8zM5 12.25v3.25a.25.25 0 00.4.2l1.45-1.087a.25.25 0 01.3 0L8.6 15.7a.25.25 0 00.4-.2v-3.25a.25.25 0 00-.25-.25h-3.5a.25.25 0 00-.25.25z"></path>
</svg>
      <svg title="Project" aria-label="Project" role="img" height="16" viewBox="0 0 16 16" version="1.1" width="16" data-view-component="true" class="octicon octicon-project js-jump-to-octicon-project d-none flex-shrink-0">
    <path fill-rule="evenodd" d="M1.75 0A1.75 1.75 0 000 1.75v12.5C0 15.216.784 16 1.75 16h12.5A1.75 1.75 0 0016 14.25V1.75A1.75 1.75 0 0014.25 0H1.75zM1.5 1.75a.25.25 0 01.25-.25h12.5a.25.25 0 01.25.25v12.5a.25.25 0 01-.25.25H1.75a.25.25 0 01-.25-.25V1.75zM11.75 3a.75.75 0 00-.75.75v7.5a.75.75 0 001.5 0v-7.5a.75.75 0 00-.75-.75zm-8.25.75a.75.75 0 011.5 0v5.5a.75.75 0 01-1.5 0v-5.5zM8 3a.75.75 0 00-.75.75v3.5a.75.75 0 001.5 0v-3.5A.75.75 0 008 3z"></path>
</svg>
      <svg title="Search" aria-label="Search" role="img" height="16" viewBox="0 0 16 16" version="1.1" width="16" data-view-component="true" class="octicon octicon-search js-jump-to-octicon-search d-none flex-shrink-0">
    <path fill-rule="evenodd" d="M11.5 7a4.499 4.499 0 11-8.998 0A4.499 4.499 0 0111.5 7zm-.82 4.74a6 6 0 111.06-1.06l3.04 3.04a.75.75 0 11-1.06 1.06l-3.04-3.04z"></path>
</svg>
    </div>

    <img class="avatar mr-2 flex-shrink-0 js-jump-to-suggestion-avatar d-none" alt="" aria-label="Team" src="" width="28" height="28">

    <div class="jump-to-suggestion-name js-jump-to-suggestion-name flex-auto overflow-hidden text-left no-wrap css-truncate css-truncate-target">
    </div>

    <div class="border rounded-1 flex-shrink-0 color-bg-subtle px-1 color-fg-muted ml-1 f6 d-none js-jump-to-badge-search">
      <span class="js-jump-to-badge-search-text-default d-none" aria-label="in this repository">
        In this repository
      </span>
      <span class="js-jump-to-badge-search-text-global d-none" aria-label="in all of GitHub">
        All GitHub
      </span>
      <span aria-hidden="true" class="d-inline-block ml-1 v-align-middle">↵</span>
    </div>

    <div aria-hidden="true" class="border rounded-1 flex-shrink-0 color-bg-subtle px-1 color-fg-muted ml-1 f6 d-none d-on-nav-focus js-jump-to-badge-jump">
      Jump to
      <span class="d-inline-block ml-1 v-align-middle">↵</span>
    </div>
  </a>
</li>

</ul>

<ul class="d-none js-jump-to-no-results-template-container">
  <li class="d-flex flex-justify-center flex-items-center f5 d-none js-jump-to-suggestion p-2">
    <span class="color-fg-muted">No suggested jump to results</span>
  </li>
</ul>

<ul id="jump-to-results" role="listbox" class="p-0 m-0 js-navigation-container jump-to-suggestions-results-container js-jump-to-suggestions-results-container">
  

<li class="d-flex flex-justify-start flex-items-center p-0 f5 navigation-item js-navigation-item js-jump-to-scoped-search d-none" role="option">
  <a tabindex="-1" class="no-underline d-flex flex-auto flex-items-center jump-to-suggestions-path js-jump-to-suggestion-path js-navigation-open p-2" href="" data-item-type="scoped_search">
    <div class="jump-to-octicon js-jump-to-octicon flex-shrink-0 mr-2 text-center d-none">
      <svg title="Repository" aria-label="Repository" role="img" height="16" viewBox="0 0 16 16" version="1.1" width="16" data-view-component="true" class="octicon octicon-repo js-jump-to-octicon-repo d-none flex-shrink-0">
    <path fill-rule="evenodd" d="M2 2.5A2.5 2.5 0 014.5 0h8.75a.75.75 0 01.75.75v12.5a.75.75 0 01-.75.75h-2.5a.75.75 0 110-1.5h1.75v-2h-8a1 1 0 00-.714 1.7.75.75 0 01-1.072 1.05A2.495 2.495 0 012 11.5v-9zm10.5-1V9h-8c-.356 0-.694.074-1 .208V2.5a1 1 0 011-1h8zM5 12.25v3.25a.25.25 0 00.4.2l1.45-1.087a.25.25 0 01.3 0L8.6 15.7a.25.25 0 00.4-.2v-3.25a.25.25 0 00-.25-.25h-3.5a.25.25 0 00-.25.25z"></path>
</svg>
      <svg title="Project" aria-label="Project" role="img" height="16" viewBox="0 0 16 16" version="1.1" width="16" data-view-component="true" class="octicon octicon-project js-jump-to-octicon-project d-none flex-shrink-0">
    <path fill-rule="evenodd" d="M1.75 0A1.75 1.75 0 000 1.75v12.5C0 15.216.784 16 1.75 16h12.5A1.75 1.75 0 0016 14.25V1.75A1.75 1.75 0 0014.25 0H1.75zM1.5 1.75a.25.25 0 01.25-.25h12.5a.25.25 0 01.25.25v12.5a.25.25 0 01-.25.25H1.75a.25.25 0 01-.25-.25V1.75zM11.75 3a.75.75 0 00-.75.75v7.5a.75.75 0 001.5 0v-7.5a.75.75 0 00-.75-.75zm-8.25.75a.75.75 0 011.5 0v5.5a.75.75 0 01-1.5 0v-5.5zM8 3a.75.75 0 00-.75.75v3.5a.75.75 0 001.5 0v-3.5A.75.75 0 008 3z"></path>
</svg>
      <svg title="Search" aria-label="Search" role="img" height="16" viewBox="0 0 16 16" version="1.1" width="16" data-view-component="true" class="octicon octicon-search js-jump-to-octicon-search d-none flex-shrink-0">
    <path fill-rule="evenodd" d="M11.5 7a4.499 4.499 0 11-8.998 0A4.499 4.499 0 0111.5 7zm-.82 4.74a6 6 0 111.06-1.06l3.04 3.04a.75.75 0 11-1.06 1.06l-3.04-3.04z"></path>
</svg>
    </div>

    <img class="avatar mr-2 flex-shrink-0 js-jump-to-suggestion-avatar d-none" alt="" aria-label="Team" src="" width="28" height="28">

    <div class="jump-to-suggestion-name js-jump-to-suggestion-name flex-auto overflow-hidden text-left no-wrap css-truncate css-truncate-target">
    </div>

    <div class="border rounded-1 flex-shrink-0 color-bg-subtle px-1 color-fg-muted ml-1 f6 d-none js-jump-to-badge-search">
      <span class="js-jump-to-badge-search-text-default d-none" aria-label="in this repository">
        In this repository
      </span>
      <span class="js-jump-to-badge-search-text-global d-none" aria-label="in all of GitHub">
        All GitHub
      </span>
      <span aria-hidden="true" class="d-inline-block ml-1 v-align-middle">↵</span>
    </div>

    <div aria-hidden="true" class="border rounded-1 flex-shrink-0 color-bg-subtle px-1 color-fg-muted ml-1 f6 d-none d-on-nav-focus js-jump-to-badge-jump">
      Jump to
      <span class="d-inline-block ml-1 v-align-middle">↵</span>
    </div>
  </a>
</li>

  

<li class="d-flex flex-justify-start flex-items-center p-0 f5 navigation-item js-navigation-item js-jump-to-owner-scoped-search d-none" role="option">
  <a tabindex="-1" class="no-underline d-flex flex-auto flex-items-center jump-to-suggestions-path js-jump-to-suggestion-path js-navigation-open p-2" href="" data-item-type="owner_scoped_search">
    <div class="jump-to-octicon js-jump-to-octicon flex-shrink-0 mr-2 text-center d-none">
      <svg title="Repository" aria-label="Repository" role="img" height="16" viewBox="0 0 16 16" version="1.1" width="16" data-view-component="true" class="octicon octicon-repo js-jump-to-octicon-repo d-none flex-shrink-0">
    <path fill-rule="evenodd" d="M2 2.5A2.5 2.5 0 014.5 0h8.75a.75.75 0 01.75.75v12.5a.75.75 0 01-.75.75h-2.5a.75.75 0 110-1.5h1.75v-2h-8a1 1 0 00-.714 1.7.75.75 0 01-1.072 1.05A2.495 2.495 0 012 11.5v-9zm10.5-1V9h-8c-.356 0-.694.074-1 .208V2.5a1 1 0 011-1h8zM5 12.25v3.25a.25.25 0 00.4.2l1.45-1.087a.25.25 0 01.3 0L8.6 15.7a.25.25 0 00.4-.2v-3.25a.25.25 0 00-.25-.25h-3.5a.25.25 0 00-.25.25z"></path>
</svg>
      <svg title="Project" aria-label="Project" role="img" height="16" viewBox="0 0 16 16" version="1.1" width="16" data-view-component="true" class="octicon octicon-project js-jump-to-octicon-project d-none flex-shrink-0">
    <path fill-rule="evenodd" d="M1.75 0A1.75 1.75 0 000 1.75v12.5C0 15.216.784 16 1.75 16h12.5A1.75 1.75 0 0016 14.25V1.75A1.75 1.75 0 0014.25 0H1.75zM1.5 1.75a.25.25 0 01.25-.25h12.5a.25.25 0 01.25.25v12.5a.25.25 0 01-.25.25H1.75a.25.25 0 01-.25-.25V1.75zM11.75 3a.75.75 0 00-.75.75v7.5a.75.75 0 001.5 0v-7.5a.75.75 0 00-.75-.75zm-8.25.75a.75.75 0 011.5 0v5.5a.75.75 0 01-1.5 0v-5.5zM8 3a.75.75 0 00-.75.75v3.5a.75.75 0 001.5 0v-3.5A.75.75 0 008 3z"></path>
</svg>
      <svg title="Search" aria-label="Search" role="img" height="16" viewBox="0 0 16 16" version="1.1" width="16" data-view-component="true" class="octicon octicon-search js-jump-to-octicon-search d-none flex-shrink-0">
    <path fill-rule="evenodd" d="M11.5 7a4.499 4.499 0 11-8.998 0A4.499 4.499 0 0111.5 7zm-.82 4.74a6 6 0 111.06-1.06l3.04 3.04a.75.75 0 11-1.06 1.06l-3.04-3.04z"></path>
</svg>
    </div>

    <img class="avatar mr-2 flex-shrink-0 js-jump-to-suggestion-avatar d-none" alt="" aria-label="Team" src="" width="28" height="28">

    <div class="jump-to-suggestion-name js-jump-to-suggestion-name flex-auto overflow-hidden text-left no-wrap css-truncate css-truncate-target">
    </div>

    <div class="border rounded-1 flex-shrink-0 color-bg-subtle px-1 color-fg-muted ml-1 f6 d-none js-jump-to-badge-search">
      <span class="js-jump-to-badge-search-text-default d-none" aria-label="in this user">
        In this user
      </span>
      <span class="js-jump-to-badge-search-text-global d-none" aria-label="in all of GitHub">
        All GitHub
      </span>
      <span aria-hidden="true" class="d-inline-block ml-1 v-align-middle">↵</span>
    </div>

    <div aria-hidden="true" class="border rounded-1 flex-shrink-0 color-bg-subtle px-1 color-fg-muted ml-1 f6 d-none d-on-nav-focus js-jump-to-badge-jump">
      Jump to
      <span class="d-inline-block ml-1 v-align-middle">↵</span>
    </div>
  </a>
</li>

  

<li class="d-flex flex-justify-start flex-items-center p-0 f5 navigation-item js-navigation-item js-jump-to-global-search d-none" role="option">
  <a tabindex="-1" class="no-underline d-flex flex-auto flex-items-center jump-to-suggestions-path js-jump-to-suggestion-path js-navigation-open p-2" href="" data-item-type="global_search">
    <div class="jump-to-octicon js-jump-to-octicon flex-shrink-0 mr-2 text-center d-none">
      <svg title="Repository" aria-label="Repository" role="img" height="16" viewBox="0 0 16 16" version="1.1" width="16" data-view-component="true" class="octicon octicon-repo js-jump-to-octicon-repo d-none flex-shrink-0">
    <path fill-rule="evenodd" d="M2 2.5A2.5 2.5 0 014.5 0h8.75a.75.75 0 01.75.75v12.5a.75.75 0 01-.75.75h-2.5a.75.75 0 110-1.5h1.75v-2h-8a1 1 0 00-.714 1.7.75.75 0 01-1.072 1.05A2.495 2.495 0 012 11.5v-9zm10.5-1V9h-8c-.356 0-.694.074-1 .208V2.5a1 1 0 011-1h8zM5 12.25v3.25a.25.25 0 00.4.2l1.45-1.087a.25.25 0 01.3 0L8.6 15.7a.25.25 0 00.4-.2v-3.25a.25.25 0 00-.25-.25h-3.5a.25.25 0 00-.25.25z"></path>
</svg>
      <svg title="Project" aria-label="Project" role="img" height="16" viewBox="0 0 16 16" version="1.1" width="16" data-view-component="true" class="octicon octicon-project js-jump-to-octicon-project d-none flex-shrink-0">
    <path fill-rule="evenodd" d="M1.75 0A1.75 1.75 0 000 1.75v12.5C0 15.216.784 16 1.75 16h12.5A1.75 1.75 0 0016 14.25V1.75A1.75 1.75 0 0014.25 0H1.75zM1.5 1.75a.25.25 0 01.25-.25h12.5a.25.25 0 01.25.25v12.5a.25.25 0 01-.25.25H1.75a.25.25 0 01-.25-.25V1.75zM11.75 3a.75.75 0 00-.75.75v7.5a.75.75 0 001.5 0v-7.5a.75.75 0 00-.75-.75zm-8.25.75a.75.75 0 011.5 0v5.5a.75.75 0 01-1.5 0v-5.5zM8 3a.75.75 0 00-.75.75v3.5a.75.75 0 001.5 0v-3.5A.75.75 0 008 3z"></path>
</svg>
      <svg title="Search" aria-label="Search" role="img" height="16" viewBox="0 0 16 16" version="1.1" width="16" data-view-component="true" class="octicon octicon-search js-jump-to-octicon-search d-none flex-shrink-0">
    <path fill-rule="evenodd" d="M11.5 7a4.499 4.499 0 11-8.998 0A4.499 4.499 0 0111.5 7zm-.82 4.74a6 6 0 111.06-1.06l3.04 3.04a.75.75 0 11-1.06 1.06l-3.04-3.04z"></path>
</svg>
    </div>

    <img class="avatar mr-2 flex-shrink-0 js-jump-to-suggestion-avatar d-none" alt="" aria-label="Team" src="" width="28" height="28">

    <div class="jump-to-suggestion-name js-jump-to-suggestion-name flex-auto overflow-hidden text-left no-wrap css-truncate css-truncate-target">
    </div>

    <div class="border rounded-1 flex-shrink-0 color-bg-subtle px-1 color-fg-muted ml-1 f6 d-none js-jump-to-badge-search">
      <span class="js-jump-to-badge-search-text-default d-none" aria-label="in this repository">
        In this repository
      </span>
      <span class="js-jump-to-badge-search-text-global d-none" aria-label="in all of GitHub">
        All GitHub
      </span>
      <span aria-hidden="true" class="d-inline-block ml-1 v-align-middle">↵</span>
    </div>

    <div aria-hidden="true" class="border rounded-1 flex-shrink-0 color-bg-subtle px-1 color-fg-muted ml-1 f6 d-none d-on-nav-focus js-jump-to-badge-jump">
      Jump to
      <span class="d-inline-block ml-1 v-align-middle">↵</span>
    </div>
  </a>
</li>


    <li class="d-flex flex-justify-center flex-items-center p-0 f5 js-jump-to-suggestion">
      <svg style="box-sizing: content-box; color: var(--color-icon-primary);" width="32" height="32" viewBox="0 0 16 16" fill="none" data-view-component="true" class="m-3 anim-rotate">
  <circle cx="8" cy="8" r="7" stroke="currentColor" stroke-opacity="0.25" stroke-width="2" vector-effect="non-scaling-stroke" />
  <path d="M15 8a7.002 7.002 0 00-7-7" stroke="currentColor" stroke-width="2" stroke-linecap="round" vector-effect="non-scaling-stroke" />
</svg>
    </li>
</ul>

          </div>
      </label>
</form>  </div>
</div>

        <nav class="d-flex flex-column flex-md-row flex-self-stretch flex-md-self-auto" aria-label="Global">
      <a class="Header-link py-md-3 d-block d-md-none py-2 border-top border-md-top-0 border-white-fade" data-ga-click="Header, click, Nav menu - item:dashboard:user" aria-label="Dashboard" href="/dashboard">
        Dashboard
</a>
    <a class="js-selected-navigation-item Header-link mt-md-n3 mb-md-n3 py-2 py-md-3 mr-0 mr-md-3 border-top border-md-top-0 border-white-fade" data-hotkey="g p" data-ga-click="Header, click, Nav menu - item:pulls context:user" aria-label="Pull requests you created" data-selected-links="/pulls /pulls/assigned /pulls/mentioned /pulls" href="/pulls">
        Pull<span class="d-inline d-md-none d-lg-inline"> request</span>s
</a>
    <a class="js-selected-navigation-item Header-link mt-md-n3 mb-md-n3 py-2 py-md-3 mr-0 mr-md-3 border-top border-md-top-0 border-white-fade" data-hotkey="g i" data-ga-click="Header, click, Nav menu - item:issues context:user" aria-label="Issues you created" data-selected-links="/issues /issues/assigned /issues/mentioned /issues" href="/issues">
      Issues
</a>
      <div class="d-flex position-relative">
        <a class="js-selected-navigation-item Header-link flex-auto mt-md-n3 mb-md-n3 py-2 py-md-3 mr-0 mr-md-3 border-top border-md-top-0 border-white-fade" data-ga-click="Header, click, Nav menu - item:marketplace context:user" data-octo-click="marketplace_click" data-octo-dimensions="location:nav_bar" data-selected-links=" /marketplace" href="/marketplace">
          Marketplace
</a>      </div>

    <a class="js-selected-navigation-item Header-link mt-md-n3 mb-md-n3 py-2 py-md-3 mr-0 mr-md-3 border-top border-md-top-0 border-white-fade" data-ga-click="Header, click, Nav menu - item:explore" data-selected-links="/explore /trending /trending/developers /integrations /integrations/feature/code /integrations/feature/collaborate /integrations/feature/ship showcases showcases_search showcases_landing /explore" href="/explore">
      Explore
</a>
    <a class="js-selected-navigation-item Header-link d-block d-md-none py-2 py-md-3 border-top border-md-top-0 border-white-fade" data-ga-click="Header, click, Nav menu - item:workspaces context:user" data-selected-links="/codespaces /codespaces" href="/codespaces">
      Codespaces
</a>
      <a class="js-selected-navigation-item Header-link d-block d-md-none py-2 py-md-3 border-top border-md-top-0 border-white-fade" data-ga-click="Header, click, Nav menu - item:Sponsors" data-hydro-click="{&quot;event_type&quot;:&quot;sponsors.button_click&quot;,&quot;payload&quot;:{&quot;button&quot;:&quot;HEADER_SPONSORS_DASHBOARD&quot;,&quot;sponsorable_login&quot;:&quot;anibaltafur&quot;,&quot;originating_url&quot;:&quot;https://github.com/anibaltafur/mynewbook/blame/main/HW2.ipynb&quot;,&quot;user_id&quot;:54555240}}" data-hydro-click-hmac="e559969a648633c1845153526174677e37cb13643bdcffb777f0e7353a102494" data-selected-links=" /sponsors/accounts" href="/sponsors/accounts">Sponsors</a>

    <a class="Header-link d-block d-md-none mr-0 mr-md-3 py-2 py-md-3 border-top border-md-top-0 border-white-fade" href="/settings/profile">
      Settings
</a>
    <a class="Header-link d-block d-md-none mr-0 mr-md-3 py-2 py-md-3 border-top border-md-top-0 border-white-fade" href="/anibaltafur">
      <img class="avatar avatar-user" loading="lazy" decoding="async" src="https://avatars.githubusercontent.com/u/54555240?s=40&amp;v=4" width="20" height="20" alt="@anibaltafur" />
      anibaltafur
</a>
    <!-- '"` --><!-- </textarea></xmp> --></option></form><form action="/logout" accept-charset="UTF-8" method="post"><input type="hidden" name="authenticity_token" value="M1nyay_JiPe6M2bsbTFAg7tPwI3oFB8w4DTgoSON_Id0cFBgRSGbXIzZbDqEDduHJ5xjNcEVSuGTY8N00cH11g" />
      <button
        type="submit"
        class="Header-link mr-0 mr-md-3 py-2 py-md-3 border-top border-md-top-0 border-white-fade d-md-none btn-link d-block width-full text-left"
        style="padding-left: 2px;"
        data-hydro-click="{&quot;event_type&quot;:&quot;analytics.event&quot;,&quot;payload&quot;:{&quot;category&quot;:&quot;Header&quot;,&quot;action&quot;:&quot;sign out&quot;,&quot;label&quot;:&quot;icon:logout&quot;,&quot;originating_url&quot;:&quot;https://github.com/anibaltafur/mynewbook/blame/main/HW2.ipynb&quot;,&quot;user_id&quot;:54555240}}" data-hydro-click-hmac="d54da8c1883952f7e5fa6b49529ccc65d0955fc328ccb7d9f7edf312ee14c0f1" data-analytics-event="{&quot;category&quot;:&quot;Header&quot;,&quot;action&quot;:&quot;sign out&quot;,&quot;label&quot;:&quot;icon:logout&quot;}"
      >
        <svg aria-hidden="true" height="16" viewBox="0 0 16 16" version="1.1" width="16" data-view-component="true" class="octicon octicon-sign-out v-align-middle">
    <path fill-rule="evenodd" d="M2 2.75C2 1.784 2.784 1 3.75 1h2.5a.75.75 0 010 1.5h-2.5a.25.25 0 00-.25.25v10.5c0 .138.112.25.25.25h2.5a.75.75 0 010 1.5h-2.5A1.75 1.75 0 012 13.25V2.75zm10.44 4.5H6.75a.75.75 0 000 1.5h5.69l-1.97 1.97a.75.75 0 101.06 1.06l3.25-3.25a.75.75 0 000-1.06l-3.25-3.25a.75.75 0 10-1.06 1.06l1.97 1.97z"></path>
</svg>
        Sign out
      </button>
</form></nav>

    </div>

    <div class="Header-item Header-item--full flex-justify-center d-md-none position-relative">
        <a
  class="Header-link "
  href="https://github.com/"
  data-hotkey="g d"
  aria-label="Homepage "
  data-hydro-click="{&quot;event_type&quot;:&quot;analytics.event&quot;,&quot;payload&quot;:{&quot;category&quot;:&quot;Header&quot;,&quot;action&quot;:&quot;go to dashboard&quot;,&quot;label&quot;:&quot;icon:logo&quot;,&quot;originating_url&quot;:&quot;https://github.com/anibaltafur/mynewbook/blame/main/HW2.ipynb&quot;,&quot;user_id&quot;:54555240}}" data-hydro-click-hmac="127d314b8dbab2fb237d65a157f54805516543e07c2f4c747cf55304618ecc18" data-analytics-event="{&quot;category&quot;:&quot;Header&quot;,&quot;action&quot;:&quot;go to dashboard&quot;,&quot;label&quot;:&quot;icon:logo&quot;}"
>
  <svg height="32" aria-hidden="true" viewBox="0 0 16 16" version="1.1" width="32" data-view-component="true" class="octicon octicon-mark-github v-align-middle">
    <path fill-rule="evenodd" d="M8 0C3.58 0 0 3.58 0 8c0 3.54 2.29 6.53 5.47 7.59.4.07.55-.17.55-.38 0-.19-.01-.82-.01-1.49-2.01.37-2.53-.49-2.69-.94-.09-.23-.48-.94-.82-1.13-.28-.15-.68-.52-.01-.53.63-.01 1.08.58 1.23.82.72 1.21 1.87.87 2.33.66.07-.52.28-.87.51-1.07-1.78-.2-3.64-.89-3.64-3.95 0-.87.31-1.59.82-2.15-.08-.2-.36-1.02.08-2.12 0 0 .67-.21 2.2.82.64-.18 1.32-.27 2-.27.68 0 1.36.09 2 .27 1.53-1.04 2.2-.82 2.2-.82.44 1.1.16 1.92.08 2.12.51.56.82 1.27.82 2.15 0 3.07-1.87 3.75-3.65 3.95.29.25.54.73.54 1.48 0 1.07-.01 1.93-.01 2.2 0 .21.15.46.55.38A8.013 8.013 0 0016 8c0-4.42-3.58-8-8-8z"></path>
</svg>
</a>

    </div>

    <div class="Header-item mr-0 mr-md-3 flex-order-1 flex-md-order-none">
        


      <notification-indicator
        class="js-socket-channel"
        data-test-selector="notifications-indicator"
        data-channel="eyJjIjoibm90aWZpY2F0aW9uLWNoYW5nZWQ6NTQ1NTUyNDAiLCJ0IjoxNjQ1NDg0MTIzfQ==--eba0386a5ab01a50d7c7bd181972ccba90170f092cf44e12d1b07983fcb91786">
        <a href="/notifications"
          class="Header-link notification-indicator position-relative tooltipped tooltipped-sw"
          
          aria-label="You have no unread notifications"
          data-hotkey="g n"
          data-ga-click="Header, go to notifications, icon:read"
          data-target="notification-indicator.link">
          <span class="mail-status  " data-target="notification-indicator.modifier"></span>
          <svg aria-hidden="true" height="16" viewBox="0 0 16 16" version="1.1" width="16" data-view-component="true" class="octicon octicon-bell">
    <path d="M8 16a2 2 0 001.985-1.75c.017-.137-.097-.25-.235-.25h-3.5c-.138 0-.252.113-.235.25A2 2 0 008 16z"></path><path fill-rule="evenodd" d="M8 1.5A3.5 3.5 0 004.5 5v2.947c0 .346-.102.683-.294.97l-1.703 2.556a.018.018 0 00-.003.01l.001.006c0 .002.002.004.004.006a.017.017 0 00.006.004l.007.001h10.964l.007-.001a.016.016 0 00.006-.004.016.016 0 00.004-.006l.001-.007a.017.017 0 00-.003-.01l-1.703-2.554a1.75 1.75 0 01-.294-.97V5A3.5 3.5 0 008 1.5zM3 5a5 5 0 0110 0v2.947c0 .05.015.098.042.139l1.703 2.555A1.518 1.518 0 0113.482 13H2.518a1.518 1.518 0 01-1.263-2.36l1.703-2.554A.25.25 0 003 7.947V5z"></path>
</svg>
        </a>
      </notification-indicator>

    </div>


    <div class="Header-item position-relative d-none d-md-flex">
        <details class="details-overlay details-reset">
  <summary
    class="Header-link"
    aria-label="Create new…"
    data-hydro-click="{&quot;event_type&quot;:&quot;analytics.event&quot;,&quot;payload&quot;:{&quot;category&quot;:&quot;Header&quot;,&quot;action&quot;:&quot;create new&quot;,&quot;label&quot;:&quot;icon:add&quot;,&quot;originating_url&quot;:&quot;https://github.com/anibaltafur/mynewbook/blame/main/HW2.ipynb&quot;,&quot;user_id&quot;:54555240}}" data-hydro-click-hmac="51458fd3f0eabd07b8f96545df85629a385f56064b9b95d474841cc4059fc666" data-analytics-event="{&quot;category&quot;:&quot;Header&quot;,&quot;action&quot;:&quot;create new&quot;,&quot;label&quot;:&quot;icon:add&quot;}"
  >
      <svg aria-hidden="true" height="16" viewBox="0 0 16 16" version="1.1" width="16" data-view-component="true" class="octicon octicon-plus">
    <path fill-rule="evenodd" d="M7.75 2a.75.75 0 01.75.75V7h4.25a.75.75 0 110 1.5H8.5v4.25a.75.75 0 11-1.5 0V8.5H2.75a.75.75 0 010-1.5H7V2.75A.75.75 0 017.75 2z"></path>
</svg> <span class="dropdown-caret"></span>
  </summary>
  <details-menu class="dropdown-menu dropdown-menu-sw">
    
<a role="menuitem" class="dropdown-item" href="/new" data-ga-click="Header, create new repository">
  New repository
</a>

  <a role="menuitem" class="dropdown-item" href="/new/import" data-ga-click="Header, import a repository">
    Import repository
  </a>

<a role="menuitem" class="dropdown-item" href="https://gist.github.com/" data-ga-click="Header, create new gist">
  New gist
</a>

  <a role="menuitem" class="dropdown-item" href="/organizations/new" data-ga-click="Header, create new organization">
    New organization
  </a>



  </details-menu>
</details>

    </div>

    <div class="Header-item position-relative mr-0 d-none d-md-flex">
        
  <details class="details-overlay details-reset js-feature-preview-indicator-container" data-feature-preview-indicator-src="/users/anibaltafur/feature_preview/indicator_check">

  <summary
    class="Header-link"
    aria-label="View profile and more"
    data-hydro-click="{&quot;event_type&quot;:&quot;analytics.event&quot;,&quot;payload&quot;:{&quot;category&quot;:&quot;Header&quot;,&quot;action&quot;:&quot;show menu&quot;,&quot;label&quot;:&quot;icon:avatar&quot;,&quot;originating_url&quot;:&quot;https://github.com/anibaltafur/mynewbook/blame/main/HW2.ipynb&quot;,&quot;user_id&quot;:54555240}}" data-hydro-click-hmac="a6ca3274a50d177858c278f262102d47640f2e1376d13f03fc96b572a0e28fd6" data-analytics-event="{&quot;category&quot;:&quot;Header&quot;,&quot;action&quot;:&quot;show menu&quot;,&quot;label&quot;:&quot;icon:avatar&quot;}"
  >
    <img src="https://avatars.githubusercontent.com/u/54555240?s=40&amp;v=4" alt="@anibaltafur" size="20" height="20" width="20" data-view-component="true" class="avatar avatar-small circle" />
      <span class="feature-preview-indicator js-feature-preview-indicator" style="top: 1px;" hidden></span>
    <span class="dropdown-caret"></span>
  </summary>
  <details-menu
      class="dropdown-menu dropdown-menu-sw"
      style="width: 180px"
      
      preload>
      <include-fragment src="/users/54555240/menu" loading="lazy">
        <p class="text-center mt-3" data-hide-on-error>
          <svg style="box-sizing: content-box; color: var(--color-icon-primary);" width="32" height="32" viewBox="0 0 16 16" fill="none" data-view-component="true" class="anim-rotate">
  <circle cx="8" cy="8" r="7" stroke="currentColor" stroke-opacity="0.25" stroke-width="2" vector-effect="non-scaling-stroke" />
  <path d="M15 8a7.002 7.002 0 00-7-7" stroke="currentColor" stroke-width="2" stroke-linecap="round" vector-effect="non-scaling-stroke" />
</svg>
        </p>
        <p class="ml-1 mb-2 mt-2 color-fg-default" data-show-on-error>
          <svg aria-hidden="true" height="16" viewBox="0 0 16 16" version="1.1" width="16" data-view-component="true" class="octicon octicon-alert">
    <path fill-rule="evenodd" d="M8.22 1.754a.25.25 0 00-.44 0L1.698 13.132a.25.25 0 00.22.368h12.164a.25.25 0 00.22-.368L8.22 1.754zm-1.763-.707c.659-1.234 2.427-1.234 3.086 0l6.082 11.378A1.75 1.75 0 0114.082 15H1.918a1.75 1.75 0 01-1.543-2.575L6.457 1.047zM9 11a1 1 0 11-2 0 1 1 0 012 0zm-.25-5.25a.75.75 0 00-1.5 0v2.5a.75.75 0 001.5 0v-2.5z"></path>
</svg>
          Sorry, something went wrong.
        </p>
      </include-fragment>
  </details-menu>
</details>

    </div>
</header>

            
    </div>

  <div id="start-of-content" class="show-on-focus"></div>







    <div data-pjax-replace id="js-flash-container">


  <template class="js-flash-template">
    <div class="flash flash-full  {{ className }}">
  <div class="px-2" >
    <button class="flash-close js-flash-close" type="button" aria-label="Dismiss this message">
      <svg aria-hidden="true" height="16" viewBox="0 0 16 16" version="1.1" width="16" data-view-component="true" class="octicon octicon-x">
    <path fill-rule="evenodd" d="M3.72 3.72a.75.75 0 011.06 0L8 6.94l3.22-3.22a.75.75 0 111.06 1.06L9.06 8l3.22 3.22a.75.75 0 11-1.06 1.06L8 9.06l-3.22 3.22a.75.75 0 01-1.06-1.06L6.94 8 3.72 4.78a.75.75 0 010-1.06z"></path>
</svg>
    </button>
    
      <div>{{ message }}</div>

  </div>
</div>
  </template>
</div>


    

  <include-fragment class="js-notification-shelf-include-fragment" data-base-src="https://github.com/notifications/beta/shelf"></include-fragment>




      <details class="details-reset details-overlay details-overlay-dark js-command-palette-dialog">
  <summary class="command-palette-details-summary" aria-label="command palette trigger">
  </summary>
  <details-dialog class="command-palette-details-dialog d-flex flex-column flex-justify-center height-fit" aria-label="command palette">
    <command-palette
      class="command-palette color-bg-default rounded-3"
      data-return-to=/anibaltafur/mynewbook/blame/main/HW2.ipynb
      data-user-id="54555240"
      data-activation-hotkey="Mod+k,Mod+Alt+k"
      data-command-mode-hotkey="Mod+Shift+k"
      >

      <input type="hidden" name="color-mode-path" id="color-mode-path" value="/settings/appearance/color_mode" class="js-color-mode-path" autocomplete="off" />
      <input type="hidden" value="HNgqjBapZGGq89x4bOyWWK67UCuPc4_hQwu_FQE8SC-k5h-q7hx6h9lgKFK684KIyBVM-8z9nk24QPCsPAohXw" data-csrf="true" class="js-color-mode-csrf" />

        <command-palette-mode
          data-char="#"
            data-scope-types="[&quot;&quot;]"
            data-placeholder="Search issues and pull requests"
        ></command-palette-mode>
        <command-palette-mode
          data-char="#"
            data-scope-types="[&quot;owner&quot;,&quot;repository&quot;]"
            data-placeholder="Search issues, pull requests, discussions, and projects"
        ></command-palette-mode>
        <command-palette-mode
          data-char="!"
            data-scope-types="[&quot;owner&quot;,&quot;repository&quot;]"
            data-placeholder="Search projects"
        ></command-palette-mode>
        <command-palette-mode
          data-char="@"
            data-scope-types="[&quot;&quot;]"
            data-placeholder="Search or jump to a user, organization, or repository"
        ></command-palette-mode>
        <command-palette-mode
          data-char="@"
            data-scope-types="[&quot;owner&quot;]"
            data-placeholder="Search or jump to a repository"
        ></command-palette-mode>
        <command-palette-mode
          data-char="/"
            data-scope-types="[&quot;repository&quot;]"
            data-placeholder="Search files"
        ></command-palette-mode>
        <command-palette-mode
          data-char="?"
        ></command-palette-mode>
        <command-palette-mode
          data-char="&gt;"
            data-placeholder="Run a command"
        ></command-palette-mode>
        <command-palette-mode
          data-char=""
            data-scope-types="[&quot;owner&quot;]"
            data-placeholder="Search or jump to..."
        ></command-palette-mode>
      <command-palette-mode
        class="js-command-palette-default-mode"
        data-char=""
        data-placeholder="Search or jump to..."
      ></command-palette-mode>

      <command-palette-input placeholder="Search or jump to..."
      >
        <div class="js-search-icon d-flex flex-items-center mr-2" style="height: 26px">
          <svg aria-hidden="true" height="16" viewBox="0 0 16 16" version="1.1" width="16" data-view-component="true" class="octicon octicon-search color-fg-muted">
    <path fill-rule="evenodd" d="M11.5 7a4.499 4.499 0 11-8.998 0A4.499 4.499 0 0111.5 7zm-.82 4.74a6 6 0 111.06-1.06l3.04 3.04a.75.75 0 11-1.06 1.06l-3.04-3.04z"></path>
</svg>
        </div>
        <div class="js-spinner d-flex flex-items-center mr-2 color-fg-muted" hidden>
          <svg aria-label="Loading" class="anim-rotate" viewBox="0 0 16 16" fill="none" width="16" height="16">
            <circle
              cx="8"
              cy="8"
              r="7"
              stroke="currentColor"
              stroke-opacity="0.25"
              stroke-width="2"
              vector-effect="non-scaling-stroke"
            ></circle>
            <path
              d="M15 8a7.002 7.002 0 00-7-7"
              stroke="currentColor"
              stroke-width="2"
              stroke-linecap="round"
              vector-effect="non-scaling-stroke"
            ></path>
          </svg>
        </div>
        <command-palette-scope >
          <div data-target="command-palette-scope.placeholder" hidden class="color-fg-subtle">/&nbsp;&nbsp;<span class="text-semibold color-fg-default">...</span>&nbsp;&nbsp;/&nbsp;&nbsp;</div>
              <command-palette-token
                data-text="anibaltafur"
                data-id="MDQ6VXNlcjU0NTU1MjQw"
                data-type="owner"
                data-value="anibaltafur"
                data-targets="command-palette-scope.tokens"
                class="color-fg-default text-semibold"
                style="white-space:nowrap;line-height:20px;"
                >anibaltafur<span class="color-fg-subtle text-normal">&nbsp;&nbsp;/&nbsp;&nbsp;</span></command-palette-token>
              <command-palette-token
                data-text="mynewbook"
                data-id="R_kgDOG3Yh0A"
                data-type="repository"
                data-value="mynewbook"
                data-targets="command-palette-scope.tokens"
                class="color-fg-default text-semibold"
                style="white-space:nowrap;line-height:20px;"
                >mynewbook<span class="color-fg-subtle text-normal">&nbsp;&nbsp;/&nbsp;&nbsp;</span></command-palette-token>
        </command-palette-scope>
        <div class="command-palette-input-group flex-1 form-control border-0 box-shadow-none" style="z-index: 0">
          <div class="command-palette-typeahead position-absolute d-flex flex-items-center Truncate">
            <span class="typeahead-segment input-mirror" data-target="command-palette-input.mirror"></span>
            <span class="Truncate-text" data-target="command-palette-input.typeaheadText"></span>
            <span class="typeahead-segment" data-target="command-palette-input.typeaheadPlaceholder"></span>
          </div>
          <input
            class="js-overlay-input typeahead-input d-none"
            disabled
            tabindex="-1"
            aria-label="Hidden input for typeahead"
          >
          <input
            type="text"
            autocomplete="off"
            autocorrect="off"
            autocapitalize="off"
            spellcheck="false"
            class="js-input typeahead-input form-control border-0 box-shadow-none input-block width-full"
            aria-label="Command palette input"
            aria-haspopup="listbox"
            aria-expanded="false"
            aria-autocomplete="list"
            aria-controls="command-palette-item-stack"
            role="combobox"
          >
        </div>
        <button aria-label="clear command palette" aria-keyshortcuts="Control+Backspace" id="command-palette-clear-button" type="button" data-view-component="true" class="btn-octicon js-clear command-palette-input-clear-button"><svg aria-hidden="true" height="16" viewBox="0 0 16 16" version="1.1" width="16" data-view-component="true" class="octicon octicon-x-circle-fill">
    <path fill-rule="evenodd" d="M2.343 13.657A8 8 0 1113.657 2.343 8 8 0 012.343 13.657zM6.03 4.97a.75.75 0 00-1.06 1.06L6.94 8 4.97 9.97a.75.75 0 101.06 1.06L8 9.06l1.97 1.97a.75.75 0 101.06-1.06L9.06 8l1.97-1.97a.75.75 0 10-1.06-1.06L8 6.94 6.03 4.97z"></path>
</svg></button>
        <primer-tooltip hidden="hidden" for="command-palette-clear-button" data-direction="w" data-type="description" data-view-component="true">Clear</primer-tooltip>
      </command-palette-input>

        <command-palette-item-stack id="command-palette-item-stack" class="item-stack-transition-height"  role="listbox" aria-label="Command palette results">
            <command-palette-tip
              class="color-fg-muted f6 px-3 py-1 my-2"
              data-mode=""
              data-value="">
              <div class="d-flex flex-items-start flex-justify-between">
                <div>
                  <span class="text-bold">Tip:</span>
                    Type <kbd class="hx_kbd">#</kbd> to search pull requests
                </div>
                <div class="ml-2 flex-shrink-0">
                  Type <kbd class="hx_kbd">?</kbd> for help and tips
                </div>
              </div>
            </command-palette-tip>
            <command-palette-tip
              class="color-fg-muted f6 px-3 py-1 my-2"
              data-mode=""
              data-value="">
              <div class="d-flex flex-items-start flex-justify-between">
                <div>
                  <span class="text-bold">Tip:</span>
                    Type <kbd class="hx_kbd">#</kbd> to search issues
                </div>
                <div class="ml-2 flex-shrink-0">
                  Type <kbd class="hx_kbd">?</kbd> for help and tips
                </div>
              </div>
            </command-palette-tip>
            <command-palette-tip
              class="color-fg-muted f6 px-3 py-1 my-2"
                data-scope-types="[&quot;owner&quot;,&quot;repository&quot;]"
              data-mode=""
              data-value="">
              <div class="d-flex flex-items-start flex-justify-between">
                <div>
                  <span class="text-bold">Tip:</span>
                    Type <kbd class="hx_kbd">#</kbd> to search discussions
                </div>
                <div class="ml-2 flex-shrink-0">
                  Type <kbd class="hx_kbd">?</kbd> for help and tips
                </div>
              </div>
            </command-palette-tip>
            <command-palette-tip
              class="color-fg-muted f6 px-3 py-1 my-2"
                data-scope-types="[&quot;owner&quot;,&quot;repository&quot;]"
              data-mode=""
              data-value="">
              <div class="d-flex flex-items-start flex-justify-between">
                <div>
                  <span class="text-bold">Tip:</span>
                    Type <kbd class="hx_kbd">!</kbd> to search projects
                </div>
                <div class="ml-2 flex-shrink-0">
                  Type <kbd class="hx_kbd">?</kbd> for help and tips
                </div>
              </div>
            </command-palette-tip>
            <command-palette-tip
              class="color-fg-muted f6 px-3 py-1 my-2"
                data-scope-types="[&quot;owner&quot;]"
              data-mode=""
              data-value="">
              <div class="d-flex flex-items-start flex-justify-between">
                <div>
                  <span class="text-bold">Tip:</span>
                    Type <kbd class="hx_kbd">@</kbd> to search teams
                </div>
                <div class="ml-2 flex-shrink-0">
                  Type <kbd class="hx_kbd">?</kbd> for help and tips
                </div>
              </div>
            </command-palette-tip>
            <command-palette-tip
              class="color-fg-muted f6 px-3 py-1 my-2"
                data-scope-types="[&quot;&quot;]"
              data-mode=""
              data-value="">
              <div class="d-flex flex-items-start flex-justify-between">
                <div>
                  <span class="text-bold">Tip:</span>
                    Type <kbd class="hx_kbd">@</kbd> to search people and organizations
                </div>
                <div class="ml-2 flex-shrink-0">
                  Type <kbd class="hx_kbd">?</kbd> for help and tips
                </div>
              </div>
            </command-palette-tip>
            <command-palette-tip
              class="color-fg-muted f6 px-3 py-1 my-2"
              data-mode=""
              data-value="">
              <div class="d-flex flex-items-start flex-justify-between">
                <div>
                  <span class="text-bold">Tip:</span>
                    Type <kbd class="hx_kbd">&gt;</kbd> to activate command mode
                </div>
                <div class="ml-2 flex-shrink-0">
                  Type <kbd class="hx_kbd">?</kbd> for help and tips
                </div>
              </div>
            </command-palette-tip>
            <command-palette-tip
              class="color-fg-muted f6 px-3 py-1 my-2"
              data-mode=""
              data-value="">
              <div class="d-flex flex-items-start flex-justify-between">
                <div>
                  <span class="text-bold">Tip:</span>
                    Go to your accessibility settings to change your keyboard shortcuts
                </div>
                <div class="ml-2 flex-shrink-0">
                  Type <kbd class="hx_kbd">?</kbd> for help and tips
                </div>
              </div>
            </command-palette-tip>
            <command-palette-tip
              class="color-fg-muted f6 px-3 py-1 my-2"
              data-mode="#"
              data-value="">
              <div class="d-flex flex-items-start flex-justify-between">
                <div>
                  <span class="text-bold">Tip:</span>
                    Type author:@me to search your content
                </div>
                <div class="ml-2 flex-shrink-0">
                  Type <kbd class="hx_kbd">?</kbd> for help and tips
                </div>
              </div>
            </command-palette-tip>
            <command-palette-tip
              class="color-fg-muted f6 px-3 py-1 my-2"
              data-mode="#"
              data-value="">
              <div class="d-flex flex-items-start flex-justify-between">
                <div>
                  <span class="text-bold">Tip:</span>
                    Type is:pr to filter to pull requests
                </div>
                <div class="ml-2 flex-shrink-0">
                  Type <kbd class="hx_kbd">?</kbd> for help and tips
                </div>
              </div>
            </command-palette-tip>
            <command-palette-tip
              class="color-fg-muted f6 px-3 py-1 my-2"
              data-mode="#"
              data-value="">
              <div class="d-flex flex-items-start flex-justify-between">
                <div>
                  <span class="text-bold">Tip:</span>
                    Type is:issue to filter to issues
                </div>
                <div class="ml-2 flex-shrink-0">
                  Type <kbd class="hx_kbd">?</kbd> for help and tips
                </div>
              </div>
            </command-palette-tip>
            <command-palette-tip
              class="color-fg-muted f6 px-3 py-1 my-2"
                data-scope-types="[&quot;owner&quot;,&quot;repository&quot;]"
              data-mode="#"
              data-value="">
              <div class="d-flex flex-items-start flex-justify-between">
                <div>
                  <span class="text-bold">Tip:</span>
                    Type is:project to filter to projects
                </div>
                <div class="ml-2 flex-shrink-0">
                  Type <kbd class="hx_kbd">?</kbd> for help and tips
                </div>
              </div>
            </command-palette-tip>
            <command-palette-tip
              class="color-fg-muted f6 px-3 py-1 my-2"
              data-mode="#"
              data-value="">
              <div class="d-flex flex-items-start flex-justify-between">
                <div>
                  <span class="text-bold">Tip:</span>
                    Type is:open to filter to open content
                </div>
                <div class="ml-2 flex-shrink-0">
                  Type <kbd class="hx_kbd">?</kbd> for help and tips
                </div>
              </div>
            </command-palette-tip>
          <command-palette-tip class="mx-3 my-2 flash flash-error d-flex flex-items-center" data-on-error>
            <div>
              <svg aria-hidden="true" height="16" viewBox="0 0 16 16" version="1.1" width="16" data-view-component="true" class="octicon octicon-alert">
    <path fill-rule="evenodd" d="M8.22 1.754a.25.25 0 00-.44 0L1.698 13.132a.25.25 0 00.22.368h12.164a.25.25 0 00.22-.368L8.22 1.754zm-1.763-.707c.659-1.234 2.427-1.234 3.086 0l6.082 11.378A1.75 1.75 0 0114.082 15H1.918a1.75 1.75 0 01-1.543-2.575L6.457 1.047zM9 11a1 1 0 11-2 0 1 1 0 012 0zm-.25-5.25a.75.75 0 00-1.5 0v2.5a.75.75 0 001.5 0v-2.5z"></path>
</svg>
            </div>
            <div class="px-2">
              We’ve encountered an error and some results aren't available at this time. Type a new search or try again later.
            </div>
          </command-palette-tip>
          <command-palette-tip class="h4 color-fg-default pl-3 pb-2 pt-3" data-on-empty data-match-mode="[^?]|^$">
            No results matched your search
          </command-palette-tip>

            <command-palette-item-group
              data-group-id="top"
              data-group-title="Top result"
              data-group-hint=""
              data-group-limits="{}"
              data-targets="command-palette-item-stack.groups"
            >
            </command-palette-item-group>
            <command-palette-item-group
              data-group-id="commands"
              data-group-title="Commands"
              data-group-hint="Type &gt; to filter"
              data-group-limits="{}"
              data-targets="command-palette-item-stack.groups"
            >
            </command-palette-item-group>
            <command-palette-item-group
              data-group-id="global_commands"
              data-group-title="Global Commands"
              data-group-hint="Type &gt; to filter"
              data-group-limits="{}"
              data-targets="command-palette-item-stack.groups"
            >
            </command-palette-item-group>
            <command-palette-item-group
              data-group-id="files"
              data-group-title="Files"
              data-group-hint=""
              data-group-limits="{}"
              data-targets="command-palette-item-stack.groups"
            >
            </command-palette-item-group>
            <command-palette-item-group
              data-group-id="pages"
              data-group-title="Pages"
              data-group-hint=""
              data-group-limits="{&quot;repository&quot;:10}"
              data-targets="command-palette-item-stack.groups"
            >
            </command-palette-item-group>
            <command-palette-item-group
              data-group-id="access_policies"
              data-group-title="Access Policies"
              data-group-hint=""
              data-group-limits="{}"
              data-targets="command-palette-item-stack.groups"
            >
            </command-palette-item-group>
            <command-palette-item-group
              data-group-id="organizations"
              data-group-title="Organizations"
              data-group-hint=""
              data-group-limits="{}"
              data-targets="command-palette-item-stack.groups"
            >
            </command-palette-item-group>
            <command-palette-item-group
              data-group-id="repositories"
              data-group-title="Repositories"
              data-group-hint=""
              data-group-limits="{}"
              data-targets="command-palette-item-stack.groups"
            >
            </command-palette-item-group>
            <command-palette-item-group
              data-group-id="references"
              data-group-title="Issues, pull requests, and discussions"
              data-group-hint="Type # to filter"
              data-group-limits="{}"
              data-targets="command-palette-item-stack.groups"
            >
            </command-palette-item-group>
            <command-palette-item-group
              data-group-id="teams"
              data-group-title="Teams"
              data-group-hint=""
              data-group-limits="{}"
              data-targets="command-palette-item-stack.groups"
            >
            </command-palette-item-group>
            <command-palette-item-group
              data-group-id="users"
              data-group-title="Users"
              data-group-hint=""
              data-group-limits="{}"
              data-targets="command-palette-item-stack.groups"
            >
            </command-palette-item-group>
            <command-palette-item-group
              data-group-id="projects"
              data-group-title="Projects"
              data-group-hint=""
              data-group-limits="{}"
              data-targets="command-palette-item-stack.groups"
            >
            </command-palette-item-group>
            <command-palette-item-group
              data-group-id="footer"
              data-group-title="Footer"
              data-group-hint=""
              data-group-limits="{}"
              data-targets="command-palette-item-stack.groups"
            >
            </command-palette-item-group>
            <command-palette-item-group
              data-group-id="modes_help"
              data-group-title="Modes"
              data-group-hint=""
              data-group-limits="{}"
              data-targets="command-palette-item-stack.groups"
            >
            </command-palette-item-group>
            <command-palette-item-group
              data-group-id="filters_help"
              data-group-title="Use filters in issues, pull requests, discussions, and projects"
              data-group-hint=""
              data-group-limits="{}"
              data-targets="command-palette-item-stack.groups"
            >
            </command-palette-item-group>
        </command-palette-item-stack>

      <div class="js-command-local-provider-octicons" hidden>
          <div data-local-provider-octicon-id="arrow-right-color-fg-muted">
            <svg height="16" class="octicon octicon-arrow-right color-fg-muted" viewBox="0 0 16 16" version="1.1" width="16" aria-hidden="true"><path fill-rule="evenodd" d="M8.22 2.97a.75.75 0 011.06 0l4.25 4.25a.75.75 0 010 1.06l-4.25 4.25a.75.75 0 01-1.06-1.06l2.97-2.97H3.75a.75.75 0 010-1.5h7.44L8.22 4.03a.75.75 0 010-1.06z"></path></svg>
          </div>
          <div data-local-provider-octicon-id="arrow-right-color-fg-default">
            <svg height="16" class="octicon octicon-arrow-right color-fg-default" viewBox="0 0 16 16" version="1.1" width="16" aria-hidden="true"><path fill-rule="evenodd" d="M8.22 2.97a.75.75 0 011.06 0l4.25 4.25a.75.75 0 010 1.06l-4.25 4.25a.75.75 0 01-1.06-1.06l2.97-2.97H3.75a.75.75 0 010-1.5h7.44L8.22 4.03a.75.75 0 010-1.06z"></path></svg>
          </div>
          <div data-local-provider-octicon-id="codespaces-color-fg-muted">
            <svg height="16" class="octicon octicon-codespaces color-fg-muted" viewBox="0 0 16 16" version="1.1" width="16" aria-hidden="true"><path fill-rule="evenodd" d="M2 1.75C2 .784 2.784 0 3.75 0h8.5C13.216 0 14 .784 14 1.75v5a1.75 1.75 0 01-1.75 1.75h-8.5A1.75 1.75 0 012 6.75v-5zm1.75-.25a.25.25 0 00-.25.25v5c0 .138.112.25.25.25h8.5a.25.25 0 00.25-.25v-5a.25.25 0 00-.25-.25h-8.5zM0 11.25c0-.966.784-1.75 1.75-1.75h12.5c.966 0 1.75.784 1.75 1.75v3A1.75 1.75 0 0114.25 16H1.75A1.75 1.75 0 010 14.25v-3zM1.75 11a.25.25 0 00-.25.25v3c0 .138.112.25.25.25h12.5a.25.25 0 00.25-.25v-3a.25.25 0 00-.25-.25H1.75z"></path><path fill-rule="evenodd" d="M3 12.75a.75.75 0 01.75-.75h.5a.75.75 0 010 1.5h-.5a.75.75 0 01-.75-.75zm4 0a.75.75 0 01.75-.75h4.5a.75.75 0 010 1.5h-4.5a.75.75 0 01-.75-.75z"></path></svg>
          </div>
          <div data-local-provider-octicon-id="copy-color-fg-muted">
            <svg height="16" class="octicon octicon-copy color-fg-muted" viewBox="0 0 16 16" version="1.1" width="16" aria-hidden="true"><path fill-rule="evenodd" d="M0 6.75C0 5.784.784 5 1.75 5h1.5a.75.75 0 010 1.5h-1.5a.25.25 0 00-.25.25v7.5c0 .138.112.25.25.25h7.5a.25.25 0 00.25-.25v-1.5a.75.75 0 011.5 0v1.5A1.75 1.75 0 019.25 16h-7.5A1.75 1.75 0 010 14.25v-7.5z"></path><path fill-rule="evenodd" d="M5 1.75C5 .784 5.784 0 6.75 0h7.5C15.216 0 16 .784 16 1.75v7.5A1.75 1.75 0 0114.25 11h-7.5A1.75 1.75 0 015 9.25v-7.5zm1.75-.25a.25.25 0 00-.25.25v7.5c0 .138.112.25.25.25h7.5a.25.25 0 00.25-.25v-7.5a.25.25 0 00-.25-.25h-7.5z"></path></svg>
          </div>
          <div data-local-provider-octicon-id="dash-color-fg-muted">
            <svg height="16" class="octicon octicon-dash color-fg-muted" viewBox="0 0 16 16" version="1.1" width="16" aria-hidden="true"><path fill-rule="evenodd" d="M2 7.75A.75.75 0 012.75 7h10a.75.75 0 010 1.5h-10A.75.75 0 012 7.75z"></path></svg>
          </div>
          <div data-local-provider-octicon-id="file-color-fg-muted">
            <svg height="16" class="octicon octicon-file color-fg-muted" viewBox="0 0 16 16" version="1.1" width="16" aria-hidden="true"><path fill-rule="evenodd" d="M3.75 1.5a.25.25 0 00-.25.25v11.5c0 .138.112.25.25.25h8.5a.25.25 0 00.25-.25V6H9.75A1.75 1.75 0 018 4.25V1.5H3.75zm5.75.56v2.19c0 .138.112.25.25.25h2.19L9.5 2.06zM2 1.75C2 .784 2.784 0 3.75 0h5.086c.464 0 .909.184 1.237.513l3.414 3.414c.329.328.513.773.513 1.237v8.086A1.75 1.75 0 0112.25 15h-8.5A1.75 1.75 0 012 13.25V1.75z"></path></svg>
          </div>
          <div data-local-provider-octicon-id="lock-color-fg-muted">
            <svg height="16" class="octicon octicon-lock color-fg-muted" viewBox="0 0 16 16" version="1.1" width="16" aria-hidden="true"><path fill-rule="evenodd" d="M4 4v2h-.25A1.75 1.75 0 002 7.75v5.5c0 .966.784 1.75 1.75 1.75h8.5A1.75 1.75 0 0014 13.25v-5.5A1.75 1.75 0 0012.25 6H12V4a4 4 0 10-8 0zm6.5 2V4a2.5 2.5 0 00-5 0v2h5zM12 7.5h.25a.25.25 0 01.25.25v5.5a.25.25 0 01-.25.25h-8.5a.25.25 0 01-.25-.25v-5.5a.25.25 0 01.25-.25H12z"></path></svg>
          </div>
          <div data-local-provider-octicon-id="moon-color-fg-muted">
            <svg height="16" class="octicon octicon-moon color-fg-muted" viewBox="0 0 16 16" version="1.1" width="16" aria-hidden="true"><path fill-rule="evenodd" d="M9.598 1.591a.75.75 0 01.785-.175 7 7 0 11-8.967 8.967.75.75 0 01.961-.96 5.5 5.5 0 007.046-7.046.75.75 0 01.175-.786zm1.616 1.945a7 7 0 01-7.678 7.678 5.5 5.5 0 107.678-7.678z"></path></svg>
          </div>
          <div data-local-provider-octicon-id="person-color-fg-muted">
            <svg height="16" class="octicon octicon-person color-fg-muted" viewBox="0 0 16 16" version="1.1" width="16" aria-hidden="true"><path fill-rule="evenodd" d="M10.5 5a2.5 2.5 0 11-5 0 2.5 2.5 0 015 0zm.061 3.073a4 4 0 10-5.123 0 6.004 6.004 0 00-3.431 5.142.75.75 0 001.498.07 4.5 4.5 0 018.99 0 .75.75 0 101.498-.07 6.005 6.005 0 00-3.432-5.142z"></path></svg>
          </div>
          <div data-local-provider-octicon-id="pencil-color-fg-muted">
            <svg height="16" class="octicon octicon-pencil color-fg-muted" viewBox="0 0 16 16" version="1.1" width="16" aria-hidden="true"><path fill-rule="evenodd" d="M11.013 1.427a1.75 1.75 0 012.474 0l1.086 1.086a1.75 1.75 0 010 2.474l-8.61 8.61c-.21.21-.47.364-.756.445l-3.251.93a.75.75 0 01-.927-.928l.929-3.25a1.75 1.75 0 01.445-.758l8.61-8.61zm1.414 1.06a.25.25 0 00-.354 0L10.811 3.75l1.439 1.44 1.263-1.263a.25.25 0 000-.354l-1.086-1.086zM11.189 6.25L9.75 4.81l-6.286 6.287a.25.25 0 00-.064.108l-.558 1.953 1.953-.558a.249.249 0 00.108-.064l6.286-6.286z"></path></svg>
          </div>
          <div data-local-provider-octicon-id="issue-opened-open">
            <svg height="16" class="octicon octicon-issue-opened open" viewBox="0 0 16 16" version="1.1" width="16" aria-hidden="true"><path d="M8 9.5a1.5 1.5 0 100-3 1.5 1.5 0 000 3z"></path><path fill-rule="evenodd" d="M8 0a8 8 0 100 16A8 8 0 008 0zM1.5 8a6.5 6.5 0 1113 0 6.5 6.5 0 01-13 0z"></path></svg>
          </div>
          <div data-local-provider-octicon-id="git-pull-request-draft-color-fg-muted">
            <svg height="16" class="octicon octicon-git-pull-request-draft color-fg-muted" viewBox="0 0 16 16" version="1.1" width="16" aria-hidden="true"><path fill-rule="evenodd" d="M2.5 3.25a.75.75 0 111.5 0 .75.75 0 01-1.5 0zM3.25 1a2.25 2.25 0 00-.75 4.372v5.256a2.251 2.251 0 101.5 0V5.372A2.25 2.25 0 003.25 1zm0 11a.75.75 0 100 1.5.75.75 0 000-1.5zm9.5 3a2.25 2.25 0 100-4.5 2.25 2.25 0 000 4.5zm0-3a.75.75 0 100 1.5.75.75 0 000-1.5z"></path><path d="M14 7.5a1.25 1.25 0 11-2.5 0 1.25 1.25 0 012.5 0zm0-4.25a1.25 1.25 0 11-2.5 0 1.25 1.25 0 012.5 0z"></path></svg>
          </div>
          <div data-local-provider-octicon-id="search-color-fg-muted">
            <svg height="16" class="octicon octicon-search color-fg-muted" viewBox="0 0 16 16" version="1.1" width="16" aria-hidden="true"><path fill-rule="evenodd" d="M11.5 7a4.499 4.499 0 11-8.998 0A4.499 4.499 0 0111.5 7zm-.82 4.74a6 6 0 111.06-1.06l3.04 3.04a.75.75 0 11-1.06 1.06l-3.04-3.04z"></path></svg>
          </div>
          <div data-local-provider-octicon-id="sun-color-fg-muted">
            <svg height="16" class="octicon octicon-sun color-fg-muted" viewBox="0 0 16 16" version="1.1" width="16" aria-hidden="true"><path fill-rule="evenodd" d="M8 10.5a2.5 2.5 0 100-5 2.5 2.5 0 000 5zM8 12a4 4 0 100-8 4 4 0 000 8zM8 0a.75.75 0 01.75.75v1.5a.75.75 0 01-1.5 0V.75A.75.75 0 018 0zm0 13a.75.75 0 01.75.75v1.5a.75.75 0 01-1.5 0v-1.5A.75.75 0 018 13zM2.343 2.343a.75.75 0 011.061 0l1.06 1.061a.75.75 0 01-1.06 1.06l-1.06-1.06a.75.75 0 010-1.06zm9.193 9.193a.75.75 0 011.06 0l1.061 1.06a.75.75 0 01-1.06 1.061l-1.061-1.06a.75.75 0 010-1.061zM16 8a.75.75 0 01-.75.75h-1.5a.75.75 0 010-1.5h1.5A.75.75 0 0116 8zM3 8a.75.75 0 01-.75.75H.75a.75.75 0 010-1.5h1.5A.75.75 0 013 8zm10.657-5.657a.75.75 0 010 1.061l-1.061 1.06a.75.75 0 11-1.06-1.06l1.06-1.06a.75.75 0 011.06 0zm-9.193 9.193a.75.75 0 010 1.06l-1.06 1.061a.75.75 0 11-1.061-1.06l1.06-1.061a.75.75 0 011.061 0z"></path></svg>
          </div>
          <div data-local-provider-octicon-id="sync-color-fg-muted">
            <svg height="16" class="octicon octicon-sync color-fg-muted" viewBox="0 0 16 16" version="1.1" width="16" aria-hidden="true"><path fill-rule="evenodd" d="M8 2.5a5.487 5.487 0 00-4.131 1.869l1.204 1.204A.25.25 0 014.896 6H1.25A.25.25 0 011 5.75V2.104a.25.25 0 01.427-.177l1.38 1.38A7.001 7.001 0 0114.95 7.16a.75.75 0 11-1.49.178A5.501 5.501 0 008 2.5zM1.705 8.005a.75.75 0 01.834.656 5.501 5.501 0 009.592 2.97l-1.204-1.204a.25.25 0 01.177-.427h3.646a.25.25 0 01.25.25v3.646a.25.25 0 01-.427.177l-1.38-1.38A7.001 7.001 0 011.05 8.84a.75.75 0 01.656-.834z"></path></svg>
          </div>
          <div data-local-provider-octicon-id="trash-color-fg-muted">
            <svg height="16" class="octicon octicon-trash color-fg-muted" viewBox="0 0 16 16" version="1.1" width="16" aria-hidden="true"><path fill-rule="evenodd" d="M6.5 1.75a.25.25 0 01.25-.25h2.5a.25.25 0 01.25.25V3h-3V1.75zm4.5 0V3h2.25a.75.75 0 010 1.5H2.75a.75.75 0 010-1.5H5V1.75C5 .784 5.784 0 6.75 0h2.5C10.216 0 11 .784 11 1.75zM4.496 6.675a.75.75 0 10-1.492.15l.66 6.6A1.75 1.75 0 005.405 15h5.19c.9 0 1.652-.681 1.741-1.576l.66-6.6a.75.75 0 00-1.492-.149l-.66 6.6a.25.25 0 01-.249.225h-5.19a.25.25 0 01-.249-.225l-.66-6.6z"></path></svg>
          </div>
          <div data-local-provider-octicon-id="key-color-fg-muted">
            <svg height="16" class="octicon octicon-key color-fg-muted" viewBox="0 0 16 16" version="1.1" width="16" aria-hidden="true"><path fill-rule="evenodd" d="M6.5 5.5a4 4 0 112.731 3.795.75.75 0 00-.768.18L7.44 10.5H6.25a.75.75 0 00-.75.75v1.19l-.06.06H4.25a.75.75 0 00-.75.75v1.19l-.06.06H1.75a.25.25 0 01-.25-.25v-1.69l5.024-5.023a.75.75 0 00.181-.768A3.995 3.995 0 016.5 5.5zm4-5.5a5.5 5.5 0 00-5.348 6.788L.22 11.72a.75.75 0 00-.22.53v2C0 15.216.784 16 1.75 16h2a.75.75 0 00.53-.22l.5-.5a.75.75 0 00.22-.53V14h.75a.75.75 0 00.53-.22l.5-.5a.75.75 0 00.22-.53V12h.75a.75.75 0 00.53-.22l.932-.932A5.5 5.5 0 1010.5 0zm.5 6a1 1 0 100-2 1 1 0 000 2z"></path></svg>
          </div>
          <div data-local-provider-octicon-id="comment-discussion-color-fg-muted">
            <svg height="16" class="octicon octicon-comment-discussion color-fg-muted" viewBox="0 0 16 16" version="1.1" width="16" aria-hidden="true"><path fill-rule="evenodd" d="M1.5 2.75a.25.25 0 01.25-.25h8.5a.25.25 0 01.25.25v5.5a.25.25 0 01-.25.25h-3.5a.75.75 0 00-.53.22L3.5 11.44V9.25a.75.75 0 00-.75-.75h-1a.25.25 0 01-.25-.25v-5.5zM1.75 1A1.75 1.75 0 000 2.75v5.5C0 9.216.784 10 1.75 10H2v1.543a1.457 1.457 0 002.487 1.03L7.061 10h3.189A1.75 1.75 0 0012 8.25v-5.5A1.75 1.75 0 0010.25 1h-8.5zM14.5 4.75a.25.25 0 00-.25-.25h-.5a.75.75 0 110-1.5h.5c.966 0 1.75.784 1.75 1.75v5.5A1.75 1.75 0 0114.25 12H14v1.543a1.457 1.457 0 01-2.487 1.03L9.22 12.28a.75.75 0 111.06-1.06l2.22 2.22v-2.19a.75.75 0 01.75-.75h1a.25.25 0 00.25-.25v-5.5z"></path></svg>
          </div>
          <div data-local-provider-octicon-id="bell-color-fg-muted">
            <svg height="16" class="octicon octicon-bell color-fg-muted" viewBox="0 0 16 16" version="1.1" width="16" aria-hidden="true"><path d="M8 16a2 2 0 001.985-1.75c.017-.137-.097-.25-.235-.25h-3.5c-.138 0-.252.113-.235.25A2 2 0 008 16z"></path><path fill-rule="evenodd" d="M8 1.5A3.5 3.5 0 004.5 5v2.947c0 .346-.102.683-.294.97l-1.703 2.556a.018.018 0 00-.003.01l.001.006c0 .002.002.004.004.006a.017.017 0 00.006.004l.007.001h10.964l.007-.001a.016.016 0 00.006-.004.016.016 0 00.004-.006l.001-.007a.017.017 0 00-.003-.01l-1.703-2.554a1.75 1.75 0 01-.294-.97V5A3.5 3.5 0 008 1.5zM3 5a5 5 0 0110 0v2.947c0 .05.015.098.042.139l1.703 2.555A1.518 1.518 0 0113.482 13H2.518a1.518 1.518 0 01-1.263-2.36l1.703-2.554A.25.25 0 003 7.947V5z"></path></svg>
          </div>
          <div data-local-provider-octicon-id="bell-slash-color-fg-muted">
            <svg height="16" class="octicon octicon-bell-slash color-fg-muted" viewBox="0 0 16 16" version="1.1" width="16" aria-hidden="true"><path fill-rule="evenodd" d="M8 1.5c-.997 0-1.895.416-2.534 1.086A.75.75 0 014.38 1.55 5 5 0 0113 5v2.373a.75.75 0 01-1.5 0V5A3.5 3.5 0 008 1.5zM4.182 4.31L1.19 2.143a.75.75 0 10-.88 1.214L3 5.305v2.642a.25.25 0 01-.042.139L1.255 10.64A1.518 1.518 0 002.518 13h11.108l1.184.857a.75.75 0 10.88-1.214l-1.375-.996a1.196 1.196 0 00-.013-.01L4.198 4.321a.733.733 0 00-.016-.011zm7.373 7.19L4.5 6.391v1.556c0 .346-.102.683-.294.97l-1.703 2.556a.018.018 0 00-.003.01.015.015 0 00.005.012.017.017 0 00.006.004l.007.001h9.037zM8 16a2 2 0 001.985-1.75c.017-.137-.097-.25-.235-.25h-3.5c-.138 0-.252.113-.235.25A2 2 0 008 16z"></path></svg>
          </div>
      </div>

      <server-defined-provider data-type="search-links"></server-defined-provider>
      <server-defined-provider data-type="help">
          <command-palette-help
            data-group="modes_help"
              data-prefix="#"
              data-scope-types="[&quot;&quot;]"
          >
            <span data-target="command-palette-help.titleElement">Search for <strong>issues</strong> and <strong>pull requests</strong></span>
              <span data-target="command-palette-help.hintElement">
                <kbd class="hx_kbd">#</kbd>
              </span>
          </command-palette-help>
          <command-palette-help
            data-group="modes_help"
              data-prefix="#"
              data-scope-types="[&quot;owner&quot;,&quot;repository&quot;]"
          >
            <span data-target="command-palette-help.titleElement">Search for <strong>issues, pull requests, discussions,</strong> and <strong>projects</strong></span>
              <span data-target="command-palette-help.hintElement">
                <kbd class="hx_kbd">#</kbd>
              </span>
          </command-palette-help>
          <command-palette-help
            data-group="modes_help"
              data-prefix="@"
              data-scope-types="[&quot;&quot;]"
          >
            <span data-target="command-palette-help.titleElement">Search for <strong>organizations, repositories,</strong> and <strong>users</strong></span>
              <span data-target="command-palette-help.hintElement">
                <kbd class="hx_kbd">@</kbd>
              </span>
          </command-palette-help>
          <command-palette-help
            data-group="modes_help"
              data-prefix="!"
              data-scope-types="[&quot;owner&quot;,&quot;repository&quot;]"
          >
            <span data-target="command-palette-help.titleElement">Search for <strong>projects</strong></span>
              <span data-target="command-palette-help.hintElement">
                <kbd class="hx_kbd">!</kbd>
              </span>
          </command-palette-help>
          <command-palette-help
            data-group="modes_help"
              data-prefix="/"
              data-scope-types="[&quot;repository&quot;]"
          >
            <span data-target="command-palette-help.titleElement">Search for <strong>files</strong></span>
              <span data-target="command-palette-help.hintElement">
                <kbd class="hx_kbd">/</kbd>
              </span>
          </command-palette-help>
          <command-palette-help
            data-group="modes_help"
              data-prefix="&gt;"
          >
            <span data-target="command-palette-help.titleElement">Activate <strong>command mode</strong></span>
              <span data-target="command-palette-help.hintElement">
                <kbd class="hx_kbd">&gt;</kbd>
              </span>
          </command-palette-help>
          <command-palette-help
            data-group="filters_help"
              data-prefix="# author:@me"
          >
            <span data-target="command-palette-help.titleElement">Search your issues, pull requests, and discussions</span>
              <span data-target="command-palette-help.hintElement">
                <kbd class="hx_kbd"># author:@me</kbd>
              </span>
          </command-palette-help>
          <command-palette-help
            data-group="filters_help"
              data-prefix="# author:@me"
          >
            <span data-target="command-palette-help.titleElement">Search your issues, pull requests, and discussions</span>
              <span data-target="command-palette-help.hintElement">
                <kbd class="hx_kbd"># author:@me</kbd>
              </span>
          </command-palette-help>
          <command-palette-help
            data-group="filters_help"
              data-prefix="# is:pr"
          >
            <span data-target="command-palette-help.titleElement">Filter to pull requests</span>
              <span data-target="command-palette-help.hintElement">
                <kbd class="hx_kbd"># is:pr</kbd>
              </span>
          </command-palette-help>
          <command-palette-help
            data-group="filters_help"
              data-prefix="# is:issue"
          >
            <span data-target="command-palette-help.titleElement">Filter to issues</span>
              <span data-target="command-palette-help.hintElement">
                <kbd class="hx_kbd"># is:issue</kbd>
              </span>
          </command-palette-help>
          <command-palette-help
            data-group="filters_help"
              data-prefix="# is:discussion"
              data-scope-types="[&quot;owner&quot;,&quot;repository&quot;]"
          >
            <span data-target="command-palette-help.titleElement">Filter to discussions</span>
              <span data-target="command-palette-help.hintElement">
                <kbd class="hx_kbd"># is:discussion</kbd>
              </span>
          </command-palette-help>
          <command-palette-help
            data-group="filters_help"
              data-prefix="# is:project"
              data-scope-types="[&quot;owner&quot;,&quot;repository&quot;]"
          >
            <span data-target="command-palette-help.titleElement">Filter to projects</span>
              <span data-target="command-palette-help.hintElement">
                <kbd class="hx_kbd"># is:project</kbd>
              </span>
          </command-palette-help>
          <command-palette-help
            data-group="filters_help"
              data-prefix="# is:open"
          >
            <span data-target="command-palette-help.titleElement">Filter to open issues, pull requests, and discussions</span>
              <span data-target="command-palette-help.hintElement">
                <kbd class="hx_kbd"># is:open</kbd>
              </span>
          </command-palette-help>
      </server-defined-provider>
        <server-defined-provider
          data-type="prefetched"
          data-fetch-debounce="0"
            data-src="/command_palette/commands"
          data-supported-modes="[&quot;&gt;&quot;]"
            data-supports-commands
          
          ></server-defined-provider>
        <server-defined-provider
          data-type="prefetched"
          data-fetch-debounce="0"
            data-src="/command_palette/jump_to_page_navigation"
          data-supported-modes="[&quot;&quot;]"
          
          ></server-defined-provider>
        <server-defined-provider
          data-type="remote"
          data-fetch-debounce="200"
            data-src="/command_palette/issues"
          data-supported-modes="[&quot;#&quot;,&quot;#&quot;]"
            data-supported-scope-types="[&quot;owner&quot;,&quot;repository&quot;,&quot;&quot;]"
          
          ></server-defined-provider>
        <server-defined-provider
          data-type="remote"
          data-fetch-debounce="200"
            data-src="/command_palette/jump_to"
          data-supported-modes="[&quot;@&quot;,&quot;@&quot;]"
            data-supported-scope-types="[&quot;&quot;,&quot;owner&quot;]"
          
          ></server-defined-provider>
        <server-defined-provider
          data-type="remote"
          data-fetch-debounce="200"
            data-src="/command_palette/jump_to_members_only"
          data-supported-modes="[&quot;&quot;]"
          
          ></server-defined-provider>
        <server-defined-provider
          data-type="prefetched"
          data-fetch-debounce="0"
            data-src="/command_palette/jump_to_members_only_prefetched"
          data-supported-modes="[&quot;@&quot;,&quot;@&quot;,&quot;&quot;]"
            data-supported-scope-types="[&quot;&quot;,&quot;owner&quot;]"
          
          ></server-defined-provider>
        <server-defined-provider
          data-type="files"
          data-fetch-debounce="0"
            data-src="/command_palette/files"
          data-supported-modes="[&quot;/&quot;]"
            data-supported-scope-types="[&quot;repository&quot;]"
          
          ></server-defined-provider>
        <server-defined-provider
          data-type="remote"
          data-fetch-debounce="200"
            data-src="/command_palette/discussions"
          data-supported-modes="[&quot;#&quot;]"
            data-supported-scope-types="[&quot;owner&quot;,&quot;repository&quot;]"
          
          ></server-defined-provider>
        <server-defined-provider
          data-type="remote"
          data-fetch-debounce="200"
            data-src="/command_palette/projects"
          data-supported-modes="[&quot;#&quot;,&quot;!&quot;]"
            data-supported-scope-types="[&quot;owner&quot;,&quot;repository&quot;]"
          
          ></server-defined-provider>
        <server-defined-provider
          data-type="prefetched"
          data-fetch-debounce="0"
            data-src="/command_palette/recent_issues"
          data-supported-modes="[&quot;#&quot;,&quot;#&quot;]"
            data-supported-scope-types="[&quot;owner&quot;,&quot;repository&quot;,&quot;&quot;]"
          
          ></server-defined-provider>
        <server-defined-provider
          data-type="remote"
          data-fetch-debounce="200"
            data-src="/command_palette/teams"
          data-supported-modes="[&quot;@&quot;,&quot;&quot;]"
            data-supported-scope-types="[&quot;owner&quot;]"
          
          ></server-defined-provider>
        <server-defined-provider
          data-type="remote"
          data-fetch-debounce="200"
            data-src="/command_palette/name_with_owner_repository"
          data-supported-modes="[&quot;&quot;]"
          
          ></server-defined-provider>
        <server-defined-provider
          data-type="main-window-commands"
          data-fetch-debounce="0"
          data-supported-modes="[&quot;&gt;&quot;]"
            data-supports-commands
          
          ></server-defined-provider>
    </command-palette>
  </details-dialog>
</details>

<div class="position-fixed bottom-0 left-0 ml-5 mb-5 js-command-palette-toasts" style="z-index: 1000">
  <div hidden class="Toast Toast--loading">
    <span class="Toast-icon">
      <svg class="Toast--spinner" viewBox="0 0 32 32" width="18" height="18" aria-hidden="true">
        <path
          fill="#959da5"
          d="M16 0 A16 16 0 0 0 16 32 A16 16 0 0 0 16 0 M16 4 A12 12 0 0 1 16 28 A12 12 0 0 1 16 4"
        />
        <path fill="#ffffff" d="M16 0 A16 16 0 0 1 32 16 L28 16 A12 12 0 0 0 16 4z"></path>
      </svg>
    </span>
    <span class="Toast-content"></span>
  </div>

  <div hidden class="anim-fade-in fast Toast Toast--error">
    <span class="Toast-icon">
      <svg aria-hidden="true" height="16" viewBox="0 0 16 16" version="1.1" width="16" data-view-component="true" class="octicon octicon-stop">
    <path fill-rule="evenodd" d="M4.47.22A.75.75 0 015 0h6a.75.75 0 01.53.22l4.25 4.25c.141.14.22.331.22.53v6a.75.75 0 01-.22.53l-4.25 4.25A.75.75 0 0111 16H5a.75.75 0 01-.53-.22L.22 11.53A.75.75 0 010 11V5a.75.75 0 01.22-.53L4.47.22zm.84 1.28L1.5 5.31v5.38l3.81 3.81h5.38l3.81-3.81V5.31L10.69 1.5H5.31zM8 4a.75.75 0 01.75.75v3.5a.75.75 0 01-1.5 0v-3.5A.75.75 0 018 4zm0 8a1 1 0 100-2 1 1 0 000 2z"></path>
</svg>
    </span>
    <span class="Toast-content"></span>
  </div>

  <div hidden class="anim-fade-in fast Toast Toast--warning">
    <span class="Toast-icon">
      <svg aria-hidden="true" height="16" viewBox="0 0 16 16" version="1.1" width="16" data-view-component="true" class="octicon octicon-alert">
    <path fill-rule="evenodd" d="M8.22 1.754a.25.25 0 00-.44 0L1.698 13.132a.25.25 0 00.22.368h12.164a.25.25 0 00.22-.368L8.22 1.754zm-1.763-.707c.659-1.234 2.427-1.234 3.086 0l6.082 11.378A1.75 1.75 0 0114.082 15H1.918a1.75 1.75 0 01-1.543-2.575L6.457 1.047zM9 11a1 1 0 11-2 0 1 1 0 012 0zm-.25-5.25a.75.75 0 00-1.5 0v2.5a.75.75 0 001.5 0v-2.5z"></path>
</svg>
    </span>
    <span class="Toast-content"></span>
  </div>


  <div hidden class="anim-fade-in fast Toast Toast--success">
    <span class="Toast-icon">
      <svg aria-hidden="true" height="16" viewBox="0 0 16 16" version="1.1" width="16" data-view-component="true" class="octicon octicon-check">
    <path fill-rule="evenodd" d="M13.78 4.22a.75.75 0 010 1.06l-7.25 7.25a.75.75 0 01-1.06 0L2.22 9.28a.75.75 0 011.06-1.06L6 10.94l6.72-6.72a.75.75 0 011.06 0z"></path>
</svg>
    </span>
    <span class="Toast-content"></span>
  </div>

  <div hidden class="anim-fade-in fast Toast">
    <span class="Toast-icon">
      <svg aria-hidden="true" height="16" viewBox="0 0 16 16" version="1.1" width="16" data-view-component="true" class="octicon octicon-info">
    <path fill-rule="evenodd" d="M8 1.5a6.5 6.5 0 100 13 6.5 6.5 0 000-13zM0 8a8 8 0 1116 0A8 8 0 010 8zm6.5-.25A.75.75 0 017.25 7h1a.75.75 0 01.75.75v2.75h.25a.75.75 0 010 1.5h-2a.75.75 0 010-1.5h.25v-2h-.25a.75.75 0 01-.75-.75zM8 6a1 1 0 100-2 1 1 0 000 2z"></path>
</svg>
    </span>
    <span class="Toast-content"></span>
  </div>
</div>

      <div hidden class="js-command-palette-pjax-meta-data" data-pjax-replace id="command-palette-pjax-meta-data"
    data-subject-id="R_kgDOG3Yh0A"
    data-subject-type="Repository"
>
</div>


  <div
    class="application-main "
    data-commit-hovercards-enabled
    data-discussion-hovercards-enabled
    data-issue-and-pr-hovercards-enabled
  >
        <div itemscope itemtype="http://schema.org/SoftwareSourceCode" class="">
    <main id="js-repo-pjax-container" data-pjax-container >
      
    






  <div id="repository-container-header" class="pt-3 hide-full-screen mb-5" style="background-color: var(--color-page-header-bg);" data-pjax-replace>

      <div class="d-flex mb-3 px-3 px-md-4 px-lg-5">

        <div class="flex-auto min-width-0 width-fit mr-3">
            <h1 class=" d-flex flex-wrap flex-items-center wb-break-word f3 text-normal">
    <svg aria-hidden="true" height="16" viewBox="0 0 16 16" version="1.1" width="16" data-view-component="true" class="octicon octicon-lock color-fg-muted mr-2">
    <path fill-rule="evenodd" d="M4 4v2h-.25A1.75 1.75 0 002 7.75v5.5c0 .966.784 1.75 1.75 1.75h8.5A1.75 1.75 0 0014 13.25v-5.5A1.75 1.75 0 0012.25 6H12V4a4 4 0 10-8 0zm6.5 2V4a2.5 2.5 0 00-5 0v2h5zM12 7.5h.25a.25.25 0 01.25.25v5.5a.25.25 0 01-.25.25h-8.5a.25.25 0 01-.25-.25v-5.5a.25.25 0 01.25-.25H12z"></path>
</svg>
  <span class="author flex-self-stretch" itemprop="author">
    <a class="url fn" rel="author" data-hovercard-type="user" data-hovercard-url="/users/anibaltafur/hovercard" data-octo-click="hovercard-link-click" data-octo-dimensions="link_type:self" href="/anibaltafur">anibaltafur</a>
  </span>
  <span class="mx-1 flex-self-stretch color-fg-muted">/</span>
  <strong itemprop="name" class="mr-2 flex-self-stretch">
    <a data-pjax="#repo-content-pjax-container" href="/anibaltafur/mynewbook">mynewbook</a>
  </strong>

  <span></span><span class="Label Label--secondary v-align-middle mr-1">Private</span>
</h1>

        </div>

          <ul class="pagehead-actions flex-shrink-0 d-none d-md-inline" style="padding: 2px 0;">

  

  <li>
        <notifications-list-subscription-form
      data-action="notifications-dialog-label-toggled:notifications-list-subscription-form#handleDialogLabelToggle"
      class="f5 position-relative"
    >
      <details
        class="details-reset details-overlay f5 position-relative"
        data-target="notifications-list-subscription-form.details"
        data-action="toggle:notifications-list-subscription-form#detailsToggled"
      >

      <summary data-hydro-click="{&quot;event_type&quot;:&quot;repository.click&quot;,&quot;payload&quot;:{&quot;target&quot;:&quot;WATCH_BUTTON&quot;,&quot;repository_id&quot;:460726736,&quot;originating_url&quot;:&quot;https://github.com/anibaltafur/mynewbook/blame/main/HW2.ipynb&quot;,&quot;user_id&quot;:54555240}}" data-hydro-click-hmac="d2ac3e79bc5ec177cf8c8213635dba2072503c3f214379c389951e14241a815e" data-ga-click="Repository, click Watch settings, action:blob#blame" aria-label="Notification settings" data-view-component="true" class="btn-sm btn">  <span data-menu-button>
            <span
              
              
              data-target="notifications-list-subscription-form.unwatchButtonCopy"
            >
              <svg aria-hidden="true" height="16" viewBox="0 0 16 16" version="1.1" width="16" data-view-component="true" class="octicon octicon-eye">
    <path fill-rule="evenodd" d="M1.679 7.932c.412-.621 1.242-1.75 2.366-2.717C5.175 4.242 6.527 3.5 8 3.5c1.473 0 2.824.742 3.955 1.715 1.124.967 1.954 2.096 2.366 2.717a.119.119 0 010 .136c-.412.621-1.242 1.75-2.366 2.717C10.825 11.758 9.473 12.5 8 12.5c-1.473 0-2.824-.742-3.955-1.715C2.92 9.818 2.09 8.69 1.679 8.068a.119.119 0 010-.136zM8 2c-1.981 0-3.67.992-4.933 2.078C1.797 5.169.88 6.423.43 7.1a1.619 1.619 0 000 1.798c.45.678 1.367 1.932 2.637 3.024C4.329 13.008 6.019 14 8 14c1.981 0 3.67-.992 4.933-2.078 1.27-1.091 2.187-2.345 2.637-3.023a1.619 1.619 0 000-1.798c-.45-.678-1.367-1.932-2.637-3.023C11.671 2.992 9.981 2 8 2zm0 8a2 2 0 100-4 2 2 0 000 4z"></path>
</svg>
              Unwatch
            </span>
            <span
              hidden
              
              data-target="notifications-list-subscription-form.stopIgnoringButtonCopy"
            >
              <svg aria-hidden="true" height="16" viewBox="0 0 16 16" version="1.1" width="16" data-view-component="true" class="octicon octicon-bell-slash">
    <path fill-rule="evenodd" d="M8 1.5c-.997 0-1.895.416-2.534 1.086A.75.75 0 014.38 1.55 5 5 0 0113 5v2.373a.75.75 0 01-1.5 0V5A3.5 3.5 0 008 1.5zM4.182 4.31L1.19 2.143a.75.75 0 10-.88 1.214L3 5.305v2.642a.25.25 0 01-.042.139L1.255 10.64A1.518 1.518 0 002.518 13h11.108l1.184.857a.75.75 0 10.88-1.214l-1.375-.996a1.196 1.196 0 00-.013-.01L4.198 4.321a.733.733 0 00-.016-.011zm7.373 7.19L4.5 6.391v1.556c0 .346-.102.683-.294.97l-1.703 2.556a.018.018 0 00-.003.01.015.015 0 00.005.012.017.017 0 00.006.004l.007.001h9.037zM8 16a2 2 0 001.985-1.75c.017-.137-.097-.25-.235-.25h-3.5c-.138 0-.252.113-.235.25A2 2 0 008 16z"></path>
</svg>
              Stop ignoring
            </span>
            <span
              hidden
              
              data-target="notifications-list-subscription-form.watchButtonCopy"
            >
              <svg aria-hidden="true" height="16" viewBox="0 0 16 16" version="1.1" width="16" data-view-component="true" class="octicon octicon-eye">
    <path fill-rule="evenodd" d="M1.679 7.932c.412-.621 1.242-1.75 2.366-2.717C5.175 4.242 6.527 3.5 8 3.5c1.473 0 2.824.742 3.955 1.715 1.124.967 1.954 2.096 2.366 2.717a.119.119 0 010 .136c-.412.621-1.242 1.75-2.366 2.717C10.825 11.758 9.473 12.5 8 12.5c-1.473 0-2.824-.742-3.955-1.715C2.92 9.818 2.09 8.69 1.679 8.068a.119.119 0 010-.136zM8 2c-1.981 0-3.67.992-4.933 2.078C1.797 5.169.88 6.423.43 7.1a1.619 1.619 0 000 1.798c.45.678 1.367 1.932 2.637 3.024C4.329 13.008 6.019 14 8 14c1.981 0 3.67-.992 4.933-2.078 1.27-1.091 2.187-2.345 2.637-3.023a1.619 1.619 0 000-1.798c-.45-.678-1.367-1.932-2.637-3.023C11.671 2.992 9.981 2 8 2zm0 8a2 2 0 100-4 2 2 0 000 4z"></path>
</svg>
              Watch
            </span>
          </span>
            <span id="repo-notifications-counter" data-target="notifications-list-subscription-form.socialCount" data-pjax-replace="true" title="1" data-view-component="true" class="Counter">1</span>
          <span class="dropdown-caret"></span>
</summary>
        <details-menu
          class="SelectMenu  "
          role="menu"
          data-target="notifications-list-subscription-form.menu"
          
        >
          <div class="SelectMenu-modal notifications-component-menu-modal">
            <header class="SelectMenu-header">
              <h3 class="SelectMenu-title">Notifications</h3>
              <button class="SelectMenu-closeButton" type="button" aria-label="Close menu" data-action="click:notifications-list-subscription-form#closeMenu">
                <svg aria-hidden="true" height="16" viewBox="0 0 16 16" version="1.1" width="16" data-view-component="true" class="octicon octicon-x">
    <path fill-rule="evenodd" d="M3.72 3.72a.75.75 0 011.06 0L8 6.94l3.22-3.22a.75.75 0 111.06 1.06L9.06 8l3.22 3.22a.75.75 0 11-1.06 1.06L8 9.06l-3.22 3.22a.75.75 0 01-1.06-1.06L6.94 8 3.72 4.78a.75.75 0 010-1.06z"></path>
</svg>
              </button>
            </header>

            <div class="SelectMenu-list">
              <form data-target="notifications-list-subscription-form.form" data-action="submit:notifications-list-subscription-form#submitForm" action="/notifications/subscribe" accept-charset="UTF-8" method="post"><input type="hidden" name="authenticity_token" value="fGUe1DEivXm7Sg7qgAjXegyutgd1iojphbHIWZCHdCRLAeS26hiyLUvAD0mwFpmlKKnG84t7mR6vcZHCWkngjw" autocomplete="off" />

                <input type="hidden" name="repository_id" value="460726736">

                <button
                  type="submit"
                  name="do"
                  value="included"
                  class="SelectMenu-item flex-items-start"
                  role="menuitemradio"
                  aria-checked="false"
                  data-targets="notifications-list-subscription-form.subscriptionButtons"
                  
                >
                  <span class="f5">
                    <svg aria-hidden="true" height="16" viewBox="0 0 16 16" version="1.1" width="16" data-view-component="true" class="octicon octicon-check SelectMenu-icon SelectMenu-icon--check">
    <path fill-rule="evenodd" d="M13.78 4.22a.75.75 0 010 1.06l-7.25 7.25a.75.75 0 01-1.06 0L2.22 9.28a.75.75 0 011.06-1.06L6 10.94l6.72-6.72a.75.75 0 011.06 0z"></path>
</svg>
                  </span>
                  <div>
                    <div class="f5 text-bold">
                      Participating and @mentions
                    </div>
                    <div class="text-small color-fg-muted text-normal pb-1">
                      Only receive notifications from this repository when participating or @mentioned.
                    </div>
                  </div>
                </button>

                <button
                  type="submit"
                  name="do"
                  value="subscribed"
                  class="SelectMenu-item flex-items-start"
                  role="menuitemradio"
                  aria-checked="true"
                  data-targets="notifications-list-subscription-form.subscriptionButtons"
                >
                  <span class="f5">
                    <svg aria-hidden="true" height="16" viewBox="0 0 16 16" version="1.1" width="16" data-view-component="true" class="octicon octicon-check SelectMenu-icon SelectMenu-icon--check">
    <path fill-rule="evenodd" d="M13.78 4.22a.75.75 0 010 1.06l-7.25 7.25a.75.75 0 01-1.06 0L2.22 9.28a.75.75 0 011.06-1.06L6 10.94l6.72-6.72a.75.75 0 011.06 0z"></path>
</svg>
                  </span>
                  <div>
                    <div class="f5 text-bold">
                      All Activity
                    </div>
                    <div class="text-small color-fg-muted text-normal pb-1">
                      Notified of all notifications on this repository.
                    </div>
                  </div>
                </button>

                <button
                  type="submit"
                  name="do"
                  value="ignore"
                  class="SelectMenu-item flex-items-start"
                  role="menuitemradio"
                  aria-checked="false"
                  data-targets="notifications-list-subscription-form.subscriptionButtons"
                >
                  <span class="f5">
                    <svg aria-hidden="true" height="16" viewBox="0 0 16 16" version="1.1" width="16" data-view-component="true" class="octicon octicon-check SelectMenu-icon SelectMenu-icon--check">
    <path fill-rule="evenodd" d="M13.78 4.22a.75.75 0 010 1.06l-7.25 7.25a.75.75 0 01-1.06 0L2.22 9.28a.75.75 0 011.06-1.06L6 10.94l6.72-6.72a.75.75 0 011.06 0z"></path>
</svg>
                  </span>
                  <div>
                    <div class="f5 text-bold">
                      Ignore
                    </div>
                    <div class="text-small color-fg-muted text-normal pb-1">
                      Never be notified.
                    </div>
                  </div>
                </button>
</form>
              <button
                class="SelectMenu-item flex-items-start pr-3"
                type="button"
                role="menuitemradio"
                data-target="notifications-list-subscription-form.customButton"
                data-action="click:notifications-list-subscription-form#openCustomDialog"
                aria-haspopup="true"
                aria-checked="false"
                
              >
                <span class="f5">
                  <svg aria-hidden="true" height="16" viewBox="0 0 16 16" version="1.1" width="16" data-view-component="true" class="octicon octicon-check SelectMenu-icon SelectMenu-icon--check">
    <path fill-rule="evenodd" d="M13.78 4.22a.75.75 0 010 1.06l-7.25 7.25a.75.75 0 01-1.06 0L2.22 9.28a.75.75 0 011.06-1.06L6 10.94l6.72-6.72a.75.75 0 011.06 0z"></path>
</svg>
                </span>
                <div>
                  <div class="d-flex flex-items-start flex-justify-between">
                    <div class="f5 text-bold">Custom</div>
                    <div class="f5 pr-1">
                      <svg aria-hidden="true" height="16" viewBox="0 0 16 16" version="1.1" width="16" data-view-component="true" class="octicon octicon-arrow-right">
    <path fill-rule="evenodd" d="M8.22 2.97a.75.75 0 011.06 0l4.25 4.25a.75.75 0 010 1.06l-4.25 4.25a.75.75 0 01-1.06-1.06l2.97-2.97H3.75a.75.75 0 010-1.5h7.44L8.22 4.03a.75.75 0 010-1.06z"></path>
</svg>
                    </div>
                  </div>
                  <div class="text-small color-fg-muted text-normal pb-1">
                    Select events you want to be notified of in addition to participating and @mentions.
                  </div>
                </div>
              </button>

                <div class="px-3 py-2 d-flex color-bg-subtle flex-items-center">
                  <span class="f5">
                    <svg aria-hidden="true" height="16" viewBox="0 0 16 16" version="1.1" width="16" data-view-component="true" class="octicon octicon-device-mobile SelectMenu-icon SelectMenu-icon--device-mobile">
    <path fill-rule="evenodd" d="M3.75 0A1.75 1.75 0 002 1.75v12.5c0 .966.784 1.75 1.75 1.75h8.5A1.75 1.75 0 0014 14.25V1.75A1.75 1.75 0 0012.25 0h-8.5zM3.5 1.75a.25.25 0 01.25-.25h8.5a.25.25 0 01.25.25v12.5a.25.25 0 01-.25.25h-8.5a.25.25 0 01-.25-.25V1.75zM8 13a1 1 0 100-2 1 1 0 000 2z"></path>
</svg>
                  </span>
                  <span className="text-small color-fg-muted text-normal pb-1">
                    Get push notifications on <a target="_blank" rel="noopener noreferrer" href="https://apps.apple.com/app/apple-store/id1477376905?ct=watch-dropdown&amp;mt=8&amp;pt=524675">iOS</a> or <a target="_blank" rel="noopener noreferrer" href="https://play.google.com/store/apps/details?id=com.github.android&amp;referrer=utm_campaign%3Dwatch-dropdown%26utm_medium%3Dweb%26utm_source%3Dgithub">Android</a>.
                  </span>
                </div>
            </div>
          </div>
        </details-menu>

        <details-dialog
          class="notifications-component-dialog "
          data-target="notifications-list-subscription-form.customDialog"
          aria-label="Custom dialog"
          hidden
        >
          <div class="SelectMenu-modal notifications-component-dialog-modal overflow-visible">
            <form data-target="notifications-list-subscription-form.customform" data-action="submit:notifications-list-subscription-form#submitCustomForm" action="/notifications/subscribe" accept-charset="UTF-8" method="post"><input type="hidden" name="authenticity_token" value="cjlhXCns9tYpTQTCgCtOzomfRCXcDKrvC4Eo3ghvBbRFXZs-8tb5gtnHBWGwNQARrZg00SL9uxghQXFFwqGRHw" autocomplete="off" />

              <input type="hidden" name="repository_id" value="460726736">

              <header class="d-sm-none SelectMenu-header pb-0 border-bottom-0 px-2 px-sm-3">
                <h1 class="f3 SelectMenu-title d-inline-flex">
                  <button
                    class="color-bg-default border-0 px-2 py-0 m-0 Link--secondary f5"
                    aria-label="Return to menu"
                    type="button"
                    data-action="click:notifications-list-subscription-form#closeCustomDialog"
                  >
                    <svg aria-hidden="true" height="16" viewBox="0 0 16 16" version="1.1" width="16" data-view-component="true" class="octicon octicon-arrow-left">
    <path fill-rule="evenodd" d="M7.78 12.53a.75.75 0 01-1.06 0L2.47 8.28a.75.75 0 010-1.06l4.25-4.25a.75.75 0 011.06 1.06L4.81 7h7.44a.75.75 0 010 1.5H4.81l2.97 2.97a.75.75 0 010 1.06z"></path>
</svg>
                  </button>
                  Custom
                </h1>
              </header>

              <header class="d-none d-sm-flex flex-items-start pt-1">
                <button
                  class="border-0 px-2 pt-1 m-0 Link--secondary f5"
                  style="background-color: transparent;"
                  aria-label="Return to menu"
                  type="button"
                  data-action="click:notifications-list-subscription-form#closeCustomDialog"
                >
                  <svg style="position: relative; left: 2px; top: 1px" aria-hidden="true" height="16" viewBox="0 0 16 16" version="1.1" width="16" data-view-component="true" class="octicon octicon-arrow-left">
    <path fill-rule="evenodd" d="M7.78 12.53a.75.75 0 01-1.06 0L2.47 8.28a.75.75 0 010-1.06l4.25-4.25a.75.75 0 011.06 1.06L4.81 7h7.44a.75.75 0 010 1.5H4.81l2.97 2.97a.75.75 0 010 1.06z"></path>
</svg>
                </button>

                <h1 class="pt-1 pr-4 pb-0 pl-0 f5 text-bold">
                  Custom
                </h1>
              </header>

              <fieldset>
                <legend>
                  <div class="text-small color-fg-muted pt-0 pr-3 pb-3 pl-6 pl-sm-5 border-bottom mb-3">
                    Select events you want to be notified of in addition to participating and @mentions.
                  </div>
                </legend>
                <div data-target="notifications-list-subscription-form.labelInputs">
                </div>
                  <div class="form-checkbox mr-3 ml-6 ml-sm-5 mb-2 mt-0">
                    <label class="f5 text-normal">
                      <input
                        type="checkbox"
                        name="thread_types[]"
                        value="Issue"
                        data-targets="notifications-list-subscription-form.threadTypeCheckboxes"
                        data-action="change:notifications-list-subscription-form#threadTypeCheckboxesUpdated"
                        
                      >
                      Issues
                    </label>

                  </div>
                  <div class="form-checkbox mr-3 ml-6 ml-sm-5 mb-2 mt-0">
                    <label class="f5 text-normal">
                      <input
                        type="checkbox"
                        name="thread_types[]"
                        value="PullRequest"
                        data-targets="notifications-list-subscription-form.threadTypeCheckboxes"
                        data-action="change:notifications-list-subscription-form#threadTypeCheckboxesUpdated"
                        
                      >
                      Pull requests
                    </label>

                  </div>
                  <div class="form-checkbox mr-3 ml-6 ml-sm-5 mb-2 mt-0">
                    <label class="f5 text-normal">
                      <input
                        type="checkbox"
                        name="thread_types[]"
                        value="Release"
                        data-targets="notifications-list-subscription-form.threadTypeCheckboxes"
                        data-action="change:notifications-list-subscription-form#threadTypeCheckboxesUpdated"
                        
                      >
                      Releases
                    </label>

                  </div>
                  <div class="form-checkbox mr-3 ml-6 ml-sm-5 mb-2 mt-0">
                    <label class="f5 text-normal">
                      <input
                        type="checkbox"
                        name="thread_types[]"
                        value="Discussion"
                        data-targets="notifications-list-subscription-form.threadTypeCheckboxes"
                        data-action="change:notifications-list-subscription-form#threadTypeCheckboxesUpdated"
                        
                      >
                      Discussions
                    </label>

                      <span
                        class="tooltipped tooltipped-nw mr-2 p-1 float-right"
                        
                        aria-label="Discussions are not enabled for this repo">
                        <svg aria-hidden="true" height="16" viewBox="0 0 16 16" version="1.1" width="16" data-view-component="true" class="octicon octicon-info color-fg-muted">
    <path fill-rule="evenodd" d="M8 1.5a6.5 6.5 0 100 13 6.5 6.5 0 000-13zM0 8a8 8 0 1116 0A8 8 0 010 8zm6.5-.25A.75.75 0 017.25 7h1a.75.75 0 01.75.75v2.75h.25a.75.75 0 010 1.5h-2a.75.75 0 010-1.5h.25v-2h-.25a.75.75 0 01-.75-.75zM8 6a1 1 0 100-2 1 1 0 000 2z"></path>
</svg>
                      </span>
                  </div>
                  <div class="form-checkbox mr-3 ml-6 ml-sm-5 mb-2 mt-0">
                    <label class="f5 text-normal">
                      <input
                        type="checkbox"
                        name="thread_types[]"
                        value="SecurityAlert"
                        data-targets="notifications-list-subscription-form.threadTypeCheckboxes"
                        data-action="change:notifications-list-subscription-form#threadTypeCheckboxesUpdated"
                        
                      >
                      Security alerts
                    </label>

                  </div>
              </fieldset>
              <div class="pt-2 pb-3 px-3 d-flex flex-justify-start flex-row-reverse">
                <button name="do" value="custom" data-target="notifications-list-subscription-form.customSubmit" disabled="disabled" type="submit" data-view-component="true" class="btn-primary btn-sm btn ml-2">  Apply
</button>

                <button data-action="click:notifications-list-subscription-form#resetForm" data-close-dialog="" type="button" data-view-component="true" class="btn-sm btn">  Cancel
</button>
              </div>
</form>          </div>
        </details-dialog>


        <div class="notifications-component-dialog-overlay"></div>
      </details>
    </notifications-list-subscription-form>



  </li>

  <li>
          <button aria-label="Cannot fork because you own this repository and are not a member of any organizations." disabled="disabled" type="button" data-view-component="true" class="tooltipped tooltipped-s btn-sm btn">  <svg aria-hidden="true" height="16" viewBox="0 0 16 16" version="1.1" width="16" data-view-component="true" class="octicon octicon-repo-forked mr-2">
    <path fill-rule="evenodd" d="M5 3.25a.75.75 0 11-1.5 0 .75.75 0 011.5 0zm0 2.122a2.25 2.25 0 10-1.5 0v.878A2.25 2.25 0 005.75 8.5h1.5v2.128a2.251 2.251 0 101.5 0V8.5h1.5a2.25 2.25 0 002.25-2.25v-.878a2.25 2.25 0 10-1.5 0v.878a.75.75 0 01-.75.75h-4.5A.75.75 0 015 6.25v-.878zm3.75 7.378a.75.75 0 11-1.5 0 .75.75 0 011.5 0zm3-8.75a.75.75 0 100-1.5.75.75 0 000 1.5z"></path>
</svg>Fork
      <span id="repo-network-counter" data-pjax-replace="true" title="0" data-view-component="true" class="Counter">0</span>
</button>
  </li>

  <li>
        <template class="js-unstar-confirmation-dialog-template">
  <div class="Box-header">
    <h2 class="Box-title">Unstar this repository?</h2>
  </div>
  <div class="Box-body">
    <p class="mb-3">
      This will remove {{ repoNameWithOwner }} from the {{ listsWithCount }} that it's been added to.
    </p>
    <div class="form-actions">
      <form class="js-social-confirmation-form" action="{{ confirmUrl }}" accept-charset="UTF-8" method="post">
        <input type="hidden" name="authenticity_token" value="{{ confirmCsrfToken }}">
        <input type="hidden" name="confirm" value="true">
        <button data-close-dialog="true" type="submit" data-view-component="true" class="btn-danger btn width-full">  Unstar
</button>
</form>    </div>
  </div>
</template>

  <div data-view-component="true" class="js-toggler-container js-social-container starring-container BtnGroup d-flex">
    <form class="starred js-social-form BtnGroup-parent flex-auto js-deferred-toggler-target" action="/anibaltafur/mynewbook/unstar" accept-charset="UTF-8" method="post"><input type="hidden" name="authenticity_token" value="4nQSZ2odkvAQkbhsGwh3AZWfNCmcxPBYIokd9DyXvYuac_7fFdI7STGsZ_7sVPvAuqEISjCIBPnTFzVuxvrNpg" autocomplete="off" />
        <input type="hidden" value="H-mJHVcyMyXblIzPisxAPJjlQ5-KxHgYAgqFLsAVzJxn7mWlKP2anPqpU119kMz9t9t__CaIjLnzlK20Oni8sQ" data-csrf="true" class="js-confirm-csrf-token" />
      <input type="hidden" name="context" value="repository">
      <button data-hydro-click="{&quot;event_type&quot;:&quot;repository.click&quot;,&quot;payload&quot;:{&quot;target&quot;:&quot;UNSTAR_BUTTON&quot;,&quot;repository_id&quot;:460726736,&quot;originating_url&quot;:&quot;https://github.com/anibaltafur/mynewbook/blame/main/HW2.ipynb&quot;,&quot;user_id&quot;:54555240}}" data-hydro-click-hmac="0c67805901e66290e868f5d5801374c00b5ba62380eeeb8982788f92011405b0" data-ga-click="Repository, click unstar button, action:blob#blame; text:Unstar" aria-label="Unstar this repository" type="submit" data-view-component="true" class="rounded-left-2 border-right-0 btn-sm btn BtnGroup-item">  <svg aria-hidden="true" height="16" viewBox="0 0 16 16" version="1.1" width="16" data-view-component="true" class="octicon octicon-star-fill starred-button-icon d-inline-block mr-2">
    <path fill-rule="evenodd" d="M8 .25a.75.75 0 01.673.418l1.882 3.815 4.21.612a.75.75 0 01.416 1.279l-3.046 2.97.719 4.192a.75.75 0 01-1.088.791L8 12.347l-3.766 1.98a.75.75 0 01-1.088-.79l.72-4.194L.818 6.374a.75.75 0 01.416-1.28l4.21-.611L7.327.668A.75.75 0 018 .25z"></path>
</svg><span data-view-component="true" class="d-inline">
          Starred
</span>          <span id="repo-stars-counter-unstar" aria-label="0 users starred this repository" data-singular-suffix="user starred this repository" data-plural-suffix="users starred this repository" data-pjax-replace="true" title="0" data-view-component="true" class="Counter js-social-count">0</span>
</button></form>
    <form class="unstarred js-social-form BtnGroup-parent flex-auto" action="/anibaltafur/mynewbook/star" accept-charset="UTF-8" method="post"><input type="hidden" name="authenticity_token" value="AZbyvpw0UAGPuhkSXrsK4EeBbs5iswneI2fjg7GdSHk0kQnVgOLQWYe7GyJ1YTmdHcU-rBu2ozhw9_axiTjiuA" autocomplete="off" />
      <input type="hidden" name="context" value="repository">
      <button data-hydro-click="{&quot;event_type&quot;:&quot;repository.click&quot;,&quot;payload&quot;:{&quot;target&quot;:&quot;STAR_BUTTON&quot;,&quot;repository_id&quot;:460726736,&quot;originating_url&quot;:&quot;https://github.com/anibaltafur/mynewbook/blame/main/HW2.ipynb&quot;,&quot;user_id&quot;:54555240}}" data-hydro-click-hmac="e41d6e17662f0f3ccc6f5fe41ca668c95b324c54d5b75be82ab69bceea8a1a92" data-ga-click="Repository, click star button, action:blob#blame; text:Star" aria-label="Star this repository" type="submit" data-view-component="true" class="js-toggler-target rounded-left-2 btn-sm btn BtnGroup-item">  <svg aria-hidden="true" height="16" viewBox="0 0 16 16" version="1.1" width="16" data-view-component="true" class="octicon octicon-star d-inline-block mr-2">
    <path fill-rule="evenodd" d="M8 .25a.75.75 0 01.673.418l1.882 3.815 4.21.612a.75.75 0 01.416 1.279l-3.046 2.97.719 4.192a.75.75 0 01-1.088.791L8 12.347l-3.766 1.98a.75.75 0 01-1.088-.79l.72-4.194L.818 6.374a.75.75 0 01.416-1.28l4.21-.611L7.327.668A.75.75 0 018 .25zm0 2.445L6.615 5.5a.75.75 0 01-.564.41l-3.097.45 2.24 2.184a.75.75 0 01.216.664l-.528 3.084 2.769-1.456a.75.75 0 01.698 0l2.77 1.456-.53-3.084a.75.75 0 01.216-.664l2.24-2.183-3.096-.45a.75.75 0 01-.564-.41L8 2.694v.001z"></path>
</svg><span data-view-component="true" class="d-inline">
          Star
</span>          <span id="repo-stars-counter-star" aria-label="0 users starred this repository" data-singular-suffix="user starred this repository" data-plural-suffix="users starred this repository" data-pjax-replace="true" title="0" data-view-component="true" class="Counter js-social-count">0</span>
</button></form>
      <details id="details-1cfc1e" data-view-component="true" class="details-reset details-overlay BtnGroup-parent js-user-list-menu d-inline-block position-relative">
      <summary aria-label="Add this repository to a list" data-view-component="true" class="btn-sm btn BtnGroup-item px-2 float-none">  <svg aria-hidden="true" height="16" viewBox="0 0 16 16" version="1.1" width="16" data-view-component="true" class="octicon octicon-triangle-down">
    <path d="M4.427 7.427l3.396 3.396a.25.25 0 00.354 0l3.396-3.396A.25.25 0 0011.396 7H4.604a.25.25 0 00-.177.427z"></path>
</svg>
</summary>
  <details-menu
    class="SelectMenu right-0"
      src="/anibaltafur/mynewbook/lists"
      
      role="menu"
      
>
    <div class="SelectMenu-modal">
        <button class="SelectMenu-closeButton position-absolute right-0 m-2" type="button" aria-label="Close menu" data-toggle-for="details-1cfc1e">
          <svg aria-hidden="true" height="16" viewBox="0 0 16 16" version="1.1" width="16" data-view-component="true" class="octicon octicon-x">
    <path fill-rule="evenodd" d="M3.72 3.72a.75.75 0 011.06 0L8 6.94l3.22-3.22a.75.75 0 111.06 1.06L9.06 8l3.22 3.22a.75.75 0 11-1.06 1.06L8 9.06l-3.22 3.22a.75.75 0 01-1.06-1.06L6.94 8 3.72 4.78a.75.75 0 010-1.06z"></path>
</svg>
        </button>
      <div
        id="filter-menu-1cfc1e"
        class="d-flex flex-column flex-1 overflow-hidden"
>
        <div
          class="SelectMenu-list"
          >

            <include-fragment class="SelectMenu-loading" aria-label="Loading">
              <svg style="box-sizing: content-box; color: var(--color-icon-primary);" width="32" height="32" viewBox="0 0 16 16" fill="none" data-view-component="true" class="anim-rotate">
  <circle cx="8" cy="8" r="7" stroke="currentColor" stroke-opacity="0.25" stroke-width="2" vector-effect="non-scaling-stroke" />
  <path d="M15 8a7.002 7.002 0 00-7-7" stroke="currentColor" stroke-width="2" stroke-linecap="round" vector-effect="non-scaling-stroke" />
</svg>
            </include-fragment>
        </div>
        
      </div>
    </div>
  </details-menu>
</details>
</div>
  </li>

  <li>
    

  </li>
</ul>

      </div>

      <div id="responsive-meta-container" data-pjax-replace>
</div>


        
<nav data-pjax="#js-repo-pjax-container" aria-label="Repository" data-view-component="true" class="js-repo-nav js-sidenav-container-pjax js-responsive-underlinenav overflow-hidden UnderlineNav px-3 px-md-4 px-lg-5">

  <ul data-view-component="true" class="UnderlineNav-body list-style-none">
      <li data-view-component="true" class="d-inline-flex">
  <a id="code-tab" href="/anibaltafur/mynewbook" data-tab-item="i0code-tab" data-selected-links="repo_source repo_downloads repo_commits repo_releases repo_tags repo_branches repo_packages repo_deployments /anibaltafur/mynewbook" data-pjax="#repo-content-pjax-container" data-hotkey="g c" data-ga-click="Repository, Navigation click, Code tab" aria-current="page" data-view-component="true" class="UnderlineNav-item hx_underlinenav-item no-wrap js-responsive-underlinenav-item js-selected-navigation-item selected">
    
                  <svg aria-hidden="true" height="16" viewBox="0 0 16 16" version="1.1" width="16" data-view-component="true" class="octicon octicon-code UnderlineNav-octicon d-none d-sm-inline">
    <path fill-rule="evenodd" d="M4.72 3.22a.75.75 0 011.06 1.06L2.06 8l3.72 3.72a.75.75 0 11-1.06 1.06L.47 8.53a.75.75 0 010-1.06l4.25-4.25zm6.56 0a.75.75 0 10-1.06 1.06L13.94 8l-3.72 3.72a.75.75 0 101.06 1.06l4.25-4.25a.75.75 0 000-1.06l-4.25-4.25z"></path>
</svg>
          <span data-content="Code">Code</span>
            <span id="code-repo-tab-count" data-pjax-replace="" title="Not available" data-view-component="true" class="Counter"></span>


    
</a></li>
      <li data-view-component="true" class="d-inline-flex">
  <a id="issues-tab" href="/anibaltafur/mynewbook/issues" data-tab-item="i1issues-tab" data-selected-links="repo_issues repo_labels repo_milestones /anibaltafur/mynewbook/issues" data-pjax="#repo-content-pjax-container" data-hotkey="g i" data-ga-click="Repository, Navigation click, Issues tab" data-view-component="true" class="UnderlineNav-item hx_underlinenav-item no-wrap js-responsive-underlinenav-item js-selected-navigation-item">
    
                  <svg aria-hidden="true" height="16" viewBox="0 0 16 16" version="1.1" width="16" data-view-component="true" class="octicon octicon-issue-opened UnderlineNav-octicon d-none d-sm-inline">
    <path d="M8 9.5a1.5 1.5 0 100-3 1.5 1.5 0 000 3z"></path><path fill-rule="evenodd" d="M8 0a8 8 0 100 16A8 8 0 008 0zM1.5 8a6.5 6.5 0 1113 0 6.5 6.5 0 01-13 0z"></path>
</svg>
          <span data-content="Issues">Issues</span>
            <span id="issues-repo-tab-count" data-pjax-replace="" title="0" hidden="hidden" data-view-component="true" class="Counter">0</span>


    
</a></li>
      <li data-view-component="true" class="d-inline-flex">
  <a id="pull-requests-tab" href="/anibaltafur/mynewbook/pulls" data-tab-item="i2pull-requests-tab" data-selected-links="repo_pulls checks /anibaltafur/mynewbook/pulls" data-pjax="#repo-content-pjax-container" data-hotkey="g p" data-ga-click="Repository, Navigation click, Pull requests tab" data-view-component="true" class="UnderlineNav-item hx_underlinenav-item no-wrap js-responsive-underlinenav-item js-selected-navigation-item">
    
                  <svg aria-hidden="true" height="16" viewBox="0 0 16 16" version="1.1" width="16" data-view-component="true" class="octicon octicon-git-pull-request UnderlineNav-octicon d-none d-sm-inline">
    <path fill-rule="evenodd" d="M7.177 3.073L9.573.677A.25.25 0 0110 .854v4.792a.25.25 0 01-.427.177L7.177 3.427a.25.25 0 010-.354zM3.75 2.5a.75.75 0 100 1.5.75.75 0 000-1.5zm-2.25.75a2.25 2.25 0 113 2.122v5.256a2.251 2.251 0 11-1.5 0V5.372A2.25 2.25 0 011.5 3.25zM11 2.5h-1V4h1a1 1 0 011 1v5.628a2.251 2.251 0 101.5 0V5A2.5 2.5 0 0011 2.5zm1 10.25a.75.75 0 111.5 0 .75.75 0 01-1.5 0zM3.75 12a.75.75 0 100 1.5.75.75 0 000-1.5z"></path>
</svg>
          <span data-content="Pull requests">Pull requests</span>
            <span id="pull-requests-repo-tab-count" data-pjax-replace="" title="0" hidden="hidden" data-view-component="true" class="Counter">0</span>


    
</a></li>
      <li data-view-component="true" class="d-inline-flex">
  <a id="actions-tab" href="/anibaltafur/mynewbook/actions" data-tab-item="i3actions-tab" data-selected-links="repo_actions /anibaltafur/mynewbook/actions" data-pjax="#repo-content-pjax-container" data-hotkey="g a" data-ga-click="Repository, Navigation click, Actions tab" data-view-component="true" class="UnderlineNav-item hx_underlinenav-item no-wrap js-responsive-underlinenav-item js-selected-navigation-item">
    
                  <svg aria-hidden="true" height="16" viewBox="0 0 16 16" version="1.1" width="16" data-view-component="true" class="octicon octicon-play UnderlineNav-octicon d-none d-sm-inline">
    <path fill-rule="evenodd" d="M1.5 8a6.5 6.5 0 1113 0 6.5 6.5 0 01-13 0zM8 0a8 8 0 100 16A8 8 0 008 0zM6.379 5.227A.25.25 0 006 5.442v5.117a.25.25 0 00.379.214l4.264-2.559a.25.25 0 000-.428L6.379 5.227z"></path>
</svg>
          <span data-content="Actions">Actions</span>
            <span id="actions-repo-tab-count" data-pjax-replace="" title="Not available" data-view-component="true" class="Counter"></span>


    
</a></li>
      <li data-view-component="true" class="d-inline-flex">
  <a id="projects-tab" href="/anibaltafur/mynewbook/projects?type=beta" data-tab-item="i4projects-tab" data-selected-links="repo_projects new_repo_project repo_project /anibaltafur/mynewbook/projects?type=beta" data-pjax="#repo-content-pjax-container" data-hotkey="g b" data-ga-click="Repository, Navigation click, Projects tab" data-view-component="true" class="UnderlineNav-item hx_underlinenav-item no-wrap js-responsive-underlinenav-item js-selected-navigation-item">
    
                  <svg aria-hidden="true" height="16" viewBox="0 0 16 16" version="1.1" width="16" data-view-component="true" class="octicon octicon-table UnderlineNav-octicon d-none d-sm-inline">
    <path fill-rule="evenodd" d="M0 1.75C0 .784.784 0 1.75 0h12.5C15.216 0 16 .784 16 1.75v3.585a.746.746 0 010 .83v8.085A1.75 1.75 0 0114.25 16H6.309a.748.748 0 01-1.118 0H1.75A1.75 1.75 0 010 14.25V6.165a.746.746 0 010-.83V1.75zM1.5 6.5v7.75c0 .138.112.25.25.25H5v-8H1.5zM5 5H1.5V1.75a.25.25 0 01.25-.25H5V5zm1.5 1.5v8h7.75a.25.25 0 00.25-.25V6.5h-8zm8-1.5h-8V1.5h7.75a.25.25 0 01.25.25V5z"></path>
</svg>
          <span data-content="Projects">Projects</span>
            <span id="projects-repo-tab-count" data-pjax-replace="" title="0" hidden="hidden" data-view-component="true" class="Counter">0</span>


    
</a></li>
      <li data-view-component="true" class="d-inline-flex">
  <a id="security-tab" href="/anibaltafur/mynewbook/security" data-tab-item="i5security-tab" data-selected-links="security overview alerts policy token_scanning code_scanning /anibaltafur/mynewbook/security" data-pjax="#repo-content-pjax-container" data-hotkey="g s" data-ga-click="Repository, Navigation click, Security tab" data-view-component="true" class="UnderlineNav-item hx_underlinenav-item no-wrap js-responsive-underlinenav-item js-selected-navigation-item">
    
                  <svg aria-hidden="true" height="16" viewBox="0 0 16 16" version="1.1" width="16" data-view-component="true" class="octicon octicon-shield UnderlineNav-octicon d-none d-sm-inline">
    <path fill-rule="evenodd" d="M7.467.133a1.75 1.75 0 011.066 0l5.25 1.68A1.75 1.75 0 0115 3.48V7c0 1.566-.32 3.182-1.303 4.682-.983 1.498-2.585 2.813-5.032 3.855a1.7 1.7 0 01-1.33 0c-2.447-1.042-4.049-2.357-5.032-3.855C1.32 10.182 1 8.566 1 7V3.48a1.75 1.75 0 011.217-1.667l5.25-1.68zm.61 1.429a.25.25 0 00-.153 0l-5.25 1.68a.25.25 0 00-.174.238V7c0 1.358.275 2.666 1.057 3.86.784 1.194 2.121 2.34 4.366 3.297a.2.2 0 00.154 0c2.245-.956 3.582-2.104 4.366-3.298C13.225 9.666 13.5 8.36 13.5 7V3.48a.25.25 0 00-.174-.237l-5.25-1.68zM9 10.5a1 1 0 11-2 0 1 1 0 012 0zm-.25-5.75a.75.75 0 10-1.5 0v3a.75.75 0 001.5 0v-3z"></path>
</svg>
          <span data-content="Security">Security</span>
            <include-fragment src="/anibaltafur/mynewbook/security/overall-count" accept="text/fragment+html"></include-fragment>

    
</a></li>
      <li data-view-component="true" class="d-inline-flex">
  <a id="insights-tab" href="/anibaltafur/mynewbook/network/dependencies" data-tab-item="i6insights-tab" data-selected-links="repo_graphs repo_contributors dependency_graph dependabot_updates pulse people community /anibaltafur/mynewbook/network/dependencies" data-pjax="#repo-content-pjax-container" data-ga-click="Repository, Navigation click, Insights tab" data-view-component="true" class="UnderlineNav-item hx_underlinenav-item no-wrap js-responsive-underlinenav-item js-selected-navigation-item">
    
                  <svg aria-hidden="true" height="16" viewBox="0 0 16 16" version="1.1" width="16" data-view-component="true" class="octicon octicon-graph UnderlineNav-octicon d-none d-sm-inline">
    <path fill-rule="evenodd" d="M1.5 1.75a.75.75 0 00-1.5 0v12.5c0 .414.336.75.75.75h14.5a.75.75 0 000-1.5H1.5V1.75zm14.28 2.53a.75.75 0 00-1.06-1.06L10 7.94 7.53 5.47a.75.75 0 00-1.06 0L3.22 8.72a.75.75 0 001.06 1.06L7 7.06l2.47 2.47a.75.75 0 001.06 0l5.25-5.25z"></path>
</svg>
          <span data-content="Insights">Insights</span>
            <span id="insights-repo-tab-count" data-pjax-replace="" title="Not available" data-view-component="true" class="Counter"></span>


    
</a></li>
      <li data-view-component="true" class="d-inline-flex">
  <a id="settings-tab" href="/anibaltafur/mynewbook/settings" data-tab-item="i7settings-tab" data-selected-links="repo_settings repo_branch_settings collaborators hooks integration_installations repo_keys_settings issue_template_editor secrets_settings_actions secrets_settings_codespaces secrets_settings_dependabot security_analysis key_links_settings repo_actions_settings notifications repository_actions_settings_runners repository_environments interaction_limits repository_actions_settings_general repository_actions_settings_add_new_runner repo_pages_settings /anibaltafur/mynewbook/settings" data-pjax="#repo-content-pjax-container" data-ga-click="Repository, Navigation click, Settings tab" data-view-component="true" class="UnderlineNav-item hx_underlinenav-item no-wrap js-responsive-underlinenav-item js-selected-navigation-item">
    
                  <svg aria-hidden="true" height="16" viewBox="0 0 16 16" version="1.1" width="16" data-view-component="true" class="octicon octicon-gear UnderlineNav-octicon d-none d-sm-inline">
    <path fill-rule="evenodd" d="M7.429 1.525a6.593 6.593 0 011.142 0c.036.003.108.036.137.146l.289 1.105c.147.56.55.967.997 1.189.174.086.341.183.501.29.417.278.97.423 1.53.27l1.102-.303c.11-.03.175.016.195.046.219.31.41.641.573.989.014.031.022.11-.059.19l-.815.806c-.411.406-.562.957-.53 1.456a4.588 4.588 0 010 .582c-.032.499.119 1.05.53 1.456l.815.806c.08.08.073.159.059.19a6.494 6.494 0 01-.573.99c-.02.029-.086.074-.195.045l-1.103-.303c-.559-.153-1.112-.008-1.529.27-.16.107-.327.204-.5.29-.449.222-.851.628-.998 1.189l-.289 1.105c-.029.11-.101.143-.137.146a6.613 6.613 0 01-1.142 0c-.036-.003-.108-.037-.137-.146l-.289-1.105c-.147-.56-.55-.967-.997-1.189a4.502 4.502 0 01-.501-.29c-.417-.278-.97-.423-1.53-.27l-1.102.303c-.11.03-.175-.016-.195-.046a6.492 6.492 0 01-.573-.989c-.014-.031-.022-.11.059-.19l.815-.806c.411-.406.562-.957.53-1.456a4.587 4.587 0 010-.582c.032-.499-.119-1.05-.53-1.456l-.815-.806c-.08-.08-.073-.159-.059-.19a6.44 6.44 0 01.573-.99c.02-.029.086-.075.195-.045l1.103.303c.559.153 1.112.008 1.529-.27.16-.107.327-.204.5-.29.449-.222.851-.628.998-1.189l.289-1.105c.029-.11.101-.143.137-.146zM8 0c-.236 0-.47.01-.701.03-.743.065-1.29.615-1.458 1.261l-.29 1.106c-.017.066-.078.158-.211.224a5.994 5.994 0 00-.668.386c-.123.082-.233.09-.3.071L3.27 2.776c-.644-.177-1.392.02-1.82.63a7.977 7.977 0 00-.704 1.217c-.315.675-.111 1.422.363 1.891l.815.806c.05.048.098.147.088.294a6.084 6.084 0 000 .772c.01.147-.038.246-.088.294l-.815.806c-.474.469-.678 1.216-.363 1.891.2.428.436.835.704 1.218.428.609 1.176.806 1.82.63l1.103-.303c.066-.019.176-.011.299.071.213.143.436.272.668.386.133.066.194.158.212.224l.289 1.106c.169.646.715 1.196 1.458 1.26a8.094 8.094 0 001.402 0c.743-.064 1.29-.614 1.458-1.26l.29-1.106c.017-.066.078-.158.211-.224a5.98 5.98 0 00.668-.386c.123-.082.233-.09.3-.071l1.102.302c.644.177 1.392-.02 1.82-.63.268-.382.505-.789.704-1.217.315-.675.111-1.422-.364-1.891l-.814-.806c-.05-.048-.098-.147-.088-.294a6.1 6.1 0 000-.772c-.01-.147.039-.246.088-.294l.814-.806c.475-.469.679-1.216.364-1.891a7.992 7.992 0 00-.704-1.218c-.428-.609-1.176-.806-1.82-.63l-1.103.303c-.066.019-.176.011-.299-.071a5.991 5.991 0 00-.668-.386c-.133-.066-.194-.158-.212-.224L10.16 1.29C9.99.645 9.444.095 8.701.031A8.094 8.094 0 008 0zm1.5 8a1.5 1.5 0 11-3 0 1.5 1.5 0 013 0zM11 8a3 3 0 11-6 0 3 3 0 016 0z"></path>
</svg>
          <span data-content="Settings">Settings</span>
            <span id="settings-repo-tab-count" data-pjax-replace="" title="Not available" data-view-component="true" class="Counter"></span>


    
</a></li>
</ul>
    <div style="visibility:hidden;" data-view-component="true" class="UnderlineNav-actions js-responsive-underlinenav-overflow position-absolute pr-3 pr-md-4 pr-lg-5 right-0">      <details data-view-component="true" class="details-overlay details-reset position-relative">
  <summary role="button" data-view-component="true">          <div class="UnderlineNav-item mr-0 border-0">
            <svg aria-hidden="true" height="16" viewBox="0 0 16 16" version="1.1" width="16" data-view-component="true" class="octicon octicon-kebab-horizontal">
    <path d="M8 9a1.5 1.5 0 100-3 1.5 1.5 0 000 3zM1.5 9a1.5 1.5 0 100-3 1.5 1.5 0 000 3zm13 0a1.5 1.5 0 100-3 1.5 1.5 0 000 3z"></path>
</svg>
            <span class="sr-only">More</span>
          </div>
</summary>
  <div data-view-component="true">          <details-menu role="menu" data-view-component="true" class="dropdown-menu dropdown-menu-sw">
  
            <ul>
                <li data-menu-item="i0code-tab" hidden>
                  <a role="menuitem" class="js-selected-navigation-item selected dropdown-item" aria-current="page" data-selected-links="repo_source repo_downloads repo_commits repo_releases repo_tags repo_branches repo_packages repo_deployments /anibaltafur/mynewbook" href="/anibaltafur/mynewbook">
                    Code
</a>                </li>
                <li data-menu-item="i1issues-tab" hidden>
                  <a role="menuitem" class="js-selected-navigation-item dropdown-item" data-selected-links="repo_issues repo_labels repo_milestones /anibaltafur/mynewbook/issues" href="/anibaltafur/mynewbook/issues">
                    Issues
</a>                </li>
                <li data-menu-item="i2pull-requests-tab" hidden>
                  <a role="menuitem" class="js-selected-navigation-item dropdown-item" data-selected-links="repo_pulls checks /anibaltafur/mynewbook/pulls" href="/anibaltafur/mynewbook/pulls">
                    Pull requests
</a>                </li>
                <li data-menu-item="i3actions-tab" hidden>
                  <a role="menuitem" class="js-selected-navigation-item dropdown-item" data-selected-links="repo_actions /anibaltafur/mynewbook/actions" href="/anibaltafur/mynewbook/actions">
                    Actions
</a>                </li>
                <li data-menu-item="i4projects-tab" hidden>
                  <a role="menuitem" class="js-selected-navigation-item dropdown-item" data-selected-links="repo_projects new_repo_project repo_project /anibaltafur/mynewbook/projects?type=beta" href="/anibaltafur/mynewbook/projects?type=beta">
                    Projects
</a>                </li>
                <li data-menu-item="i5security-tab" hidden>
                  <a role="menuitem" class="js-selected-navigation-item dropdown-item" data-selected-links="security overview alerts policy token_scanning code_scanning /anibaltafur/mynewbook/security" href="/anibaltafur/mynewbook/security">
                    Security
</a>                </li>
                <li data-menu-item="i6insights-tab" hidden>
                  <a role="menuitem" class="js-selected-navigation-item dropdown-item" data-selected-links="repo_graphs repo_contributors dependency_graph dependabot_updates pulse people community /anibaltafur/mynewbook/network/dependencies" href="/anibaltafur/mynewbook/network/dependencies">
                    Insights
</a>                </li>
                <li data-menu-item="i7settings-tab" hidden>
                  <a role="menuitem" class="js-selected-navigation-item dropdown-item" data-selected-links="repo_settings repo_branch_settings collaborators hooks integration_installations repo_keys_settings issue_template_editor secrets_settings_actions secrets_settings_codespaces secrets_settings_dependabot security_analysis key_links_settings repo_actions_settings notifications repository_actions_settings_runners repository_environments interaction_limits repository_actions_settings_general repository_actions_settings_add_new_runner repo_pages_settings /anibaltafur/mynewbook/settings" href="/anibaltafur/mynewbook/settings">
                    Settings
</a>                </li>
            </ul>

</details-menu></div>
</details></div>
</nav>
  </div>



<div class="clearfix new-discussion-timeline container-xl px-3 px-md-4 px-lg-5">
  <div id="repo-content-pjax-container" class="repository-content " >

    


    
      

  <div class="wants-full-width-container"></div>

  <a class="d-none js-permalink-shortcut" data-hotkey="y" href="/anibaltafur/mynewbook/blame/94a3f883f8032533f334bfd38a69b5e6045c47af/HW2.ipynb">Permalink</a>

  <div class="breadcrumb css-truncate blame-breadcrumb">
    <span id="blob-path" class="css-truncate-target"><span class="js-repo-root text-bold"><span class="js-path-segment d-inline-block wb-break-all"><a data-pjax="true" href="/anibaltafur/mynewbook"><span>mynewbook</span></a></span></span><span class="separator">/</span><strong class="final-path">HW2.ipynb</strong></span>
    <clipboard-copy aria-label="Copy file path to clipboard" value="HW2.ipynb" data-view-component="true" class="btn btn-sm">
    <svg aria-hidden="true" height="16" viewBox="0 0 16 16" version="1.1" width="16" data-view-component="true" class="octicon octicon-copy">
    <path fill-rule="evenodd" d="M0 6.75C0 5.784.784 5 1.75 5h1.5a.75.75 0 010 1.5h-1.5a.25.25 0 00-.25.25v7.5c0 .138.112.25.25.25h7.5a.25.25 0 00.25-.25v-1.5a.75.75 0 011.5 0v1.5A1.75 1.75 0 019.25 16h-7.5A1.75 1.75 0 010 14.25v-7.5z"></path><path fill-rule="evenodd" d="M5 1.75C5 .784 5.784 0 6.75 0h7.5C15.216 0 16 .784 16 1.75v7.5A1.75 1.75 0 0114.25 11h-7.5A1.75 1.75 0 015 9.25v-7.5zm1.75-.25a.25.25 0 00-.25.25v7.5c0 .138.112.25.25.25h7.5a.25.25 0 00.25-.25v-7.5a.25.25 0 00-.25-.25h-7.5z"></path>
</svg>
    <svg style="display: none;" aria-hidden="true" height="16" viewBox="0 0 16 16" version="1.1" width="16" data-view-component="true" class="octicon octicon-check color-fg-success">
    <path fill-rule="evenodd" d="M13.78 4.22a.75.75 0 010 1.06l-7.25 7.25a.75.75 0 01-1.06 0L2.22 9.28a.75.75 0 011.06-1.06L6 10.94l6.72-6.72a.75.75 0 011.06 0z"></path>
</svg>
</clipboard-copy>
  </div>

  <div class="line-age-legend float-right mt-n4 f6">
    <span>Newer</span>
    <ol class="d-inline-block mx-1 list-style-none">
        <li class="heat d-inline-block" data-heat="1"></li>
        <li class="heat d-inline-block" data-heat="2"></li>
        <li class="heat d-inline-block" data-heat="3"></li>
        <li class="heat d-inline-block" data-heat="4"></li>
        <li class="heat d-inline-block" data-heat="5"></li>
        <li class="heat d-inline-block" data-heat="6"></li>
        <li class="heat d-inline-block" data-heat="7"></li>
        <li class="heat d-inline-block" data-heat="8"></li>
        <li class="heat d-inline-block" data-heat="9"></li>
        <li class="heat d-inline-block" data-heat="10"></li>
    </ol>
    <span>Older</span>
  </div>

  <div class="file">
    <div class="file-header">
      <div class="file-actions">
        <div data-view-component="true" class="BtnGroup">
    <a href="/anibaltafur/mynewbook/raw/main/HW2.ipynb" id="raw-url" data-view-component="true" class="btn-sm btn BtnGroup-item">  Raw
</a>
    <a href="/anibaltafur/mynewbook/blob/main/HW2.ipynb" data-view-component="true" class="js-update-url-with-hash btn-sm btn BtnGroup-item">  Normal view
</a>
    <a href="/anibaltafur/mynewbook/commits/main/HW2.ipynb" rel="nofollow" data-view-component="true" class="btn-sm btn BtnGroup-item">  History
</a>
</div>      </div>


  

      <div class="file-info">
        <svg aria-hidden="true" height="16" viewBox="0 0 16 16" version="1.1" width="16" data-view-component="true" class="octicon octicon-file">
    <path fill-rule="evenodd" d="M3.75 1.5a.25.25 0 00-.25.25v11.5c0 .138.112.25.25.25h8.5a.25.25 0 00.25-.25V6H9.75A1.75 1.75 0 018 4.25V1.5H3.75zm5.75.56v2.19c0 .138.112.25.25.25h2.19L9.5 2.06zM2 1.75C2 .784 2.784 0 3.75 0h5.086c.464 0 .909.184 1.237.513l3.414 3.414c.329.328.513.773.513 1.237v8.086A1.75 1.75 0 0112.25 15h-8.5A1.75 1.75 0 012 13.25V1.75z"></path>
</svg>
        <span class="file-mode" title="File Mode">100644</span>
        <span class="file-info-divider"></span>
          1 lines (1 sloc)
          <span class="file-info-divider"></span>
        245 KB
      </div>
    </div>

    <div class="blob-wrapper">
      <div class="blame-container  highlight data js-file-line-container tab-size" data-tab-size="8" data-paste-markdown-skip>

          <div class="blame-hunk d-flex color-border-muted border-bottom">

            <div class="blame-commit flex-self-stretch mr-1" data-heat="10">
              <div class="blame-commit-info pl-1 pr-2">

                <div class="no-wrap d-flex flex-items-start">
                  
<div class="AvatarStack flex-self-start  " >
  <div class="AvatarStack-body" aria-label="anibaltafur" >
      <a class="avatar avatar-user" style="width:20px;height:20px;" data-skip-pjax="true" data-test-selector="commits-avatar-stack-avatar-link" data-hovercard-type="user" data-hovercard-url="/users/anibaltafur/hovercard" data-octo-click="hovercard-link-click" data-octo-dimensions="link_type:self" href="/anibaltafur">
        <img data-test-selector="commits-avatar-stack-avatar-image" src="https://avatars.githubusercontent.com/u/54555240?s=40&amp;v=4" width="20" height="20" alt="@anibaltafur" class=" avatar-user" />
</a>  </div>
</div>

                  <div class="blame-commit-content d-flex no-wrap flex-items-center">
                    <div class="blame-commit-message overflow-hidden pt-1 f6">
                      <a class="message f6 color-fg-default markdown-title" data-hovercard-type="commit" data-hovercard-url="/anibaltafur/mynewbook/commit/94a3f883f8032533f334bfd38a69b5e6045c47af/hovercard" data-pjax="true" href="/anibaltafur/mynewbook/commit/94a3f883f8032533f334bfd38a69b5e6045c47af">upload</a>
                    </div>
                  </div>
                  <div class="blame-commit-date ml-3" data-heat="10"><time-ago datetime="2022-02-18T05:48:47Z" data-view-component="true" class="no-wrap">Feb 17, 2022</time-ago></div>
                </div>
              </div>
            </div>

            <div class="blob-reblame pl-1 pr-1">
              
            </div>

            <div class="width-full">
                <div class="d-flex flex-justify-start flex-items-start">
                  <div class="blob-num blame-blob-num color-bg-subtle js-line-number" id="L1">1</div>
                  <div class="blob-code blob-code-inner js-file-line" id="LC1">{&quot;nbformat&quot;:4,&quot;nbformat_minor&quot;:0,&quot;metadata&quot;:{&quot;colab&quot;:{&quot;name&quot;:&quot;HW2.ipynb&quot;,&quot;provenance&quot;:[],&quot;collapsed_sections&quot;:[],&quot;mount_file_id&quot;:&quot;1FVc45eHvXwucaKk2JuMvEkDKpt8t-pMk&quot;,&quot;authorship_tag&quot;:&quot;ABX9TyP+Igsikwkbjw8alNMxYEd7&quot;},&quot;kernelspec&quot;:{&quot;name&quot;:&quot;python3&quot;,&quot;display_name&quot;:&quot;Python 3&quot;},&quot;language_info&quot;:{&quot;name&quot;:&quot;python&quot;}},&quot;cells&quot;:[{&quot;cell_type&quot;:&quot;markdown&quot;,&quot;source&quot;:[&quot;# Homework 2\n&quot;,&quot;\n&quot;,&quot;Student: Anibal Tafur\n&quot;,&quot;\n&quot;,&quot;Date: Feb 8, 2022&quot;],&quot;metadata&quot;:{&quot;id&quot;:&quot;HxWdQxSVFY2o&quot;}},{&quot;cell_type&quot;:&quot;markdown&quot;,&quot;source&quot;:[&quot;## Part (a)\n&quot;,&quot;\n&quot;,&quot;Load the csv file and then plot the recovery patterns for all damage options.&quot;],&quot;metadata&quot;:{&quot;id&quot;:&quot;-ET-r6wtibb4&quot;}},{&quot;cell_type&quot;:&quot;code&quot;,&quot;execution_count&quot;:1,&quot;metadata&quot;:{&quot;id&quot;:&quot;JtlHYtrUiTtK&quot;,&quot;executionInfo&quot;:{&quot;status&quot;:&quot;ok&quot;,&quot;timestamp&quot;:1644283942934,&quot;user_tz&quot;:360,&quot;elapsed&quot;:321,&quot;user&quot;:{&quot;displayName&quot;:&quot;Anibal Tafur Gutierrez&quot;,&quot;photoUrl&quot;:&quot;https://lh3.googleusercontent.com/a-/AOh14GiFjJimvpwIQMQFCrDoy6ONJwjGM9ztPeGFg2YC=s64&quot;,&quot;userId&quot;:&quot;04897311398615913661&quot;}}},&quot;outputs&quot;:[],&quot;source&quot;:[&quot;# Preamble\n&quot;,&quot;import numpy as np\n&quot;,&quot;import pandas as pd\n&quot;,&quot;from matplotlib import pyplot as plt&quot;]},{&quot;cell_type&quot;:&quot;code&quot;,&quot;source&quot;:[&quot;# Loading csv file\n&quot;,&quot;path = &#39;/content/drive/MyDrive/sync/Infrastructure Resilience/&#39;\n&quot;,&quot;data = pd.read_csv(path+&#39;functionality.csv&#39;)&quot;],&quot;metadata&quot;:{&quot;id&quot;:&quot;1aIcUY7djtBu&quot;,&quot;executionInfo&quot;:{&quot;status&quot;:&quot;ok&quot;,&quot;timestamp&quot;:1644286613392,&quot;user_tz&quot;:360,&quot;elapsed&quot;:131,&quot;user&quot;:{&quot;displayName&quot;:&quot;Anibal Tafur Gutierrez&quot;,&quot;photoUrl&quot;:&quot;https://lh3.googleusercontent.com/a-/AOh14GiFjJimvpwIQMQFCrDoy6ONJwjGM9ztPeGFg2YC=s64&quot;,&quot;userId&quot;:&quot;04897311398615913661&quot;}}},&quot;execution_count&quot;:84,&quot;outputs&quot;:[]},{&quot;cell_type&quot;:&quot;code&quot;,&quot;source&quot;:[&quot;# Labeling Damage States for easier reference\n&quot;,&quot;\n&quot;,&quot;# DS_1 = Slight Damage\n&quot;,&quot;# DS_2 = Moderate Damage\n&quot;,&quot;# DS_3 = Extensive Damage\n&quot;,&quot;# DS_4 = Complete Damage without Idle time\n&quot;,&quot;# DS_5 = Complete Damage with Idle time\n&quot;,&quot;\n&quot;,&quot;# Extracting data as lists (arrays) and labeling according to DS, removing null values:\n&quot;,&quot;\n&quot;,&quot;T1 = [item for item in data[&#39;Time, t (months).4&#39;] if str(item) != &#39;nan&#39;]\n&quot;,&quot;Q1 = [item for item in data[&#39;Functionality, Q(t).4&#39;] if str(item) != &#39;nan&#39;]\n&quot;,&quot;\n&quot;,&quot;T2 = [item for item in data[&#39;Time, t (months).3&#39;] if str(item) != &#39;nan&#39;]\n&quot;,&quot;Q2 = [item for item in data[&#39;Functionality, Q(t).3&#39;] if str(item) != &#39;nan&#39;]\n&quot;,&quot;\n&quot;,&quot;T3 = [item for item in data[&#39;Time, t (months).1&#39;] if str(item) != &#39;nan&#39;]\n&quot;,&quot;Q3 = [item for item in data[&#39;Functionality, Q(t).1&#39;] if str(item) != &#39;nan&#39;]\n&quot;,&quot;\n&quot;,&quot;T4 = [item for item in data[&#39;Time, t (months)&#39;] if str(item) != &#39;nan&#39;]\n&quot;,&quot;Q4 = [item for item in data[&#39;Functionality, Q(t)&#39;] if str(item) != &#39;nan&#39;]\n&quot;,&quot;\n&quot;,&quot;T5 = [item for item in data[&#39;Time, t (months).2&#39;] if str(item) != &#39;nan&#39;]\n&quot;,&quot;Q5 = [item for item in data[&#39;Functionality, Q(t).2&#39;] if str(item) != &#39;nan&#39;]\n&quot;,&quot;\n&quot;,&quot;# Plotting:\n&quot;,&quot;\n&quot;,&quot;plt.figure(figsize=(10,6))\n&quot;,&quot;plt.plot(T1,Q1,&#39;o-&#39;,label=&#39;DS1=Slight&#39;)\n&quot;,&quot;plt.plot(T2,Q2,&#39;o-&#39;,label=&#39;DS2=Moderate&#39;)\n&quot;,&quot;plt.plot(T3,Q3,&#39;o-&#39;,label=&#39;DS3=Extensive&#39;)\n&quot;,&quot;plt.plot(T4,Q4,&#39;o-&#39;,label=&#39;DS4=Complete w/o IT&#39;)\n&quot;,&quot;plt.plot(T5,Q5,&#39;o-&#39;,label=&#39;DS5=Complete w/ IT&#39;)\n&quot;,&quot;plt.xlabel(&#39;Time $t$ (months)&#39;)\n&quot;,&quot;plt.ylabel(&#39;Functionality $Q(t)$&#39;)\n&quot;,&quot;plt.title(&#39;Fig. 1. Functionality curves for different DS&#39;)\n&quot;,&quot;plt.grid()\n&quot;,&quot;plt.legend()\n&quot;,&quot;plt.show()&quot;],&quot;metadata&quot;:{&quot;colab&quot;:{&quot;base_uri&quot;:&quot;https://localhost:8080/&quot;,&quot;height&quot;:407},&quot;id&quot;:&quot;RV073sbK8zzp&quot;,&quot;executionInfo&quot;:{&quot;status&quot;:&quot;ok&quot;,&quot;timestamp&quot;:1644294449435,&quot;user_tz&quot;:360,&quot;elapsed&quot;:1137,&quot;user&quot;:{&quot;displayName&quot;:&quot;Anibal Tafur Gutierrez&quot;,&quot;photoUrl&quot;:&quot;https://lh3.googleusercontent.com/a-/AOh14GiFjJimvpwIQMQFCrDoy6ONJwjGM9ztPeGFg2YC=s64&quot;,&quot;userId&quot;:&quot;04897311398615913661&quot;}},&quot;outputId&quot;:&quot;b1250815-8ea0-41eb-abbc-32346e752d6a&quot;},&quot;execution_count&quot;:262,&quot;outputs&quot;:[{&quot;output_type&quot;:&quot;display_data&quot;,&quot;data&quot;:{&quot;image/png&quot;:&quot;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\n&quot;,&quot;text/plain&quot;:[&quot;&lt;Figure size 720x432 with 1 Axes&gt;&quot;]},&quot;metadata&quot;:{&quot;needs_background&quot;:&quot;light&quot;}}]},{&quot;cell_type&quot;:&quot;markdown&quot;,&quot;source&quot;:[&quot;## Part (b)\n&quot;,&quot;\n&quot;,&quot;For each damage option, calculate the deterministic robustness and rapidity. You can find the definitions of robustness and rapidity in the class notes.\n&quot;],&quot;metadata&quot;:{&quot;id&quot;:&quot;v5Eq3xy_ieo1&quot;}},{&quot;cell_type&quot;:&quot;markdown&quot;,&quot;source&quot;:[&quot;### Robustness\n&quot;,&quot;\n&quot;,&quot;As defined by NIST, robustness is the inherent strength or resistance in a system to withstand external demands without degradation or loss of functionality (Gilbert et al., 2005). Mathematically, given the functionality curve $Q(t)$ for a time horizon after a disruptive event, the robustness $Rb$ is defined as:\n&quot;,&quot;\n&quot;,&quot;$$Rb = 1 - L$$\n&quot;,&quot;\n&quot;,&quot;Where $L$ is the initial loss of functionary right after the event. This is ilustrated in Figure 1.\n&quot;],&quot;metadata&quot;:{&quot;id&quot;:&quot;PFLSE7iLTNgK&quot;}},{&quot;cell_type&quot;:&quot;markdown&quot;,&quot;source&quot;:[&quot;![image.png](data:image/png;base64,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)\n&quot;,&quot;\n&quot;,&quot;Fig. 2. Definition of Robustness (Source: Class notes)&quot;],&quot;metadata&quot;:{&quot;id&quot;:&quot;d1fsG-b5ilbs&quot;}},{&quot;cell_type&quot;:&quot;markdown&quot;,&quot;source&quot;:[&quot;Calculating $L$ and $Rb$ for all damage states, we have.&quot;],&quot;metadata&quot;:{&quot;id&quot;:&quot;UP5JB_lplTD6&quot;}},{&quot;cell_type&quot;:&quot;code&quot;,&quot;source&quot;:[&quot;# Defining dataframe to store results\n&quot;,&quot;results = pd.DataFrame(index=[1,2,3,4,5])\n&quot;,&quot;results.index.name = &#39;DS&#39;\n&quot;,&quot;results[&#39;DS_desc&#39;]=[&#39;Slight&#39;,&#39;Moderate&#39;,&#39;Extensive&#39;,&#39;Complete w/o IT&#39;,&#39;Complete w/ IT&#39;]&quot;],&quot;metadata&quot;:{&quot;id&quot;:&quot;SM9sooVKbchV&quot;,&quot;executionInfo&quot;:{&quot;status&quot;:&quot;ok&quot;,&quot;timestamp&quot;:1644286694876,&quot;user_tz&quot;:360,&quot;elapsed&quot;:112,&quot;user&quot;:{&quot;displayName&quot;:&quot;Anibal Tafur Gutierrez&quot;,&quot;photoUrl&quot;:&quot;https://lh3.googleusercontent.com/a-/AOh14GiFjJimvpwIQMQFCrDoy6ONJwjGM9ztPeGFg2YC=s64&quot;,&quot;userId&quot;:&quot;04897311398615913661&quot;}}},&quot;execution_count&quot;:86,&quot;outputs&quot;:[]},{&quot;cell_type&quot;:&quot;code&quot;,&quot;source&quot;:[&quot;# Extracting initial functionality loss (L) for all DS\n&quot;,&quot;\n&quot;,&quot;L_arr = []\n&quot;,&quot;for Qt in [Q1,Q2,Q3,Q4,Q5]:\n&quot;,&quot;    L_arr.append(1-Qt[0])\n&quot;,&quot;results[&#39;L&#39;] = L_arr&quot;],&quot;metadata&quot;:{&quot;id&quot;:&quot;wRbI7RSEju7B&quot;,&quot;executionInfo&quot;:{&quot;status&quot;:&quot;ok&quot;,&quot;timestamp&quot;:1644293982664,&quot;user_tz&quot;:360,&quot;elapsed&quot;:168,&quot;user&quot;:{&quot;displayName&quot;:&quot;Anibal Tafur Gutierrez&quot;,&quot;photoUrl&quot;:&quot;https://lh3.googleusercontent.com/a-/AOh14GiFjJimvpwIQMQFCrDoy6ONJwjGM9ztPeGFg2YC=s64&quot;,&quot;userId&quot;:&quot;04897311398615913661&quot;}}},&quot;execution_count&quot;:250,&quot;outputs&quot;:[]},{&quot;cell_type&quot;:&quot;code&quot;,&quot;source&quot;:[&quot;# Calculating the residual functionality after the event\n&quot;,&quot;# Rb = Robustness \n&quot;,&quot;\n&quot;,&quot;Rb_arr = 1 - np.array(L_arr)\n&quot;,&quot;\n&quot;,&quot;results[&#39;Rb&#39;] = Rb_arr\n&quot;,&quot;results[[&#39;DS_desc&#39;,&#39;L&#39;,&#39;Rb&#39;]]&quot;],&quot;metadata&quot;:{&quot;id&quot;:&quot;q-ut3ng2n3VB&quot;,&quot;colab&quot;:{&quot;base_uri&quot;:&quot;https://localhost:8080/&quot;,&quot;height&quot;:238},&quot;executionInfo&quot;:{&quot;status&quot;:&quot;ok&quot;,&quot;timestamp&quot;:1644294046350,&quot;user_tz&quot;:360,&quot;elapsed&quot;:117,&quot;user&quot;:{&quot;displayName&quot;:&quot;Anibal Tafur Gutierrez&quot;,&quot;photoUrl&quot;:&quot;https://lh3.googleusercontent.com/a-/AOh14GiFjJimvpwIQMQFCrDoy6ONJwjGM9ztPeGFg2YC=s64&quot;,&quot;userId&quot;:&quot;04897311398615913661&quot;}},&quot;outputId&quot;:&quot;073bff28-97d2-4a49-b9be-edcffb31f118&quot;},&quot;execution_count&quot;:254,&quot;outputs&quot;:[{&quot;output_type&quot;:&quot;execute_result&quot;,&quot;data&quot;:{&quot;text/html&quot;:[&quot;\n&quot;,&quot;  &lt;div id=\&quot;df-0ec88ef6-88fa-4981-b019-eafbbdc325e4\&quot;&gt;\n&quot;,&quot;    &lt;div class=\&quot;colab-df-container\&quot;&gt;\n&quot;,&quot;      &lt;div&gt;\n&quot;,&quot;&lt;style scoped&gt;\n&quot;,&quot;    .dataframe tbody tr th:only-of-type {\n&quot;,&quot;        vertical-align: middle;\n&quot;,&quot;    }\n&quot;,&quot;\n&quot;,&quot;    .dataframe tbody tr th {\n&quot;,&quot;        vertical-align: top;\n&quot;,&quot;    }\n&quot;,&quot;\n&quot;,&quot;    .dataframe thead th {\n&quot;,&quot;        text-align: right;\n&quot;,&quot;    }\n&quot;,&quot;&lt;/style&gt;\n&quot;,&quot;&lt;table border=\&quot;1\&quot; class=\&quot;dataframe\&quot;&gt;\n&quot;,&quot;  &lt;thead&gt;\n&quot;,&quot;    &lt;tr style=\&quot;text-align: right;\&quot;&gt;\n&quot;,&quot;      &lt;th&gt;&lt;/th&gt;\n&quot;,&quot;      &lt;th&gt;DS_desc&lt;/th&gt;\n&quot;,&quot;      &lt;th&gt;L&lt;/th&gt;\n&quot;,&quot;      &lt;th&gt;Rb&lt;/th&gt;\n&quot;,&quot;    &lt;/tr&gt;\n&quot;,&quot;    &lt;tr&gt;\n&quot;,&quot;      &lt;th&gt;DS&lt;/th&gt;\n&quot;,&quot;      &lt;th&gt;&lt;/th&gt;\n&quot;,&quot;      &lt;th&gt;&lt;/th&gt;\n&quot;,&quot;      &lt;th&gt;&lt;/th&gt;\n&quot;,&quot;    &lt;/tr&gt;\n&quot;,&quot;  &lt;/thead&gt;\n&quot;,&quot;  &lt;tbody&gt;\n&quot;,&quot;    &lt;tr&gt;\n&quot;,&quot;      &lt;th&gt;1&lt;/th&gt;\n&quot;,&quot;      &lt;td&gt;Slight&lt;/td&gt;\n&quot;,&quot;      &lt;td&gt;0.253247&lt;/td&gt;\n&quot;,&quot;      &lt;td&gt;0.746753&lt;/td&gt;\n&quot;,&quot;    &lt;/tr&gt;\n&quot;,&quot;    &lt;tr&gt;\n&quot;,&quot;      &lt;th&gt;2&lt;/th&gt;\n&quot;,&quot;      &lt;td&gt;Moderate&lt;/td&gt;\n&quot;,&quot;      &lt;td&gt;0.746753&lt;/td&gt;\n&quot;,&quot;      &lt;td&gt;0.253247&lt;/td&gt;\n&quot;,&quot;    &lt;/tr&gt;\n&quot;,&quot;    &lt;tr&gt;\n&quot;,&quot;      &lt;th&gt;3&lt;/th&gt;\n&quot;,&quot;      &lt;td&gt;Extensive&lt;/td&gt;\n&quot;,&quot;      &lt;td&gt;0.900000&lt;/td&gt;\n&quot;,&quot;      &lt;td&gt;0.100000&lt;/td&gt;\n&quot;,&quot;    &lt;/tr&gt;\n&quot;,&quot;    &lt;tr&gt;\n&quot;,&quot;      &lt;th&gt;4&lt;/th&gt;\n&quot;,&quot;      &lt;td&gt;Complete w/o IT&lt;/td&gt;\n&quot;,&quot;      &lt;td&gt;1.000000&lt;/td&gt;\n&quot;,&quot;      &lt;td&gt;0.000000&lt;/td&gt;\n&quot;,&quot;    &lt;/tr&gt;\n&quot;,&quot;    &lt;tr&gt;\n&quot;,&quot;      &lt;th&gt;5&lt;/th&gt;\n&quot;,&quot;      &lt;td&gt;Complete w/ IT&lt;/td&gt;\n&quot;,&quot;      &lt;td&gt;1.000000&lt;/td&gt;\n&quot;,&quot;      &lt;td&gt;0.000000&lt;/td&gt;\n&quot;,&quot;    &lt;/tr&gt;\n&quot;,&quot;  &lt;/tbody&gt;\n&quot;,&quot;&lt;/table&gt;\n&quot;,&quot;&lt;/div&gt;\n&quot;,&quot;      &lt;button class=\&quot;colab-df-convert\&quot; onclick=\&quot;convertToInteractive(&#39;df-0ec88ef6-88fa-4981-b019-eafbbdc325e4&#39;)\&quot;\n&quot;,&quot;              title=\&quot;Convert this dataframe to an interactive table.\&quot;\n&quot;,&quot;              style=\&quot;display:none;\&quot;&gt;\n&quot;,&quot;        \n&quot;,&quot;  &lt;svg xmlns=\&quot;http://www.w3.org/2000/svg\&quot; height=\&quot;24px\&quot;viewBox=\&quot;0 0 24 24\&quot;\n&quot;,&quot;       width=\&quot;24px\&quot;&gt;\n&quot;,&quot;    &lt;path d=\&quot;M0 0h24v24H0V0z\&quot; fill=\&quot;none\&quot;/&gt;\n&quot;,&quot;    &lt;path d=\&quot;M18.56 5.44l.94 2.06.94-2.06 2.06-.94-2.06-.94-.94-2.06-.94 2.06-2.06.94zm-11 1L8.5 8.5l.94-2.06 2.06-.94-2.06-.94L8.5 2.5l-.94 2.06-2.06.94zm10 10l.94 2.06.94-2.06 2.06-.94-2.06-.94-.94-2.06-.94 2.06-2.06.94z\&quot;/&gt;&lt;path d=\&quot;M17.41 7.96l-1.37-1.37c-.4-.4-.92-.59-1.43-.59-.52 0-1.04.2-1.43.59L10.3 9.45l-7.72 7.72c-.78.78-.78 2.05 0 2.83L4 21.41c.39.39.9.59 1.41.59.51 0 1.02-.2 1.41-.59l7.78-7.78 2.81-2.81c.8-.78.8-2.07 0-2.86zM5.41 20L4 18.59l7.72-7.72 1.47 1.35L5.41 20z\&quot;/&gt;\n&quot;,&quot;  &lt;/svg&gt;\n&quot;,&quot;      &lt;/button&gt;\n&quot;,&quot;      \n&quot;,&quot;  &lt;style&gt;\n&quot;,&quot;    .colab-df-container {\n&quot;,&quot;      display:flex;\n&quot;,&quot;      flex-wrap:wrap;\n&quot;,&quot;      gap: 12px;\n&quot;,&quot;    }\n&quot;,&quot;\n&quot;,&quot;    .colab-df-convert {\n&quot;,&quot;      background-color: #E8F0FE;\n&quot;,&quot;      border: none;\n&quot;,&quot;      border-radius: 50%;\n&quot;,&quot;      cursor: pointer;\n&quot;,&quot;      display: none;\n&quot;,&quot;      fill: #1967D2;\n&quot;,&quot;      height: 32px;\n&quot;,&quot;      padding: 0 0 0 0;\n&quot;,&quot;      width: 32px;\n&quot;,&quot;    }\n&quot;,&quot;\n&quot;,&quot;    .colab-df-convert:hover {\n&quot;,&quot;      background-color: #E2EBFA;\n&quot;,&quot;      box-shadow: 0px 1px 2px rgba(60, 64, 67, 0.3), 0px 1px 3px 1px rgba(60, 64, 67, 0.15);\n&quot;,&quot;      fill: #174EA6;\n&quot;,&quot;    }\n&quot;,&quot;\n&quot;,&quot;    [theme=dark] .colab-df-convert {\n&quot;,&quot;      background-color: #3B4455;\n&quot;,&quot;      fill: #D2E3FC;\n&quot;,&quot;    }\n&quot;,&quot;\n&quot;,&quot;    [theme=dark] .colab-df-convert:hover {\n&quot;,&quot;      background-color: #434B5C;\n&quot;,&quot;      box-shadow: 0px 1px 3px 1px rgba(0, 0, 0, 0.15);\n&quot;,&quot;      filter: drop-shadow(0px 1px 2px rgba(0, 0, 0, 0.3));\n&quot;,&quot;      fill: #FFFFFF;\n&quot;,&quot;    }\n&quot;,&quot;  &lt;/style&gt;\n&quot;,&quot;\n&quot;,&quot;      &lt;script&gt;\n&quot;,&quot;        const buttonEl =\n&quot;,&quot;          document.querySelector(&#39;#df-0ec88ef6-88fa-4981-b019-eafbbdc325e4 button.colab-df-convert&#39;);\n&quot;,&quot;        buttonEl.style.display =\n&quot;,&quot;          google.colab.kernel.accessAllowed ? &#39;block&#39; : &#39;none&#39;;\n&quot;,&quot;\n&quot;,&quot;        async function convertToInteractive(key) {\n&quot;,&quot;          const element = document.querySelector(&#39;#df-0ec88ef6-88fa-4981-b019-eafbbdc325e4&#39;);\n&quot;,&quot;          const dataTable =\n&quot;,&quot;            await google.colab.kernel.invokeFunction(&#39;convertToInteractive&#39;,\n&quot;,&quot;                                                     [key], {});\n&quot;,&quot;          if (!dataTable) return;\n&quot;,&quot;\n&quot;,&quot;          const docLinkHtml = &#39;Like what you see? Visit the &#39; +\n&quot;,&quot;            &#39;&lt;a target=\&quot;_blank\&quot; href=https://colab.research.google.com/notebooks/data_table.ipynb&gt;data table notebook&lt;/a&gt;&#39;\n&quot;,&quot;            + &#39; to learn more about interactive tables.&#39;;\n&quot;,&quot;          element.innerHTML = &#39;&#39;;\n&quot;,&quot;          dataTable[&#39;output_type&#39;] = &#39;display_data&#39;;\n&quot;,&quot;          await google.colab.output.renderOutput(dataTable, element);\n&quot;,&quot;          const docLink = document.createElement(&#39;div&#39;);\n&quot;,&quot;          docLink.innerHTML = docLinkHtml;\n&quot;,&quot;          element.appendChild(docLink);\n&quot;,&quot;        }\n&quot;,&quot;      &lt;/script&gt;\n&quot;,&quot;    &lt;/div&gt;\n&quot;,&quot;  &lt;/div&gt;\n&quot;,&quot;  &quot;],&quot;text/plain&quot;:[&quot;            DS_desc         L        Rb\n&quot;,&quot;DS                                     \n&quot;,&quot;1            Slight  0.253247  0.746753\n&quot;,&quot;2          Moderate  0.746753  0.253247\n&quot;,&quot;3         Extensive  0.900000  0.100000\n&quot;,&quot;4   Complete w/o IT  1.000000  0.000000\n&quot;,&quot;5    Complete w/ IT  1.000000  0.000000&quot;]},&quot;metadata&quot;:{},&quot;execution_count&quot;:254}]},{&quot;cell_type&quot;:&quot;code&quot;,&quot;source&quot;:[&quot;# Plotting results\n&quot;,&quot;plt.figure(figsize=(8,4))\n&quot;,&quot;plt.bar(results[&#39;DS_desc&#39;],height=results[&#39;Rb&#39;],width = 0.5)\n&quot;,&quot;plt.xlabel(&#39;Damage State&#39;)\n&quot;,&quot;plt.ylabel(&#39;Robustness $Rb$&#39;)\n&quot;,&quot;plt.title(&#39;Fig. 3. Robustness $Rb$ for different DS&#39;)\n&quot;,&quot;plt.grid(axis=&#39;y&#39;)\n&quot;,&quot;plt.show()&quot;],&quot;metadata&quot;:{&quot;colab&quot;:{&quot;base_uri&quot;:&quot;https://localhost:8080/&quot;,&quot;height&quot;:297},&quot;id&quot;:&quot;F6bZSTBLILaz&quot;,&quot;executionInfo&quot;:{&quot;status&quot;:&quot;ok&quot;,&quot;timestamp&quot;:1644294591050,&quot;user_tz&quot;:360,&quot;elapsed&quot;:418,&quot;user&quot;:{&quot;displayName&quot;:&quot;Anibal Tafur Gutierrez&quot;,&quot;photoUrl&quot;:&quot;https://lh3.googleusercontent.com/a-/AOh14GiFjJimvpwIQMQFCrDoy6ONJwjGM9ztPeGFg2YC=s64&quot;,&quot;userId&quot;:&quot;04897311398615913661&quot;}},&quot;outputId&quot;:&quot;a85e2696-817a-4cc7-ae4e-3354fdf90607&quot;},&quot;execution_count&quot;:263,&quot;outputs&quot;:[{&quot;output_type&quot;:&quot;display_data&quot;,&quot;data&quot;:{&quot;image/png&quot;:&quot;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\n&quot;,&quot;text/plain&quot;:[&quot;&lt;Figure size 576x288 with 1 Axes&gt;&quot;]},&quot;metadata&quot;:{&quot;needs_background&quot;:&quot;light&quot;}}]},{&quot;cell_type&quot;:&quot;markdown&quot;,&quot;source&quot;:[&quot;**Discussion**\n&quot;,&quot;\n&quot;,&quot;From Figure 3 it is clearly observed the complete lack of robustness of both complete damage states, losing all functionality  after the disruption.&quot;],&quot;metadata&quot;:{&quot;id&quot;:&quot;e7CYnLcqJF93&quot;}},{&quot;cell_type&quot;:&quot;markdown&quot;,&quot;source&quot;:[&quot;### Rapidity\n&quot;,&quot;\n&quot;,&quot;As defined by NIST, rapidity is the speed with which disruption can be overcome and safety, services, and financial stability restored (Gilbert et al., 2005). Mathematically, rapidity $Rd$ in this report is estimated as the ratio of immediate loss of functionality $L$ to the recovery time $T_{RE}$\n&quot;,&quot;\n&quot;,&quot;$$Rd = \\frac{L}{T_{RE}}$$\n&quot;,&quot;\n&quot;,&quot;To estimate a deterministic value for rapidity, it is necessary to determine the recovery time $T_{RE}$. In principle, $T_{RE}$ is defined as the time required to achieve complete functionality restoration, thus $Q(T_{RE})=1$. Nevertheless, observing the data provided for this assigment (Figure 1), it is appreciated that for DS1 (Slight Damage), an important fraction of the functionality is restored much earlier than reaching complete pre-event functionality.\n&quot;,&quot;\n&quot;,&quot;Therefore, a threshold value of functionality $Q_{min}$ is utilized to define $T_{RE}$, to represent rapidity in a more realistic manner. Hereafter, $T_{RE}$ is defined as follows.\n&quot;,&quot;\n&quot;,&quot;$$Q(T_{RE}) \\geq Q_{min}$$\n&quot;,&quot;\n&quot;,&quot;For this report, a referencial value of $Q_{min}$ = 0.98 is considered. To illustrate the difference in Rapidity values considering different thresholds of functionality, rapidity values are compared to those obtained considering $Q_{min}$ = 1.&quot;],&quot;metadata&quot;:{&quot;id&quot;:&quot;79JL_7rmdkkc&quot;}},{&quot;cell_type&quot;:&quot;code&quot;,&quot;source&quot;:[&quot;# Defining a function to obtain recovery time from a recovery curve:\n&quot;,&quot;\n&quot;,&quot;def get_recovery_time(T_arr,Q_arr,threshold):\n&quot;,&quot;    &#39;&#39;&#39;\n&quot;,&quot;    T_arr = list of time values of recovery curve\n&quot;,&quot;    Q_arr = list of Q(t) values of recovery curve\n&quot;,&quot;    threshold = minimum functionality value considered for complete recovery\n&quot;,&quot;\n&quot;,&quot;    Returns Tre = recovery time calculated as the time where the first value of Q(t)\n&quot;,&quot;    exceeds the defined threshold\n&quot;,&quot;    &#39;&#39;&#39;\n&quot;,&quot;    for pos in range(len(T_arr)):\n&quot;,&quot;        if Q_arr[pos] &gt;= threshold:\n&quot;,&quot;            return T_arr[pos]\n&quot;,&quot;            break&quot;],&quot;metadata&quot;:{&quot;id&quot;:&quot;uaAtWqWxf47_&quot;,&quot;executionInfo&quot;:{&quot;status&quot;:&quot;ok&quot;,&quot;timestamp&quot;:1644294084701,&quot;user_tz&quot;:360,&quot;elapsed&quot;:147,&quot;user&quot;:{&quot;displayName&quot;:&quot;Anibal Tafur Gutierrez&quot;,&quot;photoUrl&quot;:&quot;https://lh3.googleusercontent.com/a-/AOh14GiFjJimvpwIQMQFCrDoy6ONJwjGM9ztPeGFg2YC=s64&quot;,&quot;userId&quot;:&quot;04897311398615913661&quot;}}},&quot;execution_count&quot;:256,&quot;outputs&quot;:[]},{&quot;cell_type&quot;:&quot;code&quot;,&quot;source&quot;:[&quot;# Calculating recovery time Tre for threshold = 0.98\n&quot;,&quot;\n&quot;,&quot;threshold = 0.98\n&quot;,&quot;\n&quot;,&quot;Tre_arr = []\n&quot;,&quot;for (T_arr,Q_arr) in [(T1,Q1),(T2,Q2),(T3,Q3),(T4,Q4),(T5,Q5)]:\n&quot;,&quot;    Tre = get_recovery_time(T_arr,Q_arr,threshold)\n&quot;,&quot;    Tre_arr.append(Tre)\n&quot;,&quot;\n&quot;,&quot;results[&#39;Tre&#39;] = Tre_arr\n&quot;,&quot;\n&quot;,&quot;# Calculating rapidity Rd for threshold = 0.98\n&quot;,&quot;\n&quot;,&quot;results[&#39;Rd&#39;] = results[&#39;L&#39;]/results[&#39;Tre&#39;]&quot;],&quot;metadata&quot;:{&quot;id&quot;:&quot;mdBio2kXLPyj&quot;,&quot;executionInfo&quot;:{&quot;status&quot;:&quot;ok&quot;,&quot;timestamp&quot;:1644295699663,&quot;user_tz&quot;:360,&quot;elapsed&quot;:132,&quot;user&quot;:{&quot;displayName&quot;:&quot;Anibal Tafur Gutierrez&quot;,&quot;photoUrl&quot;:&quot;https://lh3.googleusercontent.com/a-/AOh14GiFjJimvpwIQMQFCrDoy6ONJwjGM9ztPeGFg2YC=s64&quot;,&quot;userId&quot;:&quot;04897311398615913661&quot;}}},&quot;execution_count&quot;:264,&quot;outputs&quot;:[]},{&quot;cell_type&quot;:&quot;code&quot;,&quot;source&quot;:[&quot;# Calculating recovery time for threshold = 1\n&quot;,&quot;\n&quot;,&quot;threshold = 1\n&quot;,&quot;\n&quot;,&quot;Tre_arr_2 = []\n&quot;,&quot;\n&quot;,&quot;for (T_arr,Q_arr) in [(T1,Q1),(T2,Q2),(T3,Q3),(T4,Q4),(T5,Q5)]:\n&quot;,&quot;    Tre = get_recovery_time(T_arr,Q_arr,threshold)\n&quot;,&quot;    Tre_arr_2.append(Tre)\n&quot;,&quot;\n&quot;,&quot;results[&#39;Tre_2&#39;] = Tre_arr_2\n&quot;,&quot;\n&quot;,&quot;# Calculating rapidity Rd for threshold = 1\n&quot;,&quot;\n&quot;,&quot;results[&#39;Rd_2&#39;] = results[&#39;L&#39;]/results[&#39;Tre_2&#39;]&quot;],&quot;metadata&quot;:{&quot;id&quot;:&quot;efFs1Hw6lcYw&quot;,&quot;executionInfo&quot;:{&quot;status&quot;:&quot;ok&quot;,&quot;timestamp&quot;:1644296012032,&quot;user_tz&quot;:360,&quot;elapsed&quot;:114,&quot;user&quot;:{&quot;displayName&quot;:&quot;Anibal Tafur Gutierrez&quot;,&quot;photoUrl&quot;:&quot;https://lh3.googleusercontent.com/a-/AOh14GiFjJimvpwIQMQFCrDoy6ONJwjGM9ztPeGFg2YC=s64&quot;,&quot;userId&quot;:&quot;04897311398615913661&quot;}}},&quot;execution_count&quot;:270,&quot;outputs&quot;:[]},{&quot;cell_type&quot;:&quot;code&quot;,&quot;source&quot;:[&quot;# Showing rapidity results\n&quot;,&quot;# &#39;Tre_2&#39; and &#39;Rd_2&#39; correspond to values considering Qmin = 1\n&quot;,&quot;results[[&#39;DS_desc&#39;,&#39;L&#39;,&#39;Tre&#39;,&#39;Rd&#39;,&#39;Tre_2&#39;,&#39;Rd_2&#39;]]&quot;],&quot;metadata&quot;:{&quot;colab&quot;:{&quot;base_uri&quot;:&quot;https://localhost:8080/&quot;,&quot;height&quot;:238},&quot;id&quot;:&quot;iLEd-D_ENt9j&quot;,&quot;executionInfo&quot;:{&quot;status&quot;:&quot;ok&quot;,&quot;timestamp&quot;:1644296135462,&quot;user_tz&quot;:360,&quot;elapsed&quot;:128,&quot;user&quot;:{&quot;displayName&quot;:&quot;Anibal Tafur Gutierrez&quot;,&quot;photoUrl&quot;:&quot;https://lh3.googleusercontent.com/a-/AOh14GiFjJimvpwIQMQFCrDoy6ONJwjGM9ztPeGFg2YC=s64&quot;,&quot;userId&quot;:&quot;04897311398615913661&quot;}},&quot;outputId&quot;:&quot;a577994f-cd56-4671-cb0a-189589b34823&quot;},&quot;execution_count&quot;:272,&quot;outputs&quot;:[{&quot;output_type&quot;:&quot;execute_result&quot;,&quot;data&quot;:{&quot;text/html&quot;:[&quot;\n&quot;,&quot;  &lt;div id=\&quot;df-500999e0-85db-4cd8-8917-a32958638324\&quot;&gt;\n&quot;,&quot;    &lt;div class=\&quot;colab-df-container\&quot;&gt;\n&quot;,&quot;      &lt;div&gt;\n&quot;,&quot;&lt;style scoped&gt;\n&quot;,&quot;    .dataframe tbody tr th:only-of-type {\n&quot;,&quot;        vertical-align: middle;\n&quot;,&quot;    }\n&quot;,&quot;\n&quot;,&quot;    .dataframe tbody tr th {\n&quot;,&quot;        vertical-align: top;\n&quot;,&quot;    }\n&quot;,&quot;\n&quot;,&quot;    .dataframe thead th {\n&quot;,&quot;        text-align: right;\n&quot;,&quot;    }\n&quot;,&quot;&lt;/style&gt;\n&quot;,&quot;&lt;table border=\&quot;1\&quot; class=\&quot;dataframe\&quot;&gt;\n&quot;,&quot;  &lt;thead&gt;\n&quot;,&quot;    &lt;tr style=\&quot;text-align: right;\&quot;&gt;\n&quot;,&quot;      &lt;th&gt;&lt;/th&gt;\n&quot;,&quot;      &lt;th&gt;DS_desc&lt;/th&gt;\n&quot;,&quot;      &lt;th&gt;L&lt;/th&gt;\n&quot;,&quot;      &lt;th&gt;Tre&lt;/th&gt;\n&quot;,&quot;      &lt;th&gt;Rd&lt;/th&gt;\n&quot;,&quot;      &lt;th&gt;Tre_2&lt;/th&gt;\n&quot;,&quot;      &lt;th&gt;Rd_2&lt;/th&gt;\n&quot;,&quot;    &lt;/tr&gt;\n&quot;,&quot;    &lt;tr&gt;\n&quot;,&quot;      &lt;th&gt;DS&lt;/th&gt;\n&quot;,&quot;      &lt;th&gt;&lt;/th&gt;\n&quot;,&quot;      &lt;th&gt;&lt;/th&gt;\n&quot;,&quot;      &lt;th&gt;&lt;/th&gt;\n&quot;,&quot;      &lt;th&gt;&lt;/th&gt;\n&quot;,&quot;      &lt;th&gt;&lt;/th&gt;\n&quot;,&quot;      &lt;th&gt;&lt;/th&gt;\n&quot;,&quot;    &lt;/tr&gt;\n&quot;,&quot;  &lt;/thead&gt;\n&quot;,&quot;  &lt;tbody&gt;\n&quot;,&quot;    &lt;tr&gt;\n&quot;,&quot;      &lt;th&gt;1&lt;/th&gt;\n&quot;,&quot;      &lt;td&gt;Slight&lt;/td&gt;\n&quot;,&quot;      &lt;td&gt;0.253247&lt;/td&gt;\n&quot;,&quot;      &lt;td&gt;3.843417&lt;/td&gt;\n&quot;,&quot;      &lt;td&gt;0.065891&lt;/td&gt;\n&quot;,&quot;      &lt;td&gt;10.000000&lt;/td&gt;\n&quot;,&quot;      &lt;td&gt;0.025325&lt;/td&gt;\n&quot;,&quot;    &lt;/tr&gt;\n&quot;,&quot;    &lt;tr&gt;\n&quot;,&quot;      &lt;th&gt;2&lt;/th&gt;\n&quot;,&quot;      &lt;td&gt;Moderate&lt;/td&gt;\n&quot;,&quot;      &lt;td&gt;0.746753&lt;/td&gt;\n&quot;,&quot;      &lt;td&gt;5.658363&lt;/td&gt;\n&quot;,&quot;      &lt;td&gt;0.131973&lt;/td&gt;\n&quot;,&quot;      &lt;td&gt;10.000000&lt;/td&gt;\n&quot;,&quot;      &lt;td&gt;0.074675&lt;/td&gt;\n&quot;,&quot;    &lt;/tr&gt;\n&quot;,&quot;    &lt;tr&gt;\n&quot;,&quot;      &lt;th&gt;3&lt;/th&gt;\n&quot;,&quot;      &lt;td&gt;Extensive&lt;/td&gt;\n&quot;,&quot;      &lt;td&gt;0.900000&lt;/td&gt;\n&quot;,&quot;      &lt;td&gt;7.153025&lt;/td&gt;\n&quot;,&quot;      &lt;td&gt;0.125821&lt;/td&gt;\n&quot;,&quot;      &lt;td&gt;7.153025&lt;/td&gt;\n&quot;,&quot;      &lt;td&gt;0.125821&lt;/td&gt;\n&quot;,&quot;    &lt;/tr&gt;\n&quot;,&quot;    &lt;tr&gt;\n&quot;,&quot;      &lt;th&gt;4&lt;/th&gt;\n&quot;,&quot;      &lt;td&gt;Complete w/o IT&lt;/td&gt;\n&quot;,&quot;      &lt;td&gt;1.000000&lt;/td&gt;\n&quot;,&quot;      &lt;td&gt;8.256227&lt;/td&gt;\n&quot;,&quot;      &lt;td&gt;0.121121&lt;/td&gt;\n&quot;,&quot;      &lt;td&gt;8.327402&lt;/td&gt;\n&quot;,&quot;      &lt;td&gt;0.120085&lt;/td&gt;\n&quot;,&quot;    &lt;/tr&gt;\n&quot;,&quot;    &lt;tr&gt;\n&quot;,&quot;      &lt;th&gt;5&lt;/th&gt;\n&quot;,&quot;      &lt;td&gt;Complete w/ IT&lt;/td&gt;\n&quot;,&quot;      &lt;td&gt;1.000000&lt;/td&gt;\n&quot;,&quot;      &lt;td&gt;8.238434&lt;/td&gt;\n&quot;,&quot;      &lt;td&gt;0.121382&lt;/td&gt;\n&quot;,&quot;      &lt;td&gt;10.000000&lt;/td&gt;\n&quot;,&quot;      &lt;td&gt;0.100000&lt;/td&gt;\n&quot;,&quot;    &lt;/tr&gt;\n&quot;,&quot;  &lt;/tbody&gt;\n&quot;,&quot;&lt;/table&gt;\n&quot;,&quot;&lt;/div&gt;\n&quot;,&quot;      &lt;button class=\&quot;colab-df-convert\&quot; onclick=\&quot;convertToInteractive(&#39;df-500999e0-85db-4cd8-8917-a32958638324&#39;)\&quot;\n&quot;,&quot;              title=\&quot;Convert this dataframe to an interactive table.\&quot;\n&quot;,&quot;              style=\&quot;display:none;\&quot;&gt;\n&quot;,&quot;        \n&quot;,&quot;  &lt;svg xmlns=\&quot;http://www.w3.org/2000/svg\&quot; height=\&quot;24px\&quot;viewBox=\&quot;0 0 24 24\&quot;\n&quot;,&quot;       width=\&quot;24px\&quot;&gt;\n&quot;,&quot;    &lt;path d=\&quot;M0 0h24v24H0V0z\&quot; fill=\&quot;none\&quot;/&gt;\n&quot;,&quot;    &lt;path d=\&quot;M18.56 5.44l.94 2.06.94-2.06 2.06-.94-2.06-.94-.94-2.06-.94 2.06-2.06.94zm-11 1L8.5 8.5l.94-2.06 2.06-.94-2.06-.94L8.5 2.5l-.94 2.06-2.06.94zm10 10l.94 2.06.94-2.06 2.06-.94-2.06-.94-.94-2.06-.94 2.06-2.06.94z\&quot;/&gt;&lt;path d=\&quot;M17.41 7.96l-1.37-1.37c-.4-.4-.92-.59-1.43-.59-.52 0-1.04.2-1.43.59L10.3 9.45l-7.72 7.72c-.78.78-.78 2.05 0 2.83L4 21.41c.39.39.9.59 1.41.59.51 0 1.02-.2 1.41-.59l7.78-7.78 2.81-2.81c.8-.78.8-2.07 0-2.86zM5.41 20L4 18.59l7.72-7.72 1.47 1.35L5.41 20z\&quot;/&gt;\n&quot;,&quot;  &lt;/svg&gt;\n&quot;,&quot;      &lt;/button&gt;\n&quot;,&quot;      \n&quot;,&quot;  &lt;style&gt;\n&quot;,&quot;    .colab-df-container {\n&quot;,&quot;      display:flex;\n&quot;,&quot;      flex-wrap:wrap;\n&quot;,&quot;      gap: 12px;\n&quot;,&quot;    }\n&quot;,&quot;\n&quot;,&quot;    .colab-df-convert {\n&quot;,&quot;      background-color: #E8F0FE;\n&quot;,&quot;      border: none;\n&quot;,&quot;      border-radius: 50%;\n&quot;,&quot;      cursor: pointer;\n&quot;,&quot;      display: none;\n&quot;,&quot;      fill: #1967D2;\n&quot;,&quot;      height: 32px;\n&quot;,&quot;      padding: 0 0 0 0;\n&quot;,&quot;      width: 32px;\n&quot;,&quot;    }\n&quot;,&quot;\n&quot;,&quot;    .colab-df-convert:hover {\n&quot;,&quot;      background-color: #E2EBFA;\n&quot;,&quot;      box-shadow: 0px 1px 2px rgba(60, 64, 67, 0.3), 0px 1px 3px 1px rgba(60, 64, 67, 0.15);\n&quot;,&quot;      fill: #174EA6;\n&quot;,&quot;    }\n&quot;,&quot;\n&quot;,&quot;    [theme=dark] .colab-df-convert {\n&quot;,&quot;      background-color: #3B4455;\n&quot;,&quot;      fill: #D2E3FC;\n&quot;,&quot;    }\n&quot;,&quot;\n&quot;,&quot;    [theme=dark] .colab-df-convert:hover {\n&quot;,&quot;      background-color: #434B5C;\n&quot;,&quot;      box-shadow: 0px 1px 3px 1px rgba(0, 0, 0, 0.15);\n&quot;,&quot;      filter: drop-shadow(0px 1px 2px rgba(0, 0, 0, 0.3));\n&quot;,&quot;      fill: #FFFFFF;\n&quot;,&quot;    }\n&quot;,&quot;  &lt;/style&gt;\n&quot;,&quot;\n&quot;,&quot;      &lt;script&gt;\n&quot;,&quot;        const buttonEl =\n&quot;,&quot;          document.querySelector(&#39;#df-500999e0-85db-4cd8-8917-a32958638324 button.colab-df-convert&#39;);\n&quot;,&quot;        buttonEl.style.display =\n&quot;,&quot;          google.colab.kernel.accessAllowed ? &#39;block&#39; : &#39;none&#39;;\n&quot;,&quot;\n&quot;,&quot;        async function convertToInteractive(key) {\n&quot;,&quot;          const element = document.querySelector(&#39;#df-500999e0-85db-4cd8-8917-a32958638324&#39;);\n&quot;,&quot;          const dataTable =\n&quot;,&quot;            await google.colab.kernel.invokeFunction(&#39;convertToInteractive&#39;,\n&quot;,&quot;                                                     [key], {});\n&quot;,&quot;          if (!dataTable) return;\n&quot;,&quot;\n&quot;,&quot;          const docLinkHtml = &#39;Like what you see? Visit the &#39; +\n&quot;,&quot;            &#39;&lt;a target=\&quot;_blank\&quot; href=https://colab.research.google.com/notebooks/data_table.ipynb&gt;data table notebook&lt;/a&gt;&#39;\n&quot;,&quot;            + &#39; to learn more about interactive tables.&#39;;\n&quot;,&quot;          element.innerHTML = &#39;&#39;;\n&quot;,&quot;          dataTable[&#39;output_type&#39;] = &#39;display_data&#39;;\n&quot;,&quot;          await google.colab.output.renderOutput(dataTable, element);\n&quot;,&quot;          const docLink = document.createElement(&#39;div&#39;);\n&quot;,&quot;          docLink.innerHTML = docLinkHtml;\n&quot;,&quot;          element.appendChild(docLink);\n&quot;,&quot;        }\n&quot;,&quot;      &lt;/script&gt;\n&quot;,&quot;    &lt;/div&gt;\n&quot;,&quot;  &lt;/div&gt;\n&quot;,&quot;  &quot;],&quot;text/plain&quot;:[&quot;            DS_desc         L       Tre        Rd      Tre_2      Rd_2\n&quot;,&quot;DS                                                                    \n&quot;,&quot;1            Slight  0.253247  3.843417  0.065891  10.000000  0.025325\n&quot;,&quot;2          Moderate  0.746753  5.658363  0.131973  10.000000  0.074675\n&quot;,&quot;3         Extensive  0.900000  7.153025  0.125821   7.153025  0.125821\n&quot;,&quot;4   Complete w/o IT  1.000000  8.256227  0.121121   8.327402  0.120085\n&quot;,&quot;5    Complete w/ IT  1.000000  8.238434  0.121382  10.000000  0.100000&quot;]},&quot;metadata&quot;:{},&quot;execution_count&quot;:272}]},{&quot;cell_type&quot;:&quot;code&quot;,&quot;source&quot;:[&quot;# Plotting results\n&quot;,&quot;\n&quot;,&quot;labels = list(results[&#39;DS_desc&#39;])\n&quot;,&quot;\n&quot;,&quot;sample1 = results[&#39;Rd&#39;]\n&quot;,&quot;sample2 = results[&#39;Rd_2&#39;]\n&quot;,&quot;\n&quot;,&quot;x = np.arange(len(labels)) # the label locations\n&quot;,&quot;width = 0.35  # the width of the bars\n&quot;,&quot;\n&quot;,&quot;fig, ax = plt.subplots()\n&quot;,&quot;rects1 = ax.bar(x - width/2, sample1, width, label=&#39;Qmin = 0.98&#39;)\n&quot;,&quot;rects2 = ax.bar(x + width/2, sample2, width, label=&#39;Qmin = 1.00&#39;)\n&quot;,&quot;\n&quot;,&quot;ax.set_ylabel(&#39;Rapidity $Rd$&#39;)\n&quot;,&quot;ax.set_xlabel(&#39;Damage State&#39;)\n&quot;,&quot;ax.set_title(&#39;Fig. 4. Rapidity for threshold values of 0.98 and 1&#39;)\n&quot;,&quot;ax.set_xticks(x)\n&quot;,&quot;ax.set_xticklabels(labels)\n&quot;,&quot;ax.legend()\n&quot;,&quot;\n&quot;,&quot;fig.set_figwidth(8)\n&quot;,&quot;plt.grid(axis=&#39;y&#39;)\n&quot;,&quot;plt.show()&quot;],&quot;metadata&quot;:{&quot;colab&quot;:{&quot;base_uri&quot;:&quot;https://localhost:8080/&quot;,&quot;height&quot;:295},&quot;id&quot;:&quot;PNBZWFSmPX56&quot;,&quot;executionInfo&quot;:{&quot;status&quot;:&quot;ok&quot;,&quot;timestamp&quot;:1644296792688,&quot;user_tz&quot;:360,&quot;elapsed&quot;:446,&quot;user&quot;:{&quot;displayName&quot;:&quot;Anibal Tafur Gutierrez&quot;,&quot;photoUrl&quot;:&quot;https://lh3.googleusercontent.com/a-/AOh14GiFjJimvpwIQMQFCrDoy6ONJwjGM9ztPeGFg2YC=s64&quot;,&quot;userId&quot;:&quot;04897311398615913661&quot;}},&quot;outputId&quot;:&quot;cad338b4-4f38-46bf-c481-9602a5c21fa1&quot;},&quot;execution_count&quot;:273,&quot;outputs&quot;:[{&quot;output_type&quot;:&quot;display_data&quot;,&quot;data&quot;:{&quot;image/png&quot;:&quot;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\n&quot;,&quot;text/plain&quot;:[&quot;&lt;Figure size 576x288 with 1 Axes&gt;&quot;]},&quot;metadata&quot;:{&quot;needs_background&quot;:&quot;light&quot;}}]},{&quot;cell_type&quot;:&quot;markdown&quot;,&quot;source&quot;:[&quot;**Discussion**\n&quot;,&quot;\n&quot;,&quot;For the case of DS1 (Slight) and DS2 (Moderate), it is observed a substantial difference between rapidity estimations considering different values of $Q_{min}$. In contrast, for the rest of DS, the difference is not as considerable. In conclusion, recovery times need to consider adequate functionality threshold values, since the term \&quot;recovery\&quot; can be subjective and dependant on the type of system analyzed. Also, as observed in this case,  small differences in the considered $Q_{min}$ can lead to dramatically differente rapidity estimations.&quot;],&quot;metadata&quot;:{&quot;id&quot;:&quot;IEK4Jmz4Vbc9&quot;}},{&quot;cell_type&quot;:&quot;markdown&quot;,&quot;source&quot;:[&quot;## Part (c)\n&quot;,&quot;\n&quot;,&quot;For each damage option, calculate the resilience index using the idea of resilience triangle.\n&quot;,&quot;\n&quot;,&quot;**Solution**\n&quot;,&quot;\n&quot;,&quot;For this report, resilience triangle $Rt$ is defined using the variables observed in Figure 2, loss of functionality $L$ and recovery time $T_{RE}$, as follows.\n&quot;,&quot;\n&quot;,&quot;$$R_t = \\frac {L \\,\\, T_{RE}}{2} $$&quot;],&quot;metadata&quot;:{&quot;id&quot;:&quot;zzjtMGVs9krn&quot;}},{&quot;cell_type&quot;:&quot;code&quot;,&quot;source&quot;:[&quot;# Triangle area will be Rt = L*Tre/2\n&quot;,&quot;\n&quot;,&quot;results[&#39;Rt&#39;] = results[&#39;L&#39;]*results[&#39;Tre&#39;]/2\n&quot;,&quot;results[[&#39;DS_desc&#39;,&#39;L&#39;,&#39;Tre&#39;,&#39;Rt&#39;]]&quot;],&quot;metadata&quot;:{&quot;colab&quot;:{&quot;base_uri&quot;:&quot;https://localhost:8080/&quot;,&quot;height&quot;:238},&quot;id&quot;:&quot;HGyyAtl8oO_M&quot;,&quot;executionInfo&quot;:{&quot;status&quot;:&quot;ok&quot;,&quot;timestamp&quot;:1644290857054,&quot;user_tz&quot;:360,&quot;elapsed&quot;:125,&quot;user&quot;:{&quot;displayName&quot;:&quot;Anibal Tafur Gutierrez&quot;,&quot;photoUrl&quot;:&quot;https://lh3.googleusercontent.com/a-/AOh14GiFjJimvpwIQMQFCrDoy6ONJwjGM9ztPeGFg2YC=s64&quot;,&quot;userId&quot;:&quot;04897311398615913661&quot;}},&quot;outputId&quot;:&quot;01b0580d-d851-4805-a45c-668a543e9474&quot;},&quot;execution_count&quot;:188,&quot;outputs&quot;:[{&quot;output_type&quot;:&quot;execute_result&quot;,&quot;data&quot;:{&quot;text/html&quot;:[&quot;\n&quot;,&quot;  &lt;div id=\&quot;df-a5f0286a-97fc-4908-85a0-a0223d7a692c\&quot;&gt;\n&quot;,&quot;    &lt;div class=\&quot;colab-df-container\&quot;&gt;\n&quot;,&quot;      &lt;div&gt;\n&quot;,&quot;&lt;style scoped&gt;\n&quot;,&quot;    .dataframe tbody tr th:only-of-type {\n&quot;,&quot;        vertical-align: middle;\n&quot;,&quot;    }\n&quot;,&quot;\n&quot;,&quot;    .dataframe tbody tr th {\n&quot;,&quot;        vertical-align: top;\n&quot;,&quot;    }\n&quot;,&quot;\n&quot;,&quot;    .dataframe thead th {\n&quot;,&quot;        text-align: right;\n&quot;,&quot;    }\n&quot;,&quot;&lt;/style&gt;\n&quot;,&quot;&lt;table border=\&quot;1\&quot; class=\&quot;dataframe\&quot;&gt;\n&quot;,&quot;  &lt;thead&gt;\n&quot;,&quot;    &lt;tr style=\&quot;text-align: right;\&quot;&gt;\n&quot;,&quot;      &lt;th&gt;&lt;/th&gt;\n&quot;,&quot;      &lt;th&gt;DS_desc&lt;/th&gt;\n&quot;,&quot;      &lt;th&gt;L&lt;/th&gt;\n&quot;,&quot;      &lt;th&gt;Tre&lt;/th&gt;\n&quot;,&quot;      &lt;th&gt;Rt&lt;/th&gt;\n&quot;,&quot;    &lt;/tr&gt;\n&quot;,&quot;    &lt;tr&gt;\n&quot;,&quot;      &lt;th&gt;DS&lt;/th&gt;\n&quot;,&quot;      &lt;th&gt;&lt;/th&gt;\n&quot;,&quot;      &lt;th&gt;&lt;/th&gt;\n&quot;,&quot;      &lt;th&gt;&lt;/th&gt;\n&quot;,&quot;      &lt;th&gt;&lt;/th&gt;\n&quot;,&quot;    &lt;/tr&gt;\n&quot;,&quot;  &lt;/thead&gt;\n&quot;,&quot;  &lt;tbody&gt;\n&quot;,&quot;    &lt;tr&gt;\n&quot;,&quot;      &lt;th&gt;1&lt;/th&gt;\n&quot;,&quot;      &lt;td&gt;Slight&lt;/td&gt;\n&quot;,&quot;      &lt;td&gt;0.253247&lt;/td&gt;\n&quot;,&quot;      &lt;td&gt;2.971530&lt;/td&gt;\n&quot;,&quot;      &lt;td&gt;0.376265&lt;/td&gt;\n&quot;,&quot;    &lt;/tr&gt;\n&quot;,&quot;    &lt;tr&gt;\n&quot;,&quot;      &lt;th&gt;2&lt;/th&gt;\n&quot;,&quot;      &lt;td&gt;Moderate&lt;/td&gt;\n&quot;,&quot;      &lt;td&gt;0.746753&lt;/td&gt;\n&quot;,&quot;      &lt;td&gt;5.569395&lt;/td&gt;\n&quot;,&quot;      &lt;td&gt;2.079482&lt;/td&gt;\n&quot;,&quot;    &lt;/tr&gt;\n&quot;,&quot;    &lt;tr&gt;\n&quot;,&quot;      &lt;th&gt;3&lt;/th&gt;\n&quot;,&quot;      &lt;td&gt;Extensive&lt;/td&gt;\n&quot;,&quot;      &lt;td&gt;0.900000&lt;/td&gt;\n&quot;,&quot;      &lt;td&gt;7.117438&lt;/td&gt;\n&quot;,&quot;      &lt;td&gt;3.202847&lt;/td&gt;\n&quot;,&quot;    &lt;/tr&gt;\n&quot;,&quot;    &lt;tr&gt;\n&quot;,&quot;      &lt;th&gt;4&lt;/th&gt;\n&quot;,&quot;      &lt;td&gt;Complete w/o IT&lt;/td&gt;\n&quot;,&quot;      &lt;td&gt;1.000000&lt;/td&gt;\n&quot;,&quot;      &lt;td&gt;8.256227&lt;/td&gt;\n&quot;,&quot;      &lt;td&gt;4.128114&lt;/td&gt;\n&quot;,&quot;    &lt;/tr&gt;\n&quot;,&quot;    &lt;tr&gt;\n&quot;,&quot;      &lt;th&gt;5&lt;/th&gt;\n&quot;,&quot;      &lt;td&gt;Complete w/ IT&lt;/td&gt;\n&quot;,&quot;      &lt;td&gt;1.000000&lt;/td&gt;\n&quot;,&quot;      &lt;td&gt;8.238434&lt;/td&gt;\n&quot;,&quot;      &lt;td&gt;4.119217&lt;/td&gt;\n&quot;,&quot;    &lt;/tr&gt;\n&quot;,&quot;  &lt;/tbody&gt;\n&quot;,&quot;&lt;/table&gt;\n&quot;,&quot;&lt;/div&gt;\n&quot;,&quot;      &lt;button class=\&quot;colab-df-convert\&quot; onclick=\&quot;convertToInteractive(&#39;df-a5f0286a-97fc-4908-85a0-a0223d7a692c&#39;)\&quot;\n&quot;,&quot;              title=\&quot;Convert this dataframe to an interactive table.\&quot;\n&quot;,&quot;              style=\&quot;display:none;\&quot;&gt;\n&quot;,&quot;        \n&quot;,&quot;  &lt;svg xmlns=\&quot;http://www.w3.org/2000/svg\&quot; height=\&quot;24px\&quot;viewBox=\&quot;0 0 24 24\&quot;\n&quot;,&quot;       width=\&quot;24px\&quot;&gt;\n&quot;,&quot;    &lt;path d=\&quot;M0 0h24v24H0V0z\&quot; fill=\&quot;none\&quot;/&gt;\n&quot;,&quot;    &lt;path d=\&quot;M18.56 5.44l.94 2.06.94-2.06 2.06-.94-2.06-.94-.94-2.06-.94 2.06-2.06.94zm-11 1L8.5 8.5l.94-2.06 2.06-.94-2.06-.94L8.5 2.5l-.94 2.06-2.06.94zm10 10l.94 2.06.94-2.06 2.06-.94-2.06-.94-.94-2.06-.94 2.06-2.06.94z\&quot;/&gt;&lt;path d=\&quot;M17.41 7.96l-1.37-1.37c-.4-.4-.92-.59-1.43-.59-.52 0-1.04.2-1.43.59L10.3 9.45l-7.72 7.72c-.78.78-.78 2.05 0 2.83L4 21.41c.39.39.9.59 1.41.59.51 0 1.02-.2 1.41-.59l7.78-7.78 2.81-2.81c.8-.78.8-2.07 0-2.86zM5.41 20L4 18.59l7.72-7.72 1.47 1.35L5.41 20z\&quot;/&gt;\n&quot;,&quot;  &lt;/svg&gt;\n&quot;,&quot;      &lt;/button&gt;\n&quot;,&quot;      \n&quot;,&quot;  &lt;style&gt;\n&quot;,&quot;    .colab-df-container {\n&quot;,&quot;      display:flex;\n&quot;,&quot;      flex-wrap:wrap;\n&quot;,&quot;      gap: 12px;\n&quot;,&quot;    }\n&quot;,&quot;\n&quot;,&quot;    .colab-df-convert {\n&quot;,&quot;      background-color: #E8F0FE;\n&quot;,&quot;      border: none;\n&quot;,&quot;      border-radius: 50%;\n&quot;,&quot;      cursor: pointer;\n&quot;,&quot;      display: none;\n&quot;,&quot;      fill: #1967D2;\n&quot;,&quot;      height: 32px;\n&quot;,&quot;      padding: 0 0 0 0;\n&quot;,&quot;      width: 32px;\n&quot;,&quot;    }\n&quot;,&quot;\n&quot;,&quot;    .colab-df-convert:hover {\n&quot;,&quot;      background-color: #E2EBFA;\n&quot;,&quot;      box-shadow: 0px 1px 2px rgba(60, 64, 67, 0.3), 0px 1px 3px 1px rgba(60, 64, 67, 0.15);\n&quot;,&quot;      fill: #174EA6;\n&quot;,&quot;    }\n&quot;,&quot;\n&quot;,&quot;    [theme=dark] .colab-df-convert {\n&quot;,&quot;      background-color: #3B4455;\n&quot;,&quot;      fill: #D2E3FC;\n&quot;,&quot;    }\n&quot;,&quot;\n&quot;,&quot;    [theme=dark] .colab-df-convert:hover {\n&quot;,&quot;      background-color: #434B5C;\n&quot;,&quot;      box-shadow: 0px 1px 3px 1px rgba(0, 0, 0, 0.15);\n&quot;,&quot;      filter: drop-shadow(0px 1px 2px rgba(0, 0, 0, 0.3));\n&quot;,&quot;      fill: #FFFFFF;\n&quot;,&quot;    }\n&quot;,&quot;  &lt;/style&gt;\n&quot;,&quot;\n&quot;,&quot;      &lt;script&gt;\n&quot;,&quot;        const buttonEl =\n&quot;,&quot;          document.querySelector(&#39;#df-a5f0286a-97fc-4908-85a0-a0223d7a692c button.colab-df-convert&#39;);\n&quot;,&quot;        buttonEl.style.display =\n&quot;,&quot;          google.colab.kernel.accessAllowed ? &#39;block&#39; : &#39;none&#39;;\n&quot;,&quot;\n&quot;,&quot;        async function convertToInteractive(key) {\n&quot;,&quot;          const element = document.querySelector(&#39;#df-a5f0286a-97fc-4908-85a0-a0223d7a692c&#39;);\n&quot;,&quot;          const dataTable =\n&quot;,&quot;            await google.colab.kernel.invokeFunction(&#39;convertToInteractive&#39;,\n&quot;,&quot;                                                     [key], {});\n&quot;,&quot;          if (!dataTable) return;\n&quot;,&quot;\n&quot;,&quot;          const docLinkHtml = &#39;Like what you see? Visit the &#39; +\n&quot;,&quot;            &#39;&lt;a target=\&quot;_blank\&quot; href=https://colab.research.google.com/notebooks/data_table.ipynb&gt;data table notebook&lt;/a&gt;&#39;\n&quot;,&quot;            + &#39; to learn more about interactive tables.&#39;;\n&quot;,&quot;          element.innerHTML = &#39;&#39;;\n&quot;,&quot;          dataTable[&#39;output_type&#39;] = &#39;display_data&#39;;\n&quot;,&quot;          await google.colab.output.renderOutput(dataTable, element);\n&quot;,&quot;          const docLink = document.createElement(&#39;div&#39;);\n&quot;,&quot;          docLink.innerHTML = docLinkHtml;\n&quot;,&quot;          element.appendChild(docLink);\n&quot;,&quot;        }\n&quot;,&quot;      &lt;/script&gt;\n&quot;,&quot;    &lt;/div&gt;\n&quot;,&quot;  &lt;/div&gt;\n&quot;,&quot;  &quot;],&quot;text/plain&quot;:[&quot;            DS_desc         L       Tre        Rt\n&quot;,&quot;DS                                               \n&quot;,&quot;1            Slight  0.253247  2.971530  0.376265\n&quot;,&quot;2          Moderate  0.746753  5.569395  2.079482\n&quot;,&quot;3         Extensive  0.900000  7.117438  3.202847\n&quot;,&quot;4   Complete w/o IT  1.000000  8.256227  4.128114\n&quot;,&quot;5    Complete w/ IT  1.000000  8.238434  4.119217&quot;]},&quot;metadata&quot;:{},&quot;execution_count&quot;:188}]},{&quot;cell_type&quot;:&quot;code&quot;,&quot;source&quot;:[&quot;# Plotting results\n&quot;,&quot;plt.figure(figsize=(8,4))\n&quot;,&quot;plt.bar(results[&#39;DS_desc&#39;],height=results[&#39;Rt&#39;], width = 0.5)\n&quot;,&quot;plt.xlabel(&#39;Damage State&#39;)\n&quot;,&quot;plt.ylabel(&#39;Resilience $Rt$&#39;)\n&quot;,&quot;plt.title(&#39;Fig. 5. Triangle Resilience $Rt$ for different Damage States&#39;)\n&quot;,&quot;plt.grid(axis=&#39;y&#39;)\n&quot;,&quot;plt.show()&quot;],&quot;metadata&quot;:{&quot;colab&quot;:{&quot;base_uri&quot;:&quot;https://localhost:8080/&quot;,&quot;height&quot;:297},&quot;id&quot;:&quot;sKJ3-bN9pYr6&quot;,&quot;executionInfo&quot;:{&quot;status&quot;:&quot;ok&quot;,&quot;timestamp&quot;:1644296800761,&quot;user_tz&quot;:360,&quot;elapsed&quot;:454,&quot;user&quot;:{&quot;displayName&quot;:&quot;Anibal Tafur Gutierrez&quot;,&quot;photoUrl&quot;:&quot;https://lh3.googleusercontent.com/a-/AOh14GiFjJimvpwIQMQFCrDoy6ONJwjGM9ztPeGFg2YC=s64&quot;,&quot;userId&quot;:&quot;04897311398615913661&quot;}},&quot;outputId&quot;:&quot;ccc7ff7c-9407-4ffc-920b-e4cd63ccea21&quot;},&quot;execution_count&quot;:274,&quot;outputs&quot;:[{&quot;output_type&quot;:&quot;display_data&quot;,&quot;data&quot;:{&quot;image/png&quot;:&quot;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\n&quot;,&quot;text/plain&quot;:[&quot;&lt;Figure size 576x288 with 1 Axes&gt;&quot;]},&quot;metadata&quot;:{&quot;needs_background&quot;:&quot;light&quot;}}]},{&quot;cell_type&quot;:&quot;markdown&quot;,&quot;source&quot;:[&quot;**Discussion**\n&quot;,&quot;\n&quot;,&quot;Triangle resilience $Rt$ measures resilience taking into consideration the amount of damage sustained and the rapidity of the recovery. It is thefore expected that for DS1 (Slight), the resilience value is considerable lower than those of other DS, since the loss of functionality sustained is substantially lower. It is also observed that for the complete damage states (DS4 and DS5), values of $Rt$ are practically equal despite their different recovery paths, since their parameters $L$ and $T_{RE}$ are similar.&quot;],&quot;metadata&quot;:{&quot;id&quot;:&quot;zoijRKrea3yi&quot;}},{&quot;cell_type&quot;:&quot;markdown&quot;,&quot;source&quot;:[&quot;## Part (d)\n&quot;,&quot;\n&quot;,&quot;For each damage option, calculate the resilience index based on Bruneau et al. (2003) definition.\n&quot;,&quot;\n&quot;,&quot;**Solution**\n&quot;,&quot;\n&quot;,&quot;According to  Bruneau et al. (2003), resilience $R_1$ is estimated as follows:\n&quot;,&quot;\n&quot;,&quot;$$R_1 = \\int_{t_0}^{t_r}{[1 - Q(t)]}dt$$\n&quot;,&quot;\n&quot;,&quot;For our case, $t_0$ = 0 for all damage states, and $t_r$ = $T_{RE}$.&quot;],&quot;metadata&quot;:{&quot;id&quot;:&quot;eiAhmmWM9ol3&quot;}},{&quot;cell_type&quot;:&quot;code&quot;,&quot;source&quot;:[&quot;# Calculating resilience R1 based on Bruneau et al. (2003)\n&quot;,&quot;\n&quot;,&quot;R1_arr=[]\n&quot;,&quot;\n&quot;,&quot;for (DS,T_arr,Q_arr) in [(1,T1,Q1),(2,T2,Q2),(3,T3,Q3),(4,T4,Q4),(5,T5,Q5)]:\n&quot;,&quot;    \n&quot;,&quot;    Tre = results.at[DS,&#39;Tre&#39;] # Recovery time\n&quot;,&quot;    L = results.at[DS,&#39;L&#39;] # Initial loss of functionality\n&quot;,&quot;    pos = T_arr.index(Tre) # Position of recovery time in array\n&quot;,&quot;\n&quot;,&quot;    # Integral from t = 0 up to t = Tre\n&quot;,&quot;    R1 = 1*Tre-np.trapz(Q_arr[0:pos+1], x=T_arr[0:pos+1])\n&quot;,&quot;\n&quot;,&quot;    R1_arr.append(R1)\n&quot;,&quot;\n&quot;,&quot;results[&#39;R1&#39;] = R1_arr\n&quot;,&quot;\n&quot;,&quot;# Showing results\n&quot;,&quot;results[[&#39;DS_desc&#39;,&#39;Tre&#39;,&#39;R1&#39;]]&quot;],&quot;metadata&quot;:{&quot;colab&quot;:{&quot;base_uri&quot;:&quot;https://localhost:8080/&quot;,&quot;height&quot;:238},&quot;id&quot;:&quot;NoQbo7olq1Zv&quot;,&quot;executionInfo&quot;:{&quot;status&quot;:&quot;ok&quot;,&quot;timestamp&quot;:1644291479859,&quot;user_tz&quot;:360,&quot;elapsed&quot;:107,&quot;user&quot;:{&quot;displayName&quot;:&quot;Anibal Tafur Gutierrez&quot;,&quot;photoUrl&quot;:&quot;https://lh3.googleusercontent.com/a-/AOh14GiFjJimvpwIQMQFCrDoy6ONJwjGM9ztPeGFg2YC=s64&quot;,&quot;userId&quot;:&quot;04897311398615913661&quot;}},&quot;outputId&quot;:&quot;b3370a1e-5fa8-47ae-ef53-fc489d27a2eb&quot;},&quot;execution_count&quot;:190,&quot;outputs&quot;:[{&quot;output_type&quot;:&quot;execute_result&quot;,&quot;data&quot;:{&quot;text/html&quot;:[&quot;\n&quot;,&quot;  &lt;div id=\&quot;df-55dab4c9-ba56-4d72-b819-6bc1508b404a\&quot;&gt;\n&quot;,&quot;    &lt;div class=\&quot;colab-df-container\&quot;&gt;\n&quot;,&quot;      &lt;div&gt;\n&quot;,&quot;&lt;style scoped&gt;\n&quot;,&quot;    .dataframe tbody tr th:only-of-type {\n&quot;,&quot;        vertical-align: middle;\n&quot;,&quot;    }\n&quot;,&quot;\n&quot;,&quot;    .dataframe tbody tr th {\n&quot;,&quot;        vertical-align: top;\n&quot;,&quot;    }\n&quot;,&quot;\n&quot;,&quot;    .dataframe thead th {\n&quot;,&quot;        text-align: right;\n&quot;,&quot;    }\n&quot;,&quot;&lt;/style&gt;\n&quot;,&quot;&lt;table border=\&quot;1\&quot; class=\&quot;dataframe\&quot;&gt;\n&quot;,&quot;  &lt;thead&gt;\n&quot;,&quot;    &lt;tr style=\&quot;text-align: right;\&quot;&gt;\n&quot;,&quot;      &lt;th&gt;&lt;/th&gt;\n&quot;,&quot;      &lt;th&gt;DS_desc&lt;/th&gt;\n&quot;,&quot;      &lt;th&gt;Tre&lt;/th&gt;\n&quot;,&quot;      &lt;th&gt;R1&lt;/th&gt;\n&quot;,&quot;    &lt;/tr&gt;\n&quot;,&quot;    &lt;tr&gt;\n&quot;,&quot;      &lt;th&gt;DS&lt;/th&gt;\n&quot;,&quot;      &lt;th&gt;&lt;/th&gt;\n&quot;,&quot;      &lt;th&gt;&lt;/th&gt;\n&quot;,&quot;      &lt;th&gt;&lt;/th&gt;\n&quot;,&quot;    &lt;/tr&gt;\n&quot;,&quot;  &lt;/thead&gt;\n&quot;,&quot;  &lt;tbody&gt;\n&quot;,&quot;    &lt;tr&gt;\n&quot;,&quot;      &lt;th&gt;1&lt;/th&gt;\n&quot;,&quot;      &lt;td&gt;Slight&lt;/td&gt;\n&quot;,&quot;      &lt;td&gt;2.971530&lt;/td&gt;\n&quot;,&quot;      &lt;td&gt;0.601111&lt;/td&gt;\n&quot;,&quot;    &lt;/tr&gt;\n&quot;,&quot;    &lt;tr&gt;\n&quot;,&quot;      &lt;th&gt;2&lt;/th&gt;\n&quot;,&quot;      &lt;td&gt;Moderate&lt;/td&gt;\n&quot;,&quot;      &lt;td&gt;5.569395&lt;/td&gt;\n&quot;,&quot;      &lt;td&gt;2.875139&lt;/td&gt;\n&quot;,&quot;    &lt;/tr&gt;\n&quot;,&quot;    &lt;tr&gt;\n&quot;,&quot;      &lt;th&gt;3&lt;/th&gt;\n&quot;,&quot;      &lt;td&gt;Extensive&lt;/td&gt;\n&quot;,&quot;      &lt;td&gt;7.117438&lt;/td&gt;\n&quot;,&quot;      &lt;td&gt;5.755592&lt;/td&gt;\n&quot;,&quot;    &lt;/tr&gt;\n&quot;,&quot;    &lt;tr&gt;\n&quot;,&quot;      &lt;th&gt;4&lt;/th&gt;\n&quot;,&quot;      &lt;td&gt;Complete w/o IT&lt;/td&gt;\n&quot;,&quot;      &lt;td&gt;8.256227&lt;/td&gt;\n&quot;,&quot;      &lt;td&gt;7.290765&lt;/td&gt;\n&quot;,&quot;    &lt;/tr&gt;\n&quot;,&quot;    &lt;tr&gt;\n&quot;,&quot;      &lt;th&gt;5&lt;/th&gt;\n&quot;,&quot;      &lt;td&gt;Complete w/ IT&lt;/td&gt;\n&quot;,&quot;      &lt;td&gt;8.238434&lt;/td&gt;\n&quot;,&quot;      &lt;td&gt;5.140413&lt;/td&gt;\n&quot;,&quot;    &lt;/tr&gt;\n&quot;,&quot;  &lt;/tbody&gt;\n&quot;,&quot;&lt;/table&gt;\n&quot;,&quot;&lt;/div&gt;\n&quot;,&quot;      &lt;button class=\&quot;colab-df-convert\&quot; onclick=\&quot;convertToInteractive(&#39;df-55dab4c9-ba56-4d72-b819-6bc1508b404a&#39;)\&quot;\n&quot;,&quot;              title=\&quot;Convert this dataframe to an interactive table.\&quot;\n&quot;,&quot;              style=\&quot;display:none;\&quot;&gt;\n&quot;,&quot;        \n&quot;,&quot;  &lt;svg xmlns=\&quot;http://www.w3.org/2000/svg\&quot; height=\&quot;24px\&quot;viewBox=\&quot;0 0 24 24\&quot;\n&quot;,&quot;       width=\&quot;24px\&quot;&gt;\n&quot;,&quot;    &lt;path d=\&quot;M0 0h24v24H0V0z\&quot; fill=\&quot;none\&quot;/&gt;\n&quot;,&quot;    &lt;path d=\&quot;M18.56 5.44l.94 2.06.94-2.06 2.06-.94-2.06-.94-.94-2.06-.94 2.06-2.06.94zm-11 1L8.5 8.5l.94-2.06 2.06-.94-2.06-.94L8.5 2.5l-.94 2.06-2.06.94zm10 10l.94 2.06.94-2.06 2.06-.94-2.06-.94-.94-2.06-.94 2.06-2.06.94z\&quot;/&gt;&lt;path d=\&quot;M17.41 7.96l-1.37-1.37c-.4-.4-.92-.59-1.43-.59-.52 0-1.04.2-1.43.59L10.3 9.45l-7.72 7.72c-.78.78-.78 2.05 0 2.83L4 21.41c.39.39.9.59 1.41.59.51 0 1.02-.2 1.41-.59l7.78-7.78 2.81-2.81c.8-.78.8-2.07 0-2.86zM5.41 20L4 18.59l7.72-7.72 1.47 1.35L5.41 20z\&quot;/&gt;\n&quot;,&quot;  &lt;/svg&gt;\n&quot;,&quot;      &lt;/button&gt;\n&quot;,&quot;      \n&quot;,&quot;  &lt;style&gt;\n&quot;,&quot;    .colab-df-container {\n&quot;,&quot;      display:flex;\n&quot;,&quot;      flex-wrap:wrap;\n&quot;,&quot;      gap: 12px;\n&quot;,&quot;    }\n&quot;,&quot;\n&quot;,&quot;    .colab-df-convert {\n&quot;,&quot;      background-color: #E8F0FE;\n&quot;,&quot;      border: none;\n&quot;,&quot;      border-radius: 50%;\n&quot;,&quot;      cursor: pointer;\n&quot;,&quot;      display: none;\n&quot;,&quot;      fill: #1967D2;\n&quot;,&quot;      height: 32px;\n&quot;,&quot;      padding: 0 0 0 0;\n&quot;,&quot;      width: 32px;\n&quot;,&quot;    }\n&quot;,&quot;\n&quot;,&quot;    .colab-df-convert:hover {\n&quot;,&quot;      background-color: #E2EBFA;\n&quot;,&quot;      box-shadow: 0px 1px 2px rgba(60, 64, 67, 0.3), 0px 1px 3px 1px rgba(60, 64, 67, 0.15);\n&quot;,&quot;      fill: #174EA6;\n&quot;,&quot;    }\n&quot;,&quot;\n&quot;,&quot;    [theme=dark] .colab-df-convert {\n&quot;,&quot;      background-color: #3B4455;\n&quot;,&quot;      fill: #D2E3FC;\n&quot;,&quot;    }\n&quot;,&quot;\n&quot;,&quot;    [theme=dark] .colab-df-convert:hover {\n&quot;,&quot;      background-color: #434B5C;\n&quot;,&quot;      box-shadow: 0px 1px 3px 1px rgba(0, 0, 0, 0.15);\n&quot;,&quot;      filter: drop-shadow(0px 1px 2px rgba(0, 0, 0, 0.3));\n&quot;,&quot;      fill: #FFFFFF;\n&quot;,&quot;    }\n&quot;,&quot;  &lt;/style&gt;\n&quot;,&quot;\n&quot;,&quot;      &lt;script&gt;\n&quot;,&quot;        const buttonEl =\n&quot;,&quot;          document.querySelector(&#39;#df-55dab4c9-ba56-4d72-b819-6bc1508b404a button.colab-df-convert&#39;);\n&quot;,&quot;        buttonEl.style.display =\n&quot;,&quot;          google.colab.kernel.accessAllowed ? &#39;block&#39; : &#39;none&#39;;\n&quot;,&quot;\n&quot;,&quot;        async function convertToInteractive(key) {\n&quot;,&quot;          const element = document.querySelector(&#39;#df-55dab4c9-ba56-4d72-b819-6bc1508b404a&#39;);\n&quot;,&quot;          const dataTable =\n&quot;,&quot;            await google.colab.kernel.invokeFunction(&#39;convertToInteractive&#39;,\n&quot;,&quot;                                                     [key], {});\n&quot;,&quot;          if (!dataTable) return;\n&quot;,&quot;\n&quot;,&quot;          const docLinkHtml = &#39;Like what you see? Visit the &#39; +\n&quot;,&quot;            &#39;&lt;a target=\&quot;_blank\&quot; href=https://colab.research.google.com/notebooks/data_table.ipynb&gt;data table notebook&lt;/a&gt;&#39;\n&quot;,&quot;            + &#39; to learn more about interactive tables.&#39;;\n&quot;,&quot;          element.innerHTML = &#39;&#39;;\n&quot;,&quot;          dataTable[&#39;output_type&#39;] = &#39;display_data&#39;;\n&quot;,&quot;          await google.colab.output.renderOutput(dataTable, element);\n&quot;,&quot;          const docLink = document.createElement(&#39;div&#39;);\n&quot;,&quot;          docLink.innerHTML = docLinkHtml;\n&quot;,&quot;          element.appendChild(docLink);\n&quot;,&quot;        }\n&quot;,&quot;      &lt;/script&gt;\n&quot;,&quot;    &lt;/div&gt;\n&quot;,&quot;  &lt;/div&gt;\n&quot;,&quot;  &quot;],&quot;text/plain&quot;:[&quot;            DS_desc       Tre        R1\n&quot;,&quot;DS                                     \n&quot;,&quot;1            Slight  2.971530  0.601111\n&quot;,&quot;2          Moderate  5.569395  2.875139\n&quot;,&quot;3         Extensive  7.117438  5.755592\n&quot;,&quot;4   Complete w/o IT  8.256227  7.290765\n&quot;,&quot;5    Complete w/ IT  8.238434  5.140413&quot;]},&quot;metadata&quot;:{},&quot;execution_count&quot;:190}]},{&quot;cell_type&quot;:&quot;code&quot;,&quot;source&quot;:[&quot;# Plotting results\n&quot;,&quot;plt.figure(figsize=(8,4))\n&quot;,&quot;plt.bar(results[&#39;DS_desc&#39;],height=results[&#39;R1&#39;], width = 0.5)\n&quot;,&quot;plt.xlabel(&#39;Damage State&#39;)\n&quot;,&quot;plt.ylabel(&#39;Resilience $R_1$&#39;)\n&quot;,&quot;plt.title(&#39;Fig. 6. Resilience $R_1$ using definition by Bruneau et al. (2003)&#39;)\n&quot;,&quot;plt.grid(axis=&#39;y&#39;)\n&quot;,&quot;plt.show()&quot;],&quot;metadata&quot;:{&quot;colab&quot;:{&quot;base_uri&quot;:&quot;https://localhost:8080/&quot;,&quot;height&quot;:297},&quot;id&quot;:&quot;paSZLiruwoYz&quot;,&quot;executionInfo&quot;:{&quot;status&quot;:&quot;ok&quot;,&quot;timestamp&quot;:1644297726788,&quot;user_tz&quot;:360,&quot;elapsed&quot;:338,&quot;user&quot;:{&quot;displayName&quot;:&quot;Anibal Tafur Gutierrez&quot;,&quot;photoUrl&quot;:&quot;https://lh3.googleusercontent.com/a-/AOh14GiFjJimvpwIQMQFCrDoy6ONJwjGM9ztPeGFg2YC=s64&quot;,&quot;userId&quot;:&quot;04897311398615913661&quot;}},&quot;outputId&quot;:&quot;6d04822e-b784-412f-9f0b-4cc6e2bbb20b&quot;},&quot;execution_count&quot;:278,&quot;outputs&quot;:[{&quot;output_type&quot;:&quot;display_data&quot;,&quot;data&quot;:{&quot;image/png&quot;:&quot;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\n&quot;,&quot;text/plain&quot;:[&quot;&lt;Figure size 576x288 with 1 Axes&gt;&quot;]},&quot;metadata&quot;:{&quot;needs_background&quot;:&quot;light&quot;}}]},{&quot;cell_type&quot;:&quot;markdown&quot;,&quot;source&quot;:[&quot;**Discussion**\n&quot;,&quot;\n&quot;,&quot;For this case, it is appreciated a considerable difference in the $R_1$ resilience values for the complete damage states (DS4 and DS5), reflecting their different recovery paths, contrary to what was observed using the triangle resilience $R_t$.&quot;],&quot;metadata&quot;:{&quot;id&quot;:&quot;YDWVZRVca5Tf&quot;}},{&quot;cell_type&quot;:&quot;markdown&quot;,&quot;source&quot;:[&quot;## Part (e)\n&quot;,&quot;\n&quot;,&quot;For each damage option, calculate the resilience index based on Frangopol and Bocchini (2011) definition.\n&quot;,&quot;\n&quot;,&quot;**Solution**\n&quot;,&quot;\n&quot;,&quot;According to  Frangopol and Bocchini (2011), resilience index $R_3$ is defined as follows.\n&quot;,&quot;\n&quot;,&quot;$$R_3 = \\frac{\\int_{t_0}^{t_0+t_h}{Q(t)dt}}{t_h}$$\n&quot;,&quot;\n&quot;,&quot;Where $t_h$ is the time horizon for the analysis. For this report, $t_h$ is considered as 10 months.&quot;],&quot;metadata&quot;:{&quot;id&quot;:&quot;2c34AT7o9rsJ&quot;}},{&quot;cell_type&quot;:&quot;code&quot;,&quot;source&quot;:[&quot;th = 10 # Time horizon for all damage states\n&quot;,&quot;\n&quot;,&quot;R3_arr = []\n&quot;,&quot;\n&quot;,&quot;for (DS,T_arr,Q_arr) in [(1,T1,Q1),(2,T2,Q2),(3,T3,Q3),(4,T4,Q4),(5,T5,Q5)]:\n&quot;,&quot;    pos = T_arr.index(th)\n&quot;,&quot;\n&quot;,&quot;    # Integrating over the time horizon period\n&quot;,&quot;    R3 = np.trapz(Q_arr, x=T_arr) / th\n&quot;,&quot;\n&quot;,&quot;    R3_arr.append(R3)\n&quot;,&quot;results[&#39;R3&#39;] = R3_arr\n&quot;,&quot;\n&quot;,&quot;# Showing results\n&quot;,&quot;results[[&#39;DS_desc&#39;,&#39;R3&#39;]]&quot;],&quot;metadata&quot;:{&quot;colab&quot;:{&quot;base_uri&quot;:&quot;https://localhost:8080/&quot;,&quot;height&quot;:238},&quot;id&quot;:&quot;2wU9f5jjbF6x&quot;,&quot;executionInfo&quot;:{&quot;status&quot;:&quot;ok&quot;,&quot;timestamp&quot;:1644298172919,&quot;user_tz&quot;:360,&quot;elapsed&quot;:118,&quot;user&quot;:{&quot;displayName&quot;:&quot;Anibal Tafur Gutierrez&quot;,&quot;photoUrl&quot;:&quot;https://lh3.googleusercontent.com/a-/AOh14GiFjJimvpwIQMQFCrDoy6ONJwjGM9ztPeGFg2YC=s64&quot;,&quot;userId&quot;:&quot;04897311398615913661&quot;}},&quot;outputId&quot;:&quot;e34bd7cd-278b-4b0a-f3cc-e7783e6cf202&quot;},&quot;execution_count&quot;:281,&quot;outputs&quot;:[{&quot;output_type&quot;:&quot;execute_result&quot;,&quot;data&quot;:{&quot;text/html&quot;:[&quot;\n&quot;,&quot;  &lt;div id=\&quot;df-60e536be-ab33-4dc3-9ae5-ee948a23001c\&quot;&gt;\n&quot;,&quot;    &lt;div class=\&quot;colab-df-container\&quot;&gt;\n&quot;,&quot;      &lt;div&gt;\n&quot;,&quot;&lt;style scoped&gt;\n&quot;,&quot;    .dataframe tbody tr th:only-of-type {\n&quot;,&quot;        vertical-align: middle;\n&quot;,&quot;    }\n&quot;,&quot;\n&quot;,&quot;    .dataframe tbody tr th {\n&quot;,&quot;        vertical-align: top;\n&quot;,&quot;    }\n&quot;,&quot;\n&quot;,&quot;    .dataframe thead th {\n&quot;,&quot;        text-align: right;\n&quot;,&quot;    }\n&quot;,&quot;&lt;/style&gt;\n&quot;,&quot;&lt;table border=\&quot;1\&quot; class=\&quot;dataframe\&quot;&gt;\n&quot;,&quot;  &lt;thead&gt;\n&quot;,&quot;    &lt;tr style=\&quot;text-align: right;\&quot;&gt;\n&quot;,&quot;      &lt;th&gt;&lt;/th&gt;\n&quot;,&quot;      &lt;th&gt;DS_desc&lt;/th&gt;\n&quot;,&quot;      &lt;th&gt;R3&lt;/th&gt;\n&quot;,&quot;    &lt;/tr&gt;\n&quot;,&quot;    &lt;tr&gt;\n&quot;,&quot;      &lt;th&gt;DS&lt;/th&gt;\n&quot;,&quot;      &lt;th&gt;&lt;/th&gt;\n&quot;,&quot;      &lt;th&gt;&lt;/th&gt;\n&quot;,&quot;    &lt;/tr&gt;\n&quot;,&quot;  &lt;/thead&gt;\n&quot;,&quot;  &lt;tbody&gt;\n&quot;,&quot;    &lt;tr&gt;\n&quot;,&quot;      &lt;th&gt;1&lt;/th&gt;\n&quot;,&quot;      &lt;td&gt;Slight&lt;/td&gt;\n&quot;,&quot;      &lt;td&gt;0.935397&lt;/td&gt;\n&quot;,&quot;    &lt;/tr&gt;\n&quot;,&quot;    &lt;tr&gt;\n&quot;,&quot;      &lt;th&gt;2&lt;/th&gt;\n&quot;,&quot;      &lt;td&gt;Moderate&lt;/td&gt;\n&quot;,&quot;      &lt;td&gt;0.711565&lt;/td&gt;\n&quot;,&quot;    &lt;/tr&gt;\n&quot;,&quot;    &lt;tr&gt;\n&quot;,&quot;      &lt;th&gt;3&lt;/th&gt;\n&quot;,&quot;      &lt;td&gt;Extensive&lt;/td&gt;\n&quot;,&quot;      &lt;td&gt;0.424371&lt;/td&gt;\n&quot;,&quot;    &lt;/tr&gt;\n&quot;,&quot;    &lt;tr&gt;\n&quot;,&quot;      &lt;th&gt;4&lt;/th&gt;\n&quot;,&quot;      &lt;td&gt;Complete w/o IT&lt;/td&gt;\n&quot;,&quot;      &lt;td&gt;0.270877&lt;/td&gt;\n&quot;,&quot;    &lt;/tr&gt;\n&quot;,&quot;    &lt;tr&gt;\n&quot;,&quot;      &lt;th&gt;5&lt;/th&gt;\n&quot;,&quot;      &lt;td&gt;Complete w/ IT&lt;/td&gt;\n&quot;,&quot;      &lt;td&gt;0.485101&lt;/td&gt;\n&quot;,&quot;    &lt;/tr&gt;\n&quot;,&quot;  &lt;/tbody&gt;\n&quot;,&quot;&lt;/table&gt;\n&quot;,&quot;&lt;/div&gt;\n&quot;,&quot;      &lt;button class=\&quot;colab-df-convert\&quot; onclick=\&quot;convertToInteractive(&#39;df-60e536be-ab33-4dc3-9ae5-ee948a23001c&#39;)\&quot;\n&quot;,&quot;              title=\&quot;Convert this dataframe to an interactive table.\&quot;\n&quot;,&quot;              style=\&quot;display:none;\&quot;&gt;\n&quot;,&quot;        \n&quot;,&quot;  &lt;svg xmlns=\&quot;http://www.w3.org/2000/svg\&quot; height=\&quot;24px\&quot;viewBox=\&quot;0 0 24 24\&quot;\n&quot;,&quot;       width=\&quot;24px\&quot;&gt;\n&quot;,&quot;    &lt;path d=\&quot;M0 0h24v24H0V0z\&quot; fill=\&quot;none\&quot;/&gt;\n&quot;,&quot;    &lt;path d=\&quot;M18.56 5.44l.94 2.06.94-2.06 2.06-.94-2.06-.94-.94-2.06-.94 2.06-2.06.94zm-11 1L8.5 8.5l.94-2.06 2.06-.94-2.06-.94L8.5 2.5l-.94 2.06-2.06.94zm10 10l.94 2.06.94-2.06 2.06-.94-2.06-.94-.94-2.06-.94 2.06-2.06.94z\&quot;/&gt;&lt;path d=\&quot;M17.41 7.96l-1.37-1.37c-.4-.4-.92-.59-1.43-.59-.52 0-1.04.2-1.43.59L10.3 9.45l-7.72 7.72c-.78.78-.78 2.05 0 2.83L4 21.41c.39.39.9.59 1.41.59.51 0 1.02-.2 1.41-.59l7.78-7.78 2.81-2.81c.8-.78.8-2.07 0-2.86zM5.41 20L4 18.59l7.72-7.72 1.47 1.35L5.41 20z\&quot;/&gt;\n&quot;,&quot;  &lt;/svg&gt;\n&quot;,&quot;      &lt;/button&gt;\n&quot;,&quot;      \n&quot;,&quot;  &lt;style&gt;\n&quot;,&quot;    .colab-df-container {\n&quot;,&quot;      display:flex;\n&quot;,&quot;      flex-wrap:wrap;\n&quot;,&quot;      gap: 12px;\n&quot;,&quot;    }\n&quot;,&quot;\n&quot;,&quot;    .colab-df-convert {\n&quot;,&quot;      background-color: #E8F0FE;\n&quot;,&quot;      border: none;\n&quot;,&quot;      border-radius: 50%;\n&quot;,&quot;      cursor: pointer;\n&quot;,&quot;      display: none;\n&quot;,&quot;      fill: #1967D2;\n&quot;,&quot;      height: 32px;\n&quot;,&quot;      padding: 0 0 0 0;\n&quot;,&quot;      width: 32px;\n&quot;,&quot;    }\n&quot;,&quot;\n&quot;,&quot;    .colab-df-convert:hover {\n&quot;,&quot;      background-color: #E2EBFA;\n&quot;,&quot;      box-shadow: 0px 1px 2px rgba(60, 64, 67, 0.3), 0px 1px 3px 1px rgba(60, 64, 67, 0.15);\n&quot;,&quot;      fill: #174EA6;\n&quot;,&quot;    }\n&quot;,&quot;\n&quot;,&quot;    [theme=dark] .colab-df-convert {\n&quot;,&quot;      background-color: #3B4455;\n&quot;,&quot;      fill: #D2E3FC;\n&quot;,&quot;    }\n&quot;,&quot;\n&quot;,&quot;    [theme=dark] .colab-df-convert:hover {\n&quot;,&quot;      background-color: #434B5C;\n&quot;,&quot;      box-shadow: 0px 1px 3px 1px rgba(0, 0, 0, 0.15);\n&quot;,&quot;      filter: drop-shadow(0px 1px 2px rgba(0, 0, 0, 0.3));\n&quot;,&quot;      fill: #FFFFFF;\n&quot;,&quot;    }\n&quot;,&quot;  &lt;/style&gt;\n&quot;,&quot;\n&quot;,&quot;      &lt;script&gt;\n&quot;,&quot;        const buttonEl =\n&quot;,&quot;          document.querySelector(&#39;#df-60e536be-ab33-4dc3-9ae5-ee948a23001c button.colab-df-convert&#39;);\n&quot;,&quot;        buttonEl.style.display =\n&quot;,&quot;          google.colab.kernel.accessAllowed ? &#39;block&#39; : &#39;none&#39;;\n&quot;,&quot;\n&quot;,&quot;        async function convertToInteractive(key) {\n&quot;,&quot;          const element = document.querySelector(&#39;#df-60e536be-ab33-4dc3-9ae5-ee948a23001c&#39;);\n&quot;,&quot;          const dataTable =\n&quot;,&quot;            await google.colab.kernel.invokeFunction(&#39;convertToInteractive&#39;,\n&quot;,&quot;                                                     [key], {});\n&quot;,&quot;          if (!dataTable) return;\n&quot;,&quot;\n&quot;,&quot;          const docLinkHtml = &#39;Like what you see? Visit the &#39; +\n&quot;,&quot;            &#39;&lt;a target=\&quot;_blank\&quot; href=https://colab.research.google.com/notebooks/data_table.ipynb&gt;data table notebook&lt;/a&gt;&#39;\n&quot;,&quot;            + &#39; to learn more about interactive tables.&#39;;\n&quot;,&quot;          element.innerHTML = &#39;&#39;;\n&quot;,&quot;          dataTable[&#39;output_type&#39;] = &#39;display_data&#39;;\n&quot;,&quot;          await google.colab.output.renderOutput(dataTable, element);\n&quot;,&quot;          const docLink = document.createElement(&#39;div&#39;);\n&quot;,&quot;          docLink.innerHTML = docLinkHtml;\n&quot;,&quot;          element.appendChild(docLink);\n&quot;,&quot;        }\n&quot;,&quot;      &lt;/script&gt;\n&quot;,&quot;    &lt;/div&gt;\n&quot;,&quot;  &lt;/div&gt;\n&quot;,&quot;  &quot;],&quot;text/plain&quot;:[&quot;            DS_desc        R3\n&quot;,&quot;DS                           \n&quot;,&quot;1            Slight  0.935397\n&quot;,&quot;2          Moderate  0.711565\n&quot;,&quot;3         Extensive  0.424371\n&quot;,&quot;4   Complete w/o IT  0.270877\n&quot;,&quot;5    Complete w/ IT  0.485101&quot;]},&quot;metadata&quot;:{},&quot;execution_count&quot;:281}]},{&quot;cell_type&quot;:&quot;code&quot;,&quot;source&quot;:[&quot;# Plotting results\n&quot;,&quot;plt.figure(figsize=(8,4))\n&quot;,&quot;plt.bar(results[&#39;DS_desc&#39;],height=results[&#39;R3&#39;], width = 0.5)\n&quot;,&quot;plt.xlabel(&#39;Damage State&#39;)\n&quot;,&quot;plt.ylabel(&#39;Resilience $R_3$&#39;)\n&quot;,&quot;plt.title(&#39;Fig. 7. Resilience $R_3$ using definition by Frangopol and Bocchini (2011)&#39;)\n&quot;,&quot;plt.grid(axis=&#39;y&#39;)\n&quot;,&quot;plt.show()&quot;],&quot;metadata&quot;:{&quot;colab&quot;:{&quot;base_uri&quot;:&quot;https://localhost:8080/&quot;,&quot;height&quot;:297},&quot;id&quot;:&quot;F3rSMGQazxWS&quot;,&quot;executionInfo&quot;:{&quot;status&quot;:&quot;ok&quot;,&quot;timestamp&quot;:1644298216700,&quot;user_tz&quot;:360,&quot;elapsed&quot;:434,&quot;user&quot;:{&quot;displayName&quot;:&quot;Anibal Tafur Gutierrez&quot;,&quot;photoUrl&quot;:&quot;https://lh3.googleusercontent.com/a-/AOh14GiFjJimvpwIQMQFCrDoy6ONJwjGM9ztPeGFg2YC=s64&quot;,&quot;userId&quot;:&quot;04897311398615913661&quot;}},&quot;outputId&quot;:&quot;f3ff0d39-618d-4e03-a09b-320bbfb0088b&quot;},&quot;execution_count&quot;:284,&quot;outputs&quot;:[{&quot;output_type&quot;:&quot;display_data&quot;,&quot;data&quot;:{&quot;image/png&quot;:&quot;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\n&quot;,&quot;text/plain&quot;:[&quot;&lt;Figure size 576x288 with 1 Axes&gt;&quot;]},&quot;metadata&quot;:{&quot;needs_background&quot;:&quot;light&quot;}}]},{&quot;cell_type&quot;:&quot;markdown&quot;,&quot;source&quot;:[&quot;** Discussion **\n&quot;,&quot;\n&quot;,&quot;It is observed that, in contrast to what was estimated using $R_t$ and $R_1$, resilience values are considerably higher for less severe damage states. This is due to the different approaches followed in this methods, $R_t$ and $R_1$ consider the area over the curves, and $R_3$ considers the area below. Another observation is that $R_3$ is normalized by the time horizon, therefore, curves with different recovery times can be analyzed and compared.\n&quot;,&quot;\n&quot;,&quot;As additional discussion, Figure 8 shows normalized values of $R_t$ and $R_1$, namely, $R&#39;_t$ and $R&#39;_1$, which are then compared to the already normalized $R_3$. $R&#39;_t$ and $R&#39;_1$ are obtained by normalizing using the area $L\\times T_{RE}$.\n&quot;,&quot;\n&quot;,&quot;$$R&#39;_t = \\frac{R_t}{L \\, \\, T_{RE}} \\,,  R&#39;_1 = \\frac{R_1}{L \\, \\, T_{RE}}$$&quot;],&quot;metadata&quot;:{&quot;id&quot;:&quot;iz-1J8-Mz8kK&quot;}},{&quot;cell_type&quot;:&quot;code&quot;,&quot;source&quot;:[&quot;# Plotting results\n&quot;,&quot;\n&quot;,&quot;labels = list(results[&#39;DS_desc&#39;])\n&quot;,&quot;\n&quot;,&quot;sample1 = results[&#39;Rt&#39;]/(results[&#39;L&#39;]*results[&#39;Tre&#39;])\n&quot;,&quot;sample2 = results[&#39;R1&#39;]/(results[&#39;L&#39;]*results[&#39;Tre&#39;])\n&quot;,&quot;sample3 = results[&#39;R3&#39;]\n&quot;,&quot;\n&quot;,&quot;x = np.arange(len(labels)) # the label locations\n&quot;,&quot;width = 0.25  # the width of the bars\n&quot;,&quot;\n&quot;,&quot;fig, ax = plt.subplots()\n&quot;,&quot;rects1 = ax.bar(x - width, sample1, width, label=\&quot;$R&#39;_t$ (Triangle)\&quot;)\n&quot;,&quot;rects2 = ax.bar(x , sample2, width, label=\&quot;$R&#39;_1$ (Bruneau)\&quot;)\n&quot;,&quot;rects3 = ax.bar(x + width, sample3, width, label=\&quot;$R_3$ (Frangopol)\&quot;)\n&quot;,&quot;\n&quot;,&quot;ax.set_ylabel(&#39;Normalized Resilience&#39;)\n&quot;,&quot;ax.set_xlabel(&#39;Damage State&#39;)\n&quot;,&quot;ax.set_title(&#39;Fig. 8. Normalized resilience values for different definitions&#39;)\n&quot;,&quot;ax.set_xticks(x)\n&quot;,&quot;ax.set_xticklabels(labels)\n&quot;,&quot;ax.legend()\n&quot;,&quot;\n&quot;,&quot;fig.set_figwidth(8)\n&quot;,&quot;plt.grid(axis=&#39;y&#39;)\n&quot;,&quot;plt.show()&quot;],&quot;metadata&quot;:{&quot;colab&quot;:{&quot;base_uri&quot;:&quot;https://localhost:8080/&quot;,&quot;height&quot;:295},&quot;id&quot;:&quot;gkuQB2ckbsan&quot;,&quot;executionInfo&quot;:{&quot;status&quot;:&quot;ok&quot;,&quot;timestamp&quot;:1644299211916,&quot;user_tz&quot;:360,&quot;elapsed&quot;:578,&quot;user&quot;:{&quot;displayName&quot;:&quot;Anibal Tafur Gutierrez&quot;,&quot;photoUrl&quot;:&quot;https://lh3.googleusercontent.com/a-/AOh14GiFjJimvpwIQMQFCrDoy6ONJwjGM9ztPeGFg2YC=s64&quot;,&quot;userId&quot;:&quot;04897311398615913661&quot;}},&quot;outputId&quot;:&quot;35daf8a3-dced-4a72-ab57-506947602c97&quot;},&quot;execution_count&quot;:294,&quot;outputs&quot;:[{&quot;output_type&quot;:&quot;display_data&quot;,&quot;data&quot;:{&quot;image/png&quot;:&quot;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\n&quot;,&quot;text/plain&quot;:[&quot;&lt;Figure size 576x288 with 1 Axes&gt;&quot;]},&quot;metadata&quot;:{&quot;needs_background&quot;:&quot;light&quot;}}]},{&quot;cell_type&quot;:&quot;markdown&quot;,&quot;source&quot;:[&quot;**Discussion**\n&quot;,&quot;\n&quot;,&quot;There exists a considerable difference in resilience estimations using different approaches, due to the substantial different aproaches that they take. Nevertheless, similarities are found for triangle resilience $R_t$ and $R_1$ in the sense that they use the area over the functionality curve, as opossed to $R_3$. This explains the similar values of resilience index for DS5 (complete with idle time), since areas over and below its $Q(t)$ curve are relatively similar. Another key difference of $R_3$ is the normalization by time horizon for all the curves.\n&quot;,&quot;\n&quot;,&quot;In conclusion, these methods carry subjectivity in their approaches and definitons, and for application is real-life infrastructure systems, additional criteria related to the system characteristics and analysis objectives has to be taken into account to determine an adequate resilience measure.&quot;],&quot;metadata&quot;:{&quot;id&quot;:&quot;DCH_YQV1c5zz&quot;}},{&quot;cell_type&quot;:&quot;markdown&quot;,&quot;source&quot;:[&quot;## Part (f)\n&quot;,&quot;\n&quot;,&quot;Consider these two damage options: (I) Complete damage with idle time and (II) Complete damage without idle time. If we assume that the change in idle times does not impact the recovery path, what is the minimum idle time for Option (I) to have the resilience index lower than Option (II)?\n&quot;,&quot;\n&quot;,&quot;**Discussion**\n&quot;,&quot;\n&quot;,&quot;For this part, the resilience definition by Frangopol and Bocchini (2011) is used since, since this is the case where additional idle time would cause the resilience index to decrease. This is because this approach considers the area below the functionality curve.\n&quot;,&quot;\n&quot;,&quot;Figure 9 shows the relation between idle time and resilience for Option I, considering that the recovery path remains unaltered. The estimated resilience $R_3$ calculated for Option II in Part (f) is shown over the plot.&quot;],&quot;metadata&quot;:{&quot;id&quot;:&quot;yprEM0IL9vn9&quot;}},{&quot;cell_type&quot;:&quot;code&quot;,&quot;source&quot;:[&quot;# Using R3 definition Frangopol and Bocchini (2011)\n&quot;,&quot;# Current idle time (Ti) for DS5: Ti = 2.0284698 months\n&quot;,&quot;# Calculating Resilience for varios idle times (assuming no modification of recovery path):\n&quot;,&quot;\n&quot;,&quot;Ti_arr = T5\n&quot;,&quot;\n&quot;,&quot;Rmod_arr = [] # Storing resilience values\n&quot;,&quot;\n&quot;,&quot;for Ti in Ti_arr:\n&quot;,&quot;\n&quot;,&quot;    pos = T5.index(Ti) \n&quot;,&quot;\n&quot;,&quot;    # Integrating from t = Ti to t = 10\n&quot;,&quot;    Rmod = np.trapz(Q5[pos:len(Q5)+1], x=T5[pos:len(Q5)+1])\n&quot;,&quot;    Rmod_arr.append(Rmod)&quot;],&quot;metadata&quot;:{&quot;id&quot;:&quot;YcRXHRCx3Nu2&quot;,&quot;executionInfo&quot;:{&quot;status&quot;:&quot;ok&quot;,&quot;timestamp&quot;:1644292797587,&quot;user_tz&quot;:360,&quot;elapsed&quot;:106,&quot;user&quot;:{&quot;displayName&quot;:&quot;Anibal Tafur Gutierrez&quot;,&quot;photoUrl&quot;:&quot;https://lh3.googleusercontent.com/a-/AOh14GiFjJimvpwIQMQFCrDoy6ONJwjGM9ztPeGFg2YC=s64&quot;,&quot;userId&quot;:&quot;04897311398615913661&quot;}}},&quot;execution_count&quot;:222,&quot;outputs&quot;:[]},{&quot;cell_type&quot;:&quot;code&quot;,&quot;source&quot;:[&quot;# Plotting\n&quot;,&quot;plt.figure(figsize=(8,5))\n&quot;,&quot;plt.plot(Ti_arr,Rmod_arr,&#39;o-&#39;)\n&quot;,&quot;plt.hlines(y=2.7087729613013662,xmin=0,xmax=10,colors=&#39;red&#39;)\n&quot;,&quot;plt.text(x=0,y=2.8,s=&#39;Resilience of damage state DS4 = 2.71&#39;,fontdict={&#39;color&#39;:&#39;red&#39;})\n&quot;,&quot;plt.xticks(np.arange(11))\n&quot;,&quot;plt.grid()\n&quot;,&quot;plt.xlabel(&#39;Idle time (months)&#39;)\n&quot;,&quot;plt.ylabel(&#39;Resilience $R3$&#39;)\n&quot;,&quot;plt.title(&#39;Fig. 9. Resilience for various idle times for complete damage state DS5&#39;)\n&quot;,&quot;plt.show()&quot;],&quot;metadata&quot;:{&quot;colab&quot;:{&quot;base_uri&quot;:&quot;https://localhost:8080/&quot;,&quot;height&quot;:350},&quot;id&quot;:&quot;hZZYKxaJEVP2&quot;,&quot;executionInfo&quot;:{&quot;status&quot;:&quot;ok&quot;,&quot;timestamp&quot;:1644299744137,&quot;user_tz&quot;:360,&quot;elapsed&quot;:334,&quot;user&quot;:{&quot;displayName&quot;:&quot;Anibal Tafur Gutierrez&quot;,&quot;photoUrl&quot;:&quot;https://lh3.googleusercontent.com/a-/AOh14GiFjJimvpwIQMQFCrDoy6ONJwjGM9ztPeGFg2YC=s64&quot;,&quot;userId&quot;:&quot;04897311398615913661&quot;}},&quot;outputId&quot;:&quot;0f95d8a6-4761-464a-ab06-e384dfeca441&quot;},&quot;execution_count&quot;:295,&quot;outputs&quot;:[{&quot;output_type&quot;:&quot;display_data&quot;,&quot;data&quot;:{&quot;image/png&quot;:&quot;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\n&quot;,&quot;text/plain&quot;:[&quot;&lt;Figure size 576x360 with 1 Axes&gt;&quot;]},&quot;metadata&quot;:{&quot;needs_background&quot;:&quot;light&quot;}}]},{&quot;cell_type&quot;:&quot;markdown&quot;,&quot;source&quot;:[&quot;**Discussion**\n&quot;,&quot;\n&quot;,&quot;It would take an idle time of at least 7 months for DS5 (Option I) to reach resilience less than 2.71, which was estimated for DS4 (Option II).&quot;],&quot;metadata&quot;:{&quot;id&quot;:&quot;nOGq_FFwhdfP&quot;}},{&quot;cell_type&quot;:&quot;markdown&quot;,&quot;source&quot;:[&quot;## Part (g)\n&quot;,&quot;\n&quot;,&quot;Discuss the results from Part (b) to Part (f).\n&quot;,&quot;\n&quot;,&quot;**Discussion**\n&quot;,&quot;\n&quot;,&quot;Results from  Part (b) and Part (f) show that for both options, rapidity and robustness are similar. Nevertheless, the difference in recovery paths cause resilience estimations to differ. More specifically, it would take an additional idle time of approximately 4.3 months for  Option I to have less resilience index than Option II. \n&quot;,&quot;\n&quot;,&quot;One possible explanation for the fact that having an idle time causes Option I to have larger resilience index than Option II is that this initial period with null functionality indicates that activities in this system are likely paralized, which would allow to accommodate potential restoration activities.\n&quot;,&quot;\n&quot;,&quot;On the other hand, in Option II, the system downtime is considerably shorter, although with very low functionality at the beggining of the recovery. In this case, restoration activities may be less efficient than Option I scenario, since operations (even at low functionality levels) are likely to interfer with restoration tasks.\n&quot;,&quot;\n&quot;,&quot;This might reflect in the shape of the recovery path, and consequently, in the resilince index estimation. For example, at month 1, activities are paralized for Option I but Option II presents functionality larger than 0, although very low. Nevertheless, by month 4, 40% of functionality is restored for Option I, compared to the 4% for Option II.\n&quot;,&quot;\n&quot;],&quot;metadata&quot;:{&quot;id&quot;:&quot;wIp7wi7Z9ygv&quot;}},{&quot;cell_type&quot;:&quot;markdown&quot;,&quot;source&quot;:[&quot;## References&quot;],&quot;metadata&quot;:{&quot;id&quot;:&quot;nZY0D_tqhMYS&quot;}},{&quot;cell_type&quot;:&quot;markdown&quot;,&quot;source&quot;:[&quot;* Bocchini, P., &amp; Frangopol, D. M. (2011). A probabilistic computational framework for bridge network optimal maintenance scheduling. Reliability Engineering &amp; System Safety, 96(2), 332-349.\n&quot;,&quot;\n&quot;,&quot;* Bruneau, M., Chang, S. E., Eguchi, R. T., Lee, G. C., O&#39;Rourke, T. D., Reinhorn, A. M., ... &amp; Von Winterfeldt, D. (2003). A framework to quantitatively assess and enhance the seismic resilience of communities. Earthquake spectra, 19(4), 733-752.\n&quot;,&quot;\n&quot;,&quot;* Gilbert, S. W., Butry, D. T., Helgeson, J. F., &amp; Chapman, R. E. (2015). Community resilience economic decision guide for buildings and infrastructure systems. NIST special publication, 1197.\n&quot;],&quot;metadata&quot;:{&quot;id&quot;:&quot;OzLoL4p6DHu3&quot;}},{&quot;cell_type&quot;:&quot;code&quot;,&quot;source&quot;:[&quot;%%capture\n&quot;,&quot;!jupyter nbconvert &#39;/content/drive/My Drive/sync/Infrastructure Resilience/HW2.ipynb&#39; --to html&quot;],&quot;metadata&quot;:{&quot;id&quot;:&quot;jjSWMIkmEyRe&quot;,&quot;executionInfo&quot;:{&quot;status&quot;:&quot;ok&quot;,&quot;timestamp&quot;:1644302724060,&quot;user_tz&quot;:360,&quot;elapsed&quot;:1452,&quot;user&quot;:{&quot;displayName&quot;:&quot;Anibal Tafur Gutierrez&quot;,&quot;photoUrl&quot;:&quot;https://lh3.googleusercontent.com/a-/AOh14GiFjJimvpwIQMQFCrDoy6ONJwjGM9ztPeGFg2YC=s64&quot;,&quot;userId&quot;:&quot;04897311398615913661&quot;}}},&quot;execution_count&quot;:300,&quot;outputs&quot;:[]}]}</div>
                </div>
            </div>
          </div>
      </div>
    </div>

  </div>



  </div>
</div>

    </main>
  </div>

  </div>

          <footer class="footer width-full container-xl p-responsive" role="contentinfo">


  <div class="position-relative d-flex flex-items-center pb-2 f6 color-fg-muted border-top color-border-muted flex-column-reverse flex-lg-row flex-wrap flex-lg-nowrap mt-6 pt-6">
    <ul class="list-style-none d-flex flex-wrap col-0 col-lg-2 flex-justify-start flex-lg-justify-between mb-2 mb-lg-0">
      <li class="mt-2 mt-lg-0 d-flex flex-items-center">
        <a aria-label="Homepage" title="GitHub" class="footer-octicon mr-2" href="https://github.com">
          <svg aria-hidden="true" height="24" viewBox="0 0 16 16" version="1.1" width="24" data-view-component="true" class="octicon octicon-mark-github">
    <path fill-rule="evenodd" d="M8 0C3.58 0 0 3.58 0 8c0 3.54 2.29 6.53 5.47 7.59.4.07.55-.17.55-.38 0-.19-.01-.82-.01-1.49-2.01.37-2.53-.49-2.69-.94-.09-.23-.48-.94-.82-1.13-.28-.15-.68-.52-.01-.53.63-.01 1.08.58 1.23.82.72 1.21 1.87.87 2.33.66.07-.52.28-.87.51-1.07-1.78-.2-3.64-.89-3.64-3.95 0-.87.31-1.59.82-2.15-.08-.2-.36-1.02.08-2.12 0 0 .67-.21 2.2.82.64-.18 1.32-.27 2-.27.68 0 1.36.09 2 .27 1.53-1.04 2.2-.82 2.2-.82.44 1.1.16 1.92.08 2.12.51.56.82 1.27.82 2.15 0 3.07-1.87 3.75-3.65 3.95.29.25.54.73.54 1.48 0 1.07-.01 1.93-.01 2.2 0 .21.15.46.55.38A8.013 8.013 0 0016 8c0-4.42-3.58-8-8-8z"></path>
</svg>
</a>        <span>
        &copy; 2022 GitHub, Inc.
        </span>
      </li>
    </ul>
    <ul class="list-style-none d-flex flex-wrap col-12 col-lg-8 flex-justify-center flex-lg-justify-between mb-2 mb-lg-0">
        <li class="mr-3 mr-lg-0"><a href="https://docs.github.com/en/github/site-policy/github-terms-of-service" data-hydro-click="{&quot;event_type&quot;:&quot;analytics.event&quot;,&quot;payload&quot;:{&quot;category&quot;:&quot;Footer&quot;,&quot;action&quot;:&quot;go to terms&quot;,&quot;label&quot;:&quot;text:terms&quot;,&quot;originating_url&quot;:&quot;https://github.com/anibaltafur/mynewbook/blame/main/HW2.ipynb&quot;,&quot;user_id&quot;:54555240}}" data-hydro-click-hmac="844a02e340f740e1f8e34cdf78273b4bf6f9e1c94ccaba237c6760c699a8d193" data-analytics-event="{&quot;category&quot;:&quot;Footer&quot;,&quot;action&quot;:&quot;go to terms&quot;,&quot;label&quot;:&quot;text:terms&quot;}">Terms</a></li>
        <li class="mr-3 mr-lg-0"><a href="https://docs.github.com/en/github/site-policy/github-privacy-statement" data-hydro-click="{&quot;event_type&quot;:&quot;analytics.event&quot;,&quot;payload&quot;:{&quot;category&quot;:&quot;Footer&quot;,&quot;action&quot;:&quot;go to privacy&quot;,&quot;label&quot;:&quot;text:privacy&quot;,&quot;originating_url&quot;:&quot;https://github.com/anibaltafur/mynewbook/blame/main/HW2.ipynb&quot;,&quot;user_id&quot;:54555240}}" data-hydro-click-hmac="354195eed39326dad199df9e89f2416cb30e7910e60b9fe4fcae7b29e3cda2c2" data-analytics-event="{&quot;category&quot;:&quot;Footer&quot;,&quot;action&quot;:&quot;go to privacy&quot;,&quot;label&quot;:&quot;text:privacy&quot;}">Privacy</a></li>
        <li class="mr-3 mr-lg-0"><a data-hydro-click="{&quot;event_type&quot;:&quot;analytics.event&quot;,&quot;payload&quot;:{&quot;category&quot;:&quot;Footer&quot;,&quot;action&quot;:&quot;go to security&quot;,&quot;label&quot;:&quot;text:security&quot;,&quot;originating_url&quot;:&quot;https://github.com/anibaltafur/mynewbook/blame/main/HW2.ipynb&quot;,&quot;user_id&quot;:54555240}}" data-hydro-click-hmac="d3bbcd2353bd7af655ec4486d7fd7c49d903de9fa76512ae6c23b71b906c31f3" data-analytics-event="{&quot;category&quot;:&quot;Footer&quot;,&quot;action&quot;:&quot;go to security&quot;,&quot;label&quot;:&quot;text:security&quot;}" href="https://github.com/security">Security</a></li>
        <li class="mr-3 mr-lg-0"><a href="https://www.githubstatus.com/" data-hydro-click="{&quot;event_type&quot;:&quot;analytics.event&quot;,&quot;payload&quot;:{&quot;category&quot;:&quot;Footer&quot;,&quot;action&quot;:&quot;go to status&quot;,&quot;label&quot;:&quot;text:status&quot;,&quot;originating_url&quot;:&quot;https://github.com/anibaltafur/mynewbook/blame/main/HW2.ipynb&quot;,&quot;user_id&quot;:54555240}}" data-hydro-click-hmac="f26c3b3f77a1b5fe9ce38c3ee5b1b05a0cf5ac43d25c9306f8c86c794eee1220" data-analytics-event="{&quot;category&quot;:&quot;Footer&quot;,&quot;action&quot;:&quot;go to status&quot;,&quot;label&quot;:&quot;text:status&quot;}">Status</a></li>
        <li class="mr-3 mr-lg-0"><a data-ga-click="Footer, go to help, text:Docs" href="https://docs.github.com">Docs</a></li>
        <li class="mr-3 mr-lg-0"><a href="https://support.github.com?tags=dotcom-footer" data-hydro-click="{&quot;event_type&quot;:&quot;analytics.event&quot;,&quot;payload&quot;:{&quot;category&quot;:&quot;Footer&quot;,&quot;action&quot;:&quot;go to contact&quot;,&quot;label&quot;:&quot;text:contact&quot;,&quot;originating_url&quot;:&quot;https://github.com/anibaltafur/mynewbook/blame/main/HW2.ipynb&quot;,&quot;user_id&quot;:54555240}}" data-hydro-click-hmac="1cfb1c613a0941239fa81d5deed4c1de36a76cbf3a52e51526d68876b055be1d" data-analytics-event="{&quot;category&quot;:&quot;Footer&quot;,&quot;action&quot;:&quot;go to contact&quot;,&quot;label&quot;:&quot;text:contact&quot;}">Contact GitHub</a></li>
        <li class="mr-3 mr-lg-0"><a href="https://github.com/pricing" data-hydro-click="{&quot;event_type&quot;:&quot;analytics.event&quot;,&quot;payload&quot;:{&quot;category&quot;:&quot;Footer&quot;,&quot;action&quot;:&quot;go to Pricing&quot;,&quot;label&quot;:&quot;text:Pricing&quot;,&quot;originating_url&quot;:&quot;https://github.com/anibaltafur/mynewbook/blame/main/HW2.ipynb&quot;,&quot;user_id&quot;:54555240}}" data-hydro-click-hmac="5b1bd1bcd03e65a0e3f220c374aaedd9e47fc230102467949ef89feb3de97c58" data-analytics-event="{&quot;category&quot;:&quot;Footer&quot;,&quot;action&quot;:&quot;go to Pricing&quot;,&quot;label&quot;:&quot;text:Pricing&quot;}">Pricing</a></li>
      <li class="mr-3 mr-lg-0"><a href="https://docs.github.com" data-hydro-click="{&quot;event_type&quot;:&quot;analytics.event&quot;,&quot;payload&quot;:{&quot;category&quot;:&quot;Footer&quot;,&quot;action&quot;:&quot;go to api&quot;,&quot;label&quot;:&quot;text:api&quot;,&quot;originating_url&quot;:&quot;https://github.com/anibaltafur/mynewbook/blame/main/HW2.ipynb&quot;,&quot;user_id&quot;:54555240}}" data-hydro-click-hmac="42ca806c9935369bc0540497f84a15d1457583442f657c2ffee0cb906c4ef68a" data-analytics-event="{&quot;category&quot;:&quot;Footer&quot;,&quot;action&quot;:&quot;go to api&quot;,&quot;label&quot;:&quot;text:api&quot;}">API</a></li>
      <li class="mr-3 mr-lg-0"><a href="https://services.github.com" data-hydro-click="{&quot;event_type&quot;:&quot;analytics.event&quot;,&quot;payload&quot;:{&quot;category&quot;:&quot;Footer&quot;,&quot;action&quot;:&quot;go to training&quot;,&quot;label&quot;:&quot;text:training&quot;,&quot;originating_url&quot;:&quot;https://github.com/anibaltafur/mynewbook/blame/main/HW2.ipynb&quot;,&quot;user_id&quot;:54555240}}" data-hydro-click-hmac="03891a316203acbaccd20aa01d5f44ed8fbcf474273e6bf58cd4f23ed6158a03" data-analytics-event="{&quot;category&quot;:&quot;Footer&quot;,&quot;action&quot;:&quot;go to training&quot;,&quot;label&quot;:&quot;text:training&quot;}">Training</a></li>
        <li class="mr-3 mr-lg-0"><a href="https://github.blog" data-hydro-click="{&quot;event_type&quot;:&quot;analytics.event&quot;,&quot;payload&quot;:{&quot;category&quot;:&quot;Footer&quot;,&quot;action&quot;:&quot;go to blog&quot;,&quot;label&quot;:&quot;text:blog&quot;,&quot;originating_url&quot;:&quot;https://github.com/anibaltafur/mynewbook/blame/main/HW2.ipynb&quot;,&quot;user_id&quot;:54555240}}" data-hydro-click-hmac="bf04793b23700f4397e1e8281c714476affb2c75a0f41d128679c45a2e9f5916" data-analytics-event="{&quot;category&quot;:&quot;Footer&quot;,&quot;action&quot;:&quot;go to blog&quot;,&quot;label&quot;:&quot;text:blog&quot;}">Blog</a></li>
        <li><a data-ga-click="Footer, go to about, text:about" href="https://github.com/about">About</a></li>
    </ul>
  </div>
  <div class="d-flex flex-justify-center pb-6">
    <span class="f6 color-fg-muted"></span>
  </div>
</footer>




  <div id="ajax-error-message" class="ajax-error-message flash flash-error" hidden>
    <svg aria-hidden="true" height="16" viewBox="0 0 16 16" version="1.1" width="16" data-view-component="true" class="octicon octicon-alert">
    <path fill-rule="evenodd" d="M8.22 1.754a.25.25 0 00-.44 0L1.698 13.132a.25.25 0 00.22.368h12.164a.25.25 0 00.22-.368L8.22 1.754zm-1.763-.707c.659-1.234 2.427-1.234 3.086 0l6.082 11.378A1.75 1.75 0 0114.082 15H1.918a1.75 1.75 0 01-1.543-2.575L6.457 1.047zM9 11a1 1 0 11-2 0 1 1 0 012 0zm-.25-5.25a.75.75 0 00-1.5 0v2.5a.75.75 0 001.5 0v-2.5z"></path>
</svg>
    <button type="button" class="flash-close js-ajax-error-dismiss" aria-label="Dismiss error">
      <svg aria-hidden="true" height="16" viewBox="0 0 16 16" version="1.1" width="16" data-view-component="true" class="octicon octicon-x">
    <path fill-rule="evenodd" d="M3.72 3.72a.75.75 0 011.06 0L8 6.94l3.22-3.22a.75.75 0 111.06 1.06L9.06 8l3.22 3.22a.75.75 0 11-1.06 1.06L8 9.06l-3.22 3.22a.75.75 0 01-1.06-1.06L6.94 8 3.72 4.78a.75.75 0 010-1.06z"></path>
</svg>
    </button>
    You can’t perform that action at this time.
  </div>

  <div class="js-stale-session-flash flash flash-warn flash-banner" hidden
    >
    <svg aria-hidden="true" height="16" viewBox="0 0 16 16" version="1.1" width="16" data-view-component="true" class="octicon octicon-alert">
    <path fill-rule="evenodd" d="M8.22 1.754a.25.25 0 00-.44 0L1.698 13.132a.25.25 0 00.22.368h12.164a.25.25 0 00.22-.368L8.22 1.754zm-1.763-.707c.659-1.234 2.427-1.234 3.086 0l6.082 11.378A1.75 1.75 0 0114.082 15H1.918a1.75 1.75 0 01-1.543-2.575L6.457 1.047zM9 11a1 1 0 11-2 0 1 1 0 012 0zm-.25-5.25a.75.75 0 00-1.5 0v2.5a.75.75 0 001.5 0v-2.5z"></path>
</svg>
    <span class="js-stale-session-flash-signed-in" hidden>You signed in with another tab or window. <a href="">Reload</a> to refresh your session.</span>
    <span class="js-stale-session-flash-signed-out" hidden>You signed out in another tab or window. <a href="">Reload</a> to refresh your session.</span>
  </div>
    <template id="site-details-dialog">
  <details class="details-reset details-overlay details-overlay-dark lh-default color-fg-default hx_rsm" open>
    <summary role="button" aria-label="Close dialog"></summary>
    <details-dialog class="Box Box--overlay d-flex flex-column anim-fade-in fast hx_rsm-dialog hx_rsm-modal">
      <button class="Box-btn-octicon m-0 btn-octicon position-absolute right-0 top-0" type="button" aria-label="Close dialog" data-close-dialog>
        <svg aria-hidden="true" height="16" viewBox="0 0 16 16" version="1.1" width="16" data-view-component="true" class="octicon octicon-x">
    <path fill-rule="evenodd" d="M3.72 3.72a.75.75 0 011.06 0L8 6.94l3.22-3.22a.75.75 0 111.06 1.06L9.06 8l3.22 3.22a.75.75 0 11-1.06 1.06L8 9.06l-3.22 3.22a.75.75 0 01-1.06-1.06L6.94 8 3.72 4.78a.75.75 0 010-1.06z"></path>
</svg>
      </button>
      <div class="octocat-spinner my-6 js-details-dialog-spinner"></div>
    </details-dialog>
  </details>
</template>

    <div class="Popover js-hovercard-content position-absolute" style="display: none; outline: none;" tabindex="0">
  <div class="Popover-message Popover-message--bottom-left Popover-message--large Box color-shadow-large" style="width:360px;">
  </div>
</div>

    <template id="snippet-clipboard-copy-button">
  <div class="zeroclipboard-container position-absolute right-0 top-0">
    <clipboard-copy aria-label="Copy" class="ClipboardButton btn js-clipboard-copy m-2 p-0 tooltipped-no-delay" data-copy-feedback="Copied!" data-tooltip-direction="w">
      <svg aria-hidden="true" height="16" viewBox="0 0 16 16" version="1.1" width="16" data-view-component="true" class="octicon octicon-copy js-clipboard-copy-icon m-2">
    <path fill-rule="evenodd" d="M0 6.75C0 5.784.784 5 1.75 5h1.5a.75.75 0 010 1.5h-1.5a.25.25 0 00-.25.25v7.5c0 .138.112.25.25.25h7.5a.25.25 0 00.25-.25v-1.5a.75.75 0 011.5 0v1.5A1.75 1.75 0 019.25 16h-7.5A1.75 1.75 0 010 14.25v-7.5z"></path><path fill-rule="evenodd" d="M5 1.75C5 .784 5.784 0 6.75 0h7.5C15.216 0 16 .784 16 1.75v7.5A1.75 1.75 0 0114.25 11h-7.5A1.75 1.75 0 015 9.25v-7.5zm1.75-.25a.25.25 0 00-.25.25v7.5c0 .138.112.25.25.25h7.5a.25.25 0 00.25-.25v-7.5a.25.25 0 00-.25-.25h-7.5z"></path>
</svg>
      <svg aria-hidden="true" height="16" viewBox="0 0 16 16" version="1.1" width="16" data-view-component="true" class="octicon octicon-check js-clipboard-check-icon color-fg-success d-none m-2">
    <path fill-rule="evenodd" d="M13.78 4.22a.75.75 0 010 1.06l-7.25 7.25a.75.75 0 01-1.06 0L2.22 9.28a.75.75 0 011.06-1.06L6 10.94l6.72-6.72a.75.75 0 011.06 0z"></path>
</svg>
    </clipboard-copy>
  </div>
</template>


    <style>
      .user-mention[href$="/anibaltafur"] {
        color: var(--color-user-mention-fg);
        background-color: var(--color-user-mention-bg);
        border-radius: 2px;
        margin-left: -2px;
        margin-right: -2px;
        padding: 0 2px;
      }
    </style>


  </body>
</html>

